{
 "cells": [
  {
   "cell_type": "code",
   "execution_count": 4,
   "metadata": {},
   "outputs": [
    {
     "data": {
      "text/html": [
       "<div>\n",
       "<style scoped>\n",
       "    .dataframe tbody tr th:only-of-type {\n",
       "        vertical-align: middle;\n",
       "    }\n",
       "\n",
       "    .dataframe tbody tr th {\n",
       "        vertical-align: top;\n",
       "    }\n",
       "\n",
       "    .dataframe thead th {\n",
       "        text-align: right;\n",
       "    }\n",
       "</style>\n",
       "<table border=\"1\" class=\"dataframe\">\n",
       "  <thead>\n",
       "    <tr style=\"text-align: right;\">\n",
       "      <th></th>\n",
       "      <th>params</th>\n",
       "      <th>metric_val</th>\n",
       "      <th>metric</th>\n",
       "      <th>Lookback</th>\n",
       "    </tr>\n",
       "  </thead>\n",
       "  <tbody>\n",
       "    <tr>\n",
       "      <th>0</th>\n",
       "      <td>(70, 0.0, -1.0)</td>\n",
       "      <td>6.74</td>\n",
       "      <td>&lt;function WinByLossRet at 0x11fb1df30&gt;</td>\n",
       "      <td>9</td>\n",
       "    </tr>\n",
       "    <tr>\n",
       "      <th>1</th>\n",
       "      <td>(70, 0.0, 0.0)</td>\n",
       "      <td>5.45</td>\n",
       "      <td>&lt;function WinByLossRet at 0x11fb1df30&gt;</td>\n",
       "      <td>9</td>\n",
       "    </tr>\n",
       "    <tr>\n",
       "      <th>2</th>\n",
       "      <td>(70, -1.0, 0.0)</td>\n",
       "      <td>0.00</td>\n",
       "      <td>&lt;function WinByLossRet at 0x11fb1df30&gt;</td>\n",
       "      <td>9</td>\n",
       "    </tr>\n",
       "  </tbody>\n",
       "</table>\n",
       "</div>"
      ],
      "text/plain": [
       "            params  metric_val                                  metric  \\\n",
       "0  (70, 0.0, -1.0)        6.74  <function WinByLossRet at 0x11fb1df30>   \n",
       "1   (70, 0.0, 0.0)        5.45  <function WinByLossRet at 0x11fb1df30>   \n",
       "2  (70, -1.0, 0.0)        0.00  <function WinByLossRet at 0x11fb1df30>   \n",
       "\n",
       "   Lookback  \n",
       "0         9  \n",
       "1         9  \n",
       "2         9  "
      ]
     },
     "execution_count": 4,
     "metadata": {},
     "output_type": "execute_result"
    }
   ],
   "source": [
    "import pickle\n",
    "with open(\"Caches/^NSEI/D/Alpha/SelectedStrategies/All_9.pkl\", \"rb\") as file:\n",
    "    strats = pickle.load(file)\n",
    "strats[-3]['Strategies']"
   ]
  },
  {
   "cell_type": "code",
   "execution_count": null,
   "metadata": {},
   "outputs": [],
   "source": []
  }
 ],
 "metadata": {
  "kernelspec": {
   "display_name": "Python 3.10.5 64-bit",
   "language": "python",
   "name": "python3"
  },
  "language_info": {
   "codemirror_mode": {
    "name": "ipython",
    "version": 3
   },
   "file_extension": ".py",
   "mimetype": "text/x-python",
   "name": "python",
   "nbconvert_exporter": "python",
   "pygments_lexer": "ipython3",
   "version": "3.10.5"
  },
  "orig_nbformat": 4,
  "vscode": {
   "interpreter": {
    "hash": "aee8b7b246df8f9039afb4144a1f6fd8d2ca17a180786b69acc140d282b71a49"
   }
  }
 },
 "nbformat": 4,
 "nbformat_minor": 2
}
