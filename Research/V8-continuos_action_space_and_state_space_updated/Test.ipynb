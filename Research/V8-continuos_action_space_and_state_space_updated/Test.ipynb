{
 "cells": [
  {
   "cell_type": "code",
   "execution_count": 1,
   "metadata": {
    "collapsed": true
   },
   "outputs": [],
   "source": [
    "import pandas as pd\n",
    "%load_ext autoreload\n",
    "%autoreload 2"
   ]
  },
  {
   "cell_type": "code",
   "execution_count": 2,
   "metadata": {
    "collapsed": false,
    "pycharm": {
     "name": "#%%\n"
    }
   },
   "outputs": [],
   "source": [
    "import warnings\n",
    "warnings.filterwarnings(\"ignore\")"
   ]
  },
  {
   "cell_type": "code",
   "execution_count": 3,
   "metadata": {
    "collapsed": false,
    "pycharm": {
     "name": "#%%\n"
    }
   },
   "outputs": [],
   "source": [
    "%matplotlib inline\n",
    "import matplotlib.pyplot as plt\n",
    "plt.rcParams[\"figure.figsize\"] = (15,5)\n",
    "plt.rcParams['axes.grid'] = False\n",
    "import seaborn as sns\n",
    "sns.set_style(\"whitegrid\", {'axes.grid' : False})"
   ]
  },
  {
   "cell_type": "code",
   "execution_count": 4,
   "metadata": {
    "collapsed": false,
    "pycharm": {
     "name": "#%%\n"
    }
   },
   "outputs": [],
   "source": [
    "from tqdm import tqdm\n",
    "import numpy as np\n",
    "from V8Suprabhash import get_stock_data, add_features,  plot_performance"
   ]
  },
  {
   "cell_type": "code",
   "execution_count": 11,
   "metadata": {
    "collapsed": false,
    "pycharm": {
     "name": "#%%\n"
    }
   },
   "outputs": [],
   "source": [
    "from keras.models import Sequential\n",
    "from keras.layers import InputLayer\n",
    "from keras.layers import Dense\n",
    "########################## Changes made here ##################################\n",
    "def get_model(num_features, num_actions, num_dense_layers, neurons_per_layer):\n",
    "    model = Sequential()\n",
    "    model.add(InputLayer(batch_input_shape=(1, num_features+num_actions)))\n",
    "    for i in range(num_dense_layers):\n",
    "        model.add(Dense(neurons_per_layer, activation='relu'))\n",
    "    model.add(Dense(num_actions, activation='sigmoid'))\n",
    "    model.compile(loss='mse', optimizer='adam', metrics=['mae'])\n",
    "    return model\n",
    "###############################################################################"
   ]
  },
  {
   "cell_type": "code",
   "execution_count": 6,
   "metadata": {
    "collapsed": false,
    "pycharm": {
     "name": "#%%\n"
    }
   },
   "outputs": [],
   "source": [
    "features = [\n",
    "    {\"feature\": \"Close_as_a_feature\", \"lookback\": 0},\n",
    "    {\"feature\": \"diff_of_close\", \"lookback\": 1},\n",
    "]\n",
    "\n",
    "#Experiment params\n",
    "ticker = 'sinx'#'NIFc1'\n",
    "tune = False\n",
    "train_percent = 0.8\n",
    "state_lookback = 1\n",
    "num_dense_layers = 2\n",
    "num_dense_layers_by_num_features = 2\n",
    "alpha = 0.5\n",
    "epsilon = 0.1\n",
    "gamma = 0.1\n",
    "episodes = 100\n",
    "metric = \"percent\"\n",
    "\n",
    "############################################################################################################################################\n",
    "\n",
    "#Get data\n",
    "df = get_stock_data(ticker)\n",
    "df = add_features(df, features, state_lookback, 0.8)\n",
    "train_df = df.iloc[:int(0.8 * len(df)), :]\n",
    "test_df = df.iloc[int(0.8 * len(df)):, :]\n",
    "\n",
    "\n",
    "########################## Changes made here ##################################\n",
    "all_actions = {0: 'percentage_invested_in_equity'}\n",
    "###############################################################################\n",
    "\n",
    "model = get_model(len(features)*state_lookback, len(all_actions), num_dense_layers, len(features)*state_lookback*num_dense_layers_by_num_features)\n",
    "# visualizer(model, format='png', view=True)"
   ]
  },
  {
   "cell_type": "code",
   "execution_count": 12,
   "metadata": {
    "collapsed": false,
    "pycharm": {
     "name": "#%%\n"
    }
   },
   "outputs": [
    {
     "data": {
      "text/plain": [
       "array([0.15416284, 0.7400497 , 0.26331502, 0.53373939, 0.01457496,\n",
       "       0.91874701, 0.90071485, 0.03342143, 0.95694934, 0.13720932])"
      ]
     },
     "execution_count": 12,
     "metadata": {},
     "output_type": "execute_result"
    }
   ],
   "source": []
  },
  {
   "cell_type": "code",
   "execution_count": 51,
   "metadata": {
    "collapsed": false,
    "pycharm": {
     "name": "#%%\n"
    }
   },
   "outputs": [],
   "source": [
    "def train_q_learning(train, state_lookback, model, alpha, epsilon, gamma, episodes, all_actions, metric, features, number_of_random_samples, plot=True):\n",
    "\n",
    "    train_data = train.copy()\n",
    "    returns_vs_episodes = []\n",
    "    best_episode_return = 0\n",
    "    weights_best_performing = None\n",
    "\n",
    "    arr = np.empty(shape=(0,len(features)*state_lookback+len(all_actions)))\n",
    "    arr1 = train_data[[feature['feature'] for feature in features] + [f\"{col}_shift{i}\" for col in [feature['feature'] for feature in features] for i in range(1, state_lookback)]].values\n",
    "    for i in range(len(arr1)):\n",
    "        random_actions = np.random.uniform(0,1,number_of_random_samples)\n",
    "        for j in range(number_of_random_samples):\n",
    "            arr = np.vstack((arr,np.r_[arr1[i], random_actions[j]]))\n",
    "\n",
    "    for ii in tqdm(range(episodes)):\n",
    "\n",
    "        #Backtester initialisation\n",
    "        balance = 10000\n",
    "        net_worth = balance\n",
    "        in_position = False\n",
    "        number_of_units_in_position = 0\n",
    "        position_value = 0.0\n",
    "        actions_history = []\n",
    "        equity_curve = []\n",
    "        rewards = []\n",
    "        states = []\n",
    "        prices = []\n",
    "        current_q_all_states = []\n",
    "        next_q_all_states = []\n",
    "\n",
    "        q = model.predict(arr)\n",
    "        current_qs = []\n",
    "        next_qs = []\n",
    "        actions = []\n",
    "        for i in range(len(arr1)):\n",
    "            q_list = []\n",
    "            next_q_list = []\n",
    "            for j in range(number_of_random_samples):\n",
    "                q_list.append(q[i*number_of_random_samples+j])\n",
    "            for j in range(number_of_random_samples):\n",
    "                next_q_list.append(q[(i+1)*number_of_random_samples+j])\n",
    "            next_qs.append(max(next_q_list))\n",
    "            current_qs.append(max(q_list))\n",
    "            actions.append(arr[q_list.index(max(q_list))][-1])\n",
    "\n",
    "        current_qs = current_qs.reshape(-1,1)\n",
    "        next_qs = next_qs.reshape(-1,1)\n",
    "        actions = actions.reshape(-1,1)\n",
    "\n",
    "        # for i in range(1,len(train_data)):\n",
    "        #     current_adj_close = train_data.iloc[i][\"Close\"]\n",
    "        #     last_day_adj_close = train_data.iloc[i - 1][\"Close\"]\n",
    "        #     prices.append(current_adj_close)\n",
    "        #     states.append(arr[i])\n",
    "        #     current_q_all_states.append(current_qs[i][0])\n",
    "        #\n",
    "        #     # decide action\n",
    "        #     if epsilon > 0.1:\n",
    "        #         epsilon = epsilon / 1.2\n",
    "        #\n",
    "        #     if np.random.uniform(0, 1) < epsilon:\n",
    "        #         action = np.random.uniform(0,1)\n",
    "        #     else:\n",
    "        #         action= actions[i][0]\n",
    "        #\n",
    "        #     actions_history.append(action)\n",
    "        #\n",
    "        #     if not in_position:\n",
    "        #         if action == 1:  # OPEN LONG\n",
    "        #             in_position = True\n",
    "        #             number_of_units_in_position = balance/current_adj_close\n",
    "        #             balance = balance - (number_of_units_in_position*current_adj_close)\n",
    "        #             position_value = number_of_units_in_position*current_adj_close\n",
    "        #             net_worth = balance + position_value\n",
    "        #             equity_curve.append(net_worth)\n",
    "        #             rewards.append(0)\n",
    "        #         else:\n",
    "        #             net_worth = balance + position_value\n",
    "        #             equity_curve.append(net_worth)\n",
    "        #             rewards.append(0)\n",
    "        #     else:\n",
    "        #         if action == 1:  # HOLD LONG\n",
    "        #             position_value = number_of_units_in_position*current_adj_close\n",
    "        #             net_worth = balance + position_value\n",
    "        #             equity_curve.append(net_worth)\n",
    "        #             try:\n",
    "        #                 if metric == \"absolute\":\n",
    "        #                     rewards.append(equity_curve[-1] - equity_curve[-2])\n",
    "        #                 else:\n",
    "        #                     rewards.append((equity_curve[-1] - equity_curve[-2]) / equity_curve[-2])\n",
    "        #             except:\n",
    "        #                 rewards.append(0)\n",
    "        #         else:  # CLOSE LONG\n",
    "        #             balance = balance + (number_of_units_in_position*current_adj_close)\n",
    "        #             in_position = False\n",
    "        #             position_value = 0.0\n",
    "        #             number_of_units_in_position = 0\n",
    "        #             net_worth = balance + position_value\n",
    "        #             equity_curve.append(net_worth)\n",
    "        #             rewards.append(0)\n",
    "        #\n",
    "        #     try:\n",
    "        #         next_q_all_states.append(next_qs[i][0])\n",
    "        #     except:\n",
    "        #         break\n",
    "\n",
    "        arr_fit_X = np.empty(shape=(0,len(features)*state_lookback)+1)\n",
    "        arr_fit_Y = np.empty(shape=(0,len(all_actions)))\n",
    "        for state, action, reward, cq, nq in zip(states, actions_history, rewards, current_q_all_states, next_q_all_states):\n",
    "            target = ((1. - alpha) * cq) + alpha * (reward + gamma * nq)\n",
    "            arr_fit_X = np.vstack((arr_fit_X,np.r_[state, action]))\n",
    "            arr_fit_Y = np.vstack((arr_fit_Y,np.array([target]).reshape(-1,1)))\n",
    "        model.fit(arr_fit_X,arr_fit_Y,epochs=30, verbose=0)\n",
    "    #     episode_return = equity_curve[-1]/equity_curve[0]-1\n",
    "    #     print(f\"Episode Number: {ii+1}, Total return of episode: {episode_return}\")\n",
    "    #     if plot:\n",
    "    #         plot_performance(train_data, prices, features, actions_history, equity_curve)\n",
    "    #\n",
    "    #     if episode_return>best_episode_return:\n",
    "    #         weights_best_performing = model.get_weights()\n",
    "    #         best_episode_return = episode_return\n",
    "    #\n",
    "    #     returns_vs_episodes.append(episode_return)\n",
    "    #\n",
    "    # return model, returns_vs_episodes, weights_best_performing"
   ]
  },
  {
   "cell_type": "code",
   "execution_count": 52,
   "metadata": {
    "collapsed": false,
    "pycharm": {
     "name": "#%%\n"
    }
   },
   "outputs": [
    {
     "name": "stderr",
     "output_type": "stream",
     "text": [
      "  0%|          | 0/100 [00:00<?, ?it/s]"
     ]
    },
    {
     "name": "stdout",
     "output_type": "stream",
     "text": [
      "909/909 [==============================] - 1s 630us/step\b\b\b\b\b\b\b\b\b\b\b\b\b\b\b\b\b\b\b\b\b\b\b\b\b\b\b\b\b\b\b\b\b\b\b\b\b\b\b\b\b\b\b\b\b\b\b\b\b\b\b\b\b\b\b\b\b\b\b\b\b\b\b\b\b\b\b\b\b\b\b\b\b\b\b\b\b\b\b\b\b\b\b\b\b\b\b\b\b\b\b\b\b\b\b\b\b\b\b\b\b\b\b\b\b\b\b\b\b\b\b\b\b\b\b\b\b\b\b\b\b\b\b\b\b\b\b\b\b\b\b\b\b\b\b\b\b\b\b\b\b\b\b\b\b\b\b\b\b\b\b\b\b\b\b\b\b\b\b\b\b\b\b\b\b\b\b\b\b\b\b\b\b\b\b\b\b\b\b\b\b\b\b\b\b\b\b\b\b\b\b\b\b\b\b\b\b\b\b\b\b\b\b\b\b\b\b\b\b\b\b\b\b\b\b\b\b\b\b\b\b\b\b\b\b\b\b\b\b\b\b\b\b\b\b\b\b\b\b\b\b\b\b\b\b\b\b\b\b\b\b\b\b\b\b\b\b\b\b\b\b\b\b\b\b\b\b\b\b\b\b\b\b\b\b\b\b\b\b\b\b\b\b\b\b\b\b\b\b\b\b\b\b\b\b\b\b\b\b\b\b\b\b\b\b\b\b\b\b\b\b\b\b\b\b\b\b\b\b\b\b\b\b\b\b\b\b\b\b\b\b\b\b\b\b\b\b\b\b\b\b\b\b\b\b\b\b\b\b\b\b\b\b\b\b\b\b\b\b\b\b\b\b\b\b\b\b\b\b\b\b\b\b\b\b\b\b\b\b\b\b\b\b\b\b\b\b\b\b\b\b\b\b\b\b\b\b\b\b\b\b\b\b\b\b\b\b\b\b\b\b\b\b\b\b\b\b\b\b\b\b\b\b\b\b\b\b\b\b\b\b\b\b\b\b\b\b\b\b\b\b\b\b\b\b\b\b\b\b\b\b\b\b\b\b\b\b\b\b\b\b\b\b\b\b\b\b\b\b\b\b\b\b\b\b\b\b\b\b\b\b\b\b\b\b\b\b\b\b\b\b\b\b\b\b\b\b\b\b\b\b\b\b\b\b\b\b\b\b\b\b\b\b\b\b\b\b\b\b\b\b\b\b\b\b\b\b\b\b\b\b\b\b\b\b\b\b\b\b\b\b\b\b\b\b\b\b\b\b\b\b\b\b\b\b\b\b\b\b\b\b\b\b\b\b\b\b\b\b\b\b\b\b\b\b\b\b\b\b\b\b\b\b\b\b\b\b\b\b\b\b\b\b\b\b\b\n",
      "[[0.9521425 ]\n",
      " [0.04624227]\n",
      " [0.9521425 ]\n",
      " ...\n",
      " [0.9521425 ]\n",
      " [0.54571117]\n",
      " [0.29434136]]\n"
     ]
    },
    {
     "name": "stderr",
     "output_type": "stream",
     "text": [
      "  0%|          | 0/100 [00:00<?, ?it/s]\n"
     ]
    },
    {
     "ename": "TypeError",
     "evalue": "cannot unpack non-iterable NoneType object",
     "output_type": "error",
     "traceback": [
      "\u001b[1;31m---------------------------------------------------------------------------\u001b[0m",
      "\u001b[1;31mTypeError\u001b[0m                                 Traceback (most recent call last)",
      "Input \u001b[1;32mIn [52]\u001b[0m, in \u001b[0;36m<cell line: 2>\u001b[1;34m()\u001b[0m\n\u001b[0;32m      1\u001b[0m number_of_random_samples \u001b[38;5;241m=\u001b[39m \u001b[38;5;241m10\u001b[39m\n\u001b[1;32m----> 2\u001b[0m model, returns_vs_episodes, weights \u001b[38;5;241m=\u001b[39m train_q_learning(train_df, state_lookback, model, alpha, epsilon, gamma, episodes, all_actions, metric, features, number_of_random_samples, plot\u001b[38;5;241m=\u001b[39m\u001b[38;5;28;01mTrue\u001b[39;00m)\n",
      "\u001b[1;31mTypeError\u001b[0m: cannot unpack non-iterable NoneType object"
     ]
    }
   ],
   "source": [
    "number_of_random_samples = 10\n",
    "model, returns_vs_episodes, weights = train_q_learning(train_df, state_lookback, model, alpha, epsilon, gamma, episodes, all_actions, metric, features, number_of_random_samples, plot=True)\n",
    "\n",
    "\n",
    "\n"
   ]
  },
  {
   "cell_type": "code",
   "execution_count": null,
   "metadata": {
    "collapsed": false,
    "pycharm": {
     "name": "#%%\n"
    }
   },
   "outputs": [],
   "source": []
  },
  {
   "cell_type": "code",
   "execution_count": null,
   "metadata": {
    "collapsed": false,
    "pycharm": {
     "name": "#%%\n"
    }
   },
   "outputs": [],
   "source": []
  },
  {
   "cell_type": "code",
   "execution_count": null,
   "metadata": {
    "collapsed": false,
    "pycharm": {
     "name": "#%%\n"
    }
   },
   "outputs": [],
   "source": []
  },
  {
   "cell_type": "code",
   "execution_count": null,
   "metadata": {
    "collapsed": false,
    "pycharm": {
     "name": "#%%\n"
    }
   },
   "outputs": [],
   "source": [
    "model, returns_vs_episodes, weights = train_q_learning(train_df, state_lookback, model, alpha, epsilon, gamma, episodes, all_actions, metric, features,plot=True)"
   ]
  },
  {
   "cell_type": "code",
   "execution_count": null,
   "metadata": {
    "collapsed": false,
    "pycharm": {
     "name": "#%%\n"
    }
   },
   "outputs": [],
   "source": [
    "features = [\n",
    "    {\"feature\": \"Close_as_a_feature\", \"lookback\": 0},\n",
    "    {\"feature\": \"diff_of_close\", \"lookback\": 1},\n",
    "]\n",
    "\n",
    "#Experiment params\n",
    "ticker = 'sinx'#'NIFc1'\n",
    "tune = False\n",
    "train_percent = 0.8\n",
    "state_lookback = 1\n",
    "num_dense_layers = 2\n",
    "num_dense_layers_by_num_features = 2\n",
    "alpha = 0.5\n",
    "epsilon = 0.1\n",
    "gamma = 0.1\n",
    "episodes = 100\n",
    "metric = \"percent\"\n",
    "\n",
    "############################################################################################################################################\n",
    "\n",
    "#Get data\n",
    "df = get_stock_data(ticker)\n",
    "save[\"features\"] = features\n",
    "\n",
    "df = add_features(df, features, state_lookback, 0.8)\n",
    "train_df = df.iloc[:int(0.8 * len(df)), :]\n",
    "test_df = df.iloc[int(0.8 * len(df)):, :]\n",
    "\n",
    "\n",
    "########################## Changes made here ##################################\n",
    "all_actions = {0: 'percentage_invested_in_equity'}\n",
    "###############################################################################\n",
    "\n",
    "model = get_model(len(features)*state_lookback, len(all_actions), num_dense_layers, len(features)*state_lookback*num_dense_layers_by_num_features)\n",
    "# visualizer(model, format='png', view=True)\n",
    "\n",
    "model, returns_vs_episodes, weights = train_q_learning(train_df, state_lookback, model, alpha, epsilon, gamma, episodes, all_actions, metric, features,plot=True)"
   ]
  },
  {
   "cell_type": "code",
   "execution_count": null,
   "metadata": {
    "collapsed": false,
    "pycharm": {
     "name": "#%%\n"
    }
   },
   "outputs": [],
   "source": [
    "features = [\n",
    "    {\"feature\": \"Close_as_a_feature\", \"lookback\": 0},\n",
    "    {\"feature\": \"diff_of_close\", \"lookback\": 1},\n",
    "]\n",
    "\n",
    "#Experiment params\n",
    "ticker = 'sinx'#'NIFc1'\n",
    "tune = False\n",
    "train_percent = 0.8\n",
    "state_lookback = 1\n",
    "num_dense_layers = 2\n",
    "num_dense_layers_by_num_features = 2\n",
    "alpha = 0.5\n",
    "epsilon = 0.1\n",
    "gamma = 0.1\n",
    "episodes = 100\n",
    "metric = \"percent\"\n",
    "\n",
    "############################################################################################################################################\n",
    "\n",
    "#Get data\n",
    "df = get_stock_data(ticker)\n",
    "save[\"features\"] = features\n",
    "\n",
    "df = add_features(df, features, state_lookback, 0.8)\n",
    "train_df = df.iloc[:int(0.8 * len(df)), :]\n",
    "test_df = df.iloc[int(0.8 * len(df)):, :]\n",
    "\n",
    "\n",
    "########################## Changes made here ##################################\n",
    "all_actions = {0: 'percentage_invested_in_equity'}\n",
    "###############################################################################\n",
    "\n",
    "model = get_model(len(features)*state_lookback, len(all_actions), num_dense_layers, len(features)*state_lookback*num_dense_layers_by_num_features)\n",
    "# visualizer(model, format='png', view=True)\n",
    "\n",
    "model, returns_vs_episodes, weights = train_q_learning(train_df, state_lookback, model, alpha, epsilon, gamma, episodes, all_actions, metric, features,plot=True)"
   ]
  },
  {
   "cell_type": "code",
   "execution_count": 1,
   "metadata": {
    "collapsed": false,
    "pycharm": {
     "name": "#%%\n"
    }
   },
   "outputs": [],
   "source": [
    "import pickle\n",
    "with open(f'logging_train_2022_06_03_16H_32M_54S.pkl', 'rb') as file:\n",
    "    train_data = pickle.load(file)"
   ]
  },
  {
   "cell_type": "code",
   "execution_count": 16,
   "metadata": {},
   "outputs": [],
   "source": [
    "import pandas as pd\n",
    "pd.DataFrame(train_data[0][2]).to_csv(\"logging_train_2022_06_03_16H_32M_54S_Y_1.csv\")"
   ]
  },
  {
   "cell_type": "code",
   "execution_count": 10,
   "metadata": {},
   "outputs": [
    {
     "data": {
      "text/plain": [
       "10"
      ]
     },
     "execution_count": 10,
     "metadata": {},
     "output_type": "execute_result"
    }
   ],
   "source": [
    "len(train_data)"
   ]
  },
  {
   "cell_type": "code",
   "execution_count": 19,
   "metadata": {},
   "outputs": [
    {
     "data": {
      "text/plain": [
       "'c:\\\\Users\\\\pratiksaxena\\\\Desktop\\\\Pratik\\\\AcsysAlgo_github\\\\RL\\\\SuprabhashKT\\\\RL\\\\V8-continuos_action_space_and_state_space\\\\logs_train'"
      ]
     },
     "execution_count": 19,
     "metadata": {},
     "output_type": "execute_result"
    }
   ],
   "source": [
    "import os\n",
    "os.getcwd() + \"\\\\logs_train\""
   ]
  },
  {
   "cell_type": "code",
   "execution_count": 22,
   "metadata": {},
   "outputs": [
    {
     "data": {
      "text/html": [
       "<div>\n",
       "<style scoped>\n",
       "    .dataframe tbody tr th:only-of-type {\n",
       "        vertical-align: middle;\n",
       "    }\n",
       "\n",
       "    .dataframe tbody tr th {\n",
       "        vertical-align: top;\n",
       "    }\n",
       "\n",
       "    .dataframe thead th {\n",
       "        text-align: right;\n",
       "    }\n",
       "</style>\n",
       "<table border=\"1\" class=\"dataframe\">\n",
       "  <thead>\n",
       "    <tr style=\"text-align: right;\">\n",
       "      <th></th>\n",
       "      <th>0</th>\n",
       "      <th>1</th>\n",
       "      <th>2</th>\n",
       "      <th>3</th>\n",
       "      <th>4</th>\n",
       "      <th>5</th>\n",
       "      <th>6</th>\n",
       "      <th>7</th>\n",
       "      <th>8</th>\n",
       "      <th>9</th>\n",
       "    </tr>\n",
       "  </thead>\n",
       "  <tbody>\n",
       "    <tr>\n",
       "      <th>0</th>\n",
       "      <td>0</td>\n",
       "      <td>1</td>\n",
       "      <td>2</td>\n",
       "      <td>3</td>\n",
       "      <td>4</td>\n",
       "      <td>5</td>\n",
       "      <td>6</td>\n",
       "      <td>7</td>\n",
       "      <td>8</td>\n",
       "      <td>9</td>\n",
       "    </tr>\n",
       "    <tr>\n",
       "      <th>1</th>\n",
       "      <td>10</td>\n",
       "      <td>11</td>\n",
       "      <td>12</td>\n",
       "      <td>13</td>\n",
       "      <td>14</td>\n",
       "      <td>15</td>\n",
       "      <td>16</td>\n",
       "      <td>17</td>\n",
       "      <td>18</td>\n",
       "      <td>19</td>\n",
       "    </tr>\n",
       "  </tbody>\n",
       "</table>\n",
       "</div>"
      ],
      "text/plain": [
       "    0   1   2   3   4   5   6   7   8   9\n",
       "0   0   1   2   3   4   5   6   7   8   9\n",
       "1  10  11  12  13  14  15  16  17  18  19"
      ]
     },
     "execution_count": 22,
     "metadata": {},
     "output_type": "execute_result"
    }
   ],
   "source": [
    "import numpy as np\n",
    "pd.DataFrame(np.array([[0,1,2,3,4,5,6,7,8,9],[10,11,12,13,14,15,16,17,18,19]]))"
   ]
  },
  {
   "cell_type": "code",
   "execution_count": 31,
   "metadata": {},
   "outputs": [
    {
     "data": {
      "text/plain": [
       "29090"
      ]
     },
     "execution_count": 31,
     "metadata": {},
     "output_type": "execute_result"
    }
   ],
   "source": [
    "len(train_data[0][0])"
   ]
  },
  {
   "cell_type": "code",
   "execution_count": 46,
   "metadata": {},
   "outputs": [],
   "source": [
    "with open(f'C://Users//pratiksaxena//Downloads//BJFS_OptPeriods_2_Selected_Strategies_ss.pkl', 'rb') as file:\n",
    "    azure_ss = pickle.load(file)\n",
    "\n",
    "with open(f'Z://Algo//Live_emailer_updates//zip_files_for_recalibration//BJFS//SelectedStrategies//BJFS_OptPeriods_2_Selected_Strategies_ss.pkl', 'rb') as file:\n",
    "    latest_ss = pickle.load(file)\n",
    "\n",
    "with open(f'C://Users//pratiksaxena//Downloads//BJFS_OptPeriods_2_Selected_Strategies_ss_gdrive.pkl', 'rb') as file:\n",
    "    gdrive_ss = pickle.load(file)\n"
   ]
  },
  {
   "cell_type": "code",
   "execution_count": 33,
   "metadata": {},
   "outputs": [
    {
     "data": {
      "text/plain": [
       "[['Strategy1',\n",
       "  'Strategy36',\n",
       "  'Strategy42',\n",
       "  'Strategy49',\n",
       "  'Strategy50',\n",
       "  'Strategy54',\n",
       "  'Strategy60',\n",
       "  'Strategy61',\n",
       "  'Strategy62',\n",
       "  'Strategy63'],\n",
       " ['Strategy1',\n",
       "  'Strategy36',\n",
       "  'Strategy42',\n",
       "  'Strategy49',\n",
       "  'Strategy50',\n",
       "  'Strategy54',\n",
       "  'Strategy60',\n",
       "  'Strategy61',\n",
       "  'Strategy62',\n",
       "  'Strategy63']]"
      ]
     },
     "execution_count": 33,
     "metadata": {},
     "output_type": "execute_result"
    }
   ],
   "source": [
    "azure_ss"
   ]
  },
  {
   "cell_type": "code",
   "execution_count": 36,
   "metadata": {},
   "outputs": [
    {
     "data": {
      "text/plain": [
       "[['Strategy1',\n",
       "  'Strategy36',\n",
       "  'Strategy42',\n",
       "  'Strategy49',\n",
       "  'Strategy50',\n",
       "  'Strategy54',\n",
       "  'Strategy60',\n",
       "  'Strategy61',\n",
       "  'Strategy62',\n",
       "  'Strategy63']]"
      ]
     },
     "execution_count": 36,
     "metadata": {},
     "output_type": "execute_result"
    }
   ],
   "source": [
    "latest_ss"
   ]
  },
  {
   "cell_type": "code",
   "execution_count": 49,
   "metadata": {},
   "outputs": [],
   "source": [
    "gdrive_ss.append(latest_ss[0])"
   ]
  },
  {
   "cell_type": "code",
   "execution_count": 51,
   "metadata": {},
   "outputs": [
    {
     "data": {
      "text/plain": [
       "['Strategy1',\n",
       " 'Strategy36',\n",
       " 'Strategy42',\n",
       " 'Strategy49',\n",
       " 'Strategy50',\n",
       " 'Strategy54',\n",
       " 'Strategy60',\n",
       " 'Strategy61',\n",
       " 'Strategy62',\n",
       " 'Strategy63']"
      ]
     },
     "execution_count": 51,
     "metadata": {},
     "output_type": "execute_result"
    }
   ],
   "source": [
    "gdrive_ss[-1]"
   ]
  },
  {
   "cell_type": "code",
   "execution_count": 52,
   "metadata": {},
   "outputs": [],
   "source": [
    "with open(f'C://Users//pratiksaxena//Downloads//BJFS_OptPeriods_2_Selected_Strategies_ss_correct.pkl', 'wb') as file:\n",
    "    pickle.dump(gdrive_ss,file)"
   ]
  },
  {
   "cell_type": "code",
   "execution_count": 39,
   "metadata": {},
   "outputs": [],
   "source": [
    "with open(f'C://Users//pratiksaxena//Downloads//BAJA_OptPeriods_1_Selected_Strategies_ss.pkl', 'rb') as file:\n",
    "    azure_ss = pickle.load(file)\n",
    "\n",
    "with open(f'Z://Algo//Live_emailer_updates//zip_files_for_recalibration//BAJA//SelectedStrategies//BAJA_OptPeriods_1_Selected_Strategies_ss.pkl', 'rb') as file:\n",
    "    latest_ss = pickle.load(file)\n",
    "\n",
    "with open(f'C://Users//pratiksaxena//Downloads//BAJA_OptPeriods_1_Selected_Strategies_ss_gdrive.pkl', 'rb') as file:\n",
    "    gdrive_ss = pickle.load(file)"
   ]
  },
  {
   "cell_type": "code",
   "execution_count": 45,
   "metadata": {},
   "outputs": [
    {
     "data": {
      "text/plain": [
       "['Strategy1',\n",
       " 'Strategy5',\n",
       " 'Strategy7',\n",
       " 'Strategy16',\n",
       " 'Strategy17',\n",
       " 'Strategy19',\n",
       " 'Strategy62',\n",
       " 'Strategy74',\n",
       " 'Strategy87',\n",
       " 'Strategy130']"
      ]
     },
     "execution_count": 45,
     "metadata": {},
     "output_type": "execute_result"
    }
   ],
   "source": [
    "azure_ss[-2]"
   ]
  },
  {
   "cell_type": "code",
   "execution_count": 42,
   "metadata": {},
   "outputs": [
    {
     "data": {
      "text/plain": [
       "44"
      ]
     },
     "execution_count": 42,
     "metadata": {},
     "output_type": "execute_result"
    }
   ],
   "source": [
    "len(gdrive_ss)"
   ]
  },
  {
   "cell_type": "code",
   "execution_count": 44,
   "metadata": {},
   "outputs": [
    {
     "data": {
      "text/plain": [
       "[['Strategy1',\n",
       "  'Strategy4',\n",
       "  'Strategy13',\n",
       "  'Strategy15',\n",
       "  'Strategy39',\n",
       "  'Strategy42',\n",
       "  'Strategy45',\n",
       "  'Strategy46',\n",
       "  'Strategy49',\n",
       "  'Strategy58']]"
      ]
     },
     "execution_count": 44,
     "metadata": {},
     "output_type": "execute_result"
    }
   ],
   "source": [
    "latest_ss"
   ]
  },
  {
   "cell_type": "code",
   "execution_count": 53,
   "metadata": {},
   "outputs": [],
   "source": [
    "with open(f'C://Users//pratiksaxena//Downloads//BJFS_OptPeriods_2_Selected_Strategies_res.pkl', 'rb') as file:\n",
    "    azure_res = pickle.load(file)\n",
    "\n",
    "with open(f'Z://Algo//Live_emailer_updates//zip_files_for_recalibration//BJFS//SelectedStrategies//BJFS_OptPeriods_2_Selected_Strategies_res.pkl', 'rb') as file:\n",
    "    latest_res = pickle.load(file)\n",
    "\n",
    "with open(f'C://Users//pratiksaxena//Downloads//BJFS_OptPeriods_2_Selected_Strategies_res_gdrive.pkl', 'rb') as file:\n",
    "    gdrive_res = pickle.load(file)"
   ]
  },
  {
   "cell_type": "code",
   "execution_count": 56,
   "metadata": {},
   "outputs": [
    {
     "data": {
      "text/plain": [
       "[   Lookback  Low Bound  High Bound  AvgWinLoss  Optimization_Years\n",
       " 0       150       -4.2         1.2     9306.67                 4.0\n",
       " 1        50       -3.8        -2.5     4495.67                 2.0\n",
       " 2       330        1.0         0.8     2047.00                 4.0\n",
       " 3       130       -1.2         0.0      673.95                 2.0\n",
       " 4       230        3.0         2.2      535.27                 2.0\n",
       " 5       370        4.5         3.2      437.79                 2.0\n",
       " 6        90        1.5         2.0      313.50                 2.0\n",
       " 7       150        3.2         2.2      296.50                 2.0\n",
       " 8       150        1.5         2.0      265.00                 2.0\n",
       " 9        50        4.5        -0.2      255.75                 4.0,\n",
       "    Lookback  Low Bound  High Bound  AvgWinLoss  Optimization_Years\n",
       " 0       150       -4.2         1.2     9306.67                 4.0\n",
       " 1        50       -3.8        -2.5     4495.67                 2.0\n",
       " 2       330        1.0         0.8     2047.00                 4.0\n",
       " 3       130       -1.2         0.0      673.95                 2.0\n",
       " 4       230        3.0         2.2      535.27                 2.0\n",
       " 5       370        4.5         3.2      437.79                 2.0\n",
       " 6        90        1.5         2.0      313.50                 2.0\n",
       " 7       150        3.2         2.2      296.50                 2.0\n",
       " 8       150        1.5         2.0      265.00                 2.0\n",
       " 9        50        4.5        -0.2      255.75                 4.0]"
      ]
     },
     "execution_count": 56,
     "metadata": {},
     "output_type": "execute_result"
    }
   ],
   "source": [
    "azure_res"
   ]
  },
  {
   "cell_type": "code",
   "execution_count": 57,
   "metadata": {},
   "outputs": [
    {
     "data": {
      "text/plain": [
       "[   Lookback  Low Bound  High Bound  AvgWinLoss  Optimization_Years\n",
       " 0       150       -4.2         1.2     9306.67                 4.0\n",
       " 1        50       -3.8        -2.5     4495.67                 2.0\n",
       " 2       330        1.0         0.8     2047.00                 4.0\n",
       " 3       130       -1.2         0.0      673.95                 2.0\n",
       " 4       230        3.0         2.2      535.27                 2.0\n",
       " 5       370        4.5         3.2      437.79                 2.0\n",
       " 6        90        1.5         2.0      313.50                 2.0\n",
       " 7       150        3.2         2.2      296.50                 2.0\n",
       " 8       150        1.5         2.0      265.00                 2.0\n",
       " 9        50        4.5        -0.2      255.75                 4.0]"
      ]
     },
     "execution_count": 57,
     "metadata": {},
     "output_type": "execute_result"
    }
   ],
   "source": [
    "latest_res"
   ]
  },
  {
   "cell_type": "code",
   "execution_count": 59,
   "metadata": {},
   "outputs": [
    {
     "data": {
      "text/plain": [
       "43"
      ]
     },
     "execution_count": 59,
     "metadata": {},
     "output_type": "execute_result"
    }
   ],
   "source": [
    "len(gdrive_res)"
   ]
  },
  {
   "cell_type": "code",
   "execution_count": 60,
   "metadata": {},
   "outputs": [],
   "source": [
    "gdrive_res.append(latest_res)"
   ]
  },
  {
   "cell_type": "code",
   "execution_count": 61,
   "metadata": {},
   "outputs": [],
   "source": [
    "with open(f'C://Users//pratiksaxena//Downloads//BJFS_OptPeriods_2_Selected_Strategies_res_correct.pkl', 'wb') as file:\n",
    "    pickle.dump(gdrive_res,file)"
   ]
  },
  {
   "cell_type": "code",
   "execution_count": 63,
   "metadata": {},
   "outputs": [],
   "source": [
    "with open(f'C://Users//pratiksaxena//Downloads//Results_TickerBJFS_LP2_Recal6_NS3_Mrolling_sortino.pkl', 'rb') as file:\n",
    "    azure_weights = pickle.load(file)\n",
    "\n",
    "with open(f'Z://Algo//Live_emailer_updates//zip_files_for_recalibration//BJFS//weights//Results_TickerBJFS_LP2_Recal6_NS3_Mrolling_sortino.pkl', 'rb') as file:\n",
    "    latest_weights = pickle.load(file)\n",
    "\n",
    "with open(f'C://Users//pratiksaxena//Downloads//Results_TickerBJFS_LP2_Recal6_NS3_Mrolling_sortino_gdrive.pkl', 'rb') as file:\n",
    "    gdrive_weights = pickle.load(file)"
   ]
  },
  {
   "cell_type": "code",
   "execution_count": 75,
   "metadata": {},
   "outputs": [
    {
     "data": {
      "text/plain": [
       "pandas.core.frame.DataFrame"
      ]
     },
     "execution_count": 75,
     "metadata": {},
     "output_type": "execute_result"
    }
   ],
   "source": [
    "type(azure_weights[-1])"
   ]
  },
  {
   "cell_type": "code",
   "execution_count": 82,
   "metadata": {},
   "outputs": [
    {
     "data": {
      "text/html": [
       "<div>\n",
       "<style scoped>\n",
       "    .dataframe tbody tr th:only-of-type {\n",
       "        vertical-align: middle;\n",
       "    }\n",
       "\n",
       "    .dataframe tbody tr th {\n",
       "        vertical-align: top;\n",
       "    }\n",
       "\n",
       "    .dataframe thead th {\n",
       "        text-align: right;\n",
       "    }\n",
       "</style>\n",
       "<table border=\"1\" class=\"dataframe\">\n",
       "  <thead>\n",
       "    <tr style=\"text-align: right;\">\n",
       "      <th></th>\n",
       "      <th>0</th>\n",
       "    </tr>\n",
       "  </thead>\n",
       "  <tbody>\n",
       "    <tr>\n",
       "      <th>0</th>\n",
       "      <td>21</td>\n",
       "    </tr>\n",
       "    <tr>\n",
       "      <th>1</th>\n",
       "      <td>0\n",
       "0  0.558457\n",
       "1  0.359275\n",
       "2  0.082268</td>\n",
       "    </tr>\n",
       "  </tbody>\n",
       "</table>\n",
       "</div>"
      ],
      "text/plain": [
       "                                                 0\n",
       "0                                               21\n",
       "1            0\n",
       "0  0.558457\n",
       "1  0.359275\n",
       "2  0.082268"
      ]
     },
     "execution_count": 82,
     "metadata": {},
     "output_type": "execute_result"
    }
   ],
   "source": [
    "pd.DataFrame(latest_weights[-1])"
   ]
  },
  {
   "cell_type": "code",
   "execution_count": 78,
   "metadata": {},
   "outputs": [
    {
     "data": {
      "text/html": [
       "<div>\n",
       "<style scoped>\n",
       "    .dataframe tbody tr th:only-of-type {\n",
       "        vertical-align: middle;\n",
       "    }\n",
       "\n",
       "    .dataframe tbody tr th {\n",
       "        vertical-align: top;\n",
       "    }\n",
       "\n",
       "    .dataframe thead th {\n",
       "        text-align: right;\n",
       "    }\n",
       "</style>\n",
       "<table border=\"1\" class=\"dataframe\">\n",
       "  <thead>\n",
       "    <tr style=\"text-align: right;\">\n",
       "      <th></th>\n",
       "      <th>0</th>\n",
       "    </tr>\n",
       "  </thead>\n",
       "  <tbody>\n",
       "    <tr>\n",
       "      <th>0</th>\n",
       "      <td>0.008502</td>\n",
       "    </tr>\n",
       "    <tr>\n",
       "      <th>1</th>\n",
       "      <td>0.540807</td>\n",
       "    </tr>\n",
       "    <tr>\n",
       "      <th>2</th>\n",
       "      <td>0.450691</td>\n",
       "    </tr>\n",
       "  </tbody>\n",
       "</table>\n",
       "</div>"
      ],
      "text/plain": [
       "          0\n",
       "0  0.008502\n",
       "1  0.540807\n",
       "2  0.450691"
      ]
     },
     "execution_count": 78,
     "metadata": {},
     "output_type": "execute_result"
    }
   ],
   "source": [
    "gdrive_weights[-1]"
   ]
  },
  {
   "cell_type": "code",
   "execution_count": 84,
   "metadata": {},
   "outputs": [],
   "source": [
    "with open(f'Z://Algo//Live_emailer_updates//zip_files_for_recalibration//TCOM//weights//Results_TickerTCOM_LP1_Recal6_NS5_Mrolling_sharpe.pkl', 'rb') as file:\n",
    "    latest_weights_2 = pickle.load(file)"
   ]
  },
  {
   "cell_type": "code",
   "execution_count": 85,
   "metadata": {},
   "outputs": [
    {
     "data": {
      "text/plain": [
       "[(3,\n",
       "            0\n",
       "  0  0.551077\n",
       "  1  0.146479\n",
       "  2  0.156489\n",
       "  3  0.098312\n",
       "  4  0.047643)]"
      ]
     },
     "execution_count": 85,
     "metadata": {},
     "output_type": "execute_result"
    }
   ],
   "source": [
    "latest_weights_2"
   ]
  },
  {
   "cell_type": "code",
   "execution_count": 86,
   "metadata": {},
   "outputs": [],
   "source": [
    "with open(f'c:\\\\Users\\\\pratiksaxena\\\\Desktop\\\\Pratik\\\\AcsysAlgo_github\\\\RL\\\\SuprabhashKT\\\\RL\\\\V8-continuos_action_space_and_state_space\\\\logs_train\\\\logging_train_2022_06_03_19H_01M_35S.pkl', 'rb') as file:\n",
    "    train_log_1 = pickle.load(file)"
   ]
  },
  {
   "cell_type": "code",
   "execution_count": 108,
   "metadata": {},
   "outputs": [
    {
     "data": {
      "text/plain": [
       "101"
      ]
     },
     "execution_count": 108,
     "metadata": {},
     "output_type": "execute_result"
    }
   ],
   "source": [
    "len(train_log_1)"
   ]
  },
  {
   "cell_type": "code",
   "execution_count": 112,
   "metadata": {},
   "outputs": [
    {
     "data": {
      "text/plain": [
       "-0.9047741297911811"
      ]
     },
     "execution_count": 112,
     "metadata": {},
     "output_type": "execute_result"
    }
   ],
   "source": [
    "min(train_log_1[100])"
   ]
  },
  {
   "cell_type": "code",
   "execution_count": 113,
   "metadata": {},
   "outputs": [],
   "source": [
    "path = \"c:\\\\Users\\\\pratiksaxena\\\\Desktop\\\\Pratik\\\\AcsysAlgo_github\\\\RL\\\\SuprabhashKT\\\\RL\\\\V8-continuos_action_space_and_state_space\\\\logs_train\\\\\"\n",
    "dir_list = os.listdir(path)"
   ]
  },
  {
   "cell_type": "code",
   "execution_count": 114,
   "metadata": {},
   "outputs": [
    {
     "data": {
      "text/plain": [
       "['logging_train_2022_06_03_19H_01M_35S.pkl',\n",
       " 'logging_train_2022_06_03_19H_06M_33S.pkl',\n",
       " 'logging_train_2022_06_03_19H_10M_59S.pkl',\n",
       " 'logging_train_2022_06_03_19H_15M_40S.pkl',\n",
       " 'logging_train_2022_06_03_19H_20M_33S.pkl',\n",
       " 'logging_train_2022_06_03_19H_25M_07S.pkl',\n",
       " 'logging_train_2022_06_03_19H_29M_25S.pkl',\n",
       " 'logging_train_2022_06_03_19H_33M_32S.pkl',\n",
       " 'logging_train_2022_06_03_19H_38M_33S.pkl',\n",
       " 'logging_train_2022_06_03_19H_43M_34S.pkl']"
      ]
     },
     "execution_count": 114,
     "metadata": {},
     "output_type": "execute_result"
    }
   ],
   "source": [
    "dir_list"
   ]
  },
  {
   "cell_type": "code",
   "execution_count": 115,
   "metadata": {},
   "outputs": [],
   "source": [
    "min_returns = []\n",
    "max_returns = []\n",
    "for i in dir_list:\n",
    "    with open(f'c:\\\\Users\\\\pratiksaxena\\\\Desktop\\\\Pratik\\\\AcsysAlgo_github\\\\RL\\\\SuprabhashKT\\\\RL\\\\V8-continuos_action_space_and_state_space\\\\logs_train\\\\{i}', 'rb') as file:\n",
    "        train_log = pickle.load(file)\n",
    "    min_returns.append(min(train_log[100]))\n",
    "    max_returns.append(max(train_log[100]))"
   ]
  },
  {
   "cell_type": "code",
   "execution_count": 116,
   "metadata": {},
   "outputs": [
    {
     "data": {
      "text/plain": [
       "[-0.9047741297911811,\n",
       " -0.9037526395577915,\n",
       " -0.9053607430128534,\n",
       " -0.9049457247190054,\n",
       " -0.9045863359782578,\n",
       " -0.9048325956923583,\n",
       " -0.9048947897663144,\n",
       " -0.9056787447849017,\n",
       " -0.9033336492912988,\n",
       " -0.9050220658876987]"
      ]
     },
     "execution_count": 116,
     "metadata": {},
     "output_type": "execute_result"
    }
   ],
   "source": [
    "min_returns"
   ]
  },
  {
   "cell_type": "code",
   "execution_count": 119,
   "metadata": {},
   "outputs": [
    {
     "data": {
      "text/plain": [
       "[559019974290195.5,\n",
       " 2872349951180052.0,\n",
       " 192701758744356.6,\n",
       " 1181461184663040.8,\n",
       " 3134586710381018.0,\n",
       " 272573623840174.16,\n",
       " 141030940736.9742,\n",
       " 616757896159.1993,\n",
       " 74023620748.81833,\n",
       " 118090884665.67955]"
      ]
     },
     "execution_count": 119,
     "metadata": {},
     "output_type": "execute_result"
    }
   ],
   "source": [
    "max_returns"
   ]
  },
  {
   "cell_type": "code",
   "execution_count": 120,
   "metadata": {},
   "outputs": [
    {
     "ename": "AttributeError",
     "evalue": "'list' object has no attribute 'argsort'",
     "output_type": "error",
     "traceback": [
      "\u001b[1;31m---------------------------------------------------------------------------\u001b[0m",
      "\u001b[1;31mAttributeError\u001b[0m                            Traceback (most recent call last)",
      "\u001b[1;32mC:\\Users\\PRATIK~1\\AppData\\Local\\Temp/ipykernel_8940/3210292977.py\u001b[0m in \u001b[0;36m<module>\u001b[1;34m\u001b[0m\n\u001b[1;32m----> 1\u001b[1;33m \u001b[0mmax_returns\u001b[0m\u001b[1;33m.\u001b[0m\u001b[0margsort\u001b[0m\u001b[1;33m(\u001b[0m\u001b[1;33m)\u001b[0m\u001b[1;33m\u001b[0m\u001b[1;33m\u001b[0m\u001b[0m\n\u001b[0m",
      "\u001b[1;31mAttributeError\u001b[0m: 'list' object has no attribute 'argsort'"
     ]
    }
   ],
   "source": [
    "max_returns.argsort()"
   ]
  },
  {
   "cell_type": "code",
   "execution_count": 121,
   "metadata": {},
   "outputs": [
    {
     "data": {
      "text/plain": [
       "array([8, 9, 6, 7, 2, 5, 0, 3, 1, 4], dtype=int64)"
      ]
     },
     "execution_count": 121,
     "metadata": {},
     "output_type": "execute_result"
    }
   ],
   "source": [
    "np.argsort(max_returns)"
   ]
  },
  {
   "cell_type": "code",
   "execution_count": 122,
   "metadata": {},
   "outputs": [
    {
     "data": {
      "text/plain": [
       "[559019974290195.5,\n",
       " 2872349951180052.0,\n",
       " 192701758744356.6,\n",
       " 1181461184663040.8,\n",
       " 3134586710381018.0,\n",
       " 272573623840174.16,\n",
       " 141030940736.9742,\n",
       " 616757896159.1993,\n",
       " 74023620748.81833,\n",
       " 118090884665.67955]"
      ]
     },
     "execution_count": 122,
     "metadata": {},
     "output_type": "execute_result"
    }
   ],
   "source": []
  },
  {
   "cell_type": "code",
   "execution_count": 136,
   "metadata": {},
   "outputs": [],
   "source": [
    "with open(f'c:\\\\Users\\\\pratiksaxena\\\\Desktop\\\\Pratik\\\\AcsysAlgo_github\\\\RL\\\\SuprabhashKT\\\\RL\\\\V8-continuos_action_space_and_state_space\\\\output_params_sinx.pkl', 'rb') as file:\n",
    "    multiprocessing_log = pickle.load(file)"
   ]
  },
  {
   "cell_type": "code",
   "execution_count": 137,
   "metadata": {},
   "outputs": [
    {
     "data": {
      "text/plain": [
       "[(-0.017788735392259003, None),\n",
       " (906575242450.8114,\n",
       "  [array([[ 0.5881499 , -0.61532795,  0.7353757 ,  0.69367474],\n",
       "          [ 0.3184218 , -0.4601765 ,  0.35873002, -0.9059525 ],\n",
       "          [-0.4304149 , -0.6098975 ,  0.66021824,  0.51598245]],\n",
       "         dtype=float32),\n",
       "   array([ 0.09485327,  0.        , -0.021502  , -0.08949909], dtype=float32),\n",
       "   array([[-0.5914752 ,  0.26697695, -0.1982913 ,  0.1176109 ],\n",
       "          [ 0.47958905, -0.8259611 ,  0.40699273,  0.33219022],\n",
       "          [-0.32810426,  0.4889867 ,  0.7204586 , -0.51757765],\n",
       "          [ 0.38024992,  0.08061125,  0.17092055,  0.57072604]],\n",
       "         dtype=float32),\n",
       "   array([ 0.        , -0.00871586, -0.0261782 , -0.05047061], dtype=float32),\n",
       "   array([[-0.0914669 ],\n",
       "          [-0.7082073 ],\n",
       "          [ 0.29012838],\n",
       "          [ 0.7818602 ]], dtype=float32),\n",
       "   array([0.00410643], dtype=float32)])]"
      ]
     },
     "execution_count": 137,
     "metadata": {},
     "output_type": "execute_result"
    }
   ],
   "source": [
    "multiprocessing_log"
   ]
  },
  {
   "cell_type": "code",
   "execution_count": 138,
   "metadata": {},
   "outputs": [],
   "source": [
    "lol = multiprocessing_log.sort(key=lambda x: x[0])"
   ]
  },
  {
   "cell_type": "code",
   "execution_count": 135,
   "metadata": {},
   "outputs": [
    {
     "data": {
      "text/plain": [
       "[array([[ 0.5881499 , -0.61532795,  0.7353757 ,  0.69367474],\n",
       "        [ 0.3184218 , -0.4601765 ,  0.35873002, -0.9059525 ],\n",
       "        [-0.4304149 , -0.6098975 ,  0.66021824,  0.51598245]],\n",
       "       dtype=float32),\n",
       " array([ 0.09485327,  0.        , -0.021502  , -0.08949909], dtype=float32),\n",
       " array([[-0.5914752 ,  0.26697695, -0.1982913 ,  0.1176109 ],\n",
       "        [ 0.47958905, -0.8259611 ,  0.40699273,  0.33219022],\n",
       "        [-0.32810426,  0.4889867 ,  0.7204586 , -0.51757765],\n",
       "        [ 0.38024992,  0.08061125,  0.17092055,  0.57072604]],\n",
       "       dtype=float32),\n",
       " array([ 0.        , -0.00871586, -0.0261782 , -0.05047061], dtype=float32),\n",
       " array([[-0.0914669 ],\n",
       "        [-0.7082073 ],\n",
       "        [ 0.29012838],\n",
       "        [ 0.7818602 ]], dtype=float32),\n",
       " array([0.00410643], dtype=float32)]"
      ]
     },
     "execution_count": 135,
     "metadata": {},
     "output_type": "execute_result"
    }
   ],
   "source": [
    "multiprocessing_log[-1][1]"
   ]
  },
  {
   "cell_type": "code",
   "execution_count": 141,
   "metadata": {},
   "outputs": [
    {
     "name": "stdout",
     "output_type": "stream",
     "text": [
      "None\n"
     ]
    }
   ],
   "source": [
    "print(lol)"
   ]
  },
  {
   "cell_type": "code",
   "execution_count": 143,
   "metadata": {},
   "outputs": [],
   "source": [
    "with open(f'C:\\\\Users\\\\pratiksaxena\\\\Downloads\\\\output_params_sinx.pkl', 'rb') as file:\n",
    "    multiprocessing_log = pickle.load(file)"
   ]
  },
  {
   "cell_type": "code",
   "execution_count": 145,
   "metadata": {},
   "outputs": [],
   "source": [
    "multiprocessing_log.sort(key=lambda x: x[0])"
   ]
  },
  {
   "cell_type": "code",
   "execution_count": 156,
   "metadata": {},
   "outputs": [
    {
     "data": {
      "text/plain": [
       "[array([[ 0.23866835,  1.2162577 ,  0.06505632, -0.21124756],\n",
       "        [ 0.73299575, -0.1973063 , -1.7198794 ,  1.2144173 ],\n",
       "        [-0.01351892, -0.01056468,  0.00399137, -0.00709117]],\n",
       "       dtype=float32),\n",
       " array([-0.5852769 , -0.5465784 ,  0.7718731 , -0.29024717], dtype=float32),\n",
       " array([[ 1.0127305 , -0.04861057,  0.85155696, -0.4416134 ],\n",
       "        [ 0.5647556 , -0.7455595 ,  0.10816538,  0.47758064],\n",
       "        [ 0.596323  ,  0.05796538,  0.6595511 ,  0.72614527],\n",
       "        [-0.26737475, -0.13993078, -1.1672697 ,  0.63231313]],\n",
       "       dtype=float32),\n",
       " array([ 0.12075193, -0.09465552, -0.15475655, -0.07996106], dtype=float32),\n",
       " array([[-0.10469808],\n",
       "        [ 0.9313381 ],\n",
       "        [-0.17316522],\n",
       "        [ 0.27522162]], dtype=float32),\n",
       " array([-0.02188769], dtype=float32)]"
      ]
     },
     "execution_count": 156,
     "metadata": {},
     "output_type": "execute_result"
    }
   ],
   "source": [
    "multiprocessing_log[-1][1]"
   ]
  },
  {
   "cell_type": "code",
   "execution_count": 147,
   "metadata": {},
   "outputs": [
    {
     "data": {
      "text/plain": [
       "(1.3519885268827143,\n",
       " [array([[-0.0903976 ,  0.797444  , -0.85663915,  0.7868802 ],\n",
       "         [ 0.02667631,  0.53979236,  0.7221305 ,  0.6934148 ],\n",
       "         [ 0.14247024,  0.5317375 , -0.43983355,  0.67928994]],\n",
       "        dtype=float32),\n",
       "  array([-0.11668301, -0.03958287, -0.07199574,  0.04220301], dtype=float32),\n",
       "  array([[-0.8123613 , -0.04369372,  0.49466902,  0.18373126],\n",
       "         [ 0.09232146, -0.6299329 ,  0.6761383 , -0.46032086],\n",
       "         [-0.52873003, -0.20754504,  0.09060625, -0.3138553 ],\n",
       "         [-0.60774434, -0.45894346, -0.60825706, -0.4129857 ]],\n",
       "        dtype=float32),\n",
       "  array([ 0.        ,  0.        , -0.04085951,  0.        ], dtype=float32),\n",
       "  array([[ 0.6879388 ],\n",
       "         [-0.95360965],\n",
       "         [ 0.77408785],\n",
       "         [ 0.0611167 ]], dtype=float32),\n",
       "  array([0.0137932], dtype=float32)])"
      ]
     },
     "execution_count": 147,
     "metadata": {},
     "output_type": "execute_result"
    }
   ],
   "source": [
    "multiprocessing_log[0]"
   ]
  },
  {
   "cell_type": "code",
   "execution_count": 153,
   "metadata": {},
   "outputs": [],
   "source": [
    "from utils import *"
   ]
  },
  {
   "cell_type": "code",
   "execution_count": 164,
   "metadata": {},
   "outputs": [],
   "source": [
    "import imp\n",
    "with open('V8.3.py', 'rb') as fp:\n",
    "    module_methods = imp.load_module(\n",
    "        'V8.3', fp, 'V8.3.py',\n",
    "        ('.py', 'rb', imp.PY_SOURCE)\n",
    "    )\n"
   ]
  },
  {
   "cell_type": "code",
   "execution_count": null,
   "metadata": {},
   "outputs": [],
   "source": []
  },
  {
   "cell_type": "code",
   "execution_count": 186,
   "metadata": {},
   "outputs": [
    {
     "name": "stdout",
     "output_type": "stream",
     "text": [
      "910/910 [==============================] - 1s 730us/step\n"
     ]
    },
    {
     "data": {
      "image/png": "[encoded data removed]",
      "text/plain": [
       "<Figure size 1080x504 with 5 Axes>"
      ]
     },
     "metadata": {},
     "output_type": "display_data"
    }
   ],
   "source": [
    "train_percent = 0.8\n",
    "state_lookback = 1\n",
    "num_dense_layers = 2\n",
    "num_dense_layers_by_num_features = 2\n",
    "alpha =  0.5\n",
    "epsilon = 0.1\n",
    "gamma = 0.1\n",
    "episodes = 10\n",
    "number_of_random_samples =  10\n",
    "metric = \"percent\"\n",
    "ticker = 'sinx'\n",
    "df = module_methods.get_stock_data(ticker)\n",
    "features = [\n",
    "        {\"feature\": \"Close_as_a_feature\", \"lookback\": 0},\n",
    "        {\"feature\": \"diff_of_close\", \"lookback\": 1},\n",
    "    ]\n",
    "df = module_methods.add_features(df, features, state_lookback, 0.8)\n",
    "all_actions = {0: 'percentage_invested_in_equity'}\n",
    "# test_df = df.iloc[int(0.8 * len(df)):, :]\n",
    "train_df = df.iloc[:int(0.8 * len(df)), :]\n",
    "best_model = module_methods.get_model(len(features) * state_lookback, len(all_actions), num_dense_layers,len(features) * state_lookback * num_dense_layers_by_num_features)\n",
    "best_model.set_weights(multiprocessing_log[-1][1])\n",
    "fig, score = module_methods.eval_q_learning(train_df, best_model, state_lookback,all_actions,number_of_random_samples, metric, features, save=True)\n",
    "plt.show()"
   ]
  },
  {
   "cell_type": "code",
   "execution_count": 188,
   "metadata": {},
   "outputs": [
    {
     "data": {
      "text/plain": [
       "102960.37000658928"
      ]
     },
     "execution_count": 188,
     "metadata": {},
     "output_type": "execute_result"
    }
   ],
   "source": [
    "score"
   ]
  },
  {
   "cell_type": "code",
   "execution_count": 184,
   "metadata": {},
   "outputs": [
    {
     "data": {
      "text/plain": [
       "40"
      ]
     },
     "execution_count": 184,
     "metadata": {},
     "output_type": "execute_result"
    }
   ],
   "source": [
    "len(multiprocessing_log)"
   ]
  },
  {
   "cell_type": "code",
   "execution_count": 187,
   "metadata": {},
   "outputs": [
    {
     "data": {
      "text/plain": [
       "(5281910030604502.0,\n",
       " [array([[ 0.23866835,  1.2162577 ,  0.06505632, -0.21124756],\n",
       "         [ 0.73299575, -0.1973063 , -1.7198794 ,  1.2144173 ],\n",
       "         [-0.01351892, -0.01056468,  0.00399137, -0.00709117]],\n",
       "        dtype=float32),\n",
       "  array([-0.5852769 , -0.5465784 ,  0.7718731 , -0.29024717], dtype=float32),\n",
       "  array([[ 1.0127305 , -0.04861057,  0.85155696, -0.4416134 ],\n",
       "         [ 0.5647556 , -0.7455595 ,  0.10816538,  0.47758064],\n",
       "         [ 0.596323  ,  0.05796538,  0.6595511 ,  0.72614527],\n",
       "         [-0.26737475, -0.13993078, -1.1672697 ,  0.63231313]],\n",
       "        dtype=float32),\n",
       "  array([ 0.12075193, -0.09465552, -0.15475655, -0.07996106], dtype=float32),\n",
       "  array([[-0.10469808],\n",
       "         [ 0.9313381 ],\n",
       "         [-0.17316522],\n",
       "         [ 0.27522162]], dtype=float32),\n",
       "  array([-0.02188769], dtype=float32)])"
      ]
     },
     "execution_count": 187,
     "metadata": {},
     "output_type": "execute_result"
    }
   ],
   "source": [
    "multiprocessing_log[-1]"
   ]
  },
  {
   "cell_type": "code",
   "execution_count": 175,
   "metadata": {},
   "outputs": [
    {
     "data": {
      "text/plain": [
       "(5281910030604502.0,\n",
       " [array([[ 0.23866835,  1.2162577 ,  0.06505632, -0.21124756],\n",
       "         [ 0.73299575, -0.1973063 , -1.7198794 ,  1.2144173 ],\n",
       "         [-0.01351892, -0.01056468,  0.00399137, -0.00709117]],\n",
       "        dtype=float32),\n",
       "  array([-0.5852769 , -0.5465784 ,  0.7718731 , -0.29024717], dtype=float32),\n",
       "  array([[ 1.0127305 , -0.04861057,  0.85155696, -0.4416134 ],\n",
       "         [ 0.5647556 , -0.7455595 ,  0.10816538,  0.47758064],\n",
       "         [ 0.596323  ,  0.05796538,  0.6595511 ,  0.72614527],\n",
       "         [-0.26737475, -0.13993078, -1.1672697 ,  0.63231313]],\n",
       "        dtype=float32),\n",
       "  array([ 0.12075193, -0.09465552, -0.15475655, -0.07996106], dtype=float32),\n",
       "  array([[-0.10469808],\n",
       "         [ 0.9313381 ],\n",
       "         [-0.17316522],\n",
       "         [ 0.27522162]], dtype=float32),\n",
       "  array([-0.02188769], dtype=float32)])"
      ]
     },
     "execution_count": 175,
     "metadata": {},
     "output_type": "execute_result"
    }
   ],
   "source": [
    "multiprocessing_log[-1]"
   ]
  },
  {
   "cell_type": "code",
   "execution_count": null,
   "metadata": {},
   "outputs": [],
   "source": [
    "module_methods.train_q_learning()"
   ]
  },
  {
   "cell_type": "code",
   "execution_count": 201,
   "metadata": {},
   "outputs": [],
   "source": [
    "with open(f'returns_of_best_performing_model_so_far_sinx.pkl', 'wb') as file:\n",
    "    pickle.dump(0,file)"
   ]
  },
  {
   "cell_type": "code",
   "execution_count": 202,
   "metadata": {},
   "outputs": [],
   "source": [
    "with open(f'returns_of_best_performing_model_so_far_sinx.pkl', 'rb') as file:\n",
    "    best_model_details = pickle.load(file)"
   ]
  },
  {
   "cell_type": "code",
   "execution_count": 194,
   "metadata": {},
   "outputs": [
    {
     "name": "stdout",
     "output_type": "stream",
     "text": [
      "3605492191811029504\n"
     ]
    }
   ],
   "source": [
    "print(int(best_model_details[0]))"
   ]
  },
  {
   "cell_type": "code",
   "execution_count": 203,
   "metadata": {},
   "outputs": [
    {
     "data": {
      "text/plain": [
       "2.8392436408736584e+16"
      ]
     },
     "execution_count": 203,
     "metadata": {},
     "output_type": "execute_result"
    }
   ],
   "source": [
    "best_model_details"
   ]
  },
  {
   "cell_type": "code",
   "execution_count": 205,
   "metadata": {},
   "outputs": [
    {
     "name": "stdout",
     "output_type": "stream",
     "text": [
      "0\n",
      "1\n",
      "2\n",
      "3\n",
      "4\n",
      "5\n",
      "6\n",
      "7\n",
      "8\n",
      "9\n"
     ]
    }
   ],
   "source": [
    "for i in range(10):\n",
    "    print(int(i))"
   ]
  },
  {
   "cell_type": "code",
   "execution_count": 206,
   "metadata": {},
   "outputs": [
    {
     "data": {
      "text/plain": [
       "'c:\\\\Users\\\\pratiksaxena\\\\Desktop\\\\Pratik\\\\AcsysAlgo_github\\\\RL\\\\SuprabhashKT\\\\RL\\\\V8-continuos_action_space_and_state_space'"
      ]
     },
     "execution_count": 206,
     "metadata": {},
     "output_type": "execute_result"
    }
   ],
   "source": [
    "os.getcwd()"
   ]
  },
  {
   "cell_type": "code",
   "execution_count": null,
   "metadata": {},
   "outputs": [],
   "source": [
    "with open(f'c:\\\\Users\\\\pratiksaxena\\\\Desktop\\\\Pratik\\\\AcsysAlgo_github\\\\RL\\\\SuprabhashKT\\\\RL\\\\V8-continuos_action_space_and_state_space', 'rb') as file:\n",
    "    best_model_details = pickle.load(file)"
   ]
  },
  {
   "cell_type": "code",
   "execution_count": 208,
   "metadata": {},
   "outputs": [],
   "source": [
    "df = pd.DataFrame({\"col1\":[1,2,3,4,5],\"col2\":[7,8,9,10,12]})"
   ]
  },
  {
   "cell_type": "code",
   "execution_count": 210,
   "metadata": {},
   "outputs": [
    {
     "data": {
      "text/plain": [
       "'col2'"
      ]
     },
     "execution_count": 210,
     "metadata": {},
     "output_type": "execute_result"
    }
   ],
   "source": [
    "df.columns[-1]"
   ]
  },
  {
   "cell_type": "code",
   "execution_count": 215,
   "metadata": {},
   "outputs": [
    {
     "data": {
      "text/plain": [
       "'TEMA_TEMA'"
      ]
     },
     "execution_count": 215,
     "metadata": {},
     "output_type": "execute_result"
    }
   ],
   "source": [
    "feature = \"technical_indicator_sqrt_TEMA_TEMA\"\n",
    "\"_\".join(feature.split(\"_\")[3:])"
   ]
  },
  {
   "cell_type": "code",
   "execution_count": 217,
   "metadata": {},
   "outputs": [],
   "source": [
    "lookbacks = [1,2,3,6]\n",
    "lookbacks.extend([29])"
   ]
  },
  {
   "cell_type": "code",
   "execution_count": 221,
   "metadata": {},
   "outputs": [
    {
     "data": {
      "text/plain": [
       "[1, 2, 3, 6]"
      ]
     },
     "execution_count": 221,
     "metadata": {},
     "output_type": "execute_result"
    }
   ],
   "source": [
    "lookbacks"
   ]
  },
  {
   "cell_type": "code",
   "execution_count": 220,
   "metadata": {},
   "outputs": [],
   "source": [
    "lookbacks = lookbacks[:-1]"
   ]
  },
  {
   "cell_type": "code",
   "execution_count": 279,
   "metadata": {},
   "outputs": [],
   "source": [
    "with open(f'C:\\\\Users\\\\pratiksaxena\\\\Downloads\\\\neg_PE_ZS_lb.pkl', 'rb') as file:\n",
    "    ze_score = pickle.load(file)"
   ]
  },
  {
   "cell_type": "code",
   "execution_count": 280,
   "metadata": {},
   "outputs": [],
   "source": [
    "ze_score.set_index(\"Datetime\",inplace=True)"
   ]
  },
  {
   "cell_type": "code",
   "execution_count": 287,
   "metadata": {},
   "outputs": [],
   "source": [
    "with open(f'PE_ZS_neg_various_lb.pkl', 'wb') as file:\n",
    "    pickle.dump(ze_score,file)"
   ]
  },
  {
   "cell_type": "code",
   "execution_count": 282,
   "metadata": {},
   "outputs": [],
   "source": [
    "ze_score.index = pd.to_datetime(ze_score.index)\n"
   ]
  },
  {
   "cell_type": "code",
   "execution_count": 266,
   "metadata": {},
   "outputs": [
    {
     "data": {
      "text/html": [
       "<div>\n",
       "<style scoped>\n",
       "    .dataframe tbody tr th:only-of-type {\n",
       "        vertical-align: middle;\n",
       "    }\n",
       "\n",
       "    .dataframe tbody tr th {\n",
       "        vertical-align: top;\n",
       "    }\n",
       "\n",
       "    .dataframe thead th {\n",
       "        text-align: right;\n",
       "    }\n",
       "</style>\n",
       "<table border=\"1\" class=\"dataframe\">\n",
       "  <thead>\n",
       "    <tr style=\"text-align: right;\">\n",
       "      <th></th>\n",
       "      <th>P/E</th>\n",
       "      <th>Close</th>\n",
       "      <th>PE_ZS_5</th>\n",
       "      <th>PE_ZS_10</th>\n",
       "      <th>PE_ZS_15</th>\n",
       "      <th>PE_ZS_30</th>\n",
       "      <th>PE_ZS_45</th>\n",
       "      <th>PE_ZS_60</th>\n",
       "      <th>PE_ZS_90</th>\n",
       "      <th>PE_ZS_100</th>\n",
       "      <th>PE_ZS_150</th>\n",
       "      <th>PE_ZS_252</th>\n",
       "    </tr>\n",
       "    <tr>\n",
       "      <th>Datetime</th>\n",
       "      <th></th>\n",
       "      <th></th>\n",
       "      <th></th>\n",
       "      <th></th>\n",
       "      <th></th>\n",
       "      <th></th>\n",
       "      <th></th>\n",
       "      <th></th>\n",
       "      <th></th>\n",
       "      <th></th>\n",
       "      <th></th>\n",
       "      <th></th>\n",
       "    </tr>\n",
       "  </thead>\n",
       "  <tbody>\n",
       "    <tr>\n",
       "      <th>2000-01-03</th>\n",
       "      <td>25.91</td>\n",
       "      <td>1592.20</td>\n",
       "      <td>NaN</td>\n",
       "      <td>NaN</td>\n",
       "      <td>NaN</td>\n",
       "      <td>NaN</td>\n",
       "      <td>NaN</td>\n",
       "      <td>NaN</td>\n",
       "      <td>NaN</td>\n",
       "      <td>NaN</td>\n",
       "      <td>NaN</td>\n",
       "      <td>NaN</td>\n",
       "    </tr>\n",
       "    <tr>\n",
       "      <th>2000-01-04</th>\n",
       "      <td>26.67</td>\n",
       "      <td>1638.70</td>\n",
       "      <td>NaN</td>\n",
       "      <td>NaN</td>\n",
       "      <td>NaN</td>\n",
       "      <td>NaN</td>\n",
       "      <td>NaN</td>\n",
       "      <td>NaN</td>\n",
       "      <td>NaN</td>\n",
       "      <td>NaN</td>\n",
       "      <td>NaN</td>\n",
       "      <td>NaN</td>\n",
       "    </tr>\n",
       "    <tr>\n",
       "      <th>2000-01-05</th>\n",
       "      <td>25.97</td>\n",
       "      <td>1595.80</td>\n",
       "      <td>NaN</td>\n",
       "      <td>NaN</td>\n",
       "      <td>NaN</td>\n",
       "      <td>NaN</td>\n",
       "      <td>NaN</td>\n",
       "      <td>NaN</td>\n",
       "      <td>NaN</td>\n",
       "      <td>NaN</td>\n",
       "      <td>NaN</td>\n",
       "      <td>NaN</td>\n",
       "    </tr>\n",
       "    <tr>\n",
       "      <th>2000-01-06</th>\n",
       "      <td>26.32</td>\n",
       "      <td>1617.60</td>\n",
       "      <td>NaN</td>\n",
       "      <td>NaN</td>\n",
       "      <td>NaN</td>\n",
       "      <td>NaN</td>\n",
       "      <td>NaN</td>\n",
       "      <td>NaN</td>\n",
       "      <td>NaN</td>\n",
       "      <td>NaN</td>\n",
       "      <td>NaN</td>\n",
       "      <td>NaN</td>\n",
       "    </tr>\n",
       "    <tr>\n",
       "      <th>2000-01-07</th>\n",
       "      <td>26.25</td>\n",
       "      <td>1613.30</td>\n",
       "      <td>-0.085267</td>\n",
       "      <td>NaN</td>\n",
       "      <td>NaN</td>\n",
       "      <td>NaN</td>\n",
       "      <td>NaN</td>\n",
       "      <td>NaN</td>\n",
       "      <td>NaN</td>\n",
       "      <td>NaN</td>\n",
       "      <td>NaN</td>\n",
       "      <td>NaN</td>\n",
       "    </tr>\n",
       "    <tr>\n",
       "      <th>...</th>\n",
       "      <td>...</td>\n",
       "      <td>...</td>\n",
       "      <td>...</td>\n",
       "      <td>...</td>\n",
       "      <td>...</td>\n",
       "      <td>...</td>\n",
       "      <td>...</td>\n",
       "      <td>...</td>\n",
       "      <td>...</td>\n",
       "      <td>...</td>\n",
       "      <td>...</td>\n",
       "      <td>...</td>\n",
       "    </tr>\n",
       "    <tr>\n",
       "      <th>2022-05-30</th>\n",
       "      <td>20.65</td>\n",
       "      <td>16661.40</td>\n",
       "      <td>-1.517123</td>\n",
       "      <td>-2.046170</td>\n",
       "      <td>-2.093602</td>\n",
       "      <td>0.293315</td>\n",
       "      <td>0.736627</td>\n",
       "      <td>0.792037</td>\n",
       "      <td>1.058529</td>\n",
       "      <td>1.103719</td>\n",
       "      <td>1.347050</td>\n",
       "      <td>1.573044</td>\n",
       "    </tr>\n",
       "    <tr>\n",
       "      <th>2022-05-31</th>\n",
       "      <td>20.44</td>\n",
       "      <td>16584.55</td>\n",
       "      <td>-0.641373</td>\n",
       "      <td>-1.159665</td>\n",
       "      <td>-1.378672</td>\n",
       "      <td>0.442569</td>\n",
       "      <td>0.863529</td>\n",
       "      <td>0.953091</td>\n",
       "      <td>1.209308</td>\n",
       "      <td>1.216992</td>\n",
       "      <td>1.454084</td>\n",
       "      <td>1.636959</td>\n",
       "    </tr>\n",
       "    <tr>\n",
       "      <th>2022-06-01</th>\n",
       "      <td>20.45</td>\n",
       "      <td>16522.75</td>\n",
       "      <td>-0.387198</td>\n",
       "      <td>-1.012242</td>\n",
       "      <td>-1.335315</td>\n",
       "      <td>0.387542</td>\n",
       "      <td>0.823398</td>\n",
       "      <td>0.927397</td>\n",
       "      <td>1.190111</td>\n",
       "      <td>1.189325</td>\n",
       "      <td>1.441615</td>\n",
       "      <td>1.620758</td>\n",
       "    </tr>\n",
       "    <tr>\n",
       "      <th>2022-06-02</th>\n",
       "      <td>20.58</td>\n",
       "      <td>16628.00</td>\n",
       "      <td>-0.697747</td>\n",
       "      <td>-1.186187</td>\n",
       "      <td>-1.476267</td>\n",
       "      <td>0.206324</td>\n",
       "      <td>0.695904</td>\n",
       "      <td>0.809819</td>\n",
       "      <td>1.073973</td>\n",
       "      <td>1.085963</td>\n",
       "      <td>1.361872</td>\n",
       "      <td>1.560358</td>\n",
       "    </tr>\n",
       "    <tr>\n",
       "      <th>2022-06-03</th>\n",
       "      <td>20.52</td>\n",
       "      <td>16584.30</td>\n",
       "      <td>0.090178</td>\n",
       "      <td>-0.830183</td>\n",
       "      <td>-1.128712</td>\n",
       "      <td>0.209214</td>\n",
       "      <td>0.710566</td>\n",
       "      <td>0.864083</td>\n",
       "      <td>1.107096</td>\n",
       "      <td>1.106271</td>\n",
       "      <td>1.388135</td>\n",
       "      <td>1.570057</td>\n",
       "    </tr>\n",
       "  </tbody>\n",
       "</table>\n",
       "<p>5578 rows × 12 columns</p>\n",
       "</div>"
      ],
      "text/plain": [
       "              P/E     Close   PE_ZS_5  PE_ZS_10  PE_ZS_15  PE_ZS_30  PE_ZS_45  \\\n",
       "Datetime                                                                        \n",
       "2000-01-03  25.91   1592.20       NaN       NaN       NaN       NaN       NaN   \n",
       "2000-01-04  26.67   1638.70       NaN       NaN       NaN       NaN       NaN   \n",
       "2000-01-05  25.97   1595.80       NaN       NaN       NaN       NaN       NaN   \n",
       "2000-01-06  26.32   1617.60       NaN       NaN       NaN       NaN       NaN   \n",
       "2000-01-07  26.25   1613.30 -0.085267       NaN       NaN       NaN       NaN   \n",
       "...           ...       ...       ...       ...       ...       ...       ...   \n",
       "2022-05-30  20.65  16661.40 -1.517123 -2.046170 -2.093602  0.293315  0.736627   \n",
       "2022-05-31  20.44  16584.55 -0.641373 -1.159665 -1.378672  0.442569  0.863529   \n",
       "2022-06-01  20.45  16522.75 -0.387198 -1.012242 -1.335315  0.387542  0.823398   \n",
       "2022-06-02  20.58  16628.00 -0.697747 -1.186187 -1.476267  0.206324  0.695904   \n",
       "2022-06-03  20.52  16584.30  0.090178 -0.830183 -1.128712  0.209214  0.710566   \n",
       "\n",
       "            PE_ZS_60  PE_ZS_90  PE_ZS_100  PE_ZS_150  PE_ZS_252  \n",
       "Datetime                                                         \n",
       "2000-01-03       NaN       NaN        NaN        NaN        NaN  \n",
       "2000-01-04       NaN       NaN        NaN        NaN        NaN  \n",
       "2000-01-05       NaN       NaN        NaN        NaN        NaN  \n",
       "2000-01-06       NaN       NaN        NaN        NaN        NaN  \n",
       "2000-01-07       NaN       NaN        NaN        NaN        NaN  \n",
       "...              ...       ...        ...        ...        ...  \n",
       "2022-05-30  0.792037  1.058529   1.103719   1.347050   1.573044  \n",
       "2022-05-31  0.953091  1.209308   1.216992   1.454084   1.636959  \n",
       "2022-06-01  0.927397  1.190111   1.189325   1.441615   1.620758  \n",
       "2022-06-02  0.809819  1.073973   1.085963   1.361872   1.560358  \n",
       "2022-06-03  0.864083  1.107096   1.106271   1.388135   1.570057  \n",
       "\n",
       "[5578 rows x 12 columns]"
      ]
     },
     "execution_count": 266,
     "metadata": {},
     "output_type": "execute_result"
    }
   ],
   "source": [
    "ze_score"
   ]
  },
  {
   "cell_type": "code",
   "execution_count": 233,
   "metadata": {},
   "outputs": [],
   "source": [
    "with open(f'NIFc1_non_absolute_percentage_of_poc_vah_val_polv_and_ohlc_avg_across_various_lookbacks_for_all_days.pkl','rb') as file:\n",
    "    vol_feats = pickle.load(file)/100"
   ]
  },
  {
   "cell_type": "code",
   "execution_count": 272,
   "metadata": {},
   "outputs": [
    {
     "data": {
      "text/plain": [
       "DatetimeIndex(['2007-01-16', '2007-01-17', '2007-01-18', '2007-01-19',\n",
       "               '2007-01-22', '2007-01-23', '2007-01-24', '2007-01-25',\n",
       "               '2007-01-29', '2007-01-31',\n",
       "               ...\n",
       "               '2022-05-06', '2022-05-09', '2022-05-10', '2022-05-11',\n",
       "               '2022-05-12', '2022-05-13', '2022-05-16', '2022-05-17',\n",
       "               '2022-05-18', '2022-05-19'],\n",
       "              dtype='datetime64[ns]', length=3783, freq=None)"
      ]
     },
     "execution_count": 272,
     "metadata": {},
     "output_type": "execute_result"
    }
   ],
   "source": [
    "vol_feats.index"
   ]
  },
  {
   "cell_type": "code",
   "execution_count": 283,
   "metadata": {},
   "outputs": [
    {
     "data": {
      "text/plain": [
       "DatetimeIndex(['2000-01-03', '2000-01-04', '2000-01-05', '2000-01-06',\n",
       "               '2000-01-07', '2000-01-10', '2000-01-11', '2000-01-12',\n",
       "               '2000-01-13', '2000-01-14',\n",
       "               ...\n",
       "               '2022-05-23', '2022-05-24', '2022-05-25', '2022-05-26',\n",
       "               '2022-05-27', '2022-05-30', '2022-05-31', '2022-06-01',\n",
       "               '2022-06-02', '2022-06-03'],\n",
       "              dtype='datetime64[ns]', name='Datetime', length=5578, freq=None)"
      ]
     },
     "execution_count": 283,
     "metadata": {},
     "output_type": "execute_result"
    }
   ],
   "source": [
    "ze_score.index"
   ]
  },
  {
   "cell_type": "code",
   "execution_count": 286,
   "metadata": {},
   "outputs": [
    {
     "data": {
      "text/html": [
       "<div>\n",
       "<style scoped>\n",
       "    .dataframe tbody tr th:only-of-type {\n",
       "        vertical-align: middle;\n",
       "    }\n",
       "\n",
       "    .dataframe tbody tr th {\n",
       "        vertical-align: top;\n",
       "    }\n",
       "\n",
       "    .dataframe thead th {\n",
       "        text-align: right;\n",
       "    }\n",
       "</style>\n",
       "<table border=\"1\" class=\"dataframe\">\n",
       "  <thead>\n",
       "    <tr style=\"text-align: right;\">\n",
       "      <th></th>\n",
       "      <th>10_day_lookback_poc</th>\n",
       "      <th>10_day_lookback_vah</th>\n",
       "      <th>10_day_lookback_val</th>\n",
       "      <th>10_day_lookback_polv</th>\n",
       "      <th>21_day_lookback_poc</th>\n",
       "      <th>21_day_lookback_vah</th>\n",
       "      <th>21_day_lookback_val</th>\n",
       "      <th>21_day_lookback_polv</th>\n",
       "      <th>63_day_lookback_poc</th>\n",
       "      <th>63_day_lookback_vah</th>\n",
       "      <th>...</th>\n",
       "      <th>PE_ZS_5</th>\n",
       "      <th>PE_ZS_10</th>\n",
       "      <th>PE_ZS_15</th>\n",
       "      <th>PE_ZS_30</th>\n",
       "      <th>PE_ZS_45</th>\n",
       "      <th>PE_ZS_60</th>\n",
       "      <th>PE_ZS_90</th>\n",
       "      <th>PE_ZS_100</th>\n",
       "      <th>PE_ZS_150</th>\n",
       "      <th>PE_ZS_252</th>\n",
       "    </tr>\n",
       "  </thead>\n",
       "  <tbody>\n",
       "    <tr>\n",
       "      <th>2007-01-16</th>\n",
       "      <td>0.021760</td>\n",
       "      <td>0.013850</td>\n",
       "      <td>0.054116</td>\n",
       "      <td>0.014569</td>\n",
       "      <td>0.021760</td>\n",
       "      <td>0.013850</td>\n",
       "      <td>0.054116</td>\n",
       "      <td>0.014569</td>\n",
       "      <td>0.021760</td>\n",
       "      <td>0.013850</td>\n",
       "      <td>...</td>\n",
       "      <td>-0.654084</td>\n",
       "      <td>-0.982631</td>\n",
       "      <td>-1.216890</td>\n",
       "      <td>-1.254935</td>\n",
       "      <td>-1.521720</td>\n",
       "      <td>-1.706558</td>\n",
       "      <td>-1.655520</td>\n",
       "      <td>-1.535965</td>\n",
       "      <td>-1.305994</td>\n",
       "      <td>-1.474614</td>\n",
       "    </tr>\n",
       "    <tr>\n",
       "      <th>2007-01-17</th>\n",
       "      <td>0.020469</td>\n",
       "      <td>0.012548</td>\n",
       "      <td>0.055748</td>\n",
       "      <td>0.013268</td>\n",
       "      <td>0.020469</td>\n",
       "      <td>0.012548</td>\n",
       "      <td>0.055748</td>\n",
       "      <td>0.013268</td>\n",
       "      <td>0.020469</td>\n",
       "      <td>0.012548</td>\n",
       "      <td>...</td>\n",
       "      <td>-0.173972</td>\n",
       "      <td>-0.755452</td>\n",
       "      <td>-0.836839</td>\n",
       "      <td>-1.064347</td>\n",
       "      <td>-1.266895</td>\n",
       "      <td>-1.472484</td>\n",
       "      <td>-1.479818</td>\n",
       "      <td>-1.411407</td>\n",
       "      <td>-1.248304</td>\n",
       "      <td>-1.412796</td>\n",
       "    </tr>\n",
       "    <tr>\n",
       "      <th>2007-01-18</th>\n",
       "      <td>0.005017</td>\n",
       "      <td>-0.007479</td>\n",
       "      <td>0.045834</td>\n",
       "      <td>0.015013</td>\n",
       "      <td>0.005017</td>\n",
       "      <td>-0.007479</td>\n",
       "      <td>0.045834</td>\n",
       "      <td>0.015013</td>\n",
       "      <td>0.005017</td>\n",
       "      <td>-0.007479</td>\n",
       "      <td>...</td>\n",
       "      <td>-0.801784</td>\n",
       "      <td>-0.999500</td>\n",
       "      <td>-1.166020</td>\n",
       "      <td>-1.335767</td>\n",
       "      <td>-1.540221</td>\n",
       "      <td>-1.728303</td>\n",
       "      <td>-1.722130</td>\n",
       "      <td>-1.633214</td>\n",
       "      <td>-1.340709</td>\n",
       "      <td>-1.494997</td>\n",
       "    </tr>\n",
       "    <tr>\n",
       "      <th>2007-01-19</th>\n",
       "      <td>0.005526</td>\n",
       "      <td>-0.006964</td>\n",
       "      <td>0.046322</td>\n",
       "      <td>0.015517</td>\n",
       "      <td>0.005526</td>\n",
       "      <td>-0.006964</td>\n",
       "      <td>0.046322</td>\n",
       "      <td>0.015517</td>\n",
       "      <td>0.005526</td>\n",
       "      <td>-0.006964</td>\n",
       "      <td>...</td>\n",
       "      <td>1.539795</td>\n",
       "      <td>-0.188268</td>\n",
       "      <td>-0.175660</td>\n",
       "      <td>-0.711212</td>\n",
       "      <td>-0.777587</td>\n",
       "      <td>-1.029355</td>\n",
       "      <td>-1.142980</td>\n",
       "      <td>-1.141396</td>\n",
       "      <td>-1.120126</td>\n",
       "      <td>-1.291429</td>\n",
       "    </tr>\n",
       "    <tr>\n",
       "      <th>2007-01-22</th>\n",
       "      <td>0.004413</td>\n",
       "      <td>-0.011424</td>\n",
       "      <td>0.045256</td>\n",
       "      <td>-0.010590</td>\n",
       "      <td>0.004413</td>\n",
       "      <td>-0.011424</td>\n",
       "      <td>0.045256</td>\n",
       "      <td>-0.010590</td>\n",
       "      <td>0.004413</td>\n",
       "      <td>-0.011424</td>\n",
       "      <td>...</td>\n",
       "      <td>1.051499</td>\n",
       "      <td>-0.078730</td>\n",
       "      <td>-0.112072</td>\n",
       "      <td>-0.703807</td>\n",
       "      <td>-0.721100</td>\n",
       "      <td>-0.978384</td>\n",
       "      <td>-1.122897</td>\n",
       "      <td>-1.116693</td>\n",
       "      <td>-1.107648</td>\n",
       "      <td>-1.276015</td>\n",
       "    </tr>\n",
       "    <tr>\n",
       "      <th>...</th>\n",
       "      <td>...</td>\n",
       "      <td>...</td>\n",
       "      <td>...</td>\n",
       "      <td>...</td>\n",
       "      <td>...</td>\n",
       "      <td>...</td>\n",
       "      <td>...</td>\n",
       "      <td>...</td>\n",
       "      <td>...</td>\n",
       "      <td>...</td>\n",
       "      <td>...</td>\n",
       "      <td>...</td>\n",
       "      <td>...</td>\n",
       "      <td>...</td>\n",
       "      <td>...</td>\n",
       "      <td>...</td>\n",
       "      <td>...</td>\n",
       "      <td>...</td>\n",
       "      <td>...</td>\n",
       "      <td>...</td>\n",
       "      <td>...</td>\n",
       "    </tr>\n",
       "    <tr>\n",
       "      <th>2022-05-13</th>\n",
       "      <td>-0.031347</td>\n",
       "      <td>-0.064497</td>\n",
       "      <td>0.008218</td>\n",
       "      <td>-0.037763</td>\n",
       "      <td>-0.082513</td>\n",
       "      <td>-0.118855</td>\n",
       "      <td>-0.032714</td>\n",
       "      <td>-0.042135</td>\n",
       "      <td>-0.087069</td>\n",
       "      <td>-0.104703</td>\n",
       "      <td>...</td>\n",
       "      <td>1.050062</td>\n",
       "      <td>1.339627</td>\n",
       "      <td>1.643956</td>\n",
       "      <td>2.083890</td>\n",
       "      <td>2.277847</td>\n",
       "      <td>2.345290</td>\n",
       "      <td>2.064534</td>\n",
       "      <td>2.196820</td>\n",
       "      <td>1.972518</td>\n",
       "      <td>2.057897</td>\n",
       "    </tr>\n",
       "    <tr>\n",
       "      <th>2022-05-16</th>\n",
       "      <td>-0.033974</td>\n",
       "      <td>-0.058632</td>\n",
       "      <td>0.005692</td>\n",
       "      <td>-0.040407</td>\n",
       "      <td>-0.084789</td>\n",
       "      <td>-0.113973</td>\n",
       "      <td>-0.027691</td>\n",
       "      <td>-0.044187</td>\n",
       "      <td>-0.089838</td>\n",
       "      <td>-0.107517</td>\n",
       "      <td>...</td>\n",
       "      <td>0.989256</td>\n",
       "      <td>1.256316</td>\n",
       "      <td>1.515400</td>\n",
       "      <td>1.955271</td>\n",
       "      <td>2.283409</td>\n",
       "      <td>2.314315</td>\n",
       "      <td>2.070685</td>\n",
       "      <td>2.198818</td>\n",
       "      <td>1.998841</td>\n",
       "      <td>2.079554</td>\n",
       "    </tr>\n",
       "    <tr>\n",
       "      <th>2022-05-17</th>\n",
       "      <td>-0.018414</td>\n",
       "      <td>-0.021088</td>\n",
       "      <td>0.021695</td>\n",
       "      <td>-0.000588</td>\n",
       "      <td>-0.069637</td>\n",
       "      <td>-0.098413</td>\n",
       "      <td>-0.013336</td>\n",
       "      <td>-0.029601</td>\n",
       "      <td>-0.074615</td>\n",
       "      <td>-0.092046</td>\n",
       "      <td>...</td>\n",
       "      <td>-0.607917</td>\n",
       "      <td>0.563792</td>\n",
       "      <td>0.943876</td>\n",
       "      <td>1.490894</td>\n",
       "      <td>1.808807</td>\n",
       "      <td>1.797817</td>\n",
       "      <td>1.736609</td>\n",
       "      <td>1.849835</td>\n",
       "      <td>1.770249</td>\n",
       "      <td>1.914685</td>\n",
       "    </tr>\n",
       "    <tr>\n",
       "      <th>2022-05-18</th>\n",
       "      <td>0.000378</td>\n",
       "      <td>-0.009314</td>\n",
       "      <td>0.029452</td>\n",
       "      <td>0.010951</td>\n",
       "      <td>-0.051552</td>\n",
       "      <td>-0.071882</td>\n",
       "      <td>0.000877</td>\n",
       "      <td>-0.070812</td>\n",
       "      <td>-0.062223</td>\n",
       "      <td>-0.073188</td>\n",
       "      <td>...</td>\n",
       "      <td>-0.949549</td>\n",
       "      <td>0.468809</td>\n",
       "      <td>0.859163</td>\n",
       "      <td>1.406046</td>\n",
       "      <td>1.752814</td>\n",
       "      <td>1.746473</td>\n",
       "      <td>1.715935</td>\n",
       "      <td>1.819091</td>\n",
       "      <td>1.763427</td>\n",
       "      <td>1.908311</td>\n",
       "    </tr>\n",
       "    <tr>\n",
       "      <th>2022-05-19</th>\n",
       "      <td>-0.024144</td>\n",
       "      <td>-0.036173</td>\n",
       "      <td>0.002320</td>\n",
       "      <td>-0.014520</td>\n",
       "      <td>-0.077912</td>\n",
       "      <td>-0.098752</td>\n",
       "      <td>-0.019781</td>\n",
       "      <td>-0.097655</td>\n",
       "      <td>-0.088850</td>\n",
       "      <td>-0.100090</td>\n",
       "      <td>...</td>\n",
       "      <td>1.340746</td>\n",
       "      <td>1.439898</td>\n",
       "      <td>1.329372</td>\n",
       "      <td>1.734376</td>\n",
       "      <td>2.145756</td>\n",
       "      <td>2.196539</td>\n",
       "      <td>2.068888</td>\n",
       "      <td>2.155569</td>\n",
       "      <td>2.031170</td>\n",
       "      <td>2.100750</td>\n",
       "    </tr>\n",
       "  </tbody>\n",
       "</table>\n",
       "<p>3783 rows × 56 columns</p>\n",
       "</div>"
      ],
      "text/plain": [
       "            10_day_lookback_poc  10_day_lookback_vah  10_day_lookback_val  \\\n",
       "2007-01-16             0.021760             0.013850             0.054116   \n",
       "2007-01-17             0.020469             0.012548             0.055748   \n",
       "2007-01-18             0.005017            -0.007479             0.045834   \n",
       "2007-01-19             0.005526            -0.006964             0.046322   \n",
       "2007-01-22             0.004413            -0.011424             0.045256   \n",
       "...                         ...                  ...                  ...   \n",
       "2022-05-13            -0.031347            -0.064497             0.008218   \n",
       "2022-05-16            -0.033974            -0.058632             0.005692   \n",
       "2022-05-17            -0.018414            -0.021088             0.021695   \n",
       "2022-05-18             0.000378            -0.009314             0.029452   \n",
       "2022-05-19            -0.024144            -0.036173             0.002320   \n",
       "\n",
       "            10_day_lookback_polv  21_day_lookback_poc  21_day_lookback_vah  \\\n",
       "2007-01-16              0.014569             0.021760             0.013850   \n",
       "2007-01-17              0.013268             0.020469             0.012548   \n",
       "2007-01-18              0.015013             0.005017            -0.007479   \n",
       "2007-01-19              0.015517             0.005526            -0.006964   \n",
       "2007-01-22             -0.010590             0.004413            -0.011424   \n",
       "...                          ...                  ...                  ...   \n",
       "2022-05-13             -0.037763            -0.082513            -0.118855   \n",
       "2022-05-16             -0.040407            -0.084789            -0.113973   \n",
       "2022-05-17             -0.000588            -0.069637            -0.098413   \n",
       "2022-05-18              0.010951            -0.051552            -0.071882   \n",
       "2022-05-19             -0.014520            -0.077912            -0.098752   \n",
       "\n",
       "            21_day_lookback_val  21_day_lookback_polv  63_day_lookback_poc  \\\n",
       "2007-01-16             0.054116              0.014569             0.021760   \n",
       "2007-01-17             0.055748              0.013268             0.020469   \n",
       "2007-01-18             0.045834              0.015013             0.005017   \n",
       "2007-01-19             0.046322              0.015517             0.005526   \n",
       "2007-01-22             0.045256             -0.010590             0.004413   \n",
       "...                         ...                   ...                  ...   \n",
       "2022-05-13            -0.032714             -0.042135            -0.087069   \n",
       "2022-05-16            -0.027691             -0.044187            -0.089838   \n",
       "2022-05-17            -0.013336             -0.029601            -0.074615   \n",
       "2022-05-18             0.000877             -0.070812            -0.062223   \n",
       "2022-05-19            -0.019781             -0.097655            -0.088850   \n",
       "\n",
       "            63_day_lookback_vah  ...   PE_ZS_5  PE_ZS_10  PE_ZS_15  PE_ZS_30  \\\n",
       "2007-01-16             0.013850  ... -0.654084 -0.982631 -1.216890 -1.254935   \n",
       "2007-01-17             0.012548  ... -0.173972 -0.755452 -0.836839 -1.064347   \n",
       "2007-01-18            -0.007479  ... -0.801784 -0.999500 -1.166020 -1.335767   \n",
       "2007-01-19            -0.006964  ...  1.539795 -0.188268 -0.175660 -0.711212   \n",
       "2007-01-22            -0.011424  ...  1.051499 -0.078730 -0.112072 -0.703807   \n",
       "...                         ...  ...       ...       ...       ...       ...   \n",
       "2022-05-13            -0.104703  ...  1.050062  1.339627  1.643956  2.083890   \n",
       "2022-05-16            -0.107517  ...  0.989256  1.256316  1.515400  1.955271   \n",
       "2022-05-17            -0.092046  ... -0.607917  0.563792  0.943876  1.490894   \n",
       "2022-05-18            -0.073188  ... -0.949549  0.468809  0.859163  1.406046   \n",
       "2022-05-19            -0.100090  ...  1.340746  1.439898  1.329372  1.734376   \n",
       "\n",
       "            PE_ZS_45  PE_ZS_60  PE_ZS_90  PE_ZS_100  PE_ZS_150  PE_ZS_252  \n",
       "2007-01-16 -1.521720 -1.706558 -1.655520  -1.535965  -1.305994  -1.474614  \n",
       "2007-01-17 -1.266895 -1.472484 -1.479818  -1.411407  -1.248304  -1.412796  \n",
       "2007-01-18 -1.540221 -1.728303 -1.722130  -1.633214  -1.340709  -1.494997  \n",
       "2007-01-19 -0.777587 -1.029355 -1.142980  -1.141396  -1.120126  -1.291429  \n",
       "2007-01-22 -0.721100 -0.978384 -1.122897  -1.116693  -1.107648  -1.276015  \n",
       "...              ...       ...       ...        ...        ...        ...  \n",
       "2022-05-13  2.277847  2.345290  2.064534   2.196820   1.972518   2.057897  \n",
       "2022-05-16  2.283409  2.314315  2.070685   2.198818   1.998841   2.079554  \n",
       "2022-05-17  1.808807  1.797817  1.736609   1.849835   1.770249   1.914685  \n",
       "2022-05-18  1.752814  1.746473  1.715935   1.819091   1.763427   1.908311  \n",
       "2022-05-19  2.145756  2.196539  2.068888   2.155569   2.031170   2.100750  \n",
       "\n",
       "[3783 rows x 56 columns]"
      ]
     },
     "execution_count": 286,
     "metadata": {},
     "output_type": "execute_result"
    }
   ],
   "source": [
    "pd.concat([vol_feats,ze_score],axis=1).dropna()"
   ]
  },
  {
   "cell_type": "code",
   "execution_count": 290,
   "metadata": {},
   "outputs": [
    {
     "data": {
      "text/plain": [
       "<AxesSubplot:xlabel='Datetime'>"
      ]
     },
     "execution_count": 290,
     "metadata": {},
     "output_type": "execute_result"
    },
    {
     "data": {
      "image/png": "[encoded data removed]",
      "text/plain": [
       "<Figure size 1080x360 with 1 Axes>"
      ]
     },
     "metadata": {},
     "output_type": "display_data"
    }
   ],
   "source": [
    "ze_score[\"PE_ZS_252\"].plot()"
   ]
  },
  {
   "cell_type": "code",
   "execution_count": 296,
   "metadata": {},
   "outputs": [
    {
     "data": {
      "text/plain": [
       "array([0.97433137, 0.16560478, 0.53590644, 0.55041851, 0.79899061,\n",
       "       0.79921749, 0.72441476, 0.19975998, 0.14530761, 0.67977844,\n",
       "       0.72701522, 0.94791178, 0.86944241, 0.94431538, 0.19056481,\n",
       "       0.73026349, 0.43956858, 0.90383218, 0.99244754, 0.3591109 ,\n",
       "       0.60025244, 0.35675993, 0.70599114, 0.46113836, 0.42468477,\n",
       "       0.85557998, 0.06172049, 0.42502835, 0.57667495, 0.04846053,\n",
       "       0.91501133, 0.95122669, 0.70042694, 0.98206682, 0.97414671,\n",
       "       0.73071586, 0.60470694, 0.29383331, 0.26395941, 0.62052797,\n",
       "       0.79172073, 0.28722362, 0.18767968, 0.98140458, 0.42523835,\n",
       "       0.56566834, 0.18795372, 0.55947862, 0.00268031, 0.42486879])"
      ]
     },
     "execution_count": 296,
     "metadata": {},
     "output_type": "execute_result"
    }
   ],
   "source": [
    "np.random.uniform(0,1,50)"
   ]
  },
  {
   "cell_type": "code",
   "execution_count": 298,
   "metadata": {},
   "outputs": [],
   "source": [
    "\n",
    "with open(f'C:\\\\Users\\\\pratiksaxena\\\\Downloads\\\\increasing_pivots_NIFc1_piv_type.pkl','rb') as file:\n",
    "    incr_pivots = pickle.load(file)"
   ]
  },
  {
   "cell_type": "code",
   "execution_count": 303,
   "metadata": {},
   "outputs": [
    {
     "data": {
      "text/html": [
       "<div>\n",
       "<style scoped>\n",
       "    .dataframe tbody tr th:only-of-type {\n",
       "        vertical-align: middle;\n",
       "    }\n",
       "\n",
       "    .dataframe tbody tr th {\n",
       "        vertical-align: top;\n",
       "    }\n",
       "\n",
       "    .dataframe thead th {\n",
       "        text-align: right;\n",
       "    }\n",
       "</style>\n",
       "<table border=\"1\" class=\"dataframe\">\n",
       "  <thead>\n",
       "    <tr style=\"text-align: right;\">\n",
       "      <th></th>\n",
       "      <th>incr_pivs</th>\n",
       "      <th>pivot_type</th>\n",
       "    </tr>\n",
       "    <tr>\n",
       "      <th>Datetime</th>\n",
       "      <th></th>\n",
       "      <th></th>\n",
       "    </tr>\n",
       "  </thead>\n",
       "  <tbody>\n",
       "    <tr>\n",
       "      <th>2007-01-02</th>\n",
       "      <td>0.0</td>\n",
       "      <td>0</td>\n",
       "    </tr>\n",
       "    <tr>\n",
       "      <th>2007-01-03</th>\n",
       "      <td>0.0</td>\n",
       "      <td>0</td>\n",
       "    </tr>\n",
       "    <tr>\n",
       "      <th>2007-01-04</th>\n",
       "      <td>0.0</td>\n",
       "      <td>0</td>\n",
       "    </tr>\n",
       "    <tr>\n",
       "      <th>2007-01-05</th>\n",
       "      <td>0.0</td>\n",
       "      <td>0</td>\n",
       "    </tr>\n",
       "    <tr>\n",
       "      <th>2007-01-08</th>\n",
       "      <td>0.0</td>\n",
       "      <td>0</td>\n",
       "    </tr>\n",
       "    <tr>\n",
       "      <th>...</th>\n",
       "      <td>...</td>\n",
       "      <td>...</td>\n",
       "    </tr>\n",
       "    <tr>\n",
       "      <th>2022-06-03</th>\n",
       "      <td>0.0</td>\n",
       "      <td>0</td>\n",
       "    </tr>\n",
       "    <tr>\n",
       "      <th>2022-06-06</th>\n",
       "      <td>4.0</td>\n",
       "      <td>-1</td>\n",
       "    </tr>\n",
       "    <tr>\n",
       "      <th>2022-06-07</th>\n",
       "      <td>0.0</td>\n",
       "      <td>1</td>\n",
       "    </tr>\n",
       "    <tr>\n",
       "      <th>2022-06-08</th>\n",
       "      <td>0.0</td>\n",
       "      <td>0</td>\n",
       "    </tr>\n",
       "    <tr>\n",
       "      <th>2022-06-09</th>\n",
       "      <td>0.0</td>\n",
       "      <td>0</td>\n",
       "    </tr>\n",
       "  </tbody>\n",
       "</table>\n",
       "<p>3808 rows × 2 columns</p>\n",
       "</div>"
      ],
      "text/plain": [
       "            incr_pivs  pivot_type\n",
       "Datetime                         \n",
       "2007-01-02        0.0           0\n",
       "2007-01-03        0.0           0\n",
       "2007-01-04        0.0           0\n",
       "2007-01-05        0.0           0\n",
       "2007-01-08        0.0           0\n",
       "...               ...         ...\n",
       "2022-06-03        0.0           0\n",
       "2022-06-06        4.0          -1\n",
       "2022-06-07        0.0           1\n",
       "2022-06-08        0.0           0\n",
       "2022-06-09        0.0           0\n",
       "\n",
       "[3808 rows x 2 columns]"
      ]
     },
     "execution_count": 303,
     "metadata": {},
     "output_type": "execute_result"
    }
   ],
   "source": [
    "incr_pivots.fillna(0)"
   ]
  },
  {
   "cell_type": "code",
   "execution_count": 304,
   "metadata": {},
   "outputs": [],
   "source": [
    "with open(f'increasing_pivots_NIFc1_piv_type.pkl', 'wb') as file:\n",
    "    pickle.dump(incr_pivots.fillna(0),file)"
   ]
  },
  {
   "cell_type": "code",
   "execution_count": 306,
   "metadata": {},
   "outputs": [
    {
     "data": {
      "text/plain": [
       "DatetimeIndex(['2007-01-02', '2007-01-03', '2007-01-04', '2007-01-05',\n",
       "               '2007-01-08', '2007-01-09', '2007-01-10', '2007-01-11',\n",
       "               '2007-01-12', '2007-01-15',\n",
       "               ...\n",
       "               '2022-05-27', '2022-05-30', '2022-05-31', '2022-06-01',\n",
       "               '2022-06-02', '2022-06-03', '2022-06-06', '2022-06-07',\n",
       "               '2022-06-08', '2022-06-09'],\n",
       "              dtype='datetime64[ns]', name='Datetime', length=3808, freq=None)"
      ]
     },
     "execution_count": 306,
     "metadata": {},
     "output_type": "execute_result"
    }
   ],
   "source": [
    "incr_pivots.index"
   ]
  },
  {
   "cell_type": "code",
   "execution_count": 311,
   "metadata": {},
   "outputs": [
    {
     "name": "stdout",
     "output_type": "stream",
     "text": [
      "0\n"
     ]
    }
   ],
   "source": [
    "state_lookback=1\n",
    "for i in range(state_lookback):\n",
    "    print(i)"
   ]
  },
  {
   "cell_type": "code",
   "execution_count": 313,
   "metadata": {},
   "outputs": [],
   "source": [
    "df[\"shift\"] = df[\"col2\"].shift(1)"
   ]
  },
  {
   "cell_type": "code",
   "execution_count": 314,
   "metadata": {},
   "outputs": [
    {
     "data": {
      "text/html": [
       "<div>\n",
       "<style scoped>\n",
       "    .dataframe tbody tr th:only-of-type {\n",
       "        vertical-align: middle;\n",
       "    }\n",
       "\n",
       "    .dataframe tbody tr th {\n",
       "        vertical-align: top;\n",
       "    }\n",
       "\n",
       "    .dataframe thead th {\n",
       "        text-align: right;\n",
       "    }\n",
       "</style>\n",
       "<table border=\"1\" class=\"dataframe\">\n",
       "  <thead>\n",
       "    <tr style=\"text-align: right;\">\n",
       "      <th></th>\n",
       "      <th>col1</th>\n",
       "      <th>col2</th>\n",
       "      <th>shift</th>\n",
       "    </tr>\n",
       "  </thead>\n",
       "  <tbody>\n",
       "    <tr>\n",
       "      <th>0</th>\n",
       "      <td>1</td>\n",
       "      <td>7</td>\n",
       "      <td>NaN</td>\n",
       "    </tr>\n",
       "    <tr>\n",
       "      <th>1</th>\n",
       "      <td>2</td>\n",
       "      <td>8</td>\n",
       "      <td>7.0</td>\n",
       "    </tr>\n",
       "    <tr>\n",
       "      <th>2</th>\n",
       "      <td>3</td>\n",
       "      <td>9</td>\n",
       "      <td>8.0</td>\n",
       "    </tr>\n",
       "    <tr>\n",
       "      <th>3</th>\n",
       "      <td>4</td>\n",
       "      <td>10</td>\n",
       "      <td>9.0</td>\n",
       "    </tr>\n",
       "    <tr>\n",
       "      <th>4</th>\n",
       "      <td>5</td>\n",
       "      <td>12</td>\n",
       "      <td>10.0</td>\n",
       "    </tr>\n",
       "  </tbody>\n",
       "</table>\n",
       "</div>"
      ],
      "text/plain": [
       "   col1  col2  shift\n",
       "0     1     7    NaN\n",
       "1     2     8    7.0\n",
       "2     3     9    8.0\n",
       "3     4    10    9.0\n",
       "4     5    12   10.0"
      ]
     },
     "execution_count": 314,
     "metadata": {},
     "output_type": "execute_result"
    }
   ],
   "source": [
    "df"
   ]
  },
  {
   "cell_type": "code",
   "execution_count": 315,
   "metadata": {},
   "outputs": [],
   "source": [
    "import investpy"
   ]
  },
  {
   "cell_type": "code",
   "execution_count": 320,
   "metadata": {},
   "outputs": [],
   "source": [
    "symbol = \"RELI\"\n",
    "country = \"India\"\n",
    "\n",
    "find = investpy.search.search_quotes(text=symbol, products=[\"stocks\", \"etfs\", \"indices\", \"currencies\"])\n",
    "for f in find:\n",
    "    # print( f )\n",
    "    if f.symbol.lower() == symbol.lower() and f.country.lower() == country.lower():\n",
    "        break\n",
    "if f.symbol.lower() != symbol.lower():\n",
    "    ret =  None\n",
    "ret = f.retrieve_historical_data(from_date=\"01/01/2022\", to_date=\"01/06/2022\")\n",
    "if ret is None:\n",
    "    try:\n",
    "\n",
    "        ret = investpy.get_stock_historical_data(stock=symbol,\n",
    "                                                    country=country,\n",
    "                                                    from_date=\"01/01/2022\",\n",
    "                                                    to_date=\"01/06/2022\")\n",
    "\n",
    "    except:\n",
    "        ret = None"
   ]
  },
  {
   "cell_type": "code",
   "execution_count": 321,
   "metadata": {},
   "outputs": [
    {
     "data": {
      "text/html": [
       "<div>\n",
       "<style scoped>\n",
       "    .dataframe tbody tr th:only-of-type {\n",
       "        vertical-align: middle;\n",
       "    }\n",
       "\n",
       "    .dataframe tbody tr th {\n",
       "        vertical-align: top;\n",
       "    }\n",
       "\n",
       "    .dataframe thead th {\n",
       "        text-align: right;\n",
       "    }\n",
       "</style>\n",
       "<table border=\"1\" class=\"dataframe\">\n",
       "  <thead>\n",
       "    <tr style=\"text-align: right;\">\n",
       "      <th></th>\n",
       "      <th>Open</th>\n",
       "      <th>High</th>\n",
       "      <th>Low</th>\n",
       "      <th>Close</th>\n",
       "      <th>Volume</th>\n",
       "      <th>Change Pct</th>\n",
       "    </tr>\n",
       "    <tr>\n",
       "      <th>Date</th>\n",
       "      <th></th>\n",
       "      <th></th>\n",
       "      <th></th>\n",
       "      <th></th>\n",
       "      <th></th>\n",
       "      <th></th>\n",
       "    </tr>\n",
       "  </thead>\n",
       "  <tbody>\n",
       "    <tr>\n",
       "      <th>2022-01-03</th>\n",
       "      <td>2365.00</td>\n",
       "      <td>2407.95</td>\n",
       "      <td>2363.55</td>\n",
       "      <td>2403.85</td>\n",
       "      <td>2502073</td>\n",
       "      <td>1.51</td>\n",
       "    </tr>\n",
       "    <tr>\n",
       "      <th>2022-01-04</th>\n",
       "      <td>2415.90</td>\n",
       "      <td>2461.00</td>\n",
       "      <td>2404.00</td>\n",
       "      <td>2458.10</td>\n",
       "      <td>5006225</td>\n",
       "      <td>2.26</td>\n",
       "    </tr>\n",
       "    <tr>\n",
       "      <th>2022-01-05</th>\n",
       "      <td>2462.00</td>\n",
       "      <td>2477.00</td>\n",
       "      <td>2432.95</td>\n",
       "      <td>2469.60</td>\n",
       "      <td>5373618</td>\n",
       "      <td>0.47</td>\n",
       "    </tr>\n",
       "    <tr>\n",
       "      <th>2022-01-06</th>\n",
       "      <td>2451.20</td>\n",
       "      <td>2454.00</td>\n",
       "      <td>2409.00</td>\n",
       "      <td>2416.50</td>\n",
       "      <td>6667483</td>\n",
       "      <td>-2.15</td>\n",
       "    </tr>\n",
       "    <tr>\n",
       "      <th>2022-01-07</th>\n",
       "      <td>2430.95</td>\n",
       "      <td>2458.05</td>\n",
       "      <td>2411.55</td>\n",
       "      <td>2436.00</td>\n",
       "      <td>6051239</td>\n",
       "      <td>0.81</td>\n",
       "    </tr>\n",
       "    <tr>\n",
       "      <th>...</th>\n",
       "      <td>...</td>\n",
       "      <td>...</td>\n",
       "      <td>...</td>\n",
       "      <td>...</td>\n",
       "      <td>...</td>\n",
       "      <td>...</td>\n",
       "    </tr>\n",
       "    <tr>\n",
       "      <th>2022-05-26</th>\n",
       "      <td>2624.40</td>\n",
       "      <td>2634.90</td>\n",
       "      <td>2548.00</td>\n",
       "      <td>2587.10</td>\n",
       "      <td>8252551</td>\n",
       "      <td>-0.95</td>\n",
       "    </tr>\n",
       "    <tr>\n",
       "      <th>2022-05-27</th>\n",
       "      <td>2593.05</td>\n",
       "      <td>2605.15</td>\n",
       "      <td>2540.10</td>\n",
       "      <td>2575.10</td>\n",
       "      <td>7624888</td>\n",
       "      <td>-0.46</td>\n",
       "    </tr>\n",
       "    <tr>\n",
       "      <th>2022-05-30</th>\n",
       "      <td>2615.00</td>\n",
       "      <td>2674.00</td>\n",
       "      <td>2594.20</td>\n",
       "      <td>2664.80</td>\n",
       "      <td>6393341</td>\n",
       "      <td>3.48</td>\n",
       "    </tr>\n",
       "    <tr>\n",
       "      <th>2022-05-31</th>\n",
       "      <td>2641.40</td>\n",
       "      <td>2678.80</td>\n",
       "      <td>2615.70</td>\n",
       "      <td>2632.65</td>\n",
       "      <td>32591420</td>\n",
       "      <td>-1.21</td>\n",
       "    </tr>\n",
       "    <tr>\n",
       "      <th>2022-06-01</th>\n",
       "      <td>2634.30</td>\n",
       "      <td>2655.20</td>\n",
       "      <td>2616.20</td>\n",
       "      <td>2633.50</td>\n",
       "      <td>4512079</td>\n",
       "      <td>0.03</td>\n",
       "    </tr>\n",
       "  </tbody>\n",
       "</table>\n",
       "<p>102 rows × 6 columns</p>\n",
       "</div>"
      ],
      "text/plain": [
       "               Open     High      Low    Close    Volume  Change Pct\n",
       "Date                                                                \n",
       "2022-01-03  2365.00  2407.95  2363.55  2403.85   2502073        1.51\n",
       "2022-01-04  2415.90  2461.00  2404.00  2458.10   5006225        2.26\n",
       "2022-01-05  2462.00  2477.00  2432.95  2469.60   5373618        0.47\n",
       "2022-01-06  2451.20  2454.00  2409.00  2416.50   6667483       -2.15\n",
       "2022-01-07  2430.95  2458.05  2411.55  2436.00   6051239        0.81\n",
       "...             ...      ...      ...      ...       ...         ...\n",
       "2022-05-26  2624.40  2634.90  2548.00  2587.10   8252551       -0.95\n",
       "2022-05-27  2593.05  2605.15  2540.10  2575.10   7624888       -0.46\n",
       "2022-05-30  2615.00  2674.00  2594.20  2664.80   6393341        3.48\n",
       "2022-05-31  2641.40  2678.80  2615.70  2632.65  32591420       -1.21\n",
       "2022-06-01  2634.30  2655.20  2616.20  2633.50   4512079        0.03\n",
       "\n",
       "[102 rows x 6 columns]"
      ]
     },
     "execution_count": 321,
     "metadata": {},
     "output_type": "execute_result"
    }
   ],
   "source": [
    "ret"
   ]
  },
  {
   "cell_type": "code",
   "execution_count": 326,
   "metadata": {},
   "outputs": [
    {
     "data": {
      "text/plain": [
       "Timestamp('2022-01-06 00:00:00')"
      ]
     },
     "execution_count": 326,
     "metadata": {},
     "output_type": "execute_result"
    }
   ],
   "source": [
    "max(ret.index[1],ret.index[3])"
   ]
  },
  {
   "cell_type": "code",
   "execution_count": 329,
   "metadata": {},
   "outputs": [],
   "source": [
    "lol = [1,2,3,4,5]"
   ]
  },
  {
   "cell_type": "code",
   "execution_count": 330,
   "metadata": {},
   "outputs": [
    {
     "data": {
      "text/plain": [
       "0"
      ]
     },
     "execution_count": 330,
     "metadata": {},
     "output_type": "execute_result"
    }
   ],
   "source": [
    "lol.index(1)"
   ]
  },
  {
   "cell_type": "code",
   "execution_count": 331,
   "metadata": {},
   "outputs": [],
   "source": [
    "with open(\"C:\\\\Users\\\\pratiksaxena\\\\Downloads\\\\BJFS_OptPeriods_2_Selected_Strategies_ss_correct.pkl\",\"rb\") as file:\n",
    "    ss_list = pickle.load(file)"
   ]
  },
  {
   "cell_type": "code",
   "execution_count": 333,
   "metadata": {},
   "outputs": [
    {
     "data": {
      "text/plain": [
       "44"
      ]
     },
     "execution_count": 333,
     "metadata": {},
     "output_type": "execute_result"
    }
   ],
   "source": [
    "len(ss_list)"
   ]
  },
  {
   "cell_type": "code",
   "execution_count": 336,
   "metadata": {},
   "outputs": [
    {
     "data": {
      "text/html": [
       "<div>\n",
       "<style scoped>\n",
       "    .dataframe tbody tr th:only-of-type {\n",
       "        vertical-align: middle;\n",
       "    }\n",
       "\n",
       "    .dataframe tbody tr th {\n",
       "        vertical-align: top;\n",
       "    }\n",
       "\n",
       "    .dataframe thead th {\n",
       "        text-align: right;\n",
       "    }\n",
       "</style>\n",
       "<table border=\"1\" class=\"dataframe\">\n",
       "  <thead>\n",
       "    <tr style=\"text-align: right;\">\n",
       "      <th></th>\n",
       "      <th>Close</th>\n",
       "      <th>High</th>\n",
       "      <th>Low</th>\n",
       "      <th>Open</th>\n",
       "      <th>Volume</th>\n",
       "    </tr>\n",
       "    <tr>\n",
       "      <th>Datetime</th>\n",
       "      <th></th>\n",
       "      <th></th>\n",
       "      <th></th>\n",
       "      <th></th>\n",
       "      <th></th>\n",
       "    </tr>\n",
       "  </thead>\n",
       "  <tbody>\n",
       "    <tr>\n",
       "      <th>1980-03-17</th>\n",
       "      <td>3.314537</td>\n",
       "      <td>3.336344</td>\n",
       "      <td>3.270925</td>\n",
       "      <td>0.00</td>\n",
       "      <td>110634.0</td>\n",
       "    </tr>\n",
       "    <tr>\n",
       "      <th>1980-03-18</th>\n",
       "      <td>3.530000</td>\n",
       "      <td>3.530000</td>\n",
       "      <td>3.390000</td>\n",
       "      <td>3.53</td>\n",
       "      <td>252613.0</td>\n",
       "    </tr>\n",
       "    <tr>\n",
       "      <th>1980-03-19</th>\n",
       "      <td>3.590000</td>\n",
       "      <td>3.640000</td>\n",
       "      <td>3.500000</td>\n",
       "      <td>3.59</td>\n",
       "      <td>102711.0</td>\n",
       "    </tr>\n",
       "    <tr>\n",
       "      <th>1980-03-20</th>\n",
       "      <td>3.530000</td>\n",
       "      <td>3.620000</td>\n",
       "      <td>3.530000</td>\n",
       "      <td>3.53</td>\n",
       "      <td>230405.0</td>\n",
       "    </tr>\n",
       "    <tr>\n",
       "      <th>1980-03-21</th>\n",
       "      <td>3.500000</td>\n",
       "      <td>3.570000</td>\n",
       "      <td>3.480000</td>\n",
       "      <td>3.50</td>\n",
       "      <td>92162.0</td>\n",
       "    </tr>\n",
       "    <tr>\n",
       "      <th>...</th>\n",
       "      <td>...</td>\n",
       "      <td>...</td>\n",
       "      <td>...</td>\n",
       "      <td>...</td>\n",
       "      <td>...</td>\n",
       "    </tr>\n",
       "    <tr>\n",
       "      <th>2022-06-07</th>\n",
       "      <td>21.160000</td>\n",
       "      <td>21.180000</td>\n",
       "      <td>20.740000</td>\n",
       "      <td>20.90</td>\n",
       "      <td>2370550.0</td>\n",
       "    </tr>\n",
       "    <tr>\n",
       "      <th>2022-06-08</th>\n",
       "      <td>20.940000</td>\n",
       "      <td>21.205000</td>\n",
       "      <td>20.750000</td>\n",
       "      <td>21.05</td>\n",
       "      <td>2081975.0</td>\n",
       "    </tr>\n",
       "    <tr>\n",
       "      <th>2022-06-09</th>\n",
       "      <td>19.910000</td>\n",
       "      <td>20.940000</td>\n",
       "      <td>19.900000</td>\n",
       "      <td>20.94</td>\n",
       "      <td>1998729.0</td>\n",
       "    </tr>\n",
       "    <tr>\n",
       "      <th>2022-06-10</th>\n",
       "      <td>18.640000</td>\n",
       "      <td>19.700000</td>\n",
       "      <td>18.600000</td>\n",
       "      <td>19.50</td>\n",
       "      <td>2955161.0</td>\n",
       "    </tr>\n",
       "    <tr>\n",
       "      <th>2022-06-13</th>\n",
       "      <td>18.640000</td>\n",
       "      <td>19.700000</td>\n",
       "      <td>18.600000</td>\n",
       "      <td>19.50</td>\n",
       "      <td>2955161.0</td>\n",
       "    </tr>\n",
       "  </tbody>\n",
       "</table>\n",
       "<p>10657 rows × 5 columns</p>\n",
       "</div>"
      ],
      "text/plain": [
       "                Close       High        Low   Open     Volume\n",
       "Datetime                                                     \n",
       "1980-03-17   3.314537   3.336344   3.270925   0.00   110634.0\n",
       "1980-03-18   3.530000   3.530000   3.390000   3.53   252613.0\n",
       "1980-03-19   3.590000   3.640000   3.500000   3.59   102711.0\n",
       "1980-03-20   3.530000   3.620000   3.530000   3.53   230405.0\n",
       "1980-03-21   3.500000   3.570000   3.480000   3.50    92162.0\n",
       "...               ...        ...        ...    ...        ...\n",
       "2022-06-07  21.160000  21.180000  20.740000  20.90  2370550.0\n",
       "2022-06-08  20.940000  21.205000  20.750000  21.05  2081975.0\n",
       "2022-06-09  19.910000  20.940000  19.900000  20.94  1998729.0\n",
       "2022-06-10  18.640000  19.700000  18.600000  19.50  2955161.0\n",
       "2022-06-13  18.640000  19.700000  18.600000  19.50  2955161.0\n",
       "\n",
       "[10657 rows x 5 columns]"
      ]
     },
     "execution_count": 336,
     "metadata": {},
     "output_type": "execute_result"
    }
   ],
   "source": [
    "get_stock_data(\"HST.OQ\")"
   ]
  },
  {
   "cell_type": "code",
   "execution_count": 11,
   "metadata": {},
   "outputs": [],
   "source": [
    "directory_path = os.getcwd()\n",
    "best_returns = 0\n",
    "ticker = \"NIFc1\"\n",
    "for i in range(4):\n",
    "    with open(f'{directory_path}\\\\selected_models\\\\returns_model_{ticker}_{int(i)}.pkl', 'rb') as file:\n",
    "        best_returns_for_current_process = pickle.load(file)\n",
    "    if best_returns_for_current_process>best_returns:\n",
    "        best_model_path = f'{directory_path}\\\\selected_models\\\\model_{ticker}_{int(i)}'\n",
    "        best_returns = best_returns_for_current_process"
   ]
  },
  {
   "cell_type": "code",
   "execution_count": 12,
   "metadata": {},
   "outputs": [
    {
     "data": {
      "text/plain": [
       "2.7475746906107315"
      ]
     },
     "execution_count": 12,
     "metadata": {},
     "output_type": "execute_result"
    }
   ],
   "source": [
    "best_returns"
   ]
  },
  {
   "cell_type": "code",
   "execution_count": 355,
   "metadata": {},
   "outputs": [
    {
     "data": {
      "text/plain": [
       "'c:\\\\Users\\\\pratiksaxena\\\\Desktop\\\\Pratik\\\\AcsysAlgo_github\\\\RL\\\\SuprabhashKT\\\\RL\\\\V8-continuos_action_space_and_state_space\\\\selected_models\\\\model_NIFc1_2'"
      ]
     },
     "execution_count": 355,
     "metadata": {},
     "output_type": "execute_result"
    }
   ],
   "source": [
    "best_model_path"
   ]
  },
  {
   "cell_type": "code",
   "execution_count": 7,
   "metadata": {},
   "outputs": [],
   "source": [
    "import pandas as pd\n",
    "df = pd.DataFrame({\"col1\":[1,2,3,4,5]*30,\"col2\":[6,7,8,9,10]*30})"
   ]
  },
  {
   "cell_type": "code",
   "execution_count": 10,
   "metadata": {},
   "outputs": [],
   "source": [
    "# roll = df[\"col2\"].rolling(3)\n",
    "from hurst import *\n",
    "df[f'H{100}'] = df[\"col2\"].rolling(100).apply(lambda x: compute_Hc(x.to_numpy(), kind='price', simplified=False)[0])\n",
    "# df[f'z_score_{\"col2\"}_{3}'] = (df[\"col2\"] - roll.mean()) / roll.std()"
   ]
  },
  {
   "cell_type": "code",
   "execution_count": 13,
   "metadata": {},
   "outputs": [
    {
     "ename": "KeyError",
     "evalue": "0",
     "output_type": "error",
     "traceback": [
      "\u001b[1;31m---------------------------------------------------------------------------\u001b[0m",
      "\u001b[1;31mValueError\u001b[0m                                Traceback (most recent call last)",
      "\u001b[1;32mc:\\Users\\pratiksaxena\\Desktop\\Pratik\\AcsysAlgo_github\\DataRetrieval\\venv\\lib\\site-packages\\pandas\\core\\indexes\\range.py\u001b[0m in \u001b[0;36mget_loc\u001b[1;34m(self, key, method, tolerance)\u001b[0m\n\u001b[0;32m    384\u001b[0m                 \u001b[1;32mtry\u001b[0m\u001b[1;33m:\u001b[0m\u001b[1;33m\u001b[0m\u001b[1;33m\u001b[0m\u001b[0m\n\u001b[1;32m--> 385\u001b[1;33m                     \u001b[1;32mreturn\u001b[0m \u001b[0mself\u001b[0m\u001b[1;33m.\u001b[0m\u001b[0m_range\u001b[0m\u001b[1;33m.\u001b[0m\u001b[0mindex\u001b[0m\u001b[1;33m(\u001b[0m\u001b[0mnew_key\u001b[0m\u001b[1;33m)\u001b[0m\u001b[1;33m\u001b[0m\u001b[1;33m\u001b[0m\u001b[0m\n\u001b[0m\u001b[0;32m    386\u001b[0m                 \u001b[1;32mexcept\u001b[0m \u001b[0mValueError\u001b[0m \u001b[1;32mas\u001b[0m \u001b[0merr\u001b[0m\u001b[1;33m:\u001b[0m\u001b[1;33m\u001b[0m\u001b[1;33m\u001b[0m\u001b[0m\n",
      "\u001b[1;31mValueError\u001b[0m: 0 is not in range",
      "\nThe above exception was the direct cause of the following exception:\n",
      "\u001b[1;31mKeyError\u001b[0m                                  Traceback (most recent call last)",
      "\u001b[1;32mC:\\Users\\PRATIK~1\\AppData\\Local\\Temp/ipykernel_17228/964473567.py\u001b[0m in \u001b[0;36m<module>\u001b[1;34m\u001b[0m\n\u001b[1;32m----> 1\u001b[1;33m \u001b[0mdf\u001b[0m\u001b[1;33m[\u001b[0m\u001b[1;34mf'sum2'\u001b[0m\u001b[1;33m]\u001b[0m \u001b[1;33m=\u001b[0m \u001b[0mdf\u001b[0m\u001b[1;33m[\u001b[0m\u001b[1;34m\"col2\"\u001b[0m\u001b[1;33m]\u001b[0m\u001b[1;33m.\u001b[0m\u001b[0mrolling\u001b[0m\u001b[1;33m(\u001b[0m\u001b[1;36m2\u001b[0m\u001b[1;33m)\u001b[0m\u001b[1;33m.\u001b[0m\u001b[0mapply\u001b[0m\u001b[1;33m(\u001b[0m\u001b[1;32mlambda\u001b[0m \u001b[0mx\u001b[0m\u001b[1;33m:\u001b[0m \u001b[1;33m(\u001b[0m\u001b[0mx\u001b[0m\u001b[1;33m+\u001b[0m\u001b[1;36m2\u001b[0m\u001b[1;33m)\u001b[0m\u001b[1;33m[\u001b[0m\u001b[1;36m0\u001b[0m\u001b[1;33m]\u001b[0m\u001b[1;33m)\u001b[0m\u001b[1;33m\u001b[0m\u001b[1;33m\u001b[0m\u001b[0m\n\u001b[0m",
      "\u001b[1;32mc:\\Users\\pratiksaxena\\Desktop\\Pratik\\AcsysAlgo_github\\DataRetrieval\\venv\\lib\\site-packages\\pandas\\core\\window\\rolling.py\u001b[0m in \u001b[0;36mapply\u001b[1;34m(self, func, raw, engine, engine_kwargs, args, kwargs)\u001b[0m\n\u001b[0;32m   1841\u001b[0m         \u001b[0mkwargs\u001b[0m\u001b[1;33m:\u001b[0m \u001b[0mdict\u001b[0m\u001b[1;33m[\u001b[0m\u001b[0mstr\u001b[0m\u001b[1;33m,\u001b[0m \u001b[0mAny\u001b[0m\u001b[1;33m]\u001b[0m \u001b[1;33m|\u001b[0m \u001b[1;32mNone\u001b[0m \u001b[1;33m=\u001b[0m \u001b[1;32mNone\u001b[0m\u001b[1;33m,\u001b[0m\u001b[1;33m\u001b[0m\u001b[1;33m\u001b[0m\u001b[0m\n\u001b[0;32m   1842\u001b[0m     ):\n\u001b[1;32m-> 1843\u001b[1;33m         return super().apply(\n\u001b[0m\u001b[0;32m   1844\u001b[0m             \u001b[0mfunc\u001b[0m\u001b[1;33m,\u001b[0m\u001b[1;33m\u001b[0m\u001b[1;33m\u001b[0m\u001b[0m\n\u001b[0;32m   1845\u001b[0m             \u001b[0mraw\u001b[0m\u001b[1;33m=\u001b[0m\u001b[0mraw\u001b[0m\u001b[1;33m,\u001b[0m\u001b[1;33m\u001b[0m\u001b[1;33m\u001b[0m\u001b[0m\n",
      "\u001b[1;32mc:\\Users\\pratiksaxena\\Desktop\\Pratik\\AcsysAlgo_github\\DataRetrieval\\venv\\lib\\site-packages\\pandas\\core\\window\\rolling.py\u001b[0m in \u001b[0;36mapply\u001b[1;34m(self, func, raw, engine, engine_kwargs, args, kwargs)\u001b[0m\n\u001b[0;32m   1313\u001b[0m             \u001b[1;32mraise\u001b[0m \u001b[0mValueError\u001b[0m\u001b[1;33m(\u001b[0m\u001b[1;34m\"engine must be either 'numba' or 'cython'\"\u001b[0m\u001b[1;33m)\u001b[0m\u001b[1;33m\u001b[0m\u001b[1;33m\u001b[0m\u001b[0m\n\u001b[0;32m   1314\u001b[0m \u001b[1;33m\u001b[0m\u001b[0m\n\u001b[1;32m-> 1315\u001b[1;33m         return self._apply(\n\u001b[0m\u001b[0;32m   1316\u001b[0m             \u001b[0mapply_func\u001b[0m\u001b[1;33m,\u001b[0m\u001b[1;33m\u001b[0m\u001b[1;33m\u001b[0m\u001b[0m\n\u001b[0;32m   1317\u001b[0m             \u001b[0mnumba_cache_key\u001b[0m\u001b[1;33m=\u001b[0m\u001b[0mnumba_cache_key\u001b[0m\u001b[1;33m,\u001b[0m\u001b[1;33m\u001b[0m\u001b[1;33m\u001b[0m\u001b[0m\n",
      "\u001b[1;32mc:\\Users\\pratiksaxena\\Desktop\\Pratik\\AcsysAlgo_github\\DataRetrieval\\venv\\lib\\site-packages\\pandas\\core\\window\\rolling.py\u001b[0m in \u001b[0;36m_apply\u001b[1;34m(self, func, name, numba_cache_key, numba_args, **kwargs)\u001b[0m\n\u001b[0;32m    588\u001b[0m \u001b[1;33m\u001b[0m\u001b[0m\n\u001b[0;32m    589\u001b[0m         \u001b[1;32mif\u001b[0m \u001b[0mself\u001b[0m\u001b[1;33m.\u001b[0m\u001b[0mmethod\u001b[0m \u001b[1;33m==\u001b[0m \u001b[1;34m\"single\"\u001b[0m\u001b[1;33m:\u001b[0m\u001b[1;33m\u001b[0m\u001b[1;33m\u001b[0m\u001b[0m\n\u001b[1;32m--> 590\u001b[1;33m             \u001b[1;32mreturn\u001b[0m \u001b[0mself\u001b[0m\u001b[1;33m.\u001b[0m\u001b[0m_apply_blockwise\u001b[0m\u001b[1;33m(\u001b[0m\u001b[0mhomogeneous_func\u001b[0m\u001b[1;33m,\u001b[0m \u001b[0mname\u001b[0m\u001b[1;33m)\u001b[0m\u001b[1;33m\u001b[0m\u001b[1;33m\u001b[0m\u001b[0m\n\u001b[0m\u001b[0;32m    591\u001b[0m         \u001b[1;32melse\u001b[0m\u001b[1;33m:\u001b[0m\u001b[1;33m\u001b[0m\u001b[1;33m\u001b[0m\u001b[0m\n\u001b[0;32m    592\u001b[0m             \u001b[1;32mreturn\u001b[0m \u001b[0mself\u001b[0m\u001b[1;33m.\u001b[0m\u001b[0m_apply_tablewise\u001b[0m\u001b[1;33m(\u001b[0m\u001b[0mhomogeneous_func\u001b[0m\u001b[1;33m,\u001b[0m \u001b[0mname\u001b[0m\u001b[1;33m)\u001b[0m\u001b[1;33m\u001b[0m\u001b[1;33m\u001b[0m\u001b[0m\n",
      "\u001b[1;32mc:\\Users\\pratiksaxena\\Desktop\\Pratik\\AcsysAlgo_github\\DataRetrieval\\venv\\lib\\site-packages\\pandas\\core\\window\\rolling.py\u001b[0m in \u001b[0;36m_apply_blockwise\u001b[1;34m(self, homogeneous_func, name)\u001b[0m\n\u001b[0;32m    440\u001b[0m         \"\"\"\n\u001b[0;32m    441\u001b[0m         \u001b[1;32mif\u001b[0m \u001b[0mself\u001b[0m\u001b[1;33m.\u001b[0m\u001b[0m_selected_obj\u001b[0m\u001b[1;33m.\u001b[0m\u001b[0mndim\u001b[0m \u001b[1;33m==\u001b[0m \u001b[1;36m1\u001b[0m\u001b[1;33m:\u001b[0m\u001b[1;33m\u001b[0m\u001b[1;33m\u001b[0m\u001b[0m\n\u001b[1;32m--> 442\u001b[1;33m             \u001b[1;32mreturn\u001b[0m \u001b[0mself\u001b[0m\u001b[1;33m.\u001b[0m\u001b[0m_apply_series\u001b[0m\u001b[1;33m(\u001b[0m\u001b[0mhomogeneous_func\u001b[0m\u001b[1;33m,\u001b[0m \u001b[0mname\u001b[0m\u001b[1;33m)\u001b[0m\u001b[1;33m\u001b[0m\u001b[1;33m\u001b[0m\u001b[0m\n\u001b[0m\u001b[0;32m    443\u001b[0m \u001b[1;33m\u001b[0m\u001b[0m\n\u001b[0;32m    444\u001b[0m         \u001b[0mobj\u001b[0m \u001b[1;33m=\u001b[0m \u001b[0mself\u001b[0m\u001b[1;33m.\u001b[0m\u001b[0m_create_data\u001b[0m\u001b[1;33m(\u001b[0m\u001b[0mself\u001b[0m\u001b[1;33m.\u001b[0m\u001b[0m_selected_obj\u001b[0m\u001b[1;33m)\u001b[0m\u001b[1;33m\u001b[0m\u001b[1;33m\u001b[0m\u001b[0m\n",
      "\u001b[1;32mc:\\Users\\pratiksaxena\\Desktop\\Pratik\\AcsysAlgo_github\\DataRetrieval\\venv\\lib\\site-packages\\pandas\\core\\window\\rolling.py\u001b[0m in \u001b[0;36m_apply_series\u001b[1;34m(self, homogeneous_func, name)\u001b[0m\n\u001b[0;32m    429\u001b[0m             \u001b[1;32mraise\u001b[0m \u001b[0mDataError\u001b[0m\u001b[1;33m(\u001b[0m\u001b[1;34m\"No numeric types to aggregate\"\u001b[0m\u001b[1;33m)\u001b[0m \u001b[1;32mfrom\u001b[0m \u001b[0merr\u001b[0m\u001b[1;33m\u001b[0m\u001b[1;33m\u001b[0m\u001b[0m\n\u001b[0;32m    430\u001b[0m \u001b[1;33m\u001b[0m\u001b[0m\n\u001b[1;32m--> 431\u001b[1;33m         \u001b[0mresult\u001b[0m \u001b[1;33m=\u001b[0m \u001b[0mhomogeneous_func\u001b[0m\u001b[1;33m(\u001b[0m\u001b[0mvalues\u001b[0m\u001b[1;33m)\u001b[0m\u001b[1;33m\u001b[0m\u001b[1;33m\u001b[0m\u001b[0m\n\u001b[0m\u001b[0;32m    432\u001b[0m         \u001b[1;32mreturn\u001b[0m \u001b[0mobj\u001b[0m\u001b[1;33m.\u001b[0m\u001b[0m_constructor\u001b[0m\u001b[1;33m(\u001b[0m\u001b[0mresult\u001b[0m\u001b[1;33m,\u001b[0m \u001b[0mindex\u001b[0m\u001b[1;33m=\u001b[0m\u001b[0mobj\u001b[0m\u001b[1;33m.\u001b[0m\u001b[0mindex\u001b[0m\u001b[1;33m,\u001b[0m \u001b[0mname\u001b[0m\u001b[1;33m=\u001b[0m\u001b[0mobj\u001b[0m\u001b[1;33m.\u001b[0m\u001b[0mname\u001b[0m\u001b[1;33m)\u001b[0m\u001b[1;33m\u001b[0m\u001b[1;33m\u001b[0m\u001b[0m\n\u001b[0;32m    433\u001b[0m \u001b[1;33m\u001b[0m\u001b[0m\n",
      "\u001b[1;32mc:\\Users\\pratiksaxena\\Desktop\\Pratik\\AcsysAlgo_github\\DataRetrieval\\venv\\lib\\site-packages\\pandas\\core\\window\\rolling.py\u001b[0m in \u001b[0;36mhomogeneous_func\u001b[1;34m(values)\u001b[0m\n\u001b[0;32m    580\u001b[0m \u001b[1;33m\u001b[0m\u001b[0m\n\u001b[0;32m    581\u001b[0m             \u001b[1;32mwith\u001b[0m \u001b[0mnp\u001b[0m\u001b[1;33m.\u001b[0m\u001b[0merrstate\u001b[0m\u001b[1;33m(\u001b[0m\u001b[0mall\u001b[0m\u001b[1;33m=\u001b[0m\u001b[1;34m\"ignore\"\u001b[0m\u001b[1;33m)\u001b[0m\u001b[1;33m:\u001b[0m\u001b[1;33m\u001b[0m\u001b[1;33m\u001b[0m\u001b[0m\n\u001b[1;32m--> 582\u001b[1;33m                 \u001b[0mresult\u001b[0m \u001b[1;33m=\u001b[0m \u001b[0mcalc\u001b[0m\u001b[1;33m(\u001b[0m\u001b[0mvalues\u001b[0m\u001b[1;33m)\u001b[0m\u001b[1;33m\u001b[0m\u001b[1;33m\u001b[0m\u001b[0m\n\u001b[0m\u001b[0;32m    583\u001b[0m \u001b[1;33m\u001b[0m\u001b[0m\n\u001b[0;32m    584\u001b[0m             \u001b[1;32mif\u001b[0m \u001b[0mnumba_cache_key\u001b[0m \u001b[1;32mis\u001b[0m \u001b[1;32mnot\u001b[0m \u001b[1;32mNone\u001b[0m\u001b[1;33m:\u001b[0m\u001b[1;33m\u001b[0m\u001b[1;33m\u001b[0m\u001b[0m\n",
      "\u001b[1;32mc:\\Users\\pratiksaxena\\Desktop\\Pratik\\AcsysAlgo_github\\DataRetrieval\\venv\\lib\\site-packages\\pandas\\core\\window\\rolling.py\u001b[0m in \u001b[0;36mcalc\u001b[1;34m(x)\u001b[0m\n\u001b[0;32m    577\u001b[0m                 \u001b[0mself\u001b[0m\u001b[1;33m.\u001b[0m\u001b[0m_check_window_bounds\u001b[0m\u001b[1;33m(\u001b[0m\u001b[0mstart\u001b[0m\u001b[1;33m,\u001b[0m \u001b[0mend\u001b[0m\u001b[1;33m,\u001b[0m \u001b[0mlen\u001b[0m\u001b[1;33m(\u001b[0m\u001b[0mx\u001b[0m\u001b[1;33m)\u001b[0m\u001b[1;33m)\u001b[0m\u001b[1;33m\u001b[0m\u001b[1;33m\u001b[0m\u001b[0m\n\u001b[0;32m    578\u001b[0m \u001b[1;33m\u001b[0m\u001b[0m\n\u001b[1;32m--> 579\u001b[1;33m                 \u001b[1;32mreturn\u001b[0m \u001b[0mfunc\u001b[0m\u001b[1;33m(\u001b[0m\u001b[0mx\u001b[0m\u001b[1;33m,\u001b[0m \u001b[0mstart\u001b[0m\u001b[1;33m,\u001b[0m \u001b[0mend\u001b[0m\u001b[1;33m,\u001b[0m \u001b[0mmin_periods\u001b[0m\u001b[1;33m,\u001b[0m \u001b[1;33m*\u001b[0m\u001b[0mnumba_args\u001b[0m\u001b[1;33m)\u001b[0m\u001b[1;33m\u001b[0m\u001b[1;33m\u001b[0m\u001b[0m\n\u001b[0m\u001b[0;32m    580\u001b[0m \u001b[1;33m\u001b[0m\u001b[0m\n\u001b[0;32m    581\u001b[0m             \u001b[1;32mwith\u001b[0m \u001b[0mnp\u001b[0m\u001b[1;33m.\u001b[0m\u001b[0merrstate\u001b[0m\u001b[1;33m(\u001b[0m\u001b[0mall\u001b[0m\u001b[1;33m=\u001b[0m\u001b[1;34m\"ignore\"\u001b[0m\u001b[1;33m)\u001b[0m\u001b[1;33m:\u001b[0m\u001b[1;33m\u001b[0m\u001b[1;33m\u001b[0m\u001b[0m\n",
      "\u001b[1;32mc:\\Users\\pratiksaxena\\Desktop\\Pratik\\AcsysAlgo_github\\DataRetrieval\\venv\\lib\\site-packages\\pandas\\core\\window\\rolling.py\u001b[0m in \u001b[0;36mapply_func\u001b[1;34m(values, begin, end, min_periods, raw)\u001b[0m\n\u001b[0;32m   1340\u001b[0m                 \u001b[1;31m# GH 45912\u001b[0m\u001b[1;33m\u001b[0m\u001b[1;33m\u001b[0m\u001b[0m\n\u001b[0;32m   1341\u001b[0m                 \u001b[0mvalues\u001b[0m \u001b[1;33m=\u001b[0m \u001b[0mSeries\u001b[0m\u001b[1;33m(\u001b[0m\u001b[0mvalues\u001b[0m\u001b[1;33m,\u001b[0m \u001b[0mindex\u001b[0m\u001b[1;33m=\u001b[0m\u001b[0mself\u001b[0m\u001b[1;33m.\u001b[0m\u001b[0m_on\u001b[0m\u001b[1;33m)\u001b[0m\u001b[1;33m\u001b[0m\u001b[1;33m\u001b[0m\u001b[0m\n\u001b[1;32m-> 1342\u001b[1;33m             \u001b[1;32mreturn\u001b[0m \u001b[0mwindow_func\u001b[0m\u001b[1;33m(\u001b[0m\u001b[0mvalues\u001b[0m\u001b[1;33m,\u001b[0m \u001b[0mbegin\u001b[0m\u001b[1;33m,\u001b[0m \u001b[0mend\u001b[0m\u001b[1;33m,\u001b[0m \u001b[0mmin_periods\u001b[0m\u001b[1;33m)\u001b[0m\u001b[1;33m\u001b[0m\u001b[1;33m\u001b[0m\u001b[0m\n\u001b[0m\u001b[0;32m   1343\u001b[0m \u001b[1;33m\u001b[0m\u001b[0m\n\u001b[0;32m   1344\u001b[0m         \u001b[1;32mreturn\u001b[0m \u001b[0mapply_func\u001b[0m\u001b[1;33m\u001b[0m\u001b[1;33m\u001b[0m\u001b[0m\n",
      "\u001b[1;32mc:\\Users\\pratiksaxena\\Desktop\\Pratik\\AcsysAlgo_github\\DataRetrieval\\venv\\lib\\site-packages\\pandas\\_libs\\window\\aggregations.pyx\u001b[0m in \u001b[0;36mpandas._libs.window.aggregations.roll_apply\u001b[1;34m()\u001b[0m\n",
      "\u001b[1;32mC:\\Users\\PRATIK~1\\AppData\\Local\\Temp/ipykernel_17228/964473567.py\u001b[0m in \u001b[0;36m<lambda>\u001b[1;34m(x)\u001b[0m\n\u001b[1;32m----> 1\u001b[1;33m \u001b[0mdf\u001b[0m\u001b[1;33m[\u001b[0m\u001b[1;34mf'sum2'\u001b[0m\u001b[1;33m]\u001b[0m \u001b[1;33m=\u001b[0m \u001b[0mdf\u001b[0m\u001b[1;33m[\u001b[0m\u001b[1;34m\"col2\"\u001b[0m\u001b[1;33m]\u001b[0m\u001b[1;33m.\u001b[0m\u001b[0mrolling\u001b[0m\u001b[1;33m(\u001b[0m\u001b[1;36m2\u001b[0m\u001b[1;33m)\u001b[0m\u001b[1;33m.\u001b[0m\u001b[0mapply\u001b[0m\u001b[1;33m(\u001b[0m\u001b[1;32mlambda\u001b[0m \u001b[0mx\u001b[0m\u001b[1;33m:\u001b[0m \u001b[1;33m(\u001b[0m\u001b[0mx\u001b[0m\u001b[1;33m+\u001b[0m\u001b[1;36m2\u001b[0m\u001b[1;33m)\u001b[0m\u001b[1;33m[\u001b[0m\u001b[1;36m0\u001b[0m\u001b[1;33m]\u001b[0m\u001b[1;33m)\u001b[0m\u001b[1;33m\u001b[0m\u001b[1;33m\u001b[0m\u001b[0m\n\u001b[0m",
      "\u001b[1;32mc:\\Users\\pratiksaxena\\Desktop\\Pratik\\AcsysAlgo_github\\DataRetrieval\\venv\\lib\\site-packages\\pandas\\core\\series.py\u001b[0m in \u001b[0;36m__getitem__\u001b[1;34m(self, key)\u001b[0m\n\u001b[0;32m    956\u001b[0m \u001b[1;33m\u001b[0m\u001b[0m\n\u001b[0;32m    957\u001b[0m         \u001b[1;32melif\u001b[0m \u001b[0mkey_is_scalar\u001b[0m\u001b[1;33m:\u001b[0m\u001b[1;33m\u001b[0m\u001b[1;33m\u001b[0m\u001b[0m\n\u001b[1;32m--> 958\u001b[1;33m             \u001b[1;32mreturn\u001b[0m \u001b[0mself\u001b[0m\u001b[1;33m.\u001b[0m\u001b[0m_get_value\u001b[0m\u001b[1;33m(\u001b[0m\u001b[0mkey\u001b[0m\u001b[1;33m)\u001b[0m\u001b[1;33m\u001b[0m\u001b[1;33m\u001b[0m\u001b[0m\n\u001b[0m\u001b[0;32m    959\u001b[0m \u001b[1;33m\u001b[0m\u001b[0m\n\u001b[0;32m    960\u001b[0m         \u001b[1;32mif\u001b[0m \u001b[0mis_hashable\u001b[0m\u001b[1;33m(\u001b[0m\u001b[0mkey\u001b[0m\u001b[1;33m)\u001b[0m\u001b[1;33m:\u001b[0m\u001b[1;33m\u001b[0m\u001b[1;33m\u001b[0m\u001b[0m\n",
      "\u001b[1;32mc:\\Users\\pratiksaxena\\Desktop\\Pratik\\AcsysAlgo_github\\DataRetrieval\\venv\\lib\\site-packages\\pandas\\core\\series.py\u001b[0m in \u001b[0;36m_get_value\u001b[1;34m(self, label, takeable)\u001b[0m\n\u001b[0;32m   1067\u001b[0m \u001b[1;33m\u001b[0m\u001b[0m\n\u001b[0;32m   1068\u001b[0m         \u001b[1;31m# Similar to Index.get_value, but we do not fall back to positional\u001b[0m\u001b[1;33m\u001b[0m\u001b[1;33m\u001b[0m\u001b[0m\n\u001b[1;32m-> 1069\u001b[1;33m         \u001b[0mloc\u001b[0m \u001b[1;33m=\u001b[0m \u001b[0mself\u001b[0m\u001b[1;33m.\u001b[0m\u001b[0mindex\u001b[0m\u001b[1;33m.\u001b[0m\u001b[0mget_loc\u001b[0m\u001b[1;33m(\u001b[0m\u001b[0mlabel\u001b[0m\u001b[1;33m)\u001b[0m\u001b[1;33m\u001b[0m\u001b[1;33m\u001b[0m\u001b[0m\n\u001b[0m\u001b[0;32m   1070\u001b[0m         \u001b[1;32mreturn\u001b[0m \u001b[0mself\u001b[0m\u001b[1;33m.\u001b[0m\u001b[0mindex\u001b[0m\u001b[1;33m.\u001b[0m\u001b[0m_get_values_for_loc\u001b[0m\u001b[1;33m(\u001b[0m\u001b[0mself\u001b[0m\u001b[1;33m,\u001b[0m \u001b[0mloc\u001b[0m\u001b[1;33m,\u001b[0m \u001b[0mlabel\u001b[0m\u001b[1;33m)\u001b[0m\u001b[1;33m\u001b[0m\u001b[1;33m\u001b[0m\u001b[0m\n\u001b[0;32m   1071\u001b[0m \u001b[1;33m\u001b[0m\u001b[0m\n",
      "\u001b[1;32mc:\\Users\\pratiksaxena\\Desktop\\Pratik\\AcsysAlgo_github\\DataRetrieval\\venv\\lib\\site-packages\\pandas\\core\\indexes\\range.py\u001b[0m in \u001b[0;36mget_loc\u001b[1;34m(self, key, method, tolerance)\u001b[0m\n\u001b[0;32m    385\u001b[0m                     \u001b[1;32mreturn\u001b[0m \u001b[0mself\u001b[0m\u001b[1;33m.\u001b[0m\u001b[0m_range\u001b[0m\u001b[1;33m.\u001b[0m\u001b[0mindex\u001b[0m\u001b[1;33m(\u001b[0m\u001b[0mnew_key\u001b[0m\u001b[1;33m)\u001b[0m\u001b[1;33m\u001b[0m\u001b[1;33m\u001b[0m\u001b[0m\n\u001b[0;32m    386\u001b[0m                 \u001b[1;32mexcept\u001b[0m \u001b[0mValueError\u001b[0m \u001b[1;32mas\u001b[0m \u001b[0merr\u001b[0m\u001b[1;33m:\u001b[0m\u001b[1;33m\u001b[0m\u001b[1;33m\u001b[0m\u001b[0m\n\u001b[1;32m--> 387\u001b[1;33m                     \u001b[1;32mraise\u001b[0m \u001b[0mKeyError\u001b[0m\u001b[1;33m(\u001b[0m\u001b[0mkey\u001b[0m\u001b[1;33m)\u001b[0m \u001b[1;32mfrom\u001b[0m \u001b[0merr\u001b[0m\u001b[1;33m\u001b[0m\u001b[1;33m\u001b[0m\u001b[0m\n\u001b[0m\u001b[0;32m    388\u001b[0m             \u001b[0mself\u001b[0m\u001b[1;33m.\u001b[0m\u001b[0m_check_indexing_error\u001b[0m\u001b[1;33m(\u001b[0m\u001b[0mkey\u001b[0m\u001b[1;33m)\u001b[0m\u001b[1;33m\u001b[0m\u001b[1;33m\u001b[0m\u001b[0m\n\u001b[0;32m    389\u001b[0m             \u001b[1;32mraise\u001b[0m \u001b[0mKeyError\u001b[0m\u001b[1;33m(\u001b[0m\u001b[0mkey\u001b[0m\u001b[1;33m)\u001b[0m\u001b[1;33m\u001b[0m\u001b[1;33m\u001b[0m\u001b[0m\n",
      "\u001b[1;31mKeyError\u001b[0m: 0"
     ]
    }
   ],
   "source": [
    "df[f'sum2'] = df[\"col2\"].rolling(2).apply(lambda x: (x+2)[0])"
   ]
  },
  {
   "cell_type": "code",
   "execution_count": 19,
   "metadata": {},
   "outputs": [],
   "source": [
    "m_a_s = df.iloc[0:100][\"col2\"] - df.iloc[0:100][\"col2\"].mean()"
   ]
  },
  {
   "cell_type": "code",
   "execution_count": 22,
   "metadata": {},
   "outputs": [],
   "source": [
    "cum_a_s = m_a_s.cumsum()"
   ]
  },
  {
   "cell_type": "code",
   "execution_count": 24,
   "metadata": {},
   "outputs": [
    {
     "data": {
      "text/plain": [
       "-3.0"
      ]
     },
     "execution_count": 24,
     "metadata": {},
     "output_type": "execute_result"
    }
   ],
   "source": [
    "min(cum_a_s)"
   ]
  },
  {
   "cell_type": "code",
   "execution_count": 27,
   "metadata": {},
   "outputs": [
    {
     "data": {
      "text/plain": [
       "1.4213381090374029"
      ]
     },
     "execution_count": 27,
     "metadata": {},
     "output_type": "execute_result"
    }
   ],
   "source": [
    "m_a_s.std(ddof=1)"
   ]
  },
  {
   "cell_type": "code",
   "execution_count": 2,
   "metadata": {},
   "outputs": [],
   "source": [
    "import pickle\n",
    "with open(\"C:\\\\Users\\\\pratiksaxena\\\\Desktop\\\\Pratik\\\\AcsysAlgo_github\\\\RL\\\\SuprabhashKT\\\\Utils\\\\.NSEI_Constituents.pkl\",\"rb\") as file:\n",
    "    constituents_df = pickle.load(file)\n"
   ]
  },
  {
   "cell_type": "code",
   "execution_count": 8,
   "metadata": {},
   "outputs": [
    {
     "data": {
      "text/plain": [
       "'RELI.NS'"
      ]
     },
     "execution_count": 8,
     "metadata": {},
     "output_type": "execute_result"
    }
   ],
   "source": [
    "constituents_df.iloc[-1][\"Tickers\"][37]"
   ]
  },
  {
   "cell_type": "code",
   "execution_count": 16,
   "metadata": {},
   "outputs": [
    {
     "data": {
      "text/plain": [
       "True"
      ]
     },
     "execution_count": 16,
     "metadata": {},
     "output_type": "execute_result"
    }
   ],
   "source": [
    "True and True"
   ]
  },
  {
   "cell_type": "code",
   "execution_count": 22,
   "metadata": {},
   "outputs": [],
   "source": [
    "buy_mask = (df[\"col2\"] < 2) & (df[\"col1\"] > 2) & (\n",
    "                    df[\"col1\"] < df[f\"col2\"])"
   ]
  },
  {
   "cell_type": "code",
   "execution_count": 26,
   "metadata": {},
   "outputs": [],
   "source": [
    "import numpy as np\n",
    "df['signal'] = np.nan\n",
    "df.loc[~buy_mask, 'signal'] = 1"
   ]
  },
  {
   "cell_type": "code",
   "execution_count": 1,
   "metadata": {},
   "outputs": [
    {
     "ename": "NameError",
     "evalue": "name 'df' is not defined",
     "output_type": "error",
     "traceback": [
      "\u001b[1;31m---------------------------------------------------------------------------\u001b[0m",
      "\u001b[1;31mNameError\u001b[0m                                 Traceback (most recent call last)",
      "\u001b[1;32mC:\\Users\\PRATIK~1\\AppData\\Local\\Temp/ipykernel_17228/3482164899.py\u001b[0m in \u001b[0;36m<module>\u001b[1;34m\u001b[0m\n\u001b[1;32m----> 1\u001b[1;33m \u001b[0mdf\u001b[0m\u001b[1;33m.\u001b[0m\u001b[0mrolling\u001b[0m\u001b[1;33m(\u001b[0m\u001b[1;36m2\u001b[0m\u001b[1;33m)\u001b[0m\u001b[1;33m\u001b[0m\u001b[1;33m\u001b[0m\u001b[0m\n\u001b[0m",
      "\u001b[1;31mNameError\u001b[0m: name 'df' is not defined"
     ]
    }
   ],
   "source": [
    "df.rolling(2)"
   ]
  },
  {
   "cell_type": "code",
   "execution_count": 28,
   "metadata": {},
   "outputs": [
    {
     "data": {
      "text/plain": [
       "[100,\n",
       " 200,\n",
       " 300,\n",
       " 400,\n",
       " 500,\n",
       " 600,\n",
       " 700,\n",
       " 800,\n",
       " 900,\n",
       " 1000,\n",
       " 1100,\n",
       " 1200,\n",
       " 1300,\n",
       " 1400,\n",
       " 1500,\n",
       " 1600,\n",
       " 1700,\n",
       " 1800,\n",
       " 1900,\n",
       " 2000,\n",
       " 2100,\n",
       " 2200,\n",
       " 2300,\n",
       " 2400,\n",
       " 2500,\n",
       " 2600,\n",
       " 2700,\n",
       " 2800,\n",
       " 2900,\n",
       " 3000]"
      ]
     },
     "execution_count": 28,
     "metadata": {},
     "output_type": "execute_result"
    }
   ],
   "source": [
    "[x for x in range(100,3100,100)]"
   ]
  },
  {
   "cell_type": "code",
   "execution_count": 30,
   "metadata": {},
   "outputs": [
    {
     "ename": "NameError",
     "evalue": "name 'get_stock_data' is not defined",
     "output_type": "error",
     "traceback": [
      "\u001b[1;31m---------------------------------------------------------------------------\u001b[0m",
      "\u001b[1;31mNameError\u001b[0m                                 Traceback (most recent call last)",
      "\u001b[1;32mC:\\Users\\PRATIK~1\\AppData\\Local\\Temp/ipykernel_17228/53371711.py\u001b[0m in \u001b[0;36m<module>\u001b[1;34m\u001b[0m\n\u001b[1;32m----> 1\u001b[1;33m \u001b[0mdf\u001b[0m \u001b[1;33m=\u001b[0m \u001b[0mget_stock_data\u001b[0m\u001b[1;33m(\u001b[0m\u001b[1;34m\"NIFc1\"\u001b[0m\u001b[1;33m)\u001b[0m\u001b[1;33m\u001b[0m\u001b[1;33m\u001b[0m\u001b[0m\n\u001b[0m",
      "\u001b[1;31mNameError\u001b[0m: name 'get_stock_data' is not defined"
     ]
    }
   ],
   "source": [
    "df = get_stock_data(\"NIFc1\")"
   ]
  },
  {
   "cell_type": "code",
   "execution_count": null,
   "metadata": {},
   "outputs": [],
   "source": []
  }
 ],
 "metadata": {
  "interpreter": {
   "hash": "4f6562338f458325eab66c92c54a16639710a65cf0cecdc627ad160b818a855d"
  },
  "kernelspec": {
   "display_name": "Python 3.10.0 ('venv': venv)",
   "language": "python",
   "name": "python3"
  },
  "language_info": {
   "codemirror_mode": {
    "name": "ipython",
    "version": 3
   },
   "file_extension": ".py",
   "mimetype": "text/x-python",
   "name": "python",
   "nbconvert_exporter": "python",
   "pygments_lexer": "ipython3",
   "version": "3.10.0"
  }
 },
 "nbformat": 4,
 "nbformat_minor": 0
}
