{
 "cells": [
  {
   "cell_type": "markdown",
   "metadata": {},
   "source": [
    "## Sample Weights\n",
    "\n",
    "This notebook will cover exercise answer.\n",
    "\n",
    "* Exercise 4.5\n",
    "\n",
    "As we go along, there will be some explanations.\n",
    "\n",
    "More importantly, this method can be applied not just within mean-reversion strategy but also other strategies as well. \n",
    "\n",
    "Most of the functions below can be found under research/Sampling.\n",
    "\n",
    "Contact: boyboi86@gmail.com"
   ]
  },
  {
   "cell_type": "code",
   "execution_count": 1,
   "metadata": {},
   "outputs": [
    {
     "name": "stdout",
     "output_type": "stream",
     "text": [
      "Num of CPU core:  4\n",
      "Machine info:  Windows-10-10.0.18362-SP0\n",
      "Python 3.7.4 (default, Aug  9 2019, 18:34:13) [MSC v.1915 64 bit (AMD64)]\n",
      "Numpy 1.17.3\n",
      "Pandas 1.0.3\n"
     ]
    },
    {
     "name": "stderr",
     "output_type": "stream",
     "text": [
      "C:\\Users\\Wei_X\\Anaconda3\\lib\\site-packages\\statsmodels\\tools\\_testing.py:19: FutureWarning: pandas.util.testing is deprecated. Use the functions in the public API at pandas.testing instead.\n",
      "  import pandas.util.testing as tm\n"
     ]
    },
    {
     "data": {
      "text/plain": [
       "<Figure size 1500x800 with 1 Axes>"
      ]
     },
     "metadata": {},
     "output_type": "display_data"
    }
   ],
   "source": [
    "import numpy as np\n",
    "import pandas as pd\n",
    "import research as rs\n",
    "import matplotlib.pyplot as plt\n",
    "\n",
    "from sklearn.ensemble import RandomForestClassifier\n",
    "from sklearn.model_selection import train_test_split\n",
    "\n",
    "%matplotlib inline"
   ]
  },
  {
   "cell_type": "markdown",
   "metadata": {},
   "source": [
    "**Note**\n",
    "\n",
    "Instead of trend strategy, we will continue to use mean-reversion strategy.\n",
    "\n",
    "This part will deviate slightly from the exercise, but I assure you the outcome is somewhat similiar.\n",
    "\n",
    "However using trend strategy, the idea which Dr Marco Lopez wish to express would be obvious since meta-labels would suffer from imbalance sample."
   ]
  },
  {
   "cell_type": "code",
   "execution_count": 2,
   "metadata": {},
   "outputs": [],
   "source": [
    "dollar = pd.read_csv('./research/Sample_data/dollar_bars.txt', \n",
    "                 sep=',', \n",
    "                 header=0, \n",
    "                 parse_dates = True, \n",
    "                 index_col=['date_time'])\n"
   ]
  },
  {
   "cell_type": "code",
   "execution_count": 3,
   "metadata": {},
   "outputs": [
    {
     "name": "stdout",
     "output_type": "stream",
     "text": [
      "Bollinger Band results:\n",
      "\n",
      "Num of times upper limit touched: 10195\n",
      "Num of times lower limit touched: 8987\n"
     ]
    },
    {
     "name": "stderr",
     "output_type": "stream",
     "text": [
      "C:\\Users\\Wei_X\\Desktop\\Python\\research\\Labels\\triple_barrier_method.py:75: UserWarning: Data and events index shape must be same, reindex data to fit events\n",
      "  warnings.warn('Data and events index shape must be same, reindex data to fit events')\n"
     ]
    },
    {
     "name": "stdout",
     "output_type": "stream",
     "text": [
      "[                                             t1  sl  pt\n",
      "2016-04-14 14:56:40.929 2016-04-15 17:10:42.500 NaT NaT\n",
      "2016-04-14 15:26:56.280 2016-04-15 17:10:42.500 NaT NaT\n",
      "2016-04-14 15:35:15.960 2016-04-15 17:10:42.500 NaT NaT\n",
      "2016-04-14 16:14:10.181 2016-04-15 17:10:42.500 NaT NaT\n",
      "2016-04-14 16:33:11.080 2016-04-15 17:10:42.500 NaT NaT\n",
      "...                                         ...  ..  ..\n",
      "2016-12-30 20:59:58.848                     NaT NaT NaT\n",
      "2016-12-30 21:00:00.352                     NaT NaT NaT\n",
      "2016-12-30 21:00:24.294                     NaT NaT NaT\n",
      "2016-12-30 21:03:03.027                     NaT NaT NaT\n",
      "2016-12-30 21:13:31.990                     NaT NaT NaT\n",
      "\n",
      "[6043 rows x 3 columns]] this out\n",
      "[                                             t1  sl  pt\n",
      "2016-04-14 14:56:40.929 2016-04-15 17:10:42.500 NaT NaT\n",
      "2016-04-14 15:26:56.280 2016-04-15 17:10:42.500 NaT NaT\n",
      "2016-04-14 15:35:15.960 2016-04-15 17:10:42.500 NaT NaT\n",
      "2016-04-14 16:14:10.181 2016-04-15 17:10:42.500 NaT NaT\n",
      "2016-04-14 16:33:11.080 2016-04-15 17:10:42.500 NaT NaT\n",
      "...                                         ...  ..  ..\n",
      "2016-12-30 20:59:58.848                     NaT NaT NaT\n",
      "2016-12-30 21:00:00.352                     NaT NaT NaT\n",
      "2016-12-30 21:00:24.294                     NaT NaT NaT\n",
      "2016-12-30 21:03:03.027                     NaT NaT NaT\n",
      "2016-12-30 21:13:31.990                     NaT NaT NaT\n",
      "\n",
      "[6043 rows x 3 columns],                                              t1  sl  pt\n",
      "2015-09-10 12:36:39.559 2015-09-11 12:38:05.265 NaT NaT\n",
      "2015-09-10 13:01:38.292 2015-09-11 13:30:09.634 NaT NaT\n",
      "2015-09-10 13:30:20.359 2015-09-11 13:38:02.648 NaT NaT\n",
      "2015-09-10 13:35:08.110 2015-09-11 13:38:02.648 NaT NaT\n",
      "2015-09-10 13:39:55.114 2015-09-11 13:48:13.785 NaT NaT\n",
      "...                                         ...  ..  ..\n",
      "2016-04-14 14:07:28.549 2016-04-15 17:10:42.500 NaT NaT\n",
      "2016-04-14 14:17:07.857 2016-04-15 17:10:42.500 NaT NaT\n",
      "2016-04-14 14:25:57.715 2016-04-15 17:10:42.500 NaT NaT\n",
      "2016-04-14 14:36:02.258 2016-04-15 17:10:42.500 NaT NaT\n",
      "2016-04-14 14:49:13.017 2016-04-15 17:10:42.500 NaT NaT\n",
      "\n",
      "[6043 rows x 3 columns]]"
     ]
    },
    {
     "name": "stderr",
     "output_type": "stream",
     "text": [
      "2020-05-26 15:10:01.079582 33.33% _pt_sl_t1 done after 0.51 minutes. Remaining 1.01 minutes.\r"
     ]
    },
    {
     "name": "stdout",
     "output_type": "stream",
     "text": [
      " this out\n",
      "[                                             t1  sl  pt\n",
      "2016-04-14 14:56:40.929 2016-04-15 17:10:42.500 NaT NaT\n",
      "2016-04-14 15:26:56.280 2016-04-15 17:10:42.500 NaT NaT\n",
      "2016-04-14 15:35:15.960 2016-04-15 17:10:42.500 NaT NaT\n",
      "2016-04-14 16:14:10.181 2016-04-15 17:10:42.500 NaT NaT\n",
      "2016-04-14 16:33:11.080 2016-04-15 17:10:42.500 NaT NaT\n",
      "...                                         ...  ..  ..\n",
      "2016-12-30 20:59:58.848                     NaT NaT NaT\n",
      "2016-12-30 21:00:00.352                     NaT NaT NaT\n",
      "2016-12-30 21:00:24.294                     NaT NaT NaT\n",
      "2016-12-30 21:03:03.027                     NaT NaT NaT\n",
      "2016-12-30 21:13:31.990                     NaT NaT NaT\n",
      "\n",
      "[6043 rows x 3 columns],                                              t1  sl  pt\n",
      "2015-09-10 12:36:39.559 2015-09-11 12:38:05.265 NaT NaT\n",
      "2015-09-10 13:01:38.292 2015-09-11 13:30:09.634 NaT NaT\n",
      "2015-09-10 13:30:20.359 2015-09-11 13:38:02.648 NaT NaT\n",
      "2015-09-10 13:35:08.110 2015-09-11 13:38:02.648 NaT NaT\n",
      "2015-09-10 13:39:55.114 2015-09-11 13:48:13.785 NaT NaT\n",
      "...                                         ...  ..  ..\n",
      "2016-04-14 14:07:28.549 2016-04-15 17:10:42.500 NaT NaT\n",
      "2016-04-14 14:17:07.857 2016-04-15 17:10:42.500 NaT NaT\n",
      "2016-04-14 14:25:57.715 2016-04-15 17:10:42.500 NaT NaT\n",
      "2016-04-14 14:36:02.258 2016-04-15 17:10:42.500 NaT NaT\n",
      "2016-04-14 14:49:13.017 2016-04-15 17:10:42.500 NaT NaT\n",
      "\n",
      "[6043 rows x 3 columns],                                              t1                      sl  pt\n",
      "2015-01-05 03:37:42.912 2015-01-06 09:15:06.306 2015-01-05 15:45:52.901 NaT\n",
      "2015-01-05 08:21:37.801 2015-01-06 09:15:06.306 2015-01-05 15:40:45.114 NaT\n",
      "2015-01-05 10:27:41.882 2015-01-06 11:18:19.521 2015-01-05 15:35:09.056 NaT\n",
      "2015-01-05 13:42:46.868 2015-01-06 13:48:17.273                     NaT NaT\n",
      "2015-01-05 14:30:57.874 2015-01-06 14:39:52.557                     NaT NaT\n",
      "...                                         ...                     ...  ..\n",
      "2015-09-10 08:26:20.902 2015-09-11 10:14:00.027                     NaT NaT\n",
      "2015-09-10 09:55:02.979 2015-09-11 10:14:00.027                     NaT NaT\n",
      "2015-09-10 10:27:02.613 2015-09-11 12:38:05.265                     NaT NaT\n",
      "2015-09-10 11:43:14.539 2015-09-11 12:38:05.265                     NaT NaT\n",
      "2015-09-10 12:19:25.229 2015-09-11 12:38:05.265                     NaT NaT\n",
      "\n",
      "[6043 rows x 3 columns]] this out\n"
     ]
    },
    {
     "name": "stderr",
     "output_type": "stream",
     "text": [
      "2020-05-26 15:10:01.277418 66.67% _pt_sl_t1 done after 0.51 minutes. Remaining 0.25 minutes.\r",
      "2020-05-26 15:10:01.322038 100.0% _pt_sl_t1 done after 0.51 minutes. Remaining 0.0 minutes.\n"
     ]
    }
   ],
   "source": [
    "dollar = rs.bband_as_side(data = dollar, \n",
    "                          window = 50, \n",
    "                          width = 0.001)\n",
    "\n",
    "dollar['volatility'] = rs.vol(dollar['close'], span0 = 50)\n",
    "\n",
    "events = rs.cs_filter(dollar['close'], \n",
    "                    limit = dollar['volatility'].mean())\n",
    "\n",
    "vb = rs.vert_barrier(data = dollar['close'], \n",
    "                 events = events, \n",
    "                 period = 'days', \n",
    "                 freq = 1)\n",
    "\n",
    "tb = rs.tri_barrier(data = dollar['close'], \n",
    "                    events = events, \n",
    "                    trgt = dollar['volatility'] * 5, \n",
    "                    min_req = 0.002, \n",
    "                    num_threads = 3, \n",
    "                    ptSl = [0,2],\n",
    "                    t1 = vb, \n",
    "                    side = dollar['side'])\n",
    "\n",
    "mlabel = rs.meta_label(data = dollar['close'], \n",
    "                       events = tb, \n",
    "                       drop = False) # when you have a side binary, you won't have rare labels usually\n"
   ]
  },
  {
   "cell_type": "code",
   "execution_count": 4,
   "metadata": {},
   "outputs": [
    {
     "data": {
      "text/plain": [
       "0.0    9126\n",
       "1.0    8967\n",
       "Name: bin, dtype: int64"
      ]
     },
     "execution_count": 4,
     "metadata": {},
     "output_type": "execute_result"
    }
   ],
   "source": [
    "mlabel['bin'].value_counts()"
   ]
  },
  {
   "cell_type": "code",
   "execution_count": 5,
   "metadata": {},
   "outputs": [
    {
     "name": "stdout",
     "output_type": "stream",
     "text": [
      " Classification Report\n",
      "=======================================================\n",
      "              precision    recall  f1-score   support\n",
      "\n",
      "         0.0       0.00      0.00      0.00      9126\n",
      "         1.0       0.50      1.00      0.66      8967\n",
      "\n",
      "    accuracy                           0.50     18093\n",
      "   macro avg       0.25      0.50      0.33     18093\n",
      "weighted avg       0.25      0.50      0.33     18093\n",
      "\n",
      "\n",
      " Confusion Matrix\n",
      "=======================================================\n",
      "[[TN, FP]\n",
      " [FN, TP]]\n",
      "\n",
      "[[   0 9126]\n",
      " [   0 8967]]\n",
      "\n",
      " Accuracy Score\n",
      "=======================================================\n",
      "0.4956060354833361\n",
      "\n"
     ]
    },
    {
     "name": "stderr",
     "output_type": "stream",
     "text": [
      "C:\\Users\\Wei_X\\Anaconda3\\lib\\site-packages\\sklearn\\metrics\\_classification.py:1221: UndefinedMetricWarning: Precision and F-score are ill-defined and being set to 0.0 in labels with no predicted samples. Use `zero_division` parameter to control this behavior.\n",
      "  _warn_prf(average, modifier, msg_start, len(result))\n"
     ]
    }
   ],
   "source": [
    "# original data matrix report w/o random forest\n",
    "\n",
    "rs.report_matrix(actual_data = mlabel, \n",
    "                 prediction_data = None, \n",
    "                 ROC = None)"
   ]
  },
  {
   "cell_type": "code",
   "execution_count": 6,
   "metadata": {},
   "outputs": [
    {
     "name": "stdout",
     "output_type": "stream",
     "text": [
      " Classification Report\n",
      "=======================================================\n",
      "              precision    recall  f1-score   support\n",
      "\n",
      "         0.0       0.53      0.33      0.41      2687\n",
      "         1.0       0.52      0.71      0.60      2741\n",
      "\n",
      "    accuracy                           0.52      5428\n",
      "   macro avg       0.52      0.52      0.50      5428\n",
      "weighted avg       0.52      0.52      0.50      5428\n",
      "\n",
      "\n",
      " Confusion Matrix\n",
      "=======================================================\n",
      "[[TN, FP]\n",
      " [FN, TP]]\n",
      "\n",
      "[[ 897 1790]\n",
      " [ 804 1937]]\n",
      "\n",
      " Accuracy Score\n",
      "=======================================================\n",
      "0.5221075902726603\n",
      "\n"
     ]
    },
    {
     "data": {
      "image/png": "[encoded data removed]",
      "text/plain": [
       "<Figure size 432x288 with 1 Axes>"
      ]
     },
     "metadata": {
      "needs_background": "light"
     },
     "output_type": "display_data"
    }
   ],
   "source": [
    "# Exercise 4.5a\n",
    "# for convienience sake, we will just go for crossing average & volatility as features\n",
    "\n",
    "X = dollar.drop(['open', 'high', 'low', 'close','cum_vol', 'cum_dollar', 'cum_ticks'], axis = 1)\n",
    "X.dropna(inplace = True) # we lost quite abit of data\n",
    "\n",
    "X = X.reindex(mlabel.index)\n",
    "y = mlabel['bin']\n",
    "\n",
    "n_estimators, max_depth, c_random_state = 500, 7, 42\n",
    "\n",
    "# Random Forest Model\n",
    "rf = RandomForestClassifier(max_depth = max_depth, \n",
    "                            n_estimators = n_estimators,\n",
    "                            criterion = 'entropy',\n",
    "                            #bootstrap=True,\n",
    "                            #max_samples = av_uniqueness_by_coevent['tW'].mean()\n",
    "                            oob_score = False,\n",
    "                            class_weight = None, # We did not use class weight\n",
    "                            random_state = c_random_state)\n",
    "\n",
    "\n",
    "X_train, X_test, y_train, y_test = train_test_split(X, y, test_size=0.3, shuffle=False)\n",
    "\n",
    "rf.fit(X_train, y_train.values.ravel())\n",
    "\n",
    "y_prob_test = rf.predict_proba(X_test)[:, 1] #here we are only interested in True positive\n",
    "y_pred_test = rf.predict(X_test)\n",
    "\n",
    "# We go for test data straight\n",
    "rs.report_matrix(actual_data = y_test, \n",
    "                 prediction_data = y_pred_test, \n",
    "                 ROC = y_prob_test)"
   ]
  },
  {
   "cell_type": "code",
   "execution_count": 7,
   "metadata": {},
   "outputs": [
    {
     "name": "stdout",
     "output_type": "stream",
     "text": [
      " Classification Report\n",
      "=======================================================\n",
      "              precision    recall  f1-score   support\n",
      "\n",
      "         0.0       0.54      0.31      0.40      2687\n",
      "         1.0       0.52      0.74      0.61      2741\n",
      "\n",
      "    accuracy                           0.53      5428\n",
      "   macro avg       0.53      0.53      0.51      5428\n",
      "weighted avg       0.53      0.53      0.51      5428\n",
      "\n",
      "\n",
      " Confusion Matrix\n",
      "=======================================================\n",
      "[[TN, FP]\n",
      " [FN, TP]]\n",
      "\n",
      "[[ 844 1843]\n",
      " [ 714 2027]]\n",
      "\n",
      " Accuracy Score\n",
      "=======================================================\n",
      "0.5289240972733972\n",
      "\n"
     ]
    },
    {
     "data": {
      "image/png": "[encoded data removed]",
      "text/plain": [
       "<Figure size 432x288 with 1 Axes>"
      ]
     },
     "metadata": {
      "needs_background": "light"
     },
     "output_type": "display_data"
    }
   ],
   "source": [
    "rf_cls_wght_bln = RandomForestClassifier(max_depth = max_depth, \n",
    "                                    n_estimators = n_estimators,\n",
    "                                    criterion = 'entropy',\n",
    "                                    #bootstrap=True,\n",
    "                                    #max_samples = av_uniqueness_by_coevent['tW'].mean()\n",
    "                                    oob_score = False,\n",
    "                                    class_weight = 'balanced', # We try balance weight only\n",
    "                                    random_state = c_random_state)\n",
    "\n",
    "rf_cls_wght_bln.fit(X_train, y_train.values.ravel())\n",
    "\n",
    "y_prob_test0 = rf_cls_wght_bln.predict_proba(X_test)[:, 1] #here we are only interested in True positive\n",
    "y_pred_test0 = rf_cls_wght_bln.predict(X_test)\n",
    "\n",
    "# We go for test data straight\n",
    "rs.report_matrix(actual_data = y_test, \n",
    "                 prediction_data = y_pred_test0, \n",
    "                 ROC = y_prob_test0)"
   ]
  },
  {
   "cell_type": "code",
   "execution_count": 8,
   "metadata": {},
   "outputs": [
    {
     "name": "stdout",
     "output_type": "stream",
     "text": [
      " Classification Report\n",
      "=======================================================\n",
      "              precision    recall  f1-score   support\n",
      "\n",
      "         0.0       0.54      0.33      0.41      2687\n",
      "         1.0       0.53      0.73      0.61      2741\n",
      "\n",
      "    accuracy                           0.53      5428\n",
      "   macro avg       0.53      0.53      0.51      5428\n",
      "weighted avg       0.53      0.53      0.51      5428\n",
      "\n",
      "\n",
      " Confusion Matrix\n",
      "=======================================================\n",
      "[[TN, FP]\n",
      " [FN, TP]]\n",
      "\n",
      "[[ 878 1809]\n",
      " [ 737 2004]]\n",
      "\n",
      " Accuracy Score\n",
      "=======================================================\n",
      "0.5309506263817244\n",
      "\n"
     ]
    },
    {
     "data": {
      "image/png": "[encoded data removed]",
      "text/plain": [
       "<Figure size 432x288 with 1 Axes>"
      ]
     },
     "metadata": {
      "needs_background": "light"
     },
     "output_type": "display_data"
    }
   ],
   "source": [
    "rf_cls_wght_sub_bln = RandomForestClassifier(max_depth = max_depth, \n",
    "                                    n_estimators = n_estimators,\n",
    "                                    criterion = 'entropy',\n",
    "                                    #bootstrap=True,\n",
    "                                    #max_samples = av_uniqueness_by_coevent['tW'].mean()\n",
    "                                    oob_score = False,\n",
    "                                    class_weight = 'balanced_subsample', # We try balance weight only\n",
    "                                    random_state = c_random_state)\n",
    "\n",
    "rf_cls_wght_sub_bln.fit(X_train, y_train.values.ravel())\n",
    "\n",
    "y_prob_test1 = rf_cls_wght_sub_bln.predict_proba(X_test)[:, 1] #here we are only interested in True positive\n",
    "y_pred_test1 = rf_cls_wght_sub_bln.predict(X_test)\n",
    "\n",
    "# We go for test data straight\n",
    "rs.report_matrix(actual_data = y_test, \n",
    "                 prediction_data = y_pred_test1, \n",
    "                 ROC = y_prob_test1)"
   ]
  },
  {
   "cell_type": "markdown",
   "metadata": {},
   "source": [
    "### Conclusion:\n",
    "\n",
    "#### Accuracy\n",
    "\n",
    "Class_weight = 'None'.\n",
    "The Accuracy was about 0.5221075902726603.\n",
    "\n",
    "Class_weight = 'balance'.\n",
    "The Accuracy was about 0.5289240972733972.\n",
    "\n",
    "Class_weight = 'balance_subsample'.\n",
    "The Accuracy was about 0.5309506263817244 (Highest improvement).\n",
    "\n",
    "#### Confusion Matrix\n",
    "\n",
    "The power of a hypothesis test is the probability of making the correct decision if the alternative hypothesis is true, hence to reject a null hypothesis if found to be false.\n",
    "\n",
    "In our case, null hypothesis is FP (Not True until proven, easily rejected). By focusing on TP, we will increase our ML model's accuracy.\n",
    "\n",
    "The distribution Postive (TP and FP) experience an increase, when class_weight was set to 'balance' and 'balance_subsample'.\n",
    "\n",
    "Again, with 'balance_subsample' experience higher allocation to Positive distributions within condusion matrix, which is reflected in their respective accuracy score.\n",
    "\n",
    "Comparing class weight = 'None' and class_weight = 'balance_subsample', True Positive (TP) experienced a jump from 1937 to 2004. In short, when we set class_weight, we are asking ML model to focus on True region specifically TP.\n",
    "\n",
    "This is correct and especially true when we have a high imbalance dataset with TP being a minority, this is also the reason why Dr Marco Lopez wanted to demostrate with an imbalance dataset with 2/3 of negatives meta-labels.\n",
    "\n",
    "For more details refer to Advances in Financial Machine Learning, page 71 - 72, section 4.8."
   ]
  }
 ],
 "metadata": {
  "kernelspec": {
   "display_name": "Python 3",
   "language": "python",
   "name": "python3"
  },
  "language_info": {
   "codemirror_mode": {
    "name": "ipython",
    "version": 3
   },
   "file_extension": ".py",
   "mimetype": "text/x-python",
   "name": "python",
   "nbconvert_exporter": "python",
   "pygments_lexer": "ipython3",
   "version": "3.7.4"
  }
 },
 "nbformat": 4,
 "nbformat_minor": 2
}

