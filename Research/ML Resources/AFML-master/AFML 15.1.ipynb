{
 "cells": [
  {
   "cell_type": "markdown",
   "metadata": {},
   "source": [
    "### Strategy Risk\n",
    "\n",
    "Most of the functions below can be found under:\n",
    "\n",
    "* Backtest/stats_measure\n",
    "* Sample_data/make_data\n",
    "\n",
    "> Strategy risk is different from portfolio risk.\n",
    ">\n",
    "> Advance in Financial Machine Learning [2018], Marcos Lopez De Prado.\n",
    "\n",
    "Strategy risk is inherent within investment management style, method and technique, reflected as a mismatch between expectation and eventual outcome.\n",
    "\n",
    "While portfolio risk is directly derived from underlying assets itself.\n",
    "\n",
    "If you are keen on generating synthetic data for your research, copy the code snippets [Generate synthetic raw data](https://gist.github.com/boyboi86/5e00faf48f60abfdbe838fbdee269471) in my gist.\n",
    "\n",
    "Contact: boyboi86@gmail.com"
   ]
  },
  {
   "cell_type": "code",
   "execution_count": 1,
   "metadata": {},
   "outputs": [
    {
     "name": "stdout",
     "output_type": "stream",
     "text": [
      "Num of CPU core:  4\n",
      "Machine info:  Windows-10-10.0.18362-SP0\n",
      "Python 3.7.4 (default, Aug  9 2019, 18:34:13) [MSC v.1915 64 bit (AMD64)]\n",
      "Numpy 1.18.5\n",
      "Pandas 1.0.4\n"
     ]
    }
   ],
   "source": [
    "import numpy as np\n",
    "import pandas as pd\n",
    "import matplotlib.pyplot as plt\n",
    "import research as rs\n",
    "from scipy.stats import norm, kurtosis\n",
    "from scipy.stats import skew as Skew\n",
    "\n",
    "%matplotlib inline"
   ]
  },
  {
   "cell_type": "code",
   "execution_count": 2,
   "metadata": {},
   "outputs": [],
   "source": [
    "def _target_sr(p: float = 0.5, freq: int = 52, ptsl: list = [0.02,-0.02], seed: int = None):\n",
    "    if seed is not None:\n",
    "        np.random.seed(seed)\n",
    "    rnd=np.random.binomial(n=1,p=p, size = freq)\n",
    "    x = [ptsl[0] if i == 1 else ptsl[1] for i in rnd]\n",
    "    mean = np.mean(x)\n",
    "    std = np.std(x)\n",
    "    return (mean, std, mean/std)\n",
    "\n",
    "def target_sr(p: float = 0.5, freq: int = 52, ptsl: list = [0.02,-0.02], n_run: int = 1000000, seed: int = None):\n",
    "    mean, std, sr = 0, 0, []\n",
    "    for n in np.arange(n_run):\n",
    "        _mean, _std, _sr = _target_sr(p = p, freq = freq, ptsl = ptsl, seed = seed)\n",
    "        mean += _mean\n",
    "        std += _std # std is only 0.1, because variance root\n",
    "        if _sr <= .2: sr.append(_sr)\n",
    "    mean = mean/n_run # var = 0.01 but std = 0.1\n",
    "    std = std/n_run\n",
    "    im_sr = mean/std\n",
    "    print(\"Mean: {0:.6f}\\nStd: {1:.6f}\\nSharpe Ratio: {2:.6f}\".format(mean, std, im_sr))\n",
    "    if len(sr) >0:\n",
    "        p =len(sr)/n_run\n",
    "        print(\"Probability of getting SR < 2.: {0}%\".format(100 * p))\n",
    "        return (mean, std, im_sr, sr)\n",
    "    else:\n",
    "        print(\"All SR >= 2\")\n",
    "        return (mean, std, im_sr)\n",
    "\n",
    "    \n",
    "def im_p(freq: int = 52, trgt_sr: int = 2., ptsl: list = [0.02, -0.02]):\n",
    "    pt, sl = ptsl[0], ptsl[1]\n",
    "    a = (freq + trgt_sr ** 2) * (pt - sl) ** 2\n",
    "    b = (2 * freq * sl - trgt_sr ** 2 * (pt-sl)) * (pt-sl)\n",
    "    c = freq * sl ** 2\n",
    "    p = (-b+(b ** 2 - 4*a*c) ** .5)/ (2*a)\n",
    "    print(\"\\nImplied Precision Rate Required: {0:.6f}\".format(p))\n",
    "    return p\n",
    "\n",
    "def im_freq(p: float = 0.6, trgt_sr: int = 2., ptsl: list = [0.02, -0.02]):\n",
    "    pt, sl = ptsl[0], ptsl[1]\n",
    "    freq = (trgt_sr * (pt - sl)) ** 2*p*(1-p)/((pt-sl)*p+sl)**2\n",
    "    print(\"\\nImplied Frequency Required: {0:.6f}\".format(freq))\n",
    "    return int(freq)\n",
    "\n",
    "def im_pt(freq: int, trgt_sr: float, p: float, sl: float):\n",
    "    pt = (sl * freq**(1/2)) / (trgt_sr * (p*(1-p))**(1/2) - p * freq**(1/2)) + sl\n",
    "    print(\"\\nImplied Profit-taking level: {0:.6f}\".format(pt))\n",
    "    return pt\n",
    "\n",
    "def im_sl(freq: int, p: float, pt: float, trgt_sr: float):\n",
    "    sl = (pt * (trgt_sr * (p*(1-p))**(1/2) - p * freq**(1/2))) / \\\n",
    "    (trgt_sr * (p*(1-p))**(1/2) - p * freq**(1/2) + freq**(1/2))\n",
    "    print(\"\\nImplied Stop-loss limit: {0:.6f}\".format(sl))\n",
    "    return sl"
   ]
  },
  {
   "cell_type": "markdown",
   "metadata": {},
   "source": [
    "**Note**\n",
    "\n",
    "According to the book, it was using random without a seed. \n",
    "\n",
    "Hence Monte-Carlos seems appropriate, but if you notice without a seed, it's impossible to get a consistant result.\n",
    "\n",
    "In order to see if the outcome is reliable, I included a probability measure to see if the return sharpe ratio is reliable.\n",
    "\n",
    "At least one of the criteria has to be fulfilled:\n",
    "\n",
    "* As long as Probability of getting SR below 2. is less than 50%.\n",
    "* All SR >= 2.\n",
    "\n",
    "The idea is simple, if we manage to reduce the probability of not attaining SR > 2, it would reflect in our probability.\n",
    "\n",
    "Likewise, if we were to improve SR, the probability of not getting SR < 2 will decrease (Since we manage to pull SR from origin).\n",
    "\n",
    "Hence, we can safely assume the SR is somewhat reliable (At least 2 >=).\n",
    "\n",
    "**Note**\n",
    "\n",
    "Before you intend to \"Annualize\" the return.\n",
    "\n",
    "Kindly refer to this [Stackoverflow](https://quant.stackexchange.com/questions/2260/how-to-annualize-sharpe-ratio)"
   ]
  },
  {
   "cell_type": "code",
   "execution_count": 3,
   "metadata": {},
   "outputs": [
    {
     "name": "stdout",
     "output_type": "stream",
     "text": [
      "Mean: 0.004003\n",
      "Std: 0.019395\n",
      "Sharpe Ratio: 0.206385\n",
      "Probability of getting SR < 2.: 52.896%\n"
     ]
    }
   ],
   "source": [
    "trgt_sr = 2.\n",
    "n_run = 100000\n",
    "p = 0.6\n",
    "freq = 52\n",
    "ptsl = [.02,-.02]\n",
    "\n",
    "\n",
    "trgt = target_sr(p = p, \n",
    "                 freq = freq, \n",
    "                 ptsl  = ptsl, \n",
    "                 n_run = n_run, \n",
    "                 seed = None)"
   ]
  },
  {
   "cell_type": "code",
   "execution_count": 4,
   "metadata": {},
   "outputs": [
    {
     "name": "stdout",
     "output_type": "stream",
     "text": [
      "\n",
      "Implied Precision Rate Required: 0.633631\n",
      "Mean: 0.005347\n",
      "Std: 0.019068\n",
      "Sharpe Ratio: 0.280401\n",
      "Probability of getting SR < 2.: 33.526%\n"
     ]
    }
   ],
   "source": [
    "_p = im_p(freq = freq, trgt_sr = trgt_sr, ptsl = ptsl)\n",
    "\n",
    "p_trgt = target_sr(p = _p, #use implied precision\n",
    "                   freq = freq,\n",
    "                   ptsl  = ptsl,\n",
    "                   n_run = n_run,\n",
    "                   seed = None)\n",
    "\n",
    "chg_p = (_p - 0.6)/ 0.6"
   ]
  },
  {
   "cell_type": "code",
   "execution_count": 5,
   "metadata": {},
   "outputs": [
    {
     "name": "stdout",
     "output_type": "stream",
     "text": [
      "\n",
      "Implied Frequency Required: 96.000000\n",
      "Mean: 0.004006\n",
      "Std: 0.019487\n",
      "Sharpe Ratio: 0.205592\n",
      "Probability of getting SR < 2.: 48.728%\n"
     ]
    }
   ],
   "source": [
    "_freq = im_freq(p = p, trgt_sr = trgt_sr, ptsl = ptsl)\n",
    "\n",
    "f_trgt = target_sr(p = p,\n",
    "                   freq = _freq, #use implied freq\n",
    "                   ptsl  = ptsl,\n",
    "                   n_run = n_run,\n",
    "                   seed = None)\n",
    "\n",
    "chg_f = (_freq - 52)/52"
   ]
  },
  {
   "cell_type": "code",
   "execution_count": 6,
   "metadata": {},
   "outputs": [
    {
     "name": "stdout",
     "output_type": "stream",
     "text": [
      "\n",
      "Implied Profit-taking level: 0.023092\n",
      "Mean: 0.005846\n",
      "Std: 0.020895\n",
      "Sharpe Ratio: 0.279754\n",
      "Probability of getting SR < 2.: 31.278%\n"
     ]
    }
   ],
   "source": [
    "_pt = im_pt(freq = freq, trgt_sr = trgt_sr, p = p, sl = ptsl[1])\n",
    "\n",
    "pt_trgt = target_sr(p = p,\n",
    "                    freq = freq,\n",
    "                    ptsl  = [_pt, ptsl[1]], #use implied profit taking\n",
    "                    n_run = n_run,\n",
    "                    seed = None)\n",
    "\n",
    "chg_pt = (_pt - 0.02)/0.02"
   ]
  },
  {
   "cell_type": "code",
   "execution_count": 7,
   "metadata": {},
   "outputs": [
    {
     "name": "stdout",
     "output_type": "stream",
     "text": [
      "\n",
      "Implied Stop-loss limit: -0.017322\n",
      "Mean: 0.005062\n",
      "Std: 0.018101\n",
      "Sharpe Ratio: 0.279653\n",
      "Probability of getting SR < 2.: 31.444%\n"
     ]
    }
   ],
   "source": [
    "_sl = im_sl(freq = freq, p = p, pt = ptsl[0], trgt_sr = trgt_sr)\n",
    "\n",
    "sl_trgt = target_sr(p = p,\n",
    "                    freq = freq,\n",
    "                    ptsl  = [ptsl[0], _sl], #use implied stop loss\n",
    "                    n_run = n_run,\n",
    "                    seed = None)\n",
    "\n",
    "chg_sl = (_sl + 0.02)/ 0.02"
   ]
  },
  {
   "cell_type": "markdown",
   "metadata": {},
   "source": [
    "**Note**\n",
    "\n",
    "SR required is 0.2 (Equal to SR 2 in the book)\n",
    "\n",
    "It is not possible to achieve a SR 2, after running Monte-Carlos 100,000 times for theoriginal input.\n",
    "\n",
    "The Average Sharpe Ratio was around 2.\n",
    "\n",
    "On top of that it has a high risk of not achieve the intended amount with a low precision rate 0.6.\n",
    "\n",
    "We can assume that Sharpe Ratio of 2 not possible, probably below 2 with the given parameter. (Not viable Strategy)\n",
    "\n",
    "**Note**\n",
    "\n",
    "Minimal precision required: 0.6336306209562121\n",
    "\n",
    "Otherwise, our we will have high probability SR < 2.\n",
    "\n",
    "**Note**\n",
    "\n",
    "If the strategy was run on a daily basis. Trading days = 252.\n",
    "\n",
    "Min Bets Frequency Required: 96.0\n",
    "\n",
    "**Note**\n",
    "\n",
    "Profit-taking level should be around 2.4% at least.\n",
    "\n",
    "Optimal Profit-taking level: 0.023092\n",
    "\n",
    "**Note**\n",
    "\n",
    "Alternate Stop loss level should be around 1.8% at least to attain sharpe ratio 2.\n",
    "\n",
    "optimal stop loss limit: -0.017322"
   ]
  },
  {
   "cell_type": "code",
   "execution_count": 8,
   "metadata": {},
   "outputs": [
    {
     "name": "stdout",
     "output_type": "stream",
     "text": [
      "\n",
      "1 % change in precision will result in 14.344% change in SR\n",
      "\n",
      "1 % change in frequency will result in 0.066% change in SR\n",
      "\n",
      "1 % change in profit-taking will result in 5.159% change in SR\n",
      "\n",
      "1 % change in stop-loss will result in 5.949% change in SR\n",
      "\n"
     ]
    }
   ],
   "source": [
    "p_sr, f_sr = (p_trgt[2] * 10 - trgt_sr), (f_trgt[2] * 10 - trgt_sr)\n",
    "\n",
    "pt_sr, sl_sr = (pt_trgt[2] * 10 - trgt_sr), (sl_trgt[2] * 10 - trgt_sr)\n",
    "\n",
    "print(\"\\n1 % change in precision will result in {0:.3f}% change in SR\\n\".format(p_sr/ chg_p))\n",
    "print(\"1 % change in frequency will result in {0:.3f}% change in SR\\n\".format(f_sr/ chg_f))\n",
    "print(\"1 % change in profit-taking will result in {0:.3f}% change in SR\\n\".format(pt_sr/ chg_pt))\n",
    "print(\"1 % change in stop-loss will result in {0:.3f}% change in SR\\n\".format(sl_sr/ chg_sl))"
   ]
  },
  {
   "cell_type": "markdown",
   "metadata": {},
   "source": [
    "### Conclusion\n",
    "\n",
    "Precision rate will result in the most change for SR in all 4 factors.\n",
    "\n",
    "Lowest hang fruit is practically the precision rate.\n",
    "\n",
    "       Precision Rate> Stop Loss> Profit Taking > Frequency\n",
    "\n",
    "Precision and Frequency will definitely affect the profit-taking and stop-loss.\n",
    "\n",
    "Ultimately based on the algorithm:\n",
    "\n",
    "* Low precision rate with high frequency = frequent stop-loss\n",
    "* High Precision rate with high frequency = frquenct profit-taking\n",
    "* Low precision with low frequency = less stop-loss triggered\n",
    "* High precision with low frequency = less profit-taking triggered\n",
    "\n",
    "With SR in mind, precision rate along with frequency play a major role, profit-taking and stop-loss limit is more \"reactive\" to the former 2.\n",
    "\n",
    "If you have low precision rate, having higher stop-loss and lower profit-taking limits might be a good idea.\n",
    "\n",
    "However, there is some trade-off between frequency and precision rate. But the changes might not be significant unless frequency is really large.\n",
    "\n",
    "**Note**\n",
    "\n",
    "If you are still not convinced, kindly refer to the mathematical formula above."
   ]
  },
  {
   "cell_type": "code",
   "execution_count": 9,
   "metadata": {},
   "outputs": [],
   "source": [
    "def mix_gauss(mu1: float, mu2: float, sig1: float, sig2: float, p: float, n_obs: int):\n",
    "    rtn1 = np.random.normal(mu1, sig1, size=int(n_obs * p))\n",
    "    rtn2 = np.random.normal(mu2,sig2, size=int(n_obs) - rtn1.shape[0])\n",
    "    rtn = np.append(rtn1,rtn2, axis = 0)\n",
    "    np.random.shuffle(rtn)\n",
    "    return rtn\n",
    "\n",
    "def prob_failure(rtn: float, freq: int, trgt_sr: float):\n",
    "    pos_rtn, neg_rtn = rtn[rtn>0].mean(), rtn[rtn<=0].mean()\n",
    "    p = rtn[rtn>0].shape[0]/ float(rtn.shape[0])\n",
    "    ptsl = [pos_rtn, neg_rtn]\n",
    "    threshold = im_p(freq = freq, trgt_sr = trgt_sr, ptsl = ptsl)\n",
    "    risk = norm.cdf(threshold, p, p * (1 - p))\n",
    "    print(\"Predicted Precision Pate: {0:.6f}\\n\".format(p))\n",
    "    return risk\n",
    "\n",
    "def strategy_failure(mu1: float, mu2: float, sig1: float, sig2: float, p: float, n_obs: int, freq: int, trgt_sr: float):\n",
    "    rtn = mix_gauss(mu1 = mu1,\n",
    "                    mu2 = mu2,\n",
    "                    sig1 = sig1,\n",
    "                    sig2 = sig2,\n",
    "                    p = p,\n",
    "                    n_obs = n_obs)\n",
    "    \n",
    "    _proba_failure = prob_failure(rtn = rtn,\n",
    "                                  freq = freq,\n",
    "                                  trgt_sr = trgt_sr)\n",
    "    \n",
    "    print(\"Strategy Failure Probability: {0:.5f}\".format(_proba_failure))\n",
    "    if _proba_failure> 0.05:\n",
    "        print(\"Discard Strategy; High risk indicated\")\n",
    "    else:\n",
    "        print(\"Accept Strategy; Moderate risk indicated\")"
   ]
  },
  {
   "cell_type": "markdown",
   "metadata": {},
   "source": [
    "**Note**\n",
    "\n",
    "The first 4 moments can be calculated:\n",
    "    \n",
    "1. Mean\n",
    "2. Variance\n",
    "3. Skewness\n",
    "4. Kurtosis\n",
    "\n",
    "**Note**\n",
    "\n",
    "Please learn to differentiate between raw moments and central moments."
   ]
  },
  {
   "cell_type": "code",
   "execution_count": 10,
   "metadata": {},
   "outputs": [
    {
     "name": "stdout",
     "output_type": "stream",
     "text": [
      "\n",
      "1st mts: 0.051935647397381136\n",
      "2nd mts: 0.0640552864484995\n",
      "3rd mts: -3.073240499764973\n",
      "4th mts: 10.730370000180923\n",
      "\n",
      "Annualized Sharpe Ratio: 3.972064\n",
      "Benchmark: 0.165503\n",
      "\n",
      "At 5% significance level, Sharpe Ratio: 3.972064\n",
      "Accept Strategy, as indicated by PSR\n"
     ]
    }
   ],
   "source": [
    "mu1, mu2, sig1, sig2, p, n_obs = -.1, 0.06, 0.12, .03, .15, 12 * 2\n",
    "\n",
    "rtn = mix_gauss(mu1 = mu1,\n",
    "                mu2 = mu2,\n",
    "                sig1 = sig1,\n",
    "                sig2 = sig2,\n",
    "                p = p,\n",
    "                n_obs = n_obs)\n",
    "\n",
    "mean, std, skew, kurt = np.mean(rtn), np.std(rtn), Skew(rtn), kurtosis(rtn)\n",
    "\n",
    "print(\"\\n1st mts: {0}\\n2nd mts: {1}\\n3rd mts: {2}\\n4th mts: {3}\\n\".format(mean, std, skew, kurt))\n",
    "\n",
    "sr1 = rs.sharpe_ratio(rtn = rtn, rf_param = .0, t_days = 12 * 2)\n",
    "benchmark = mean/ (std * (12 * 2) ** 0.5)\n",
    "\n",
    "print(\"Annualized Sharpe Ratio: {0:.6f}\\nBenchmark: {1:.6f}\\n\".format(sr1, benchmark))\n",
    "\n",
    "proba = rs.proba_sr(obs_sr = sr1,\n",
    "                     benchmark_sr = benchmark,\n",
    "                     num_returns = 12 * 2,\n",
    "                     skew_returns = skew,\n",
    "                     kurt_returns = kurt)\n",
    "\n",
    "if proba > 0.95:\n",
    "    print(\"At 5% significance level, Sharpe Ratio: {0:.6f}\".format(sr1))\n",
    "    print(\"Accept Strategy, as indicated by PSR\")\n",
    "    trgt_sr = sr1\n",
    "else:\n",
    "    print(\"At 5% significance level, Sharpe Ratio: {0:.6f}\".format(sr1))\n",
    "    print(\"Discard Strategy, as indicated by PSR\")\n",
    "    trgt_sr = 2."
   ]
  },
  {
   "cell_type": "code",
   "execution_count": 11,
   "metadata": {},
   "outputs": [
    {
     "name": "stdout",
     "output_type": "stream",
     "text": [
      "\n",
      "Implied Precision Rate Required: 0.872079\n",
      "Predicted Precision Pate: 0.791667\n",
      "\n",
      "Strategy Failure Probability: 0.68707\n",
      "Discard Strategy; High risk indicated\n"
     ]
    }
   ],
   "source": [
    "strategy_failure(mu1 = mu1,\n",
    "                 mu2 = mu2,\n",
    "                 sig1 = sig1,\n",
    "                 sig2 = sig2,\n",
    "                 p = p,\n",
    "                 n_obs = n_obs,\n",
    "                 freq = n_obs,\n",
    "                 trgt_sr= trgt_sr) # depends if they pass first test"
   ]
  },
  {
   "cell_type": "markdown",
   "metadata": {},
   "source": [
    "**Note**\n",
    "\n",
    "Because the data is randomly generated, hence the conclusion may not always be in line with learning outcome.\n",
    "\n",
    "But the \"correct\" answer seems to be accept strategy for PSR and discard strategy for Strat-Risk Metric."
   ]
  },
  {
   "cell_type": "markdown",
   "metadata": {},
   "source": [
    "### Probabilistic SR vs Strategy Risk Metrics\n",
    "\n",
    "Which method is better? It depends.\n",
    "\n",
    "As demostrated in [AFML 14.1](https://github.com/boyboi86/AFML/blob/master/AFML%2014.1.ipynb)\n",
    "\n",
    "PSR tends to favor \"normal\" distributed returns.\n",
    "\n",
    "As a result, it will reject \"Too good or too bad to be true returns\". Hence it follows a gaussian shape as a measure based on benchmark provided.\n",
    "\n",
    "Strategy risk metric focus on key factor which determined the risk/ return that intended strategy might faced.\n",
    "\n",
    "As demostrated earlier in this exercise, key factor is precision rate which will impact around 14% SR per 1% PR change.\n",
    "\n",
    "Return distribution would most likely display asymmetrical returns and tends to be bias. (SR-maximization/ Return-driven)\n",
    "\n",
    "**Consider the below graph**\n",
    "\n",
    "The two graphs are generated with different properties:\n",
    "\n",
    "* Asymmetrical return with higher bias (Higher frequency/ lower variance)\n",
    "* Symmetrical return with higher variance (Lower Frequency/ lower bias)\n",
    "\n",
    "Notice there is an overlapping area between these 2 distributions, therefore there is a mutually inclusive area which both can agreed upon.\n",
    "\n",
    "As long as the back-test return distribution can fall within the overlapped region (The sweet spot between SR-maximization and realistic outcome).\n",
    "\n",
    "It will be favored and endorsed by both metrics. \n",
    "\n",
    "As such, these 2 methods can and are considered complementary to each other."
   ]
  },
  {
   "cell_type": "code",
   "execution_count": 12,
   "metadata": {},
   "outputs": [
    {
     "data": {
      "image/png": "[encoded data removed]",
      "text/plain": [
       "<Figure size 864x576 with 1 Axes>"
      ]
     },
     "metadata": {
      "needs_background": "light"
     },
     "output_type": "display_data"
    }
   ],
   "source": [
    "psr_favor = np.random.normal(0, 2, 10000)\n",
    "strat_risk_favor = np.random.normal(2,1.5,10000)\n",
    "df = pd.DataFrame({'PSR Favor': psr_favor, 'SRM Favor': strat_risk_favor})\n",
    "df.plot(kind='kde', figsize=(12,8), grid=True)\n",
    "plt.axvline(x=0,ls='--',c='r')\n",
    "plt.show()"
   ]
  }
 ],
 "metadata": {
  "kernelspec": {
   "display_name": "Python 3",
   "language": "python",
   "name": "python3"
  },
  "language_info": {
   "codemirror_mode": {
    "name": "ipython",
    "version": 3
   },
   "file_extension": ".py",
   "mimetype": "text/x-python",
   "name": "python",
   "nbconvert_exporter": "python",
   "pygments_lexer": "ipython3",
   "version": "3.7.4"
  }
 },
 "nbformat": 4,
 "nbformat_minor": 2
}
