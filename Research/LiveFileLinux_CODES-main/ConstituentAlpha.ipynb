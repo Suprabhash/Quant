{
 "cells": [
  {
   "cell_type": "code",
   "execution_count": 23,
   "outputs": [],
   "source": [
    "import os, sys\n",
    "currentdir = os.path.dirname(os.path.abspath(''))\n",
    "parentdir = os.path.dirname(currentdir)\n",
    "sys.path.append(parentdir)\n",
    "from helper_functions_constituent_alpha_for_dual_momo import *\n",
    "import pickle"
   ],
   "metadata": {
    "collapsed": false,
    "pycharm": {
     "name": "#%%\n"
    }
   }
  },
  {
   "cell_type": "code",
   "execution_count": 52,
   "outputs": [],
   "source": [
    "with open(f'C:/Users/suprabhashsahu/Desktop/FisherEmbeddingFinal/ARK/ARKQ_RecalibPeriod_{int(1)}.pkl', 'rb') as file:\n",
    "    assets = pickle.load(file)"
   ],
   "metadata": {
    "collapsed": false,
    "pycharm": {
     "name": "#%%\n"
    }
   }
  },
  {
   "cell_type": "code",
   "execution_count": 53,
   "outputs": [],
   "source": [
    "tickers = return_all_tickers_over_backtest(assets)"
   ],
   "metadata": {
    "collapsed": false,
    "pycharm": {
     "name": "#%%\n"
    }
   }
  },
  {
   "cell_type": "code",
   "execution_count": 54,
   "outputs": [
    {
     "name": "stdout",
     "output_type": "stream",
     "text": [
      "29\n",
      "['TER', 'VUZI', 'KTOS', 'JD', 'CAT', 'DE', 'TRMB', 'MGA', 'MTLS', 'SSYS', 'ISRG', 'TSLA', 'IRDM', 'SNPS', 'ESLT', 'NVDA', 'BYDDY', 'LMT', 'AVAV', 'ANSS', 'KMTUY', 'PRLB', 'BIDU', 'TWOU', 'NNDM', 'NXPI', 'TDY', 'DDD', 'GOOG']\n"
     ]
    }
   ],
   "source": [
    "print(len(tickers))\n",
    "print(tickers)\n"
   ],
   "metadata": {
    "collapsed": false,
    "pycharm": {
     "name": "#%%\n"
    }
   }
  },
  {
   "cell_type": "code",
   "execution_count": null,
   "outputs": [],
   "source": [],
   "metadata": {
    "collapsed": false,
    "pycharm": {
     "name": "#%%\n"
    }
   }
  }
 ],
 "metadata": {
  "kernelspec": {
   "display_name": "Python 3",
   "language": "python",
   "name": "python3"
  },
  "language_info": {
   "codemirror_mode": {
    "name": "ipython",
    "version": 2
   },
   "file_extension": ".py",
   "mimetype": "text/x-python",
   "name": "python",
   "nbconvert_exporter": "python",
   "pygments_lexer": "ipython2",
   "version": "2.7.6"
  }
 },
 "nbformat": 4,
 "nbformat_minor": 0
}