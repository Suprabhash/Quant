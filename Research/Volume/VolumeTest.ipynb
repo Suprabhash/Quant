{
 "cells": [
  {
   "cell_type": "code",
   "execution_count": 2,
   "metadata": {
    "collapsed": true
   },
   "outputs": [],
   "source": [
    "%load_ext autoreload\n",
    "%autoreload 2"
   ]
  },
  {
   "cell_type": "code",
   "execution_count": 3,
   "outputs": [],
   "source": [
    "import warnings\n",
    "warnings.filterwarnings(\"ignore\")\n",
    "import matplotlib.pyplot as plt\n",
    "plt.rcParams[\"figure.figsize\"] = (15,5)\n",
    "plt.rcParams['axes.grid'] = False\n",
    "import seaborn as sns\n",
    "sns.set_style(\"whitegrid\", {'axes.grid' : False})\n",
    "from Utils.utils import correlation_filter\n",
    "from Strategies.VolumeSVR.VolumeSVR import VolumeSVR\n",
    "from Deployer.Deployer import *"
   ],
   "metadata": {
    "collapsed": false,
    "pycharm": {
     "name": "#%%\n"
    }
   }
  },
  {
   "cell_type": "code",
   "execution_count": 6,
   "outputs": [],
   "source": [
    "deployer = Deployer(strategy = VolumeSVR, ticker = \"ETH=BTSP\", data_frequency = 'H')"
   ],
   "metadata": {
    "collapsed": false,
    "pycharm": {
     "name": "#%%\n"
    }
   }
  },
  {
   "cell_type": "code",
   "execution_count": 7,
   "outputs": [],
   "source": [
    "deployer.get_data(import_cache=True)"
   ],
   "metadata": {
    "collapsed": false,
    "pycharm": {
     "name": "#%%\n"
    }
   }
  },
  {
   "cell_type": "code",
   "execution_count": 8,
   "outputs": [
    {
     "name": "stderr",
     "output_type": "stream",
     "text": [
      "[autoreload of Strategies.VolumeSVR.config failed: Traceback (most recent call last):\n",
      "  File \"C:\\Users\\suprabhashsahu\\Desktop\\Deployer_Framework\\venv\\lib\\site-packages\\IPython\\extensions\\autoreload.py\", line 257, in check\n",
      "    superreload(m, reload, self.old_objects)\n",
      "  File \"C:\\Users\\suprabhashsahu\\Desktop\\Deployer_Framework\\venv\\lib\\site-packages\\IPython\\extensions\\autoreload.py\", line 455, in superreload\n",
      "    module = reload(module)\n",
      "  File \"C:\\Users\\suprabhashsahu\\AppData\\Local\\Programs\\Python\\Python39\\lib\\importlib\\__init__.py\", line 169, in reload\n",
      "    _bootstrap._exec(spec, module)\n",
      "  File \"<frozen importlib._bootstrap>\", line 613, in _exec\n",
      "  File \"<frozen importlib._bootstrap_external>\", line 790, in exec_module\n",
      "  File \"<frozen importlib._bootstrap>\", line 228, in _call_with_frames_removed\n",
      "  File \"C:\\Users\\suprabhashsahu\\Desktop\\Deployer_Framework\\Strategies\\VolumeSVR\\config.py\", line 10, in <module>\n",
      "    \"C\": frange(0.1, 1000, 0.01),\n",
      "  File \"C:\\Users\\suprabhashsahu\\Desktop\\Deployer_Framework\\Utils\\utils.py\", line 192, in frange\n",
      "    final_list = [round(el,-1*max(decimals)) for el in naive_list]\n",
      "  File \"C:\\Users\\suprabhashsahu\\Desktop\\Deployer_Framework\\Utils\\utils.py\", line 192, in <listcomp>\n",
      "    final_list = [round(el,-1*max(decimals)) for el in naive_list]\n",
      "KeyboardInterrupt\n",
      "]\n"
     ]
    },
    {
     "name": "stdout",
     "output_type": "stream",
     "text": [
      "['poc_2', 'vah_2', 'val_2', 'dev_from_poc_2', 'dev_from_vah_2', 'dev_from_val_2', 'delta_from_poc_2', 'delta_from_vah_2', 'delta_from_val_2', 'velocity_poc_2', 'velocity_val_2', 'velocity_vah_2', 'acceleration_poc_2', 'acceleration_val_2', 'acceleration_vah_2', 'relvelocity_of_Price_from_poc_2', 'relvelocity_of_Price_from_val_2', 'relvelocity_of_Price_from_vah_2', 'relacceleration_of_Price_from_poc_2', 'relacceleration_of_Price_from_vah_2', 'relacceleration_of_Price_from_val_2', 'poc_5', 'vah_5', 'val_5', 'dev_from_poc_5', 'dev_from_vah_5', 'dev_from_val_5', 'delta_from_poc_5', 'delta_from_vah_5', 'delta_from_val_5', 'velocity_poc_5', 'velocity_val_5', 'velocity_vah_5', 'acceleration_poc_5', 'acceleration_val_5', 'acceleration_vah_5', 'relvelocity_of_Price_from_poc_5', 'relvelocity_of_Price_from_val_5', 'relvelocity_of_Price_from_vah_5', 'relacceleration_of_Price_from_poc_5', 'relacceleration_of_Price_from_vah_5', 'relacceleration_of_Price_from_val_5', 'poc_10', 'vah_10', 'val_10', 'dev_from_poc_10', 'dev_from_vah_10', 'dev_from_val_10', 'delta_from_poc_10', 'delta_from_vah_10', 'delta_from_val_10', 'velocity_poc_10', 'velocity_val_10', 'velocity_vah_10', 'acceleration_poc_10', 'acceleration_val_10', 'acceleration_vah_10', 'relvelocity_of_Price_from_poc_10', 'relvelocity_of_Price_from_val_10', 'relvelocity_of_Price_from_vah_10', 'relacceleration_of_Price_from_poc_10', 'relacceleration_of_Price_from_vah_10', 'relacceleration_of_Price_from_val_10', 'poc_21', 'vah_21', 'val_21', 'dev_from_poc_21', 'dev_from_vah_21', 'dev_from_val_21', 'delta_from_poc_21', 'delta_from_vah_21', 'delta_from_val_21', 'velocity_poc_21', 'velocity_val_21', 'velocity_vah_21', 'acceleration_poc_21', 'acceleration_val_21', 'acceleration_vah_21', 'relvelocity_of_Price_from_poc_21', 'relvelocity_of_Price_from_val_21', 'relvelocity_of_Price_from_vah_21', 'relacceleration_of_Price_from_poc_21', 'relacceleration_of_Price_from_vah_21', 'relacceleration_of_Price_from_val_21', 'poc_42', 'vah_42', 'val_42', 'dev_from_poc_42', 'dev_from_vah_42', 'dev_from_val_42', 'delta_from_poc_42', 'delta_from_vah_42', 'delta_from_val_42', 'velocity_poc_42', 'velocity_val_42', 'velocity_vah_42', 'acceleration_poc_42', 'acceleration_val_42', 'acceleration_vah_42', 'relvelocity_of_Price_from_poc_42', 'relvelocity_of_Price_from_val_42', 'relvelocity_of_Price_from_vah_42', 'relacceleration_of_Price_from_poc_42', 'relacceleration_of_Price_from_vah_42', 'relacceleration_of_Price_from_val_42', 'poc_63', 'vah_63', 'val_63', 'dev_from_poc_63', 'dev_from_vah_63', 'dev_from_val_63', 'delta_from_poc_63', 'delta_from_vah_63', 'delta_from_val_63', 'velocity_poc_63', 'velocity_val_63', 'velocity_vah_63', 'acceleration_poc_63', 'acceleration_val_63', 'acceleration_vah_63', 'relvelocity_of_Price_from_poc_63', 'relvelocity_of_Price_from_val_63', 'relvelocity_of_Price_from_vah_63', 'relacceleration_of_Price_from_poc_63', 'relacceleration_of_Price_from_vah_63', 'relacceleration_of_Price_from_val_63', 'poc_126', 'vah_126', 'val_126', 'dev_from_poc_126', 'dev_from_vah_126', 'dev_from_val_126', 'delta_from_poc_126', 'delta_from_vah_126', 'delta_from_val_126', 'velocity_poc_126', 'velocity_val_126', 'velocity_vah_126', 'acceleration_poc_126', 'acceleration_val_126', 'acceleration_vah_126', 'relvelocity_of_Price_from_poc_126', 'relvelocity_of_Price_from_val_126', 'relvelocity_of_Price_from_vah_126', 'relacceleration_of_Price_from_poc_126', 'relacceleration_of_Price_from_vah_126', 'relacceleration_of_Price_from_val_126', 'poc_252', 'vah_252', 'val_252', 'dev_from_poc_252', 'dev_from_vah_252', 'dev_from_val_252', 'delta_from_poc_252', 'delta_from_vah_252', 'delta_from_val_252', 'velocity_poc_252', 'velocity_val_252', 'velocity_vah_252', 'acceleration_poc_252', 'acceleration_val_252', 'acceleration_vah_252', 'relvelocity_of_Price_from_poc_252', 'relvelocity_of_Price_from_val_252', 'relvelocity_of_Price_from_vah_252', 'relacceleration_of_Price_from_poc_252', 'relacceleration_of_Price_from_vah_252', 'relacceleration_of_Price_from_val_252', 'poc_504', 'vah_504', 'val_504', 'dev_from_poc_504', 'dev_from_vah_504', 'dev_from_val_504', 'delta_from_poc_504', 'delta_from_vah_504', 'delta_from_val_504', 'velocity_poc_504', 'velocity_val_504', 'velocity_vah_504', 'acceleration_poc_504', 'acceleration_val_504', 'acceleration_vah_504', 'relvelocity_of_Price_from_poc_504', 'relvelocity_of_Price_from_val_504', 'relvelocity_of_Price_from_vah_504', 'relacceleration_of_Price_from_poc_504', 'relacceleration_of_Price_from_vah_504', 'relacceleration_of_Price_from_val_504', 'delta_vah2_val2', 'velocity_vah2_val2', 'acceleration_vah2_val2', 'delta_vah2_poc2', 'velocity_vah2_poc2', 'acceleration_vah2_poc2', 'delta_vah2_vah5', 'velocity_vah2_vah5', 'acceleration_vah2_vah5', 'delta_vah2_val5', 'velocity_vah2_val5', 'acceleration_vah2_val5', 'delta_vah2_poc5', 'velocity_vah2_poc5', 'acceleration_vah2_poc5', 'delta_vah2_vah10', 'velocity_vah2_vah10', 'acceleration_vah2_vah10', 'delta_vah2_val10', 'velocity_vah2_val10', 'acceleration_vah2_val10', 'delta_vah2_poc10', 'velocity_vah2_poc10', 'acceleration_vah2_poc10', 'delta_vah2_vah21', 'velocity_vah2_vah21', 'acceleration_vah2_vah21', 'delta_vah2_val21', 'velocity_vah2_val21', 'acceleration_vah2_val21', 'delta_vah2_poc21', 'velocity_vah2_poc21', 'acceleration_vah2_poc21', 'delta_vah2_vah42', 'velocity_vah2_vah42', 'acceleration_vah2_vah42', 'delta_vah2_val42', 'velocity_vah2_val42', 'acceleration_vah2_val42', 'delta_vah2_poc42', 'velocity_vah2_poc42', 'acceleration_vah2_poc42', 'delta_vah2_vah63', 'velocity_vah2_vah63', 'acceleration_vah2_vah63', 'delta_vah2_val63', 'velocity_vah2_val63', 'acceleration_vah2_val63', 'delta_vah2_poc63', 'velocity_vah2_poc63', 'acceleration_vah2_poc63', 'delta_vah2_vah126', 'velocity_vah2_vah126', 'acceleration_vah2_vah126', 'delta_vah2_val126', 'velocity_vah2_val126', 'acceleration_vah2_val126', 'delta_vah2_poc126', 'velocity_vah2_poc126', 'acceleration_vah2_poc126', 'delta_vah2_vah252', 'velocity_vah2_vah252', 'acceleration_vah2_vah252', 'delta_vah2_val252', 'velocity_vah2_val252', 'acceleration_vah2_val252', 'delta_vah2_poc252', 'velocity_vah2_poc252', 'acceleration_vah2_poc252', 'delta_vah2_vah504', 'velocity_vah2_vah504', 'acceleration_vah2_vah504', 'delta_vah2_val504', 'velocity_vah2_val504', 'acceleration_vah2_val504', 'delta_vah2_poc504', 'velocity_vah2_poc504', 'acceleration_vah2_poc504', 'delta_val2_poc2', 'velocity_val2_poc2', 'acceleration_val2_poc2', 'delta_val2_vah5', 'velocity_val2_vah5', 'acceleration_val2_vah5', 'delta_val2_val5', 'velocity_val2_val5', 'acceleration_val2_val5', 'delta_val2_poc5', 'velocity_val2_poc5', 'acceleration_val2_poc5', 'delta_val2_vah10', 'velocity_val2_vah10', 'acceleration_val2_vah10', 'delta_val2_val10', 'velocity_val2_val10', 'acceleration_val2_val10', 'delta_val2_poc10', 'velocity_val2_poc10', 'acceleration_val2_poc10', 'delta_val2_vah21', 'velocity_val2_vah21', 'acceleration_val2_vah21', 'delta_val2_val21', 'velocity_val2_val21', 'acceleration_val2_val21', 'delta_val2_poc21', 'velocity_val2_poc21', 'acceleration_val2_poc21', 'delta_val2_vah42', 'velocity_val2_vah42', 'acceleration_val2_vah42', 'delta_val2_val42', 'velocity_val2_val42', 'acceleration_val2_val42', 'delta_val2_poc42', 'velocity_val2_poc42', 'acceleration_val2_poc42', 'delta_val2_vah63', 'velocity_val2_vah63', 'acceleration_val2_vah63', 'delta_val2_val63', 'velocity_val2_val63', 'acceleration_val2_val63', 'delta_val2_poc63', 'velocity_val2_poc63', 'acceleration_val2_poc63', 'delta_val2_vah126', 'velocity_val2_vah126', 'acceleration_val2_vah126', 'delta_val2_val126', 'velocity_val2_val126', 'acceleration_val2_val126', 'delta_val2_poc126', 'velocity_val2_poc126', 'acceleration_val2_poc126', 'delta_val2_vah252', 'velocity_val2_vah252', 'acceleration_val2_vah252', 'delta_val2_val252', 'velocity_val2_val252', 'acceleration_val2_val252', 'delta_val2_poc252', 'velocity_val2_poc252', 'acceleration_val2_poc252', 'delta_val2_vah504', 'velocity_val2_vah504', 'acceleration_val2_vah504', 'delta_val2_val504', 'velocity_val2_val504', 'acceleration_val2_val504', 'delta_val2_poc504', 'velocity_val2_poc504', 'acceleration_val2_poc504', 'delta_poc2_vah5', 'velocity_poc2_vah5', 'acceleration_poc2_vah5', 'delta_poc2_val5', 'velocity_poc2_val5', 'acceleration_poc2_val5', 'delta_poc2_poc5', 'velocity_poc2_poc5', 'acceleration_poc2_poc5', 'delta_poc2_vah10', 'velocity_poc2_vah10', 'acceleration_poc2_vah10', 'delta_poc2_val10', 'velocity_poc2_val10', 'acceleration_poc2_val10', 'delta_poc2_poc10', 'velocity_poc2_poc10', 'acceleration_poc2_poc10', 'delta_poc2_vah21', 'velocity_poc2_vah21', 'acceleration_poc2_vah21', 'delta_poc2_val21', 'velocity_poc2_val21', 'acceleration_poc2_val21', 'delta_poc2_poc21', 'velocity_poc2_poc21', 'acceleration_poc2_poc21', 'delta_poc2_vah42', 'velocity_poc2_vah42', 'acceleration_poc2_vah42', 'delta_poc2_val42', 'velocity_poc2_val42', 'acceleration_poc2_val42', 'delta_poc2_poc42', 'velocity_poc2_poc42', 'acceleration_poc2_poc42', 'delta_poc2_vah63', 'velocity_poc2_vah63', 'acceleration_poc2_vah63', 'delta_poc2_val63', 'velocity_poc2_val63', 'acceleration_poc2_val63', 'delta_poc2_poc63', 'velocity_poc2_poc63', 'acceleration_poc2_poc63', 'delta_poc2_vah126', 'velocity_poc2_vah126', 'acceleration_poc2_vah126', 'delta_poc2_val126', 'velocity_poc2_val126', 'acceleration_poc2_val126', 'delta_poc2_poc126', 'velocity_poc2_poc126', 'acceleration_poc2_poc126', 'delta_poc2_vah252', 'velocity_poc2_vah252', 'acceleration_poc2_vah252', 'delta_poc2_val252', 'velocity_poc2_val252', 'acceleration_poc2_val252', 'delta_poc2_poc252', 'velocity_poc2_poc252', 'acceleration_poc2_poc252', 'delta_poc2_vah504', 'velocity_poc2_vah504', 'acceleration_poc2_vah504', 'delta_poc2_val504', 'velocity_poc2_val504', 'acceleration_poc2_val504', 'delta_poc2_poc504', 'velocity_poc2_poc504', 'acceleration_poc2_poc504', 'delta_vah5_val5', 'velocity_vah5_val5', 'acceleration_vah5_val5', 'delta_vah5_poc5', 'velocity_vah5_poc5', 'acceleration_vah5_poc5', 'delta_vah5_vah10', 'velocity_vah5_vah10', 'acceleration_vah5_vah10', 'delta_vah5_val10', 'velocity_vah5_val10', 'acceleration_vah5_val10', 'delta_vah5_poc10', 'velocity_vah5_poc10', 'acceleration_vah5_poc10', 'delta_vah5_vah21', 'velocity_vah5_vah21', 'acceleration_vah5_vah21', 'delta_vah5_val21', 'velocity_vah5_val21', 'acceleration_vah5_val21', 'delta_vah5_poc21', 'velocity_vah5_poc21', 'acceleration_vah5_poc21', 'delta_vah5_vah42', 'velocity_vah5_vah42', 'acceleration_vah5_vah42', 'delta_vah5_val42', 'velocity_vah5_val42', 'acceleration_vah5_val42', 'delta_vah5_poc42', 'velocity_vah5_poc42', 'acceleration_vah5_poc42', 'delta_vah5_vah63', 'velocity_vah5_vah63', 'acceleration_vah5_vah63', 'delta_vah5_val63', 'velocity_vah5_val63', 'acceleration_vah5_val63', 'delta_vah5_poc63', 'velocity_vah5_poc63', 'acceleration_vah5_poc63', 'delta_vah5_vah126', 'velocity_vah5_vah126', 'acceleration_vah5_vah126', 'delta_vah5_val126', 'velocity_vah5_val126', 'acceleration_vah5_val126', 'delta_vah5_poc126', 'velocity_vah5_poc126', 'acceleration_vah5_poc126', 'delta_vah5_vah252', 'velocity_vah5_vah252', 'acceleration_vah5_vah252', 'delta_vah5_val252', 'velocity_vah5_val252', 'acceleration_vah5_val252', 'delta_vah5_poc252', 'velocity_vah5_poc252', 'acceleration_vah5_poc252', 'delta_vah5_vah504', 'velocity_vah5_vah504', 'acceleration_vah5_vah504', 'delta_vah5_val504', 'velocity_vah5_val504', 'acceleration_vah5_val504', 'delta_vah5_poc504', 'velocity_vah5_poc504', 'acceleration_vah5_poc504', 'delta_val5_poc5', 'velocity_val5_poc5', 'acceleration_val5_poc5', 'delta_val5_vah10', 'velocity_val5_vah10', 'acceleration_val5_vah10', 'delta_val5_val10', 'velocity_val5_val10', 'acceleration_val5_val10', 'delta_val5_poc10', 'velocity_val5_poc10', 'acceleration_val5_poc10', 'delta_val5_vah21', 'velocity_val5_vah21', 'acceleration_val5_vah21', 'delta_val5_val21', 'velocity_val5_val21', 'acceleration_val5_val21', 'delta_val5_poc21', 'velocity_val5_poc21', 'acceleration_val5_poc21', 'delta_val5_vah42', 'velocity_val5_vah42', 'acceleration_val5_vah42', 'delta_val5_val42', 'velocity_val5_val42', 'acceleration_val5_val42', 'delta_val5_poc42', 'velocity_val5_poc42', 'acceleration_val5_poc42', 'delta_val5_vah63', 'velocity_val5_vah63', 'acceleration_val5_vah63', 'delta_val5_val63', 'velocity_val5_val63', 'acceleration_val5_val63', 'delta_val5_poc63', 'velocity_val5_poc63', 'acceleration_val5_poc63', 'delta_val5_vah126', 'velocity_val5_vah126', 'acceleration_val5_vah126', 'delta_val5_val126', 'velocity_val5_val126', 'acceleration_val5_val126', 'delta_val5_poc126', 'velocity_val5_poc126', 'acceleration_val5_poc126', 'delta_val5_vah252', 'velocity_val5_vah252', 'acceleration_val5_vah252', 'delta_val5_val252', 'velocity_val5_val252', 'acceleration_val5_val252', 'delta_val5_poc252', 'velocity_val5_poc252', 'acceleration_val5_poc252', 'delta_val5_vah504', 'velocity_val5_vah504', 'acceleration_val5_vah504', 'delta_val5_val504', 'velocity_val5_val504', 'acceleration_val5_val504', 'delta_val5_poc504', 'velocity_val5_poc504', 'acceleration_val5_poc504', 'delta_poc5_vah10', 'velocity_poc5_vah10', 'acceleration_poc5_vah10', 'delta_poc5_val10', 'velocity_poc5_val10', 'acceleration_poc5_val10', 'delta_poc5_poc10', 'velocity_poc5_poc10', 'acceleration_poc5_poc10', 'delta_poc5_vah21', 'velocity_poc5_vah21', 'acceleration_poc5_vah21', 'delta_poc5_val21', 'velocity_poc5_val21', 'acceleration_poc5_val21', 'delta_poc5_poc21', 'velocity_poc5_poc21', 'acceleration_poc5_poc21', 'delta_poc5_vah42', 'velocity_poc5_vah42', 'acceleration_poc5_vah42', 'delta_poc5_val42', 'velocity_poc5_val42', 'acceleration_poc5_val42', 'delta_poc5_poc42', 'velocity_poc5_poc42', 'acceleration_poc5_poc42', 'delta_poc5_vah63', 'velocity_poc5_vah63', 'acceleration_poc5_vah63', 'delta_poc5_val63', 'velocity_poc5_val63', 'acceleration_poc5_val63', 'delta_poc5_poc63', 'velocity_poc5_poc63', 'acceleration_poc5_poc63', 'delta_poc5_vah126', 'velocity_poc5_vah126', 'acceleration_poc5_vah126', 'delta_poc5_val126', 'velocity_poc5_val126', 'acceleration_poc5_val126', 'delta_poc5_poc126', 'velocity_poc5_poc126', 'acceleration_poc5_poc126', 'delta_poc5_vah252', 'velocity_poc5_vah252', 'acceleration_poc5_vah252', 'delta_poc5_val252', 'velocity_poc5_val252', 'acceleration_poc5_val252', 'delta_poc5_poc252', 'velocity_poc5_poc252', 'acceleration_poc5_poc252', 'delta_poc5_vah504', 'velocity_poc5_vah504', 'acceleration_poc5_vah504', 'delta_poc5_val504', 'velocity_poc5_val504', 'acceleration_poc5_val504', 'delta_poc5_poc504', 'velocity_poc5_poc504', 'acceleration_poc5_poc504', 'delta_vah10_val10', 'velocity_vah10_val10', 'acceleration_vah10_val10', 'delta_vah10_poc10', 'velocity_vah10_poc10', 'acceleration_vah10_poc10', 'delta_vah10_vah21', 'velocity_vah10_vah21', 'acceleration_vah10_vah21', 'delta_vah10_val21', 'velocity_vah10_val21', 'acceleration_vah10_val21', 'delta_vah10_poc21', 'velocity_vah10_poc21', 'acceleration_vah10_poc21', 'delta_vah10_vah42', 'velocity_vah10_vah42', 'acceleration_vah10_vah42', 'delta_vah10_val42', 'velocity_vah10_val42', 'acceleration_vah10_val42', 'delta_vah10_poc42', 'velocity_vah10_poc42', 'acceleration_vah10_poc42', 'delta_vah10_vah63', 'velocity_vah10_vah63', 'acceleration_vah10_vah63', 'delta_vah10_val63', 'velocity_vah10_val63', 'acceleration_vah10_val63', 'delta_vah10_poc63', 'velocity_vah10_poc63', 'acceleration_vah10_poc63', 'delta_vah10_vah126', 'velocity_vah10_vah126', 'acceleration_vah10_vah126', 'delta_vah10_val126', 'velocity_vah10_val126', 'acceleration_vah10_val126', 'delta_vah10_poc126', 'velocity_vah10_poc126', 'acceleration_vah10_poc126', 'delta_vah10_vah252', 'velocity_vah10_vah252', 'acceleration_vah10_vah252', 'delta_vah10_val252', 'velocity_vah10_val252', 'acceleration_vah10_val252', 'delta_vah10_poc252', 'velocity_vah10_poc252', 'acceleration_vah10_poc252', 'delta_vah10_vah504', 'velocity_vah10_vah504', 'acceleration_vah10_vah504', 'delta_vah10_val504', 'velocity_vah10_val504', 'acceleration_vah10_val504', 'delta_vah10_poc504', 'velocity_vah10_poc504', 'acceleration_vah10_poc504', 'delta_val10_poc10', 'velocity_val10_poc10', 'acceleration_val10_poc10', 'delta_val10_vah21', 'velocity_val10_vah21', 'acceleration_val10_vah21', 'delta_val10_val21', 'velocity_val10_val21', 'acceleration_val10_val21', 'delta_val10_poc21', 'velocity_val10_poc21', 'acceleration_val10_poc21', 'delta_val10_vah42', 'velocity_val10_vah42', 'acceleration_val10_vah42', 'delta_val10_val42', 'velocity_val10_val42', 'acceleration_val10_val42', 'delta_val10_poc42', 'velocity_val10_poc42', 'acceleration_val10_poc42', 'delta_val10_vah63', 'velocity_val10_vah63', 'acceleration_val10_vah63', 'delta_val10_val63', 'velocity_val10_val63', 'acceleration_val10_val63', 'delta_val10_poc63', 'velocity_val10_poc63', 'acceleration_val10_poc63', 'delta_val10_vah126', 'velocity_val10_vah126', 'acceleration_val10_vah126', 'delta_val10_val126', 'velocity_val10_val126', 'acceleration_val10_val126', 'delta_val10_poc126', 'velocity_val10_poc126', 'acceleration_val10_poc126', 'delta_val10_vah252', 'velocity_val10_vah252', 'acceleration_val10_vah252', 'delta_val10_val252', 'velocity_val10_val252', 'acceleration_val10_val252', 'delta_val10_poc252', 'velocity_val10_poc252', 'acceleration_val10_poc252', 'delta_val10_vah504', 'velocity_val10_vah504', 'acceleration_val10_vah504', 'delta_val10_val504', 'velocity_val10_val504', 'acceleration_val10_val504', 'delta_val10_poc504', 'velocity_val10_poc504', 'acceleration_val10_poc504', 'delta_poc10_vah21', 'velocity_poc10_vah21', 'acceleration_poc10_vah21', 'delta_poc10_val21', 'velocity_poc10_val21', 'acceleration_poc10_val21', 'delta_poc10_poc21', 'velocity_poc10_poc21', 'acceleration_poc10_poc21', 'delta_poc10_vah42', 'velocity_poc10_vah42', 'acceleration_poc10_vah42', 'delta_poc10_val42', 'velocity_poc10_val42', 'acceleration_poc10_val42', 'delta_poc10_poc42', 'velocity_poc10_poc42', 'acceleration_poc10_poc42', 'delta_poc10_vah63', 'velocity_poc10_vah63', 'acceleration_poc10_vah63', 'delta_poc10_val63', 'velocity_poc10_val63', 'acceleration_poc10_val63', 'delta_poc10_poc63', 'velocity_poc10_poc63', 'acceleration_poc10_poc63', 'delta_poc10_vah126', 'velocity_poc10_vah126', 'acceleration_poc10_vah126', 'delta_poc10_val126', 'velocity_poc10_val126', 'acceleration_poc10_val126', 'delta_poc10_poc126', 'velocity_poc10_poc126', 'acceleration_poc10_poc126', 'delta_poc10_vah252', 'velocity_poc10_vah252', 'acceleration_poc10_vah252', 'delta_poc10_val252', 'velocity_poc10_val252', 'acceleration_poc10_val252', 'delta_poc10_poc252', 'velocity_poc10_poc252', 'acceleration_poc10_poc252', 'delta_poc10_vah504', 'velocity_poc10_vah504', 'acceleration_poc10_vah504', 'delta_poc10_val504', 'velocity_poc10_val504', 'acceleration_poc10_val504', 'delta_poc10_poc504', 'velocity_poc10_poc504', 'acceleration_poc10_poc504', 'delta_vah21_val21', 'velocity_vah21_val21', 'acceleration_vah21_val21', 'delta_vah21_poc21', 'velocity_vah21_poc21', 'acceleration_vah21_poc21', 'delta_vah21_vah42', 'velocity_vah21_vah42', 'acceleration_vah21_vah42', 'delta_vah21_val42', 'velocity_vah21_val42', 'acceleration_vah21_val42', 'delta_vah21_poc42', 'velocity_vah21_poc42', 'acceleration_vah21_poc42', 'delta_vah21_vah63', 'velocity_vah21_vah63', 'acceleration_vah21_vah63', 'delta_vah21_val63', 'velocity_vah21_val63', 'acceleration_vah21_val63', 'delta_vah21_poc63', 'velocity_vah21_poc63', 'acceleration_vah21_poc63', 'delta_vah21_vah126', 'velocity_vah21_vah126', 'acceleration_vah21_vah126', 'delta_vah21_val126', 'velocity_vah21_val126', 'acceleration_vah21_val126', 'delta_vah21_poc126', 'velocity_vah21_poc126', 'acceleration_vah21_poc126', 'delta_vah21_vah252', 'velocity_vah21_vah252', 'acceleration_vah21_vah252', 'delta_vah21_val252', 'velocity_vah21_val252', 'acceleration_vah21_val252', 'delta_vah21_poc252', 'velocity_vah21_poc252', 'acceleration_vah21_poc252', 'delta_vah21_vah504', 'velocity_vah21_vah504', 'acceleration_vah21_vah504', 'delta_vah21_val504', 'velocity_vah21_val504', 'acceleration_vah21_val504', 'delta_vah21_poc504', 'velocity_vah21_poc504', 'acceleration_vah21_poc504', 'delta_val21_poc21', 'velocity_val21_poc21', 'acceleration_val21_poc21', 'delta_val21_vah42', 'velocity_val21_vah42', 'acceleration_val21_vah42', 'delta_val21_val42', 'velocity_val21_val42', 'acceleration_val21_val42', 'delta_val21_poc42', 'velocity_val21_poc42', 'acceleration_val21_poc42', 'delta_val21_vah63', 'velocity_val21_vah63', 'acceleration_val21_vah63', 'delta_val21_val63', 'velocity_val21_val63', 'acceleration_val21_val63', 'delta_val21_poc63', 'velocity_val21_poc63', 'acceleration_val21_poc63', 'delta_val21_vah126', 'velocity_val21_vah126', 'acceleration_val21_vah126', 'delta_val21_val126', 'velocity_val21_val126', 'acceleration_val21_val126', 'delta_val21_poc126', 'velocity_val21_poc126', 'acceleration_val21_poc126', 'delta_val21_vah252', 'velocity_val21_vah252', 'acceleration_val21_vah252', 'delta_val21_val252', 'velocity_val21_val252', 'acceleration_val21_val252', 'delta_val21_poc252', 'velocity_val21_poc252', 'acceleration_val21_poc252', 'delta_val21_vah504', 'velocity_val21_vah504', 'acceleration_val21_vah504', 'delta_val21_val504', 'velocity_val21_val504', 'acceleration_val21_val504', 'delta_val21_poc504', 'velocity_val21_poc504', 'acceleration_val21_poc504', 'delta_poc21_vah42', 'velocity_poc21_vah42', 'acceleration_poc21_vah42', 'delta_poc21_val42', 'velocity_poc21_val42', 'acceleration_poc21_val42', 'delta_poc21_poc42', 'velocity_poc21_poc42', 'acceleration_poc21_poc42', 'delta_poc21_vah63', 'velocity_poc21_vah63', 'acceleration_poc21_vah63', 'delta_poc21_val63', 'velocity_poc21_val63', 'acceleration_poc21_val63', 'delta_poc21_poc63', 'velocity_poc21_poc63', 'acceleration_poc21_poc63', 'delta_poc21_vah126', 'velocity_poc21_vah126', 'acceleration_poc21_vah126', 'delta_poc21_val126', 'velocity_poc21_val126', 'acceleration_poc21_val126', 'delta_poc21_poc126', 'velocity_poc21_poc126', 'acceleration_poc21_poc126', 'delta_poc21_vah252', 'velocity_poc21_vah252', 'acceleration_poc21_vah252', 'delta_poc21_val252', 'velocity_poc21_val252', 'acceleration_poc21_val252', 'delta_poc21_poc252', 'velocity_poc21_poc252', 'acceleration_poc21_poc252', 'delta_poc21_vah504', 'velocity_poc21_vah504', 'acceleration_poc21_vah504', 'delta_poc21_val504', 'velocity_poc21_val504', 'acceleration_poc21_val504', 'delta_poc21_poc504', 'velocity_poc21_poc504', 'acceleration_poc21_poc504', 'delta_vah42_val42', 'velocity_vah42_val42', 'acceleration_vah42_val42', 'delta_vah42_poc42', 'velocity_vah42_poc42', 'acceleration_vah42_poc42', 'delta_vah42_vah63', 'velocity_vah42_vah63', 'acceleration_vah42_vah63', 'delta_vah42_val63', 'velocity_vah42_val63', 'acceleration_vah42_val63', 'delta_vah42_poc63', 'velocity_vah42_poc63', 'acceleration_vah42_poc63', 'delta_vah42_vah126', 'velocity_vah42_vah126', 'acceleration_vah42_vah126', 'delta_vah42_val126', 'velocity_vah42_val126', 'acceleration_vah42_val126', 'delta_vah42_poc126', 'velocity_vah42_poc126', 'acceleration_vah42_poc126', 'delta_vah42_vah252', 'velocity_vah42_vah252', 'acceleration_vah42_vah252', 'delta_vah42_val252', 'velocity_vah42_val252', 'acceleration_vah42_val252', 'delta_vah42_poc252', 'velocity_vah42_poc252', 'acceleration_vah42_poc252', 'delta_vah42_vah504', 'velocity_vah42_vah504', 'acceleration_vah42_vah504', 'delta_vah42_val504', 'velocity_vah42_val504', 'acceleration_vah42_val504', 'delta_vah42_poc504', 'velocity_vah42_poc504', 'acceleration_vah42_poc504', 'delta_val42_poc42', 'velocity_val42_poc42', 'acceleration_val42_poc42', 'delta_val42_vah63', 'velocity_val42_vah63', 'acceleration_val42_vah63', 'delta_val42_val63', 'velocity_val42_val63', 'acceleration_val42_val63', 'delta_val42_poc63', 'velocity_val42_poc63', 'acceleration_val42_poc63', 'delta_val42_vah126', 'velocity_val42_vah126', 'acceleration_val42_vah126', 'delta_val42_val126', 'velocity_val42_val126', 'acceleration_val42_val126', 'delta_val42_poc126', 'velocity_val42_poc126', 'acceleration_val42_poc126', 'delta_val42_vah252', 'velocity_val42_vah252', 'acceleration_val42_vah252', 'delta_val42_val252', 'velocity_val42_val252', 'acceleration_val42_val252', 'delta_val42_poc252', 'velocity_val42_poc252', 'acceleration_val42_poc252', 'delta_val42_vah504', 'velocity_val42_vah504', 'acceleration_val42_vah504', 'delta_val42_val504', 'velocity_val42_val504', 'acceleration_val42_val504', 'delta_val42_poc504', 'velocity_val42_poc504', 'acceleration_val42_poc504', 'delta_poc42_vah63', 'velocity_poc42_vah63', 'acceleration_poc42_vah63', 'delta_poc42_val63', 'velocity_poc42_val63', 'acceleration_poc42_val63', 'delta_poc42_poc63', 'velocity_poc42_poc63', 'acceleration_poc42_poc63', 'delta_poc42_vah126', 'velocity_poc42_vah126', 'acceleration_poc42_vah126', 'delta_poc42_val126', 'velocity_poc42_val126', 'acceleration_poc42_val126', 'delta_poc42_poc126', 'velocity_poc42_poc126', 'acceleration_poc42_poc126', 'delta_poc42_vah252', 'velocity_poc42_vah252', 'acceleration_poc42_vah252', 'delta_poc42_val252', 'velocity_poc42_val252', 'acceleration_poc42_val252', 'delta_poc42_poc252', 'velocity_poc42_poc252', 'acceleration_poc42_poc252', 'delta_poc42_vah504', 'velocity_poc42_vah504', 'acceleration_poc42_vah504', 'delta_poc42_val504', 'velocity_poc42_val504', 'acceleration_poc42_val504', 'delta_poc42_poc504', 'velocity_poc42_poc504', 'acceleration_poc42_poc504', 'delta_vah63_val63', 'velocity_vah63_val63', 'acceleration_vah63_val63', 'delta_vah63_poc63', 'velocity_vah63_poc63', 'acceleration_vah63_poc63', 'delta_vah63_vah126', 'velocity_vah63_vah126', 'acceleration_vah63_vah126', 'delta_vah63_val126', 'velocity_vah63_val126', 'acceleration_vah63_val126', 'delta_vah63_poc126', 'velocity_vah63_poc126', 'acceleration_vah63_poc126', 'delta_vah63_vah252', 'velocity_vah63_vah252', 'acceleration_vah63_vah252', 'delta_vah63_val252', 'velocity_vah63_val252', 'acceleration_vah63_val252', 'delta_vah63_poc252', 'velocity_vah63_poc252', 'acceleration_vah63_poc252', 'delta_vah63_vah504', 'velocity_vah63_vah504', 'acceleration_vah63_vah504', 'delta_vah63_val504', 'velocity_vah63_val504', 'acceleration_vah63_val504', 'delta_vah63_poc504', 'velocity_vah63_poc504', 'acceleration_vah63_poc504', 'delta_val63_poc63', 'velocity_val63_poc63', 'acceleration_val63_poc63', 'delta_val63_vah126', 'velocity_val63_vah126', 'acceleration_val63_vah126', 'delta_val63_val126', 'velocity_val63_val126', 'acceleration_val63_val126', 'delta_val63_poc126', 'velocity_val63_poc126', 'acceleration_val63_poc126', 'delta_val63_vah252', 'velocity_val63_vah252', 'acceleration_val63_vah252', 'delta_val63_val252', 'velocity_val63_val252', 'acceleration_val63_val252', 'delta_val63_poc252', 'velocity_val63_poc252', 'acceleration_val63_poc252', 'delta_val63_vah504', 'velocity_val63_vah504', 'acceleration_val63_vah504', 'delta_val63_val504', 'velocity_val63_val504', 'acceleration_val63_val504', 'delta_val63_poc504', 'velocity_val63_poc504', 'acceleration_val63_poc504', 'delta_poc63_vah126', 'velocity_poc63_vah126', 'acceleration_poc63_vah126', 'delta_poc63_val126', 'velocity_poc63_val126', 'acceleration_poc63_val126', 'delta_poc63_poc126', 'velocity_poc63_poc126', 'acceleration_poc63_poc126', 'delta_poc63_vah252', 'velocity_poc63_vah252', 'acceleration_poc63_vah252', 'delta_poc63_val252', 'velocity_poc63_val252', 'acceleration_poc63_val252', 'delta_poc63_poc252', 'velocity_poc63_poc252', 'acceleration_poc63_poc252', 'delta_poc63_vah504', 'velocity_poc63_vah504', 'acceleration_poc63_vah504', 'delta_poc63_val504', 'velocity_poc63_val504', 'acceleration_poc63_val504', 'delta_poc63_poc504', 'velocity_poc63_poc504', 'acceleration_poc63_poc504', 'delta_vah126_val126', 'velocity_vah126_val126', 'acceleration_vah126_val126', 'delta_vah126_poc126', 'velocity_vah126_poc126', 'acceleration_vah126_poc126', 'delta_vah126_vah252', 'velocity_vah126_vah252', 'acceleration_vah126_vah252', 'delta_vah126_val252', 'velocity_vah126_val252', 'acceleration_vah126_val252', 'delta_vah126_poc252', 'velocity_vah126_poc252', 'acceleration_vah126_poc252', 'delta_vah126_vah504', 'velocity_vah126_vah504', 'acceleration_vah126_vah504', 'delta_vah126_val504', 'velocity_vah126_val504', 'acceleration_vah126_val504', 'delta_vah126_poc504', 'velocity_vah126_poc504', 'acceleration_vah126_poc504', 'delta_val126_poc126', 'velocity_val126_poc126', 'acceleration_val126_poc126', 'delta_val126_vah252', 'velocity_val126_vah252', 'acceleration_val126_vah252', 'delta_val126_val252', 'velocity_val126_val252', 'acceleration_val126_val252', 'delta_val126_poc252', 'velocity_val126_poc252', 'acceleration_val126_poc252', 'delta_val126_vah504', 'velocity_val126_vah504', 'acceleration_val126_vah504', 'delta_val126_val504', 'velocity_val126_val504', 'acceleration_val126_val504', 'delta_val126_poc504', 'velocity_val126_poc504', 'acceleration_val126_poc504', 'delta_poc126_vah252', 'velocity_poc126_vah252', 'acceleration_poc126_vah252', 'delta_poc126_val252', 'velocity_poc126_val252', 'acceleration_poc126_val252', 'delta_poc126_poc252', 'velocity_poc126_poc252', 'acceleration_poc126_poc252', 'delta_poc126_vah504', 'velocity_poc126_vah504', 'acceleration_poc126_vah504', 'delta_poc126_val504', 'velocity_poc126_val504', 'acceleration_poc126_val504', 'delta_poc126_poc504', 'velocity_poc126_poc504', 'acceleration_poc126_poc504', 'delta_vah252_val252', 'velocity_vah252_val252', 'acceleration_vah252_val252', 'delta_vah252_poc252', 'velocity_vah252_poc252', 'acceleration_vah252_poc252', 'delta_vah252_vah504', 'velocity_vah252_vah504', 'acceleration_vah252_vah504', 'delta_vah252_val504', 'velocity_vah252_val504', 'acceleration_vah252_val504', 'delta_vah252_poc504', 'velocity_vah252_poc504', 'acceleration_vah252_poc504', 'delta_val252_poc252', 'velocity_val252_poc252', 'acceleration_val252_poc252', 'delta_val252_vah504', 'velocity_val252_vah504', 'acceleration_val252_vah504', 'delta_val252_val504', 'velocity_val252_val504', 'acceleration_val252_val504', 'delta_val252_poc504', 'velocity_val252_poc504', 'acceleration_val252_poc504', 'delta_poc252_vah504', 'velocity_poc252_vah504', 'acceleration_poc252_vah504', 'delta_poc252_val504', 'velocity_poc252_val504', 'acceleration_poc252_val504', 'delta_poc252_poc504', 'velocity_poc252_poc504', 'acceleration_poc252_poc504', 'delta_vah504_val504', 'velocity_vah504_val504', 'acceleration_vah504_val504', 'delta_vah504_poc504', 'velocity_vah504_poc504', 'acceleration_vah504_poc504', 'delta_val504_poc504', 'velocity_val504_poc504', 'acceleration_val504_poc504', 'Open', 'Close', 'Low', 'High', 'Volume']\n"
     ]
    }
   ],
   "source": [
    "deployer.add_features()"
   ],
   "metadata": {
    "collapsed": false,
    "pycharm": {
     "name": "#%%\n"
    }
   }
  },
  {
   "cell_type": "code",
   "execution_count": null,
   "outputs": [],
   "source": [
    "deployer.create_dates(\"3_Months\")"
   ],
   "metadata": {
    "collapsed": false,
    "pycharm": {
     "name": "#%%\n"
    }
   }
  },
  {
   "cell_type": "code",
   "execution_count": null,
   "outputs": [],
   "source": [],
   "metadata": {
    "collapsed": false,
    "pycharm": {
     "name": "#%%\n"
    }
   }
  },
  {
   "cell_type": "code",
   "execution_count": null,
   "outputs": [],
   "source": [],
   "metadata": {
    "collapsed": false,
    "pycharm": {
     "name": "#%%\n"
    }
   }
  },
  {
   "cell_type": "code",
   "execution_count": null,
   "outputs": [],
   "source": [],
   "metadata": {
    "collapsed": false,
    "pycharm": {
     "name": "#%%\n"
    }
   }
  },
  {
   "cell_type": "code",
   "execution_count": null,
   "outputs": [],
   "source": [
    "import pickle\n",
    "with open(f'C:/Users/suprabhashsahu/Desktop/Deployment_Framework/Caches/.NSEI/D/Alpha/SelectedStrategies/All_24.pkl','rb') as file:\n",
    "    all_24 = pickle.load(file)"
   ],
   "metadata": {
    "collapsed": false,
    "pycharm": {
     "name": "#%%\n"
    }
   }
  },
  {
   "cell_type": "code",
   "execution_count": null,
   "outputs": [],
   "source": [],
   "metadata": {
    "collapsed": false,
    "pycharm": {
     "name": "#%%\n"
    }
   }
  }
 ],
 "metadata": {
  "kernelspec": {
   "display_name": "Python 3",
   "language": "python",
   "name": "python3"
  },
  "language_info": {
   "codemirror_mode": {
    "name": "ipython",
    "version": 2
   },
   "file_extension": ".py",
   "mimetype": "text/x-python",
   "name": "python",
   "nbconvert_exporter": "python",
   "pygments_lexer": "ipython2",
   "version": "2.7.6"
  }
 },
 "nbformat": 4,
 "nbformat_minor": 0
}