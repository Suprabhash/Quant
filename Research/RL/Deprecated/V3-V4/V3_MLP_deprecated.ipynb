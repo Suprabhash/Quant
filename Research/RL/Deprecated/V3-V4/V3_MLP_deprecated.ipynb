{
 "cells": [
  {
   "cell_type": "code",
   "execution_count": 4,
   "outputs": [],
   "source": [
    "%load_ext autoreload\n",
    "%autoreload 2"
   ],
   "metadata": {
    "collapsed": false,
    "pycharm": {
     "name": "#%%\n"
    }
   }
  },
  {
   "cell_type": "code",
   "execution_count": 5,
   "outputs": [],
   "source": [
    "import warnings\n",
    "warnings.filterwarnings(\"ignore\")"
   ],
   "metadata": {
    "collapsed": false,
    "pycharm": {
     "name": "#%%\n"
    }
   }
  },
  {
   "cell_type": "code",
   "execution_count": 6,
   "outputs": [],
   "source": [
    "%matplotlib inline\n",
    "import matplotlib.pyplot as plt\n",
    "plt.rcParams[\"figure.figsize\"] = (15,5)\n",
    "plt.rcParams['axes.grid'] = False\n",
    "import seaborn as sns\n",
    "sns.set_style(\"whitegrid\", {'axes.grid' : False})\n"
   ],
   "metadata": {
    "collapsed": false,
    "pycharm": {
     "name": "#%%\n"
    }
   }
  },
  {
   "cell_type": "code",
   "execution_count": 7,
   "outputs": [],
   "source": [
    "import warnings\n",
    "warnings.filterwarnings(\"ignore\")\n",
    "\n",
    "import matplotlib.pyplot as plt\n",
    "plt.rcParams[\"figure.figsize\"] = (15,5)\n",
    "plt.rcParams['axes.grid'] = False\n",
    "import seaborn as sns\n",
    "sns.set_style(\"whitegrid\", {'axes.grid' : False})\n",
    "\n",
    "import numpy as np\n",
    "import itertools\n",
    "import pandas as pd\n",
    "from tqdm import tqdm\n",
    "from keras.models import Sequential\n",
    "from keras.layers import InputLayer\n",
    "from keras.layers import Dense\n",
    "from keras_visualizer import visualizer\n",
    "import neptune.new as neptune\n",
    "from datetime import datetime\n",
    "\n",
    "import os\n",
    "os.environ[\"PATH\"] += os.pathsep + 'C:/Users/suprabhashsahu/Desktop/StrategyResearch/venv/Graphviz/bin/'\n",
    "\n",
    "from Utils.add_features import add_fisher\n",
    "from Data.data_retrieval import get_data\n",
    "from Utils.neptune_ai_api_key import API_KEY\n",
    "from sklearn.preprocessing import MinMaxScaler\n",
    "np.random.seed(12)"
   ],
   "metadata": {
    "collapsed": false,
    "pycharm": {
     "name": "#%%\n"
    }
   }
  },
  {
   "cell_type": "code",
   "execution_count": 8,
   "outputs": [],
   "source": [
    "def get_stock_data(symbol):\n",
    "    if symbol == 'sinx':\n",
    "        df = get_data(\".NSEI\", 'D')\n",
    "        df.drop(columns=[\"Volume\"], inplace=True)\n",
    "        df[\"Close\"] = df[\"Open\"] = df[\"High\"] = df[\"Low\"] = np.sin(df.index / 10 ) +2\n",
    "    else:\n",
    "        df = get_data(symbol, 'D')\n",
    "    df.set_index(\"Datetime\", inplace=True)\n",
    "    df.dropna(inplace=True)\n",
    "    return df\n",
    "\n",
    "def scale(series, lookback, train_pct):\n",
    "    scaler = MinMaxScaler(feature_range=(-1, 1))\n",
    "    scaler.fit(series.iloc[lookback:int(df.shape[0]*train_pct)])\n",
    "    return scaler.transform(series)\n",
    "\n",
    "def add_features(df, features):\n",
    "    lookbacks = []\n",
    "    for feature, lookback in [(feature[\"feature\"], feature[\"lookback\"]) for feature in features]:\n",
    "        lookbacks.append(lookback)\n",
    "        if feature.startswith(\"Fisher\"):\n",
    "            df[feature] = add_fisher([df, lookback])[[f\"Fisher{lookback}\"]]\n",
    "        if feature.startswith(\"Momentum\"):\n",
    "            df[feature] = df[\"Close\"].diff(lookback)\n",
    "        df[f\"{feature}_normalized\"] = scale(df[[feature]], lookback, 0.8)\n",
    "    df = df.iloc[max(lookbacks):]\n",
    "    return df\n"
   ],
   "metadata": {
    "collapsed": false,
    "pycharm": {
     "name": "#%%\n"
    }
   }
  },
  {
   "cell_type": "markdown",
   "source": [
    "# Data Prep"
   ],
   "metadata": {
    "collapsed": false
   }
  },
  {
   "cell_type": "markdown",
   "source": [
    "Get data"
   ],
   "metadata": {
    "collapsed": false
   }
  },
  {
   "cell_type": "code",
   "execution_count": 9,
   "outputs": [],
   "source": [
    "df = get_stock_data('sinx')\n",
    "train_len = int(df.shape[0]*0.8)"
   ],
   "metadata": {
    "collapsed": false,
    "pycharm": {
     "name": "#%%\n"
    }
   }
  },
  {
   "cell_type": "markdown",
   "source": [
    "Add Features"
   ],
   "metadata": {
    "collapsed": false
   }
  },
  {
   "cell_type": "code",
   "execution_count": 10,
   "outputs": [],
   "source": [
    "features = [\n",
    "        {\"feature\": \"Close\", \"lookback\": 0},\n",
    "        {\"feature\": \"Momentum\", \"lookback\": 1}\n",
    "    ]"
   ],
   "metadata": {
    "collapsed": false,
    "pycharm": {
     "name": "#%%\n"
    }
   }
  },
  {
   "cell_type": "code",
   "execution_count": 11,
   "outputs": [],
   "source": [
    "df = add_features(df, features)"
   ],
   "metadata": {
    "collapsed": false,
    "pycharm": {
     "name": "#%%\n"
    }
   }
  },
  {
   "cell_type": "code",
   "execution_count": 12,
   "outputs": [],
   "source": [
    "train_df = df.iloc[:train_len, :]\n",
    "test_df = df.iloc[train_len:, :]"
   ],
   "metadata": {
    "collapsed": false,
    "pycharm": {
     "name": "#%%\n"
    }
   }
  },
  {
   "cell_type": "markdown",
   "source": [
    "# MLP as a function approximation for QMatrix"
   ],
   "metadata": {
    "collapsed": false
   }
  },
  {
   "cell_type": "markdown",
   "source": [
    "Define all actions"
   ],
   "metadata": {
    "collapsed": false
   }
  },
  {
   "cell_type": "code",
   "execution_count": 13,
   "outputs": [],
   "source": [
    "all_actions = {0: 'neutral', 1: 'long'}"
   ],
   "metadata": {
    "collapsed": false,
    "pycharm": {
     "name": "#%%\n"
    }
   }
  },
  {
   "cell_type": "code",
   "execution_count": 14,
   "outputs": [
    {
     "data": {
      "text/plain": "               Close      High       Low      Open  Close_normalized  \\\nDatetime                                                               \n2007-09-18  2.099833  2.099833  2.099833  2.099833          0.099829   \n2007-09-19  2.198669  2.198669  2.198669  2.198669          0.198665   \n2007-09-20  2.295520  2.295520  2.295520  2.295520          0.295517   \n2007-09-21  2.389418  2.389418  2.389418  2.389418          0.389415   \n2007-09-24  2.479426  2.479426  2.479426  2.479426          0.479423   \n...              ...       ...       ...       ...               ...   \n2019-05-30  2.073410  2.073410  2.073410  2.073410          0.073405   \n2019-05-31  2.172607  2.172607  2.172607  2.172607          0.172603   \n2019-06-03  2.270080  2.270080  2.270080  2.270080          0.270076   \n2019-06-04  2.364854  2.364854  2.364854  2.364854          0.364851   \n2019-06-06  2.455983  2.455983  2.455983  2.455983          0.455980   \n\n            Momentum  Momentum_normalized  \nDatetime                                   \n2007-09-18  0.099833             0.998750  \n2007-09-19  0.098836             0.988771  \n2007-09-20  0.096851             0.968912  \n2007-09-21  0.093898             0.939373  \n2007-09-24  0.090007             0.900447  \n...              ...                  ...  \n2019-05-30  0.099931             0.999725  \n2019-05-31  0.099197             0.992387  \n2019-06-03  0.097473             0.975133  \n2019-06-04  0.094774             0.948136  \n2019-06-06  0.091129             0.911666  \n\n[2895 rows x 7 columns]",
      "text/html": "<div>\n<style scoped>\n    .dataframe tbody tr th:only-of-type {\n        vertical-align: middle;\n    }\n\n    .dataframe tbody tr th {\n        vertical-align: top;\n    }\n\n    .dataframe thead th {\n        text-align: right;\n    }\n</style>\n<table border=\"1\" class=\"dataframe\">\n  <thead>\n    <tr style=\"text-align: right;\">\n      <th></th>\n      <th>Close</th>\n      <th>High</th>\n      <th>Low</th>\n      <th>Open</th>\n      <th>Close_normalized</th>\n      <th>Momentum</th>\n      <th>Momentum_normalized</th>\n    </tr>\n    <tr>\n      <th>Datetime</th>\n      <th></th>\n      <th></th>\n      <th></th>\n      <th></th>\n      <th></th>\n      <th></th>\n      <th></th>\n    </tr>\n  </thead>\n  <tbody>\n    <tr>\n      <th>2007-09-18</th>\n      <td>2.099833</td>\n      <td>2.099833</td>\n      <td>2.099833</td>\n      <td>2.099833</td>\n      <td>0.099829</td>\n      <td>0.099833</td>\n      <td>0.998750</td>\n    </tr>\n    <tr>\n      <th>2007-09-19</th>\n      <td>2.198669</td>\n      <td>2.198669</td>\n      <td>2.198669</td>\n      <td>2.198669</td>\n      <td>0.198665</td>\n      <td>0.098836</td>\n      <td>0.988771</td>\n    </tr>\n    <tr>\n      <th>2007-09-20</th>\n      <td>2.295520</td>\n      <td>2.295520</td>\n      <td>2.295520</td>\n      <td>2.295520</td>\n      <td>0.295517</td>\n      <td>0.096851</td>\n      <td>0.968912</td>\n    </tr>\n    <tr>\n      <th>2007-09-21</th>\n      <td>2.389418</td>\n      <td>2.389418</td>\n      <td>2.389418</td>\n      <td>2.389418</td>\n      <td>0.389415</td>\n      <td>0.093898</td>\n      <td>0.939373</td>\n    </tr>\n    <tr>\n      <th>2007-09-24</th>\n      <td>2.479426</td>\n      <td>2.479426</td>\n      <td>2.479426</td>\n      <td>2.479426</td>\n      <td>0.479423</td>\n      <td>0.090007</td>\n      <td>0.900447</td>\n    </tr>\n    <tr>\n      <th>...</th>\n      <td>...</td>\n      <td>...</td>\n      <td>...</td>\n      <td>...</td>\n      <td>...</td>\n      <td>...</td>\n      <td>...</td>\n    </tr>\n    <tr>\n      <th>2019-05-30</th>\n      <td>2.073410</td>\n      <td>2.073410</td>\n      <td>2.073410</td>\n      <td>2.073410</td>\n      <td>0.073405</td>\n      <td>0.099931</td>\n      <td>0.999725</td>\n    </tr>\n    <tr>\n      <th>2019-05-31</th>\n      <td>2.172607</td>\n      <td>2.172607</td>\n      <td>2.172607</td>\n      <td>2.172607</td>\n      <td>0.172603</td>\n      <td>0.099197</td>\n      <td>0.992387</td>\n    </tr>\n    <tr>\n      <th>2019-06-03</th>\n      <td>2.270080</td>\n      <td>2.270080</td>\n      <td>2.270080</td>\n      <td>2.270080</td>\n      <td>0.270076</td>\n      <td>0.097473</td>\n      <td>0.975133</td>\n    </tr>\n    <tr>\n      <th>2019-06-04</th>\n      <td>2.364854</td>\n      <td>2.364854</td>\n      <td>2.364854</td>\n      <td>2.364854</td>\n      <td>0.364851</td>\n      <td>0.094774</td>\n      <td>0.948136</td>\n    </tr>\n    <tr>\n      <th>2019-06-06</th>\n      <td>2.455983</td>\n      <td>2.455983</td>\n      <td>2.455983</td>\n      <td>2.455983</td>\n      <td>0.455980</td>\n      <td>0.091129</td>\n      <td>0.911666</td>\n    </tr>\n  </tbody>\n</table>\n<p>2895 rows × 7 columns</p>\n</div>"
     },
     "execution_count": 14,
     "metadata": {},
     "output_type": "execute_result"
    }
   ],
   "source": [
    "train_df"
   ],
   "metadata": {
    "collapsed": false,
    "pycharm": {
     "name": "#%%\n"
    }
   }
  },
  {
   "cell_type": "code",
   "execution_count": 15,
   "outputs": [],
   "source": [
    "def plot_performance(prices, actions_history, equity_curve):\n",
    "    fig, (ax1, ax2, ax3) = plt.subplots(3, 1, figsize=(15, 7))\n",
    "    ax1.plot(prices, label='Close')\n",
    "    ax1_copy = ax1.twinx()\n",
    "    ax1_copy.plot(actions_history, label='Actions')\n",
    "    ax2.plot(actions_history, label='Actions')\n",
    "    ax2_copy = ax2.twinx()\n",
    "    for feature in [feature[\"feature\"] for feature in features]:\n",
    "        ax2_copy.plot(df[feature], label=feature, color='green', ls='dotted')\n",
    "    ax2_copy.axhline(0.0, ls='--', color='grey')\n",
    "    ax3.plot(equity_curve, label='Net worth')\n",
    "    ax3.plot([price*10000 / prices[0] for price in prices], label='Benchmark')\n",
    "    ax1.legend()\n",
    "    ax2.legend()\n",
    "    ax3.legend()\n",
    "    plt.show()"
   ],
   "metadata": {
    "collapsed": false,
    "pycharm": {
     "name": "#%%\n"
    }
   }
  },
  {
   "cell_type": "code",
   "execution_count": 104,
   "outputs": [],
   "source": [
    "def get_model(num_features, state_lookback):\n",
    "    model = Sequential()\n",
    "    model.add(Dense(5, input_dim=num_features*state_lookback, activation='relu'))\n",
    "    model.add(Dense(5, activation='relu'))\n",
    "    model.add(Dense(1, activation='sigmoid'))\n",
    "    model.compile(loss='binary_crossentropy', optimizer='adam', metrics=['accuracy'])\n",
    "    return model"
   ],
   "metadata": {
    "collapsed": false,
    "pycharm": {
     "name": "#%%\n"
    }
   }
  },
  {
   "cell_type": "code",
   "execution_count": 126,
   "outputs": [],
   "source": [
    "def act(features, model, threshold=0.2, actions_size=2):\n",
    "    if np.random.uniform(0, 1) < threshold:\n",
    "        action_priority = np.arange(0,actions_size)\n",
    "        np.random.shuffle(action_priority)\n",
    "    else:\n",
    "        action = model.predict(features)   #The actual value can be used as a probability/strength of signal\n",
    "        if action>0.5:\n",
    "            action_priority = np.array([1,0])\n",
    "        else:\n",
    "            action_priority = np.array([0,1])\n",
    "    return action_priority"
   ],
   "metadata": {
    "collapsed": false,
    "pycharm": {
     "name": "#%%\n"
    }
   }
  },
  {
   "cell_type": "code",
   "execution_count": 127,
   "outputs": [],
   "source": [
    "def train_q_learning(train, features, state_lookback, model, alpha, epsilon, gamma, episodes, metric=\"absolute\"):\n",
    "    train_df = train.copy()\n",
    "    train_data = train_df[[\"Close\"]+[f\"{feature['feature']}_normalized\" for feature in features]]\n",
    "    max_episode_return = 0\n",
    "    model_best = None\n",
    "\n",
    "    for ii in tqdm(range(episodes)):\n",
    "\n",
    "        #Backtester initialisation\n",
    "        balance = 10000\n",
    "        net_worth = balance\n",
    "        in_position = False\n",
    "        position_value = 0.0\n",
    "        price_bought = 0.0\n",
    "        bet_bought = 0.0\n",
    "        actions_history = []\n",
    "        equity_curve = []\n",
    "        rewards = []\n",
    "        states = []\n",
    "        next_states = []\n",
    "        prices = []\n",
    "\n",
    "        for i in range(len(train_data)):\n",
    "            if i<state_lookback:\n",
    "                continue\n",
    "            current_adj_close = train_data.iloc[i][\"Close\"]\n",
    "            prices.append(current_adj_close)\n",
    "            prev_adj_close = train_data.iloc[i-1][\"Close\"]\n",
    "            features_inp = np.expand_dims(np.array(train_data.iloc[i-state_lookback+1:i+1][[f\"{feature['feature']}_normalized\" for feature in features]]).reshape(1,-1)[0], axis=0)\n",
    "            # decide action\n",
    "            if epsilon > 0.1:\n",
    "                epsilon = epsilon / 1.2\n",
    "\n",
    "            action_priority = act(features_inp, model, threshold=epsilon, actions_size=2)\n",
    "            action = action_priority[0]\n",
    "            actions_history.append(action)\n",
    "\n",
    "            if not in_position:\n",
    "                if action == 1:  # OPEN LONG\n",
    "                    in_position = True\n",
    "                    price_bought = current_adj_close\n",
    "                    bet_bought = balance\n",
    "                    balance -= bet_bought\n",
    "                    position_value = bet_bought\n",
    "                    rewards.append(0)\n",
    "                else:  # KEEP LOOKING\n",
    "                    rewards.append(0)\n",
    "            else:\n",
    "                market_return = ((current_adj_close - price_bought) / price_bought)\n",
    "                if action == 1:  # HOLD LONG\n",
    "                    position_value = bet_bought * (1.0 + market_return)\n",
    "                    if metric==\"absolute\":\n",
    "                        rewards.append(bet_bought*market_return)\n",
    "                    else:\n",
    "                        rewards.append(market_return)\n",
    "                else:  # CLOSE LONG\n",
    "                    balance += bet_bought * (1.0 + market_return)\n",
    "                    in_position = False\n",
    "                    price_bought = 0.0\n",
    "                    bet_bought = 0.0\n",
    "                    position_value = 0.0\n",
    "                    rewards.append(0)\n",
    "\n",
    "            net_worth = balance + position_value\n",
    "            equity_curve.append(net_worth)\n",
    "\n",
    "            try:\n",
    "                next_states.append(np.expand_dims(np.array(train_data.iloc[i-state_lookback+2:i+2][[f\"{feature['feature']}_normalized\" for feature in features]]).reshape(1,-1)[0], axis=0))\n",
    "            except:\n",
    "                break\n",
    "\n",
    "        for state, action, reward, next_state in zip(states, actions_history, rewards, next_states):\n",
    "            # update q table\n",
    "            q.loc[state, action] = (1. - alpha) * q.loc[state, action] + alpha * (reward + gamma * (q.loc[next_state].max()))\n",
    "\n",
    "            target = reward + gamma * np.max(model.predict(np.identity(env.observation_space.n)[new_state:new_state + 1]))\n",
    "            target_vector = model.predict(np.identity(env.observation_space.n)[state:state + 1])[0]\n",
    "            target_vector[action] = target\n",
    "            model.fit(np.identity(env.observation_space.n)[state:state + 1], target_vec.reshape(-1, env.action_space.n), epochs=1, verbose=0)\n",
    "\n",
    "\n",
    "\n",
    "\n",
    "    #     episode_return = equity_curve[-1]/equity_curve[0]-1\n",
    "    #     if episode_return>max_episode_return:\n",
    "    #         max_episode_return = episode_return\n",
    "    #         q_best = q\n",
    "    #     print(f\"Episode Number: {ii+1}, Total return of episode: {equity_curve[-1]/equity_curve[0]-1}\")\n",
    "    #     plot_performance(prices, actions_history, equity_curve)\n",
    "    #\n",
    "    # return q_best\n"
   ],
   "metadata": {
    "collapsed": false,
    "pycharm": {
     "name": "#%%\n"
    }
   }
  },
  {
   "cell_type": "code",
   "execution_count": null,
   "outputs": [],
   "source": [
    "np.argmax(model.predict(np.identity(env.observation_space.n)[state:state + 1]))"
   ],
   "metadata": {
    "collapsed": false,
    "pycharm": {
     "name": "#%%\n"
    }
   }
  },
  {
   "cell_type": "code",
   "execution_count": 138,
   "outputs": [
    {
     "data": {
      "text/plain": "array([[0., 1.]])"
     },
     "execution_count": 138,
     "metadata": {},
     "output_type": "execute_result"
    }
   ],
   "source": [
    "np.identity(2)"
   ],
   "metadata": {
    "collapsed": false,
    "pycharm": {
     "name": "#%%\n"
    }
   }
  },
  {
   "cell_type": "code",
   "execution_count": 128,
   "outputs": [],
   "source": [
    "alpha = 0.1\n",
    "epsilon = 0.1\n",
    "gamma = 0.1\n",
    "episodes = 10\n",
    "metric = \"percent\"\n",
    "state_lookback = 3"
   ],
   "metadata": {
    "collapsed": false,
    "pycharm": {
     "name": "#%%\n"
    }
   }
  },
  {
   "cell_type": "code",
   "execution_count": null,
   "outputs": [],
   "source": [],
   "metadata": {
    "collapsed": false,
    "pycharm": {
     "name": "#%%\n"
    }
   }
  },
  {
   "cell_type": "code",
   "execution_count": null,
   "outputs": [],
   "source": [
    "model = Sequential()\n",
    "model.add(InputLayer(batch_input_shape=(1, )))\n",
    "model.add(Dense(20, activation='relu'))\n",
    "model.add(Dense(env.action_space.n, activation='linear'))\n",
    "model.compile(loss='mse', optimizer='adam', metrics=['mae'])"
   ],
   "metadata": {
    "collapsed": false,
    "pycharm": {
     "name": "#%%\n"
    }
   }
  },
  {
   "cell_type": "code",
   "execution_count": 129,
   "outputs": [],
   "source": [
    "#Print model\n",
    "model = get_model(len(features), state_lookback)\n",
    "# visualizer(model, format='png', view=True)"
   ],
   "metadata": {
    "collapsed": false,
    "pycharm": {
     "name": "#%%\n"
    }
   }
  },
  {
   "cell_type": "code",
   "execution_count": 130,
   "outputs": [
    {
     "name": "stderr",
     "output_type": "stream",
     "text": [
      "  0%|          | 0/10 [00:00<?, ?it/s]"
     ]
    },
    {
     "name": "stdout",
     "output_type": "stream",
     "text": [
      "1\n",
      "1\n",
      "1\n",
      "1\n",
      "1\n",
      "1\n",
      "1\n",
      "1\n",
      "1\n",
      "1\n",
      "1\n",
      "1\n",
      "1\n",
      "1\n",
      "1\n",
      "0\n",
      "1\n",
      "1\n",
      "1\n",
      "1\n",
      "1\n",
      "0\n",
      "1\n",
      "1\n",
      "1\n",
      "1\n",
      "1\n",
      "1\n",
      "1\n",
      "1\n",
      "1\n",
      "1\n",
      "1\n",
      "1\n",
      "1\n",
      "1\n",
      "1\n",
      "1\n",
      "1\n",
      "1\n",
      "1\n",
      "1\n",
      "1\n",
      "1\n",
      "1\n",
      "1\n",
      "1\n",
      "1\n",
      "0\n",
      "1\n",
      "1\n",
      "1\n",
      "0\n",
      "1\n",
      "0\n",
      "0\n",
      "0\n",
      "0\n",
      "1\n",
      "1\n",
      "1\n",
      "1\n",
      "0\n",
      "0\n",
      "1\n",
      "1\n",
      "1\n",
      "1\n",
      "1\n",
      "1\n",
      "1\n",
      "1\n",
      "1\n"
     ]
    },
    {
     "name": "stderr",
     "output_type": "stream",
     "text": [
      "Exception ignored in: <function ScopedTFGraph.__del__ at 0x000001F016456820>\n",
      "Traceback (most recent call last):\n",
      "  File \"c:\\users\\suprabhashsahu\\desktop\\strategyresearch\\venv\\lib\\site-packages\\tensorflow\\python\\framework\\c_api_util.py\", line 54, in __del__\n",
      "    self.deleter(self.graph)\n",
      "KeyboardInterrupt: \n"
     ]
    },
    {
     "name": "stdout",
     "output_type": "stream",
     "text": [
      "1\n",
      "1\n",
      "1\n",
      "1\n",
      "1\n",
      "1\n"
     ]
    },
    {
     "name": "stderr",
     "output_type": "stream",
     "text": [
      "  0%|          | 0/10 [00:02<?, ?it/s]\n"
     ]
    },
    {
     "name": "stdout",
     "output_type": "stream",
     "text": [
      "1\n",
      "1\n",
      "1\n",
      "0\n",
      "1\n"
     ]
    },
    {
     "name": "stderr",
     "output_type": "stream",
     "text": [
      "\n",
      "KeyboardInterrupt\n",
      "\n"
     ]
    }
   ],
   "source": [
    "train_q_learning(train_df, features, state_lookback, model, alpha, epsilon, gamma, episodes, metric)"
   ],
   "metadata": {
    "collapsed": false,
    "pycharm": {
     "name": "#%%\n"
    }
   }
  },
  {
   "cell_type": "code",
   "execution_count": null,
   "outputs": [],
   "source": [
    "def eval_q_learning(test_data, q, state_lookback):\n",
    "\n",
    "    test_data = test_data[[\"Close\", \"state\"]]\n",
    "\n",
    "    #Backtester initialisation\n",
    "    balance = 10000\n",
    "    net_worth = balance\n",
    "    in_position = False\n",
    "    position_value = 0.0\n",
    "    price_bought = 0.0\n",
    "    bet_bought = 0.0\n",
    "    actions_history = []\n",
    "    equity_curve = []\n",
    "    rewards = []\n",
    "    states = []\n",
    "    prices = []\n",
    "\n",
    "    for i, val in enumerate(np.array(test_data)):\n",
    "        if i<state_lookback:\n",
    "            continue\n",
    "        current_adj_close, state = val\n",
    "        prices.append(current_adj_close)\n",
    "        prev_adj_close, _ = np.array(test_data)[i - 1]\n",
    "        states.append(''.join(list(test_data.iloc[i - state_lookback:i][\"state\"])[::-1]))\n",
    "\n",
    "        action_priority = act(state, q, threshold=0, actions_size=2)\n",
    "        action = action_priority[0]\n",
    "        actions_history.append(action)\n",
    "\n",
    "        if not in_position:\n",
    "            if action == 1:  # OPEN LONG\n",
    "                in_position = True\n",
    "                price_bought = current_adj_close\n",
    "                bet_bought = balance\n",
    "                balance -= bet_bought\n",
    "                position_value = bet_bought\n",
    "                rewards.append(0)\n",
    "            else:  # KEEP LOOKING\n",
    "                rewards.append(0)\n",
    "        else:\n",
    "            market_return = ((current_adj_close - price_bought) / price_bought)\n",
    "            if action == 1:  # HOLD LONG\n",
    "                position_value = bet_bought * (1.0 + market_return)\n",
    "                if metric==\"absolute\":\n",
    "                    rewards.append(bet_bought*market_return)\n",
    "                else:\n",
    "                    rewards.append(market_return)\n",
    "            else:  # CLOSE LONG\n",
    "                balance += bet_bought * (1.0 + market_return)\n",
    "                in_position = False\n",
    "                price_bought = 0.0\n",
    "                bet_bought = 0.0\n",
    "                position_value = 0.0\n",
    "                rewards.append(0)\n",
    "\n",
    "        net_worth = balance + position_value\n",
    "        equity_curve.append(net_worth)\n",
    "    plot_performance(prices, actions_history, equity_curve)\n"
   ],
   "metadata": {
    "collapsed": false,
    "pycharm": {
     "name": "#%%\n"
    }
   }
  },
  {
   "cell_type": "code",
   "execution_count": null,
   "outputs": [],
   "source": [
    "eval_q_learning(test_df, q, state_lookback)\n"
   ],
   "metadata": {
    "collapsed": false,
    "pycharm": {
     "name": "#%%\n"
    }
   }
  },
  {
   "cell_type": "code",
   "execution_count": null,
   "outputs": [],
   "source": [],
   "metadata": {
    "collapsed": false,
    "pycharm": {
     "name": "#%%\n"
    }
   }
  }
 ],
 "metadata": {
  "kernelspec": {
   "display_name": "Python 3",
   "language": "python",
   "name": "python3"
  },
  "language_info": {
   "codemirror_mode": {
    "name": "ipython",
    "version": 2
   },
   "file_extension": ".py",
   "mimetype": "text/x-python",
   "name": "python",
   "nbconvert_exporter": "python",
   "pygments_lexer": "ipython2",
   "version": "2.7.6"
  }
 },
 "nbformat": 4,
 "nbformat_minor": 0
}