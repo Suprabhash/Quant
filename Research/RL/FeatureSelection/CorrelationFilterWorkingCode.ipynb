{
 "cells": [
  {
   "cell_type": "code",
   "execution_count": null,
   "outputs": [],
   "source": [
    "%load_ext autoreload\n",
    "%autoreload 2"
   ],
   "metadata": {
    "collapsed": false,
    "pycharm": {
     "name": "#%%\n"
    }
   }
  },
  {
   "cell_type": "code",
   "execution_count": null,
   "outputs": [],
   "source": [
    "import warnings\n",
    "warnings.filterwarnings(\"ignore\")"
   ],
   "metadata": {
    "collapsed": false,
    "pycharm": {
     "name": "#%%\n"
    }
   }
  },
  {
   "cell_type": "code",
   "execution_count": null,
   "outputs": [],
   "source": [
    "%matplotlib inline\n",
    "import matplotlib.pyplot as plt\n",
    "plt.rcParams[\"figure.figsize\"] = (15,5)\n",
    "plt.rcParams['axes.grid'] = False\n",
    "import seaborn as sns\n",
    "sns.set_style(\"whitegrid\", {'axes.grid' : False})"
   ],
   "metadata": {
    "collapsed": false,
    "pycharm": {
     "name": "#%%\n"
    }
   }
  },
  {
   "cell_type": "code",
   "execution_count": null,
   "outputs": [],
   "source": [
    "import pandas as pd\n",
    "from Data.data_retrieval import get_data\n",
    "import Feature_Selection"
   ],
   "metadata": {
    "collapsed": false,
    "pycharm": {
     "name": "#%%\n"
    }
   }
  },
  {
   "cell_type": "code",
   "execution_count": null,
   "outputs": [],
   "source": [
    "def correlation_filter(features_df,number_of_filtered_selections, ohlcv):\n",
    "\n",
    "    n=10000\n",
    "    df = pd.DataFrame()\n",
    "    for row in range(n):\n",
    "        f = getattr(Feature_Selection, features_df.iloc[row][\"F\"])\n",
    "        flb = features_df.iloc[row][\"F_Lookback\"]\n",
    "        g = getattr(Feature_Selection, features_df.iloc[row][\"G\"])\n",
    "        glb = features_df.iloc[row][\"G_Lookback\"]\n",
    "        X = f([ohlcv, flb]).iloc[flb - 1:].reset_index(drop=True)\n",
    "        col_name = X.columns[-1]\n",
    "        X = g(X, col_name, glb).iloc[glb - 1:].reset_index(drop=True)\n",
    "        X = X[[X.columns[-1]]].set_index(X[\"Datetime\"])\n",
    "        df = pd.concat([df, X], axis=1)\n",
    "    df1 = df.copy()\n",
    "    df.dropna(inplace=True)\n",
    "    df = df.loc[:,~df.columns.duplicated()]\n",
    "    corr_mat = df.corr()\n",
    "    features = [column for column in df]\n",
    "    selected_features = [features[0]]\n",
    "    features.remove(features[0])\n",
    "    last_selected_feature = features[0]\n",
    "\n",
    "    while len(selected_features) < number_of_filtered_selections:\n",
    "        corrs = corr_mat.loc[features][last_selected_feature]\n",
    "        corrs = corrs.loc[corrs > 0.999]\n",
    "        features = [f for f in features if f not in corrs.index.to_list()]\n",
    "        if len(features) == 0:\n",
    "            break\n",
    "        feat = features[0]\n",
    "        selected_features.append(feat)\n",
    "        features.remove(feat)\n",
    "        last_selected_feature = feat\n",
    "\n",
    "    indices = []\n",
    "    for feat in selected_features:\n",
    "        indices.append(list(df1.columns).index(feat))\n",
    "    selected_features = features_df.iloc[indices].reset_index(drop=True)\n",
    "    return selected_features"
   ],
   "metadata": {
    "collapsed": false,
    "pycharm": {
     "name": "#%%\n"
    }
   }
  },
  {
   "cell_type": "code",
   "execution_count": null,
   "outputs": [],
   "source": [
    "df = pd.read_csv(\"FeatureSelectionResults.csv\")\n",
    "df.drop(columns=['Unnamed: 0'], inplace=True)\n",
    "ohlcv = get_data('NIFc1', 'D')\n",
    "number_of_filtered_selections = 100\n",
    "filtered_strategies = correlation_filter(df,number_of_filtered_selections, ohlcv)\n",
    "filtered_strategies.to_csv(\"FilteredFeatureSelectionResults.csv\")\n",
    "print(len(filtered_strategies))"
   ],
   "metadata": {
    "collapsed": false,
    "pycharm": {
     "name": "#%%\n"
    }
   }
  },
  {
   "cell_type": "code",
   "execution_count": null,
   "outputs": [],
   "source": [],
   "metadata": {
    "collapsed": false,
    "pycharm": {
     "name": "#%%\n"
    }
   }
  }
 ],
 "metadata": {
  "kernelspec": {
   "display_name": "Python 3",
   "language": "python",
   "name": "python3"
  },
  "language_info": {
   "codemirror_mode": {
    "name": "ipython",
    "version": 2
   },
   "file_extension": ".py",
   "mimetype": "text/x-python",
   "name": "python",
   "nbconvert_exporter": "python",
   "pygments_lexer": "ipython2",
   "version": "2.7.6"
  }
 },
 "nbformat": 4,
 "nbformat_minor": 0
}