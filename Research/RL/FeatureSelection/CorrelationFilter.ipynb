{
 "cells": [
  {
   "cell_type": "code",
   "execution_count": 1,
   "outputs": [],
   "source": [
    "%load_ext autoreload\n",
    "%autoreload 2"
   ],
   "metadata": {
    "collapsed": false,
    "pycharm": {
     "name": "#%%\n"
    }
   }
  },
  {
   "cell_type": "code",
   "execution_count": 2,
   "outputs": [],
   "source": [
    "import warnings\n",
    "warnings.filterwarnings(\"ignore\")"
   ],
   "metadata": {
    "collapsed": false,
    "pycharm": {
     "name": "#%%\n"
    }
   }
  },
  {
   "cell_type": "code",
   "execution_count": 3,
   "outputs": [],
   "source": [
    "%matplotlib inline\n",
    "import matplotlib.pyplot as plt\n",
    "plt.rcParams[\"figure.figsize\"] = (15,5)\n",
    "plt.rcParams['axes.grid'] = False\n",
    "import seaborn as sns\n",
    "sns.set_style(\"whitegrid\", {'axes.grid' : False})"
   ],
   "metadata": {
    "collapsed": false,
    "pycharm": {
     "name": "#%%\n"
    }
   }
  },
  {
   "cell_type": "code",
   "execution_count": 11,
   "outputs": [],
   "source": [
    "import pandas as pd\n",
    "from Data.data_retrieval import get_data\n",
    "import Feature_Selection\n",
    "from tqdm import tqdm"
   ],
   "metadata": {
    "collapsed": false,
    "pycharm": {
     "name": "#%%\n"
    }
   }
  },
  {
   "cell_type": "code",
   "execution_count": 14,
   "outputs": [],
   "source": [
    "def correlation_filter(features_df,number_of_filtered_selections, ohlcv):\n",
    "    selected_features = []\n",
    "    while len(selected_features) < number_of_filtered_selections:\n",
    "        chunksize=10\n",
    "        df = pd.DataFrame()\n",
    "        for row in tqdm(range(chunksize)):\n",
    "            f = getattr(Feature_Selection, features_df.iloc[row][\"F\"])\n",
    "            flb = features_df.iloc[row][\"F_Lookback\"]\n",
    "            g = getattr(Feature_Selection, features_df.iloc[row][\"G\"])\n",
    "            glb = features_df.iloc[row][\"G_Lookback\"]\n",
    "            X = f([ohlcv, flb]).iloc[flb - 1:].reset_index(drop=True)\n",
    "            col_name = X.columns[-1]\n",
    "            X = g(X, col_name, glb).iloc[glb - 1:].reset_index(drop=True)\n",
    "            X = X[[X.columns[-1]]].set_index(X[\"Datetime\"])\n",
    "            df = pd.concat([df, X], axis=1)\n",
    "\n",
    "        df1 = df.copy()\n",
    "        df.dropna(inplace=True)\n",
    "        df = df.loc[:,~df.columns.duplicated()]\n",
    "        corr_mat = df.corr()\n",
    "        features = [column for column in df]\n",
    "        if len(selected_features)==0:\n",
    "            selected_features.append(features[0])\n",
    "            features.remove(features[0])\n",
    "            last_selected_feature = features[0]\n",
    "        else:\n",
    "            last_selected_feature = selected_features[-1]\n",
    "\n",
    "        while len(selected_features) < number_of_filtered_selections:\n",
    "            corrs = corr_mat.loc[features][last_selected_feature]\n",
    "            corrs = corrs.loc[corrs < 0.999]\n",
    "            features = [f for f in features if f not in corrs.index.to_list()]\n",
    "            if len(features) == 0:\n",
    "                break\n",
    "            feat = features[0]\n",
    "            selected_features.append(feat)\n",
    "            features.remove(feat)\n",
    "            last_selected_feature = feat\n",
    "\n",
    "        indices = []\n",
    "        for feat in selected_features:\n",
    "            indices.append(list(df1.columns).index(feat))\n",
    "        selected_features = features_df.iloc[indices].reset_index(drop=True)\n",
    "        return selected_features"
   ],
   "metadata": {
    "collapsed": false,
    "pycharm": {
     "name": "#%%\n"
    }
   }
  },
  {
   "cell_type": "code",
   "execution_count": null,
   "outputs": [],
   "source": [
    "df = pd.read_csv(\"FeatureSelectionResults.csv\")\n",
    "df.drop(columns=['Unnamed: 0'], inplace=True)\n",
    "ohlcv = get_data('NIFc1', 'D')\n",
    "number_of_filtered_selections = 100\n",
    "filtered_strategies = correlation_filter(df,number_of_filtered_selections, ohlcv)\n",
    "filtered_strategies.to_csv(\"FilteredFeatureSelectionResults.csv\")\n",
    "print(len(filtered_strategies))"
   ],
   "metadata": {
    "collapsed": false,
    "pycharm": {
     "name": "#%%\n"
    }
   }
  },
  {
   "cell_type": "code",
   "execution_count": 5,
   "outputs": [],
   "source": [
    "df = pd.read_csv(\"FeatureSelectionResults.csv\")\n",
    "df.drop(columns=['Unnamed: 0'], inplace=True)\n",
    "ohlcv = get_data('NIFc1', 'D')"
   ],
   "metadata": {
    "collapsed": false,
    "pycharm": {
     "name": "#%%\n"
    }
   }
  },
  {
   "cell_type": "code",
   "execution_count": 15,
   "outputs": [
    {
     "name": "stderr",
     "output_type": "stream",
     "text": [
      "100%|██████████| 10000/10000 [09:00<00:00, 18.50it/s]\n"
     ]
    }
   ],
   "source": [
    "number_of_filtered_selections = 100\n",
    "filtered_strategies = correlation_filter(df,number_of_filtered_selections, ohlcv)"
   ],
   "metadata": {
    "collapsed": false,
    "pycharm": {
     "name": "#%%\n"
    }
   }
  },
  {
   "cell_type": "code",
   "execution_count": 18,
   "outputs": [
    {
     "ename": "KeyboardInterrupt",
     "evalue": "",
     "output_type": "error",
     "traceback": [
      "\u001B[1;31m---------------------------------------------------------------------------\u001B[0m",
      "\u001B[1;31mKeyboardInterrupt\u001B[0m                         Traceback (most recent call last)",
      "Input \u001B[1;32mIn [18]\u001B[0m, in \u001B[0;36m<cell line: 1>\u001B[1;34m()\u001B[0m\n\u001B[1;32m----> 1\u001B[0m \u001B[43mfiltered_strategies\u001B[49m\u001B[38;5;241;43m.\u001B[39;49m\u001B[43mdropna\u001B[49m\u001B[43m(\u001B[49m\u001B[43m)\u001B[49m\u001B[38;5;241;43m.\u001B[39;49m\u001B[43mcorr\u001B[49m\u001B[43m(\u001B[49m\u001B[43m)\u001B[49m\n",
      "File \u001B[1;32m~\\Desktop\\SuprabhashKT\\venv\\lib\\site-packages\\pandas\\core\\frame.py:9534\u001B[0m, in \u001B[0;36mDataFrame.corr\u001B[1;34m(self, method, min_periods)\u001B[0m\n\u001B[0;32m   9531\u001B[0m mat \u001B[38;5;241m=\u001B[39m numeric_df\u001B[38;5;241m.\u001B[39mto_numpy(dtype\u001B[38;5;241m=\u001B[39m\u001B[38;5;28mfloat\u001B[39m, na_value\u001B[38;5;241m=\u001B[39mnp\u001B[38;5;241m.\u001B[39mnan, copy\u001B[38;5;241m=\u001B[39m\u001B[38;5;28;01mFalse\u001B[39;00m)\n\u001B[0;32m   9533\u001B[0m \u001B[38;5;28;01mif\u001B[39;00m method \u001B[38;5;241m==\u001B[39m \u001B[38;5;124m\"\u001B[39m\u001B[38;5;124mpearson\u001B[39m\u001B[38;5;124m\"\u001B[39m:\n\u001B[1;32m-> 9534\u001B[0m     correl \u001B[38;5;241m=\u001B[39m \u001B[43mlibalgos\u001B[49m\u001B[38;5;241;43m.\u001B[39;49m\u001B[43mnancorr\u001B[49m\u001B[43m(\u001B[49m\u001B[43mmat\u001B[49m\u001B[43m,\u001B[49m\u001B[43m \u001B[49m\u001B[43mminp\u001B[49m\u001B[38;5;241;43m=\u001B[39;49m\u001B[43mmin_periods\u001B[49m\u001B[43m)\u001B[49m\n\u001B[0;32m   9535\u001B[0m \u001B[38;5;28;01melif\u001B[39;00m method \u001B[38;5;241m==\u001B[39m \u001B[38;5;124m\"\u001B[39m\u001B[38;5;124mspearman\u001B[39m\u001B[38;5;124m\"\u001B[39m:\n\u001B[0;32m   9536\u001B[0m     correl \u001B[38;5;241m=\u001B[39m libalgos\u001B[38;5;241m.\u001B[39mnancorr_spearman(mat, minp\u001B[38;5;241m=\u001B[39mmin_periods)\n",
      "\u001B[1;31mKeyboardInterrupt\u001B[0m: "
     ]
    }
   ],
   "source": [
    "filtered_strategies.dropna().corr()"
   ],
   "metadata": {
    "collapsed": false,
    "pycharm": {
     "name": "#%%\n"
    }
   }
  },
  {
   "cell_type": "code",
   "execution_count": null,
   "outputs": [],
   "source": [],
   "metadata": {
    "collapsed": false,
    "pycharm": {
     "name": "#%%\n"
    }
   }
  }
 ],
 "metadata": {
  "kernelspec": {
   "display_name": "Python 3",
   "language": "python",
   "name": "python3"
  },
  "language_info": {
   "codemirror_mode": {
    "name": "ipython",
    "version": 2
   },
   "file_extension": ".py",
   "mimetype": "text/x-python",
   "name": "python",
   "nbconvert_exporter": "python",
   "pygments_lexer": "ipython2",
   "version": "2.7.6"
  }
 },
 "nbformat": 4,
 "nbformat_minor": 0
}