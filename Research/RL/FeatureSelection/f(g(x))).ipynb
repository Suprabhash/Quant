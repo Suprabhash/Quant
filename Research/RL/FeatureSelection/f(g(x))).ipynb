{
 "cells": [
  {
   "cell_type": "code",
   "execution_count": 1,
   "metadata": {
    "collapsed": true
   },
   "outputs": [],
   "source": [
    "%load_ext autoreload\n",
    "%autoreload 2"
   ]
  },
  {
   "cell_type": "code",
   "execution_count": 2,
   "outputs": [],
   "source": [
    "import warnings\n",
    "warnings.filterwarnings(\"ignore\")"
   ],
   "metadata": {
    "collapsed": false,
    "pycharm": {
     "name": "#%%\n"
    }
   }
  },
  {
   "cell_type": "code",
   "execution_count": 3,
   "outputs": [],
   "source": [
    "%matplotlib inline\n",
    "import matplotlib.pyplot as plt\n",
    "plt.rcParams[\"figure.figsize\"] = (15,5)\n",
    "plt.rcParams['axes.grid'] = False\n",
    "import seaborn as sns\n",
    "sns.set_style(\"whitegrid\", {'axes.grid' : False})"
   ],
   "metadata": {
    "collapsed": false,
    "pycharm": {
     "name": "#%%\n"
    }
   }
  },
  {
   "cell_type": "code",
   "execution_count": 4,
   "outputs": [],
   "source": [
    "from tqdm import tqdm\n",
    "from functools import partial\n",
    "from Utils.add_features import add_fisher, add_inverse_fisher, add_constance_brown\n",
    "from Utils.add_features import max_over_lookback, min_over_lookback, sma, x, shift\n",
    "import numpy as np\n",
    "from sklearn.preprocessing import MinMaxScaler\n",
    "import pandas as pd\n",
    "from Optimisers.Optimiser import Optimiser"
   ],
   "metadata": {
    "collapsed": false,
    "pycharm": {
     "name": "#%%\n"
    }
   }
  },
  {
   "cell_type": "code",
   "execution_count": 5,
   "outputs": [],
   "source": [
    "from Data.data_retrieval import get_data\n",
    "data = get_data('.NSEI', 'D')"
   ],
   "metadata": {
    "collapsed": false,
    "pycharm": {
     "name": "#%%\n"
    }
   }
  },
  {
   "cell_type": "markdown",
   "source": [
    "Adding target forward returns"
   ],
   "metadata": {
    "collapsed": false
   }
  },
  {
   "cell_type": "code",
   "execution_count": 6,
   "outputs": [],
   "source": [
    "lookforwards = [3,5,10,21,45]"
   ],
   "metadata": {
    "collapsed": false,
    "pycharm": {
     "name": "#%%\n"
    }
   }
  },
  {
   "cell_type": "code",
   "execution_count": 7,
   "outputs": [],
   "source": [
    "for i in range(1,max(lookforwards)):\n",
    "    data[f\"FReturn{i}\"] = data[\"Close\"].shift(-i)/data[\"Close\"]-1\n",
    "for lookforward in lookforwards:\n",
    "    data[f\"MaxFReturn{lookforward}\"] = data[[f\"FReturn{i}\" for i in range(1,lookforward)]].max( axis=1)\n",
    "    data[f\"MinFReturn{lookforward}\"] = data[[f\"FReturn{i}\" for i in range(1,lookforward)]].min( axis=1)\n",
    "data = data.drop(columns=[f\"FReturn{i}\" for i in range(1,max(lookforwards)) if i not in lookforwards])\n",
    "data.dropna(inplace=True)"
   ],
   "metadata": {
    "collapsed": false,
    "pycharm": {
     "name": "#%%\n"
    }
   }
  },
  {
   "cell_type": "markdown",
   "source": [
    "Defining F and G"
   ],
   "metadata": {
    "collapsed": false,
    "pycharm": {
     "name": "#%% md\n"
    }
   }
  },
  {
   "cell_type": "code",
   "execution_count": 8,
   "outputs": [],
   "source": [
    "max_lookback = 400\n",
    "f_functions = [add_fisher, add_inverse_fisher, add_constance_brown]\n",
    "g_functions = [x, max_over_lookback, min_over_lookback, sma, shift]"
   ],
   "metadata": {
    "collapsed": false,
    "pycharm": {
     "name": "#%%\n"
    }
   }
  },
  {
   "cell_type": "markdown",
   "source": [
    "MCMC"
   ],
   "metadata": {
    "collapsed": false,
    "pycharm": {
     "name": "#%% md\n"
    }
   }
  },
  {
   "cell_type": "code",
   "execution_count": 9,
   "outputs": [],
   "source": [
    "def prior(self, params):\n",
    "    if (params[0] < 0) | (params[0] > len(f_functions)):\n",
    "        return 0\n",
    "    if (params[1] < 1) | (params[1] > max_lookback):\n",
    "        return 0\n",
    "    if (params[2] < 0) | (params[2] > len(g_functions)):\n",
    "        return 0\n",
    "    if (params[3] < 1) | (params[3] > max_lookback):\n",
    "        return 0\n",
    "    return 1\n",
    "\n",
    "def alpha(args):\n",
    "    df = data.copy()\n",
    "    f_function = f_functions[args[0]]\n",
    "    f_lookback = round(args[1])\n",
    "    g_function = g_functions[args[2]]\n",
    "    g_lookback = round(args[3])\n",
    "\n",
    "    df = f_function([df, f_lookback])\n",
    "    f = df.columns[-1]\n",
    "    df[f] = MinMaxScaler().fit_transform(df[[f]])\n",
    "    df = df.iloc[max_lookback:].reset_index(drop=True)\n",
    "    df = g_function(df, f, g_lookback)\n",
    "    g = df.columns[-1]\n",
    "    df = df.iloc[max_lookback:].reset_index(drop=True)\n",
    "    return df[g].to_numpy()"
   ],
   "metadata": {
    "collapsed": false,
    "pycharm": {
     "name": "#%%\n"
    }
   }
  },
  {
   "cell_type": "code",
   "execution_count": 10,
   "outputs": [],
   "source": [
    "guess_length = 3\n",
    "guess_list = [[np.random.randint(0,len(f_functions)), np.random.randint(0,max_lookback+1),\n",
    "               np.random.randint(0,len(g_functions)), np.random.randint(0,max_lookback+1)] for i in range(10)]\n"
   ],
   "metadata": {
    "collapsed": false,
    "pycharm": {
     "name": "#%%\n"
    }
   }
  },
  {
   "cell_type": "code",
   "execution_count": 11,
   "outputs": [],
   "source": [
    "guess = guess_list[0]\n",
    "target = \"MaxFReturn45\""
   ],
   "metadata": {
    "collapsed": false,
    "pycharm": {
     "name": "#%%\n"
    }
   }
  },
  {
   "cell_type": "code",
   "execution_count": 12,
   "outputs": [
    {
     "data": {
      "text/plain": "[1, 93, 2, 86]"
     },
     "execution_count": 12,
     "metadata": {},
     "output_type": "execute_result"
    }
   ],
   "source": [
    "guess"
   ],
   "metadata": {
    "collapsed": false,
    "pycharm": {
     "name": "#%%\n"
    }
   }
  },
  {
   "cell_type": "code",
   "execution_count": 13,
   "outputs": [
    {
     "name": "stdout",
     "output_type": "stream",
     "text": [
      "[(0, (-1000, 1000)), (1, (-1000, 1000)), (2, (-1000, 1000)), (3, (-1000, 1000)), ...]\n",
      "[((0, 1, 2, 3, 4, 5), 100000), ...]\n",
      "[0.2, 2.0, 0.2, 2.0, ...]\n"
     ]
    },
    {
     "ename": "IndexError",
     "evalue": "list index out of range",
     "output_type": "error",
     "traceback": [
      "\u001B[1;31m---------------------------------------------------------------------------\u001B[0m",
      "\u001B[1;31mIndexError\u001B[0m                                Traceback (most recent call last)",
      "Input \u001B[1;32mIn [13]\u001B[0m, in \u001B[0;36m<cell line: 9>\u001B[1;34m()\u001B[0m\n\u001B[0;32m      7\u001B[0m opt\u001B[38;5;241m.\u001B[39mdefine_target(data[target]\u001B[38;5;241m.\u001B[39miloc[\u001B[38;5;241m2\u001B[39m\u001B[38;5;241m*\u001B[39mmax_lookback:]\u001B[38;5;241m.\u001B[39mto_numpy())\n\u001B[0;32m      8\u001B[0m opt\u001B[38;5;241m.\u001B[39mdefine_lower_and_upper_limit(\u001B[38;5;241m0\u001B[39m, max_lookback\u001B[38;5;241m+\u001B[39m\u001B[38;5;241m1\u001B[39m)\n\u001B[1;32m----> 9\u001B[0m mc, rs \u001B[38;5;241m=\u001B[39m \u001B[43mopt\u001B[49m\u001B[38;5;241;43m.\u001B[39;49m\u001B[43moptimise\u001B[49m\u001B[43m(\u001B[49m\u001B[43m)\u001B[49m\n",
      "File \u001B[1;32m~\\Desktop\\StrategyResearch\\Optimisers\\Optimiser.py:86\u001B[0m, in \u001B[0;36mOptimiser.optimise\u001B[1;34m(self)\u001B[0m\n\u001B[0;32m     82\u001B[0m \u001B[38;5;28;01mif\u001B[39;00m \u001B[38;5;28mself\u001B[39m\u001B[38;5;241m.\u001B[39mmethod \u001B[38;5;241m==\u001B[39m \u001B[38;5;124m\"\u001B[39m\u001B[38;5;124mMCMC\u001B[39m\u001B[38;5;124m\"\u001B[39m:\n\u001B[0;32m     83\u001B[0m     mc \u001B[38;5;241m=\u001B[39m MCMC(alpha_fn\u001B[38;5;241m=\u001B[39m\u001B[38;5;28mself\u001B[39m\u001B[38;5;241m.\u001B[39malpha_function, alpha_fn_params_0\u001B[38;5;241m=\u001B[39m\u001B[38;5;28mself\u001B[39m\u001B[38;5;241m.\u001B[39mguess, target\u001B[38;5;241m=\u001B[39m\u001B[38;5;28mself\u001B[39m\u001B[38;5;241m.\u001B[39mtarget,\n\u001B[0;32m     84\u001B[0m               num_iters\u001B[38;5;241m=\u001B[39m\u001B[38;5;28mself\u001B[39m\u001B[38;5;241m.\u001B[39miters, prior\u001B[38;5;241m=\u001B[39m\u001B[38;5;28mself\u001B[39m\u001B[38;5;241m.\u001B[39mprior,\n\u001B[0;32m     85\u001B[0m               optimize_fn\u001B[38;5;241m=\u001B[39m\u001B[38;5;28mself\u001B[39m\u001B[38;5;241m.\u001B[39moptim_function, lower_limit\u001B[38;5;241m=\u001B[39m\u001B[38;5;28mself\u001B[39m\u001B[38;5;241m.\u001B[39mlower_limit, upper_limit\u001B[38;5;241m=\u001B[39m\u001B[38;5;28mself\u001B[39m\u001B[38;5;241m.\u001B[39mupper_limit)\n\u001B[1;32m---> 86\u001B[0m     rs \u001B[38;5;241m=\u001B[39m \u001B[43mmc\u001B[49m\u001B[38;5;241;43m.\u001B[39;49m\u001B[43moptimize\u001B[49m\u001B[43m(\u001B[49m\u001B[43m)\u001B[49m\n\u001B[0;32m     87\u001B[0m     \u001B[38;5;28;01mreturn\u001B[39;00m mc, rs\n",
      "File \u001B[1;32m~\\Desktop\\StrategyResearch\\Optimisers\\MCMC\\MCMC.py:234\u001B[0m, in \u001B[0;36mMCMC.optimize\u001B[1;34m(self)\u001B[0m\n\u001B[0;32m    231\u001B[0m \u001B[38;5;28;01mdef\u001B[39;00m \u001B[38;5;21moptimize\u001B[39m(\u001B[38;5;28mself\u001B[39m):\n\u001B[0;32m    233\u001B[0m     prev_params \u001B[38;5;241m=\u001B[39m \u001B[38;5;28mself\u001B[39m\u001B[38;5;241m.\u001B[39minitial_params\n\u001B[1;32m--> 234\u001B[0m     [ prev_params, prev_nmi] \u001B[38;5;241m=\u001B[39m \u001B[38;5;28;43mself\u001B[39;49m\u001B[38;5;241;43m.\u001B[39;49m\u001B[43mdo_step\u001B[49m\u001B[43m(\u001B[49m\u001B[43m \u001B[49m\u001B[38;5;241;43m0\u001B[39;49m\u001B[43m,\u001B[49m\u001B[43m \u001B[49m\u001B[43mprev_params\u001B[49m\u001B[43m,\u001B[49m\u001B[43m \u001B[49m\u001B[38;5;241;43m-\u001B[39;49m\u001B[38;5;241;43m1\u001B[39;49m\u001B[43m \u001B[49m\u001B[43m)\u001B[49m\n\u001B[0;32m    235\u001B[0m     all_results \u001B[38;5;241m=\u001B[39m []\n\u001B[0;32m    237\u001B[0m     \u001B[38;5;28;01mfor\u001B[39;00m i \u001B[38;5;129;01min\u001B[39;00m \u001B[38;5;28mrange\u001B[39m( \u001B[38;5;241m0\u001B[39m, \u001B[38;5;28mself\u001B[39m\u001B[38;5;241m.\u001B[39mnum_iters):\n\u001B[0;32m    238\u001B[0m         \u001B[38;5;66;03m# print( i )\u001B[39;00m\n\u001B[0;32m    239\u001B[0m         \u001B[38;5;66;03m# if round( i / 100 ) == i/100:\u001B[39;00m\n\u001B[0;32m    240\u001B[0m         \u001B[38;5;66;03m#     print( \"Current: \"  + str( i ) + \" of \" + str( self.num_iters ))\u001B[39;00m\n",
      "File \u001B[1;32m~\\Desktop\\StrategyResearch\\Optimisers\\MCMC\\MCMC.py:191\u001B[0m, in \u001B[0;36mMCMC.do_step\u001B[1;34m(self, iter, prev_params, prev_nmi)\u001B[0m\n\u001B[0;32m    187\u001B[0m \u001B[38;5;28;01mdef\u001B[39;00m \u001B[38;5;21mdo_step\u001B[39m(\u001B[38;5;28mself\u001B[39m, \u001B[38;5;28miter\u001B[39m, prev_params, prev_nmi ):\n\u001B[0;32m    188\u001B[0m \n\u001B[0;32m    189\u001B[0m     \u001B[38;5;66;03m#print(\"Inside do_step\")\u001B[39;00m\n\u001B[1;32m--> 191\u001B[0m     next_params \u001B[38;5;241m=\u001B[39m \u001B[38;5;28;43mself\u001B[39;49m\u001B[38;5;241;43m.\u001B[39;49m\u001B[43mtransition_fn\u001B[49m\u001B[43m(\u001B[49m\u001B[43m \u001B[49m\u001B[43mprev_params\u001B[49m\u001B[43m,\u001B[49m\u001B[43m \u001B[49m\u001B[38;5;28;43miter\u001B[39;49m\u001B[43m \u001B[49m\u001B[43m)\u001B[49m\n\u001B[0;32m    193\u001B[0m     \u001B[38;5;28;01mif\u001B[39;00m \u001B[38;5;28mself\u001B[39m\u001B[38;5;241m.\u001B[39mprior( next_params ) \u001B[38;5;241m!=\u001B[39m \u001B[38;5;241m0\u001B[39m:\n\u001B[0;32m    194\u001B[0m \n\u001B[0;32m    195\u001B[0m         \u001B[38;5;66;03m#y_pred = MCMC.__to_percentile( self.alpha_fn( *next_params ) )\u001B[39;00m\n\u001B[1;32m   (...)\u001B[0m\n\u001B[0;32m    199\u001B[0m \n\u001B[0;32m    200\u001B[0m         \u001B[38;5;66;03m# X = self.alpha_fn( *next_params )\u001B[39;00m\n\u001B[0;32m    201\u001B[0m         X \u001B[38;5;241m=\u001B[39m \u001B[38;5;28mself\u001B[39m\u001B[38;5;241m.\u001B[39malpha_fn( np\u001B[38;5;241m.\u001B[39marray(next_params) )\n",
      "File \u001B[1;32m~\\Desktop\\StrategyResearch\\Optimisers\\MCMC\\MCMC.py:54\u001B[0m, in \u001B[0;36mMCMC.transition_fn\u001B[1;34m(self, cur, iter)\u001B[0m\n\u001B[0;32m     52\u001B[0m \u001B[38;5;28mprint\u001B[39m(List(\u001B[38;5;28mself\u001B[39m\u001B[38;5;241m.\u001B[39msum_zip))\n\u001B[0;32m     53\u001B[0m \u001B[38;5;28mprint\u001B[39m(List(std_guesses))\n\u001B[1;32m---> 54\u001B[0m \u001B[38;5;28;01mreturn\u001B[39;00m \u001B[38;5;28;43mself\u001B[39;49m\u001B[38;5;241;43m.\u001B[39;49m\u001B[43mtransition_np\u001B[49m\u001B[43m(\u001B[49m\u001B[43mList\u001B[49m\u001B[43m(\u001B[49m\u001B[43mcur\u001B[49m\u001B[43m)\u001B[49m\u001B[43m,\u001B[49m\u001B[43m \u001B[49m\u001B[43mList\u001B[49m\u001B[43m(\u001B[49m\u001B[38;5;28;43mself\u001B[39;49m\u001B[38;5;241;43m.\u001B[39;49m\u001B[43mmin_max_zip\u001B[49m\u001B[43m)\u001B[49m\u001B[43m,\u001B[49m\u001B[43m \u001B[49m\u001B[43mList\u001B[49m\u001B[43m(\u001B[49m\u001B[38;5;28;43mself\u001B[39;49m\u001B[38;5;241;43m.\u001B[39;49m\u001B[43msum_zip\u001B[49m\u001B[43m)\u001B[49m\u001B[43m,\u001B[49m\u001B[43m \u001B[49m\u001B[43mList\u001B[49m\u001B[43m(\u001B[49m\u001B[43mstd_guesses\u001B[49m\u001B[43m)\u001B[49m\u001B[43m)\u001B[49m\n",
      "File \u001B[1;32mc:\\users\\suprabhashsahu\\desktop\\strategyresearch\\venv\\lib\\site-packages\\numba\\typed\\listobject.py:662\u001B[0m, in \u001B[0;36mhandle_index\u001B[1;34m()\u001B[0m\n\u001B[0;32m    660\u001B[0m \u001B[38;5;66;03m# check that the index is in range\u001B[39;00m\n\u001B[0;32m    661\u001B[0m \u001B[38;5;28;01mif\u001B[39;00m index \u001B[38;5;241m<\u001B[39m \u001B[38;5;241m0\u001B[39m \u001B[38;5;129;01mor\u001B[39;00m index \u001B[38;5;241m>\u001B[39m\u001B[38;5;241m=\u001B[39m \u001B[38;5;28mlen\u001B[39m(l):\n\u001B[1;32m--> 662\u001B[0m     \u001B[38;5;28;01mraise\u001B[39;00m \u001B[38;5;167;01mIndexError\u001B[39;00m(\u001B[38;5;124m\"\u001B[39m\u001B[38;5;124mlist index out of range\u001B[39m\u001B[38;5;124m\"\u001B[39m)\n\u001B[0;32m    663\u001B[0m \u001B[38;5;28;01mreturn\u001B[39;00m index\n",
      "\u001B[1;31mIndexError\u001B[0m: list index out of range"
     ]
    }
   ],
   "source": [
    "opt = Optimiser(method=\"MCMC\")\n",
    "opt.define_alpha_function(alpha)\n",
    "opt.define_prior(prior)\n",
    "opt.define_guess(guess=guess)\n",
    "opt.define_iterations(5)\n",
    "opt.define_optim_function(None)\n",
    "opt.define_target(data[target].iloc[2*max_lookback:].to_numpy())\n",
    "opt.define_lower_and_upper_limit(0, max_lookback+1)\n",
    "mc, rs = opt.optimise()"
   ],
   "metadata": {
    "collapsed": false,
    "pycharm": {
     "name": "#%%\n"
    }
   }
  },
  {
   "cell_type": "code",
   "execution_count": null,
   "outputs": [],
   "source": [
    "res_iter = []\n",
    "for i in range(100):\n",
    "    d = {}\n",
    "    for j in range(guess_length):\n",
    "        key = params[j]\n",
    "        val = mc.analyse_results(rs, top_n=100)[0][i][j]\n",
    "        d[key] = val\n",
    "        d.update({'NMIS': mc.analyse_results(rs, top_n=100)[1][i]})\n",
    "    res_iter.append(d)\n",
    "res_iter = pd.DataFrame(res_iter)\n",
    "res = pd.concat([res, res_iter], axis=0)\n"
   ],
   "metadata": {
    "collapsed": false,
    "pycharm": {
     "name": "#%%\n"
    }
   }
  },
  {
   "cell_type": "code",
   "execution_count": null,
   "outputs": [],
   "source": [
    "res = pd.DataFrame(columns=params + [\"NMIS\"])\n",
    "for guess in guess_list:\n",
    "    opt = Optimiser(method=\"MCMC\")\n",
    "    opt.define_alpha_function(alpha_alias)\n",
    "    opt.define_prior(prior)\n",
    "    opt.define_guess(guess=guess)\n",
    "    opt.define_iterations(100)\n",
    "    opt.define_optim_function(None)\n",
    "    opt.define_target(df[target].to_numpy())\n",
    "    opt.define_lower_and_upper_limit(0, 1)\n",
    "    mc, rs = opt.optimise()\n",
    "    res_iter = []\n",
    "    for i in range(100):\n",
    "        d = {}\n",
    "        for j in range(guess_length):\n",
    "            key = params[j]\n",
    "            val = mc.analyse_results(rs, top_n=100)[0][i][j]\n",
    "            d[key] = val\n",
    "            d.update({'NMIS': mc.analyse_results(rs, top_n=100)[1][i]})\n",
    "        res_iter.append(d)\n",
    "    res_iter = pd.DataFrame(res_iter)\n",
    "    res = pd.concat([res, res_iter], axis=0)\n",
    "\n",
    "res = res.sort_values(\"NMIS\", axis=0, ascending=False).reset_index(drop=True)\n",
    "max_val = res.loc[0, 'NMIS']\n",
    "print(f\" The maximum NMI is {max_val}\")\n",
    "if max_val < threshold:\n",
    "    chosen_weights = pd.DataFrame([0 for param in params])\n",
    "else:\n",
    "    chosen_weights = pd.DataFrame([res.iloc[0][param] for param in params])\n"
   ],
   "metadata": {
    "collapsed": false,
    "pycharm": {
     "name": "#%%\n"
    }
   }
  },
  {
   "cell_type": "code",
   "execution_count": null,
   "outputs": [],
   "source": [],
   "metadata": {
    "collapsed": false,
    "pycharm": {
     "name": "#%%\n"
    }
   }
  },
  {
   "cell_type": "code",
   "execution_count": null,
   "outputs": [],
   "source": [
    "\n",
    "\n"
   ],
   "metadata": {
    "collapsed": false,
    "pycharm": {
     "name": "#%%\n"
    }
   }
  },
  {
   "cell_type": "markdown",
   "source": [
    "Add function F"
   ],
   "metadata": {
    "collapsed": false,
    "pycharm": {
     "name": "#%% md\n"
    }
   }
  },
  {
   "cell_type": "code",
   "execution_count": null,
   "outputs": [],
   "source": [
    "f_functions = [add_fisher, add_inverse_fisher, add_constance_brown]\n",
    "f_columns = []`\n",
    "for lookback in tqdm(range(5,400,1)):\n",
    "    for t in f_functions:\n",
    "        data = t([data, lookback])\n",
    "        f_columns.append((data.columns[-1]))\n",
    "data[\"ConstanceBrown\"] = (data[\"ConstanceBrown\"]-data[\"ConstanceBrown\"].mean())/data[\"ConstanceBrown\"].std()\n",
    "data = data.iloc[lookback:].reset_index(drop=True)"
   ],
   "metadata": {
    "collapsed": false,
    "pycharm": {
     "name": "#%%\n"
    }
   }
  },
  {
   "cell_type": "markdown",
   "source": [
    "Add function G"
   ],
   "metadata": {
    "collapsed": false,
    "pycharm": {
     "name": "#%% md\n"
    }
   }
  },
  {
   "cell_type": "code",
   "execution_count": null,
   "outputs": [],
   "source": [
    "g_functions = [x, max_over_lookback, min_over_lookback, sma, shift]\n",
    "for t in g_functions:\n",
    "    for f in tqdm(f_columns):\n",
    "        for lookback in range(5,400,1):\n",
    "            data = t(data, f, lookback)\n",
    "data = data.iloc[lookback:].reset_index(drop=True)"
   ],
   "metadata": {
    "collapsed": false,
    "pycharm": {
     "name": "#%%\n"
    }
   }
  },
  {
   "cell_type": "code",
   "execution_count": null,
   "outputs": [],
   "source": [
    "import pickle\n",
    "with open(f'Features.pkl', 'wb') as file:\n",
    "    pickle.dump(data, file)"
   ],
   "metadata": {
    "collapsed": false,
    "pycharm": {
     "name": "#%%\n"
    }
   }
  },
  {
   "cell_type": "markdown",
   "source": [
    "Defining MCMC  functions"
   ],
   "metadata": {
    "collapsed": false,
    "pycharm": {
     "name": "#%% md\n"
    }
   }
  },
  {
   "cell_type": "code",
   "execution_count": null,
   "outputs": [],
   "source": [
    "def add_feature(args):\n",
    "\n",
    "    f_lookback =\n"
   ],
   "metadata": {
    "collapsed": false,
    "pycharm": {
     "name": "#%%\n"
    }
   }
  },
  {
   "cell_type": "markdown",
   "source": [
    "Adding f(x): Fisher"
   ],
   "metadata": {
    "collapsed": false,
    "pycharm": {
     "name": "#%% md\n"
    }
   }
  },
  {
   "cell_type": "code",
   "execution_count": null,
   "outputs": [],
   "source": [
    "\n"
   ],
   "metadata": {
    "collapsed": false,
    "pycharm": {
     "name": "#%%\n"
    }
   }
  },
  {
   "cell_type": "markdown",
   "source": [
    "Adding g(x):"
   ],
   "metadata": {
    "collapsed": false,
    "pycharm": {
     "name": "#%% md\n"
    }
   }
  },
  {
   "cell_type": "code",
   "execution_count": null,
   "outputs": [],
   "source": [
    "from tqdm import tqdm\n",
    "from Utils.add_features import max_over_lookback, min_over_lookback, sma, x\n"
   ],
   "metadata": {
    "collapsed": false,
    "pycharm": {
     "name": "#%%\n"
    }
   }
  },
  {
   "cell_type": "code",
   "execution_count": null,
   "outputs": [],
   "source": [
    "mc = MCMC(alpha_fn=alpha_fn, alpha_fn_params_0=alpha_fn_params_0, target=target, num_iters=num_iters, prior=prior,\n",
    "              optimize_fn=optimize_fn, lower_limit=lower_limit, upper_limit=upper_limit)\n",
    "rs = mc.optimize()"
   ],
   "metadata": {
    "collapsed": false,
    "pycharm": {
     "name": "#%%\n"
    }
   }
  },
  {
   "cell_type": "code",
   "execution_count": null,
   "outputs": [],
   "source": [
    "data = data.iloc[lookback:].reset_index(drop=True)"
   ],
   "metadata": {
    "collapsed": false,
    "pycharm": {
     "name": "#%%\n"
    }
   }
  },
  {
   "cell_type": "code",
   "execution_count": null,
   "outputs": [],
   "source": [
    "features = [feature for feature in data.columns if \"Fisher\" in feature]"
   ],
   "metadata": {
    "collapsed": false,
    "pycharm": {
     "name": "#%%\n"
    }
   }
  },
  {
   "cell_type": "code",
   "execution_count": null,
   "outputs": [],
   "source": [
    "from Utils.utils import calc_NMI\n",
    "res = []\n",
    "for feature in tqdm(features):\n",
    "    res.append({\"feature\": feature, \"NMI\": calc_NMI(data[feature], data[\"FReturn\"])})"
   ],
   "metadata": {
    "collapsed": false,
    "pycharm": {
     "name": "#%%\n"
    }
   }
  },
  {
   "cell_type": "markdown",
   "source": [
    "Reinforcement Learning Returns"
   ],
   "metadata": {
    "collapsed": false,
    "pycharm": {
     "name": "#%% md\n"
    }
   }
  },
  {
   "cell_type": "code",
   "execution_count": null,
   "outputs": [],
   "source": [
    "from stable_baselines3 import A2C, PPO\n",
    "from stable_baselines3.common.vec_env import DummyVecEnv\n",
    "import gym\n",
    "from gym import spaces\n",
    "import numpy as np\n",
    "import random"
   ],
   "metadata": {
    "collapsed": false,
    "pycharm": {
     "name": "#%%\n"
    }
   }
  },
  {
   "cell_type": "code",
   "execution_count": null,
   "outputs": [],
   "source": [
    "class StockTradingEnv(gym.Env):\n",
    "\n",
    "    def __init__(self, df, features, init_account_balance, window_shape, random_start = False):\n",
    "        # initialize environment\n",
    "        super(StockTradingEnv, self).__init__()\n",
    "        # raw dataset\n",
    "        self.df = df\n",
    "        # how much $ do we have?\n",
    "        self.init_account_balance = init_account_balance\n",
    "        self.balance = self.init_account_balance\n",
    "        self.net_worth = self.init_account_balance\n",
    "\n",
    "        # Actions of the format Buy x%, Sell x%, Hold, etc.\n",
    "        self.window_shape = window_shape\n",
    "        self.action_space = spaces.Discrete(2)\n",
    "        self.random_start = random_start\n",
    "\n",
    "        # current step, starts with window size or random\n",
    "        if not self.random_start:\n",
    "            self.current_step = self.window_shape\n",
    "        else:\n",
    "            self.current_step = random.randint(self.window_shape, len(self.df) - self.window_shape)\n",
    "\n",
    "        self.signal_features = features\n",
    "\n",
    "        # process data initially\n",
    "        self.process_data()\n",
    "\n",
    "        # share costs\n",
    "        self.in_position = False\n",
    "        self.position_value = 0.0\n",
    "        self.price_bought = 0.0\n",
    "        self.bet_bought = 0.0\n",
    "\n",
    "    def reset(self):\n",
    "        # Reset the state of the environment to an initial state\n",
    "        self.balance = self.init_account_balance\n",
    "        self.net_worth = self.init_account_balance\n",
    "        if not self.random_start:\n",
    "            self.current_step = self.window_shape\n",
    "        else:\n",
    "            self.current_step = random.randint(self.window_shape, len(self.df) - self.window_shape)\n",
    "        self.in_position = False\n",
    "        self.position_value = 0.0\n",
    "        self.price_bought = 0.0\n",
    "        self.bet_bought = 0.0\n",
    "        return self.get_observation()\n",
    "\n",
    "    def process_data(self):\n",
    "        self.start, self.end = self.window_shape, len(self.df)\n",
    "        self.prices = self.df.iloc[self.start:self.end]\n",
    "        self.signal_features = self.signal_features.iloc[self.start:self.end]\n",
    "        # Prices contains the OHCL values for the last five prices\n",
    "        self.observation_space = spaces.Box(\n",
    "            low=-1, high=1, shape=(self.window_shape, self.signal_features.shape[-1]), dtype=np.float16\n",
    "        )\n",
    "\n",
    "    def get_observation(self):\n",
    "        market_state = self.signal_features.iloc[self.current_step-self.window_shape:self.current_step]\n",
    "        return market_state\n",
    "\n",
    "    def step(self, action):\n",
    "        self.take_action(action)\n",
    "        self.current_step += 1\n",
    "\n",
    "        if self.current_step > len(self.df) - self.window_shape:\n",
    "            self.current_step = self.window_shape\n",
    "\n",
    "        reward = self.net_worth\n",
    "\n",
    "        done = False\n",
    "        if (self.current_step >= (len(self.df) - self.window_shape)):  #(self.net_worth <= 0) or\n",
    "            done = True\n",
    "\n",
    "        obs = self.get_observation()\n",
    "        return obs, reward, done, {}\n",
    "\n",
    "    def take_action(self, action):\n",
    "\n",
    "        # Set the current price to a random price within the time step\n",
    "        current_price = self.df.iloc[self.current_step][\"Close\"]\n",
    "        self.current_price = current_price\n",
    "\n",
    "        if not self.in_position:\n",
    "            if action == 1: # OPEN LONG\n",
    "                self.in_position = True\n",
    "                self.price_bought = current_price\n",
    "                self.bet_bought = self.balance\n",
    "                self.balance -= self.bet_bought\n",
    "                self.position_value = self.bet_bought\n",
    "            else: # KEEP LOOKING\n",
    "                pass\n",
    "        else:\n",
    "            market_return = ((current_price - self.price_bought) / self.price_bought)\n",
    "            if action == 1: # HOLD LONG\n",
    "                self.position_value = self.bet_bought * (1.0 + market_return)\n",
    "            else: # CLOSE LONG\n",
    "                self.balance += self.bet_bought * (1.0 + market_return)\n",
    "                self.in_position = False\n",
    "                self.price_bought = 0.0\n",
    "                self.bet_bought = 0.0\n",
    "                self.position_value = 0.0\n",
    "\n",
    "        self.net_worth = self.balance + self.position_value\n",
    "\n",
    "    def render(self, mode='human'):\n",
    "        return {\n",
    "            'step': self.current_step,\n",
    "            'price': self.current_price,\n",
    "            'balance': self.balance,\n",
    "            'position': self.position_value,\n",
    "            'net_worth': self.net_worth,\n",
    "            'profit': self.net_worth - self.init_account_balance\n",
    "        }"
   ],
   "metadata": {
    "collapsed": false,
    "pycharm": {
     "name": "#%%\n"
    }
   }
  },
  {
   "cell_type": "code",
   "execution_count": null,
   "outputs": [],
   "source": [
    "def evaluate_agent(env, df, model):\n",
    "    obs = env.reset()\n",
    "    history = {\n",
    "        'balance': [],\n",
    "        'action': [],\n",
    "        'position': [],\n",
    "        'net_worth': [],\n",
    "        'price': []\n",
    "    }\n",
    "\n",
    "    for i in range(len(df) - HISTORICAL_STATES):\n",
    "        action, _states = model.predict(obs, deterministic=True)\n",
    "        obs, reward, done, info = env.step(action)\n",
    "        if done[0] == True:\n",
    "            break\n",
    "        state = env.render()\n",
    "        history['action'].append(action[0])\n",
    "        history['balance'].append(state['balance'])\n",
    "        history['net_worth'].append(state['net_worth'])\n",
    "        history['position'].append(state['position'])\n",
    "        history['price'].append(state['price'])\n",
    "\n",
    "    actions_over_time = np.array(history['action'])\n",
    "    return history, actions_over_time\n"
   ],
   "metadata": {
    "collapsed": false,
    "pycharm": {
     "name": "#%%\n"
    }
   }
  },
  {
   "cell_type": "code",
   "execution_count": null,
   "outputs": [],
   "source": [
    "df = data.copy()\n",
    "for feature in tqdm(features):\n",
    "    print(\"*\"*100)\n",
    "    print(feature)\n",
    "    INIT_NET_WORTH = 10000\n",
    "    HISTORICAL_STATES = 5\n",
    "    LR = 0.001\n",
    "    RANDOM_SEED = 11111\n",
    "    train_percent = 0.8\n",
    "\n",
    "    signal_features = pd.DataFrame(index = df.index)\n",
    "    signal_features[feature] = df[feature]\n",
    "\n",
    "    train_df = df.iloc[:int(train_percent*len(df))].reset_index(drop=True)\n",
    "    test_df = df.iloc[int(train_percent*len(df)):].reset_index(drop=True)\n",
    "    train_signal_features = signal_features.iloc[:int(train_percent*len(signal_features))].reset_index(drop=True)\n",
    "    test_signal_features = signal_features.iloc[int(train_percent*len(signal_features)):].reset_index(drop=True)\n",
    "    N_TIME_STEPS = len(train_df) - HISTORICAL_STATES\n",
    "    env_train = DummyVecEnv([lambda: StockTradingEnv(train_df, train_signal_features, INIT_NET_WORTH, HISTORICAL_STATES)])\n",
    "    model = A2C('MlpPolicy', env_train, verbose=0, learning_rate=LR, seed=RANDOM_SEED)\n",
    "    model.learn(total_timesteps=N_TIME_STEPS, log_interval=100)\n",
    "    history, actions_over_time = evaluate_agent(env_train, train_df, model)\n",
    "    env_test = DummyVecEnv([lambda: StockTradingEnv(test_df, test_signal_features, INIT_NET_WORTH, HISTORICAL_STATES)])\n",
    "    history_test, actions_over_time_test = evaluate_agent(env_test, test_df, model)\n",
    "    for r in res:\n",
    "        if r['feature']==feature:\n",
    "            r['RL_Test_Return'] = history_test['net_worth'][-1]/history_test['net_worth'][0]-1"
   ],
   "metadata": {
    "collapsed": false,
    "pycharm": {
     "name": "#%%\n"
    }
   }
  },
  {
   "cell_type": "code",
   "execution_count": null,
   "outputs": [],
   "source": [],
   "metadata": {
    "collapsed": false,
    "pycharm": {
     "name": "#%%\n"
    }
   }
  },
  {
   "cell_type": "code",
   "execution_count": null,
   "outputs": [],
   "source": [],
   "metadata": {
    "collapsed": false,
    "pycharm": {
     "name": "#%%\n"
    }
   }
  }
 ],
 "metadata": {
  "kernelspec": {
   "display_name": "Python 3",
   "language": "python",
   "name": "python3"
  },
  "language_info": {
   "codemirror_mode": {
    "name": "ipython",
    "version": 2
   },
   "file_extension": ".py",
   "mimetype": "text/x-python",
   "name": "python",
   "nbconvert_exporter": "python",
   "pygments_lexer": "ipython2",
   "version": "2.7.6"
  }
 },
 "nbformat": 4,
 "nbformat_minor": 0
}