{
 "cells": [
  {
   "cell_type": "code",
   "execution_count": 1,
   "metadata": {
    "collapsed": true
   },
   "outputs": [],
   "source": [
    "%load_ext autoreload\n",
    "%autoreload 2"
   ]
  },
  {
   "cell_type": "code",
   "execution_count": 2,
   "outputs": [],
   "source": [
    "import warnings\n",
    "warnings.filterwarnings(\"ignore\")"
   ],
   "metadata": {
    "collapsed": false,
    "pycharm": {
     "name": "#%%\n"
    }
   }
  },
  {
   "cell_type": "code",
   "execution_count": 3,
   "outputs": [],
   "source": [
    "%matplotlib inline\n",
    "import matplotlib.pyplot as plt\n",
    "plt.rcParams[\"figure.figsize\"] = (15,5)\n",
    "plt.rcParams['axes.grid'] = False\n",
    "import seaborn as sns\n",
    "sns.set_style(\"whitegrid\", {'axes.grid' : False})"
   ],
   "metadata": {
    "collapsed": false,
    "pycharm": {
     "name": "#%%\n"
    }
   }
  },
  {
   "cell_type": "code",
   "execution_count": 4,
   "outputs": [],
   "source": [
    "from Feature_Selection import *"
   ],
   "metadata": {
    "collapsed": false,
    "pycharm": {
     "name": "#%%\n"
    }
   }
  },
  {
   "cell_type": "code",
   "execution_count": 5,
   "outputs": [],
   "source": [
    "data = get_data('NIFc1', 'D')\n",
    "\n",
    "#Add Forward Returns\n",
    "freturn_types = [\"FReturn\", \"MaxFReturn\", \"MinFReturn\"]\n",
    "lookforwards = [1,2,3,5,7,10,15,20,30,45,60]\n",
    "for i in range(1,max(lookforwards)):\n",
    "    data[f\"FReturn{i}\"] = data[\"Close\"].shift(-i)/data[\"Close\"]-1\n",
    "data.dropna(inplace=True)\n",
    "for lookforward in lookforwards:\n",
    "    data[f\"MaxFReturn{lookforward}\"] = data[[f\"FReturn{i}\" for i in range(1,lookforward)]].max( axis=1)\n",
    "    data[f\"MinFReturn{lookforward}\"] = data[[f\"FReturn{i}\" for i in range(1,lookforward)]].min( axis=1)\n",
    "\n",
    "data = data.drop(columns=[f\"FReturn{i}\" for i in range(1,max(lookforwards)) if i not in lookforwards])\n"
   ],
   "metadata": {
    "collapsed": false,
    "pycharm": {
     "name": "#%%\n"
    }
   }
  },
  {
   "cell_type": "code",
   "execution_count": 6,
   "outputs": [],
   "source": [
    "#Feature space\n",
    "lookbacks = [2,3,5,7,10,15,21,30,45,50,63,75,90,100,126,150,175,200,225,252]\n",
    "f_functions = [add_fisher, add_inverse_fisher, add_constance_brown, add_BBANDS, add_DEMA, add_EMA, add_HT_TRENDLINE, add_KAMA, add_MA, add_MAMA, add_MIDPOINT, add_MIDPRICE, add_SAR, ]\n",
    "g_functions = [x, max_over_lookback, min_over_lookback, sma, shift]\n",
    "\n",
    "#Creating combinations for NMI calculation\n",
    "params = [f_functions, lookbacks, g_functions, lookbacks, freturn_types, lookforwards]\n",
    "inputs = list(itertools.product(*params))"
   ],
   "metadata": {
    "collapsed": false,
    "pycharm": {
     "name": "#%%\n"
    }
   }
  },
  {
   "cell_type": "code",
   "execution_count": 9,
   "outputs": [
    {
     "name": "stdout",
     "output_type": "stream",
     "text": [
      "0.1273916087404793\n"
     ]
    }
   ],
   "source": [
    "for input in inputs:\n",
    "    [f, flb, g, glb, frtype, lf] = input\n",
    "    X = f([data, flb]).iloc[flb-1:].reset_index(drop=True)\n",
    "    col_name = X.columns[-1]\n",
    "    X = g(f([data, flb]).iloc[flb-1:].reset_index(drop=True), col_name, glb).iloc[glb-1:].reset_index(drop=True)\n",
    "    Y = X[f\"{frtype}{lf}\"]\n",
    "    X = X[X.columns[-1]]\n",
    "    nmi = calc_NMI(X, Y)\n",
    "\n"
   ],
   "metadata": {
    "collapsed": false,
    "pycharm": {
     "name": "#%%\n"
    }
   }
  },
  {
   "cell_type": "code",
   "execution_count": null,
   "outputs": [],
   "source": [],
   "metadata": {
    "collapsed": false,
    "pycharm": {
     "name": "#%%\n"
    }
   }
  }
 ],
 "metadata": {
  "kernelspec": {
   "display_name": "Python 3",
   "language": "python",
   "name": "python3"
  },
  "language_info": {
   "codemirror_mode": {
    "name": "ipython",
    "version": 2
   },
   "file_extension": ".py",
   "mimetype": "text/x-python",
   "name": "python",
   "nbconvert_exporter": "python",
   "pygments_lexer": "ipython2",
   "version": "2.7.6"
  }
 },
 "nbformat": 4,
 "nbformat_minor": 0
}