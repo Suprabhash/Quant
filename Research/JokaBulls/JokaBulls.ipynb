{
 "cells": [
  {
   "cell_type": "code",
   "execution_count": 1,
   "metadata": {},
   "outputs": [],
   "source": [
    "%load_ext autoreload\n",
    "%autoreload 2"
   ]
  },
  {
   "cell_type": "code",
   "execution_count": 2,
   "metadata": {},
   "outputs": [],
   "source": [
    "import warnings\n",
    "warnings.filterwarnings(\"ignore\")"
   ]
  },
  {
   "cell_type": "code",
   "execution_count": 3,
   "metadata": {},
   "outputs": [],
   "source": [
    "%matplotlib inline\n",
    "import matplotlib.pyplot as plt\n",
    "plt.rcParams[\"figure.figsize\"] = (15,5)\n",
    "plt.rcParams['axes.grid'] = False\n",
    "import seaborn as sns\n",
    "sns.set_style(\"whitegrid\", {'axes.grid' : False})"
   ]
  },
  {
   "cell_type": "code",
   "execution_count": 24,
   "metadata": {},
   "outputs": [],
   "source": [
    "tickers = [ \"HDFCBANK.NS\", \"IDFCFIRSTB.NS\", \"PNB.NS\", \"HINDUNILVR.NS\", \"ZYDUSWELL.NS\", \"PGHH.NS\", \"M&M.NS\", \"APOLLOTYRE.NS\", \"HEROMOTOCO.NS\", \"CIPLA.NS\", \"GLENMARK.NS\",\n",
    "            \"ABBOTINDIA.NS\", \"INFY.NS\", \"TATAELXSI.NS\"] #\"KPITTECH.NS\""
   ]
  },
  {
   "cell_type": "code",
   "execution_count": 25,
   "metadata": {},
   "outputs": [
    {
     "name": "stdout",
     "output_type": "stream",
     "text": [
      "[*********************100%***********************]  1 of 1 completed\n",
      "[*********************100%***********************]  1 of 1 completed\n",
      "[*********************100%***********************]  1 of 1 completed\n",
      "[*********************100%***********************]  1 of 1 completed\n",
      "[*********************100%***********************]  1 of 1 completed\n",
      "[*********************100%***********************]  1 of 1 completed\n",
      "[*********************100%***********************]  1 of 1 completed\n",
      "[*********************100%***********************]  1 of 1 completed\n",
      "[*********************100%***********************]  1 of 1 completed\n",
      "[*********************100%***********************]  1 of 1 completed\n",
      "[*********************100%***********************]  1 of 1 completed\n",
      "[*********************100%***********************]  1 of 1 completed\n",
      "[*********************100%***********************]  1 of 1 completed\n",
      "[*********************100%***********************]  1 of 1 completed\n"
     ]
    }
   ],
   "source": [
    "import yfinance as yf\n",
    "import pandas as pd\n",
    "from datetime import datetime\n",
    "from datetime import timedelta\n",
    "today = \"2022-03-31\"\n",
    "start = \"2017-03-31\"\n",
    "data = pd.DataFrame()\n",
    "for ticker in tickers:\n",
    "    df_ticker = yf.download(ticker, start=start, end=today).rename(columns={\"Close\": ticker})[[ticker]]\n",
    "    data = pd.concat([data, df_ticker], axis=1)\n",
    "# data.dropna(inplace=True)\n"
   ]
  },
  {
   "cell_type": "code",
   "execution_count": 27,
   "metadata": {},
   "outputs": [
    {
     "name": "stderr",
     "output_type": "stream",
     "text": [
      "  0%|          | 43/100000 [00:00<07:51, 212.01it/s]"
     ]
    },
    {
     "name": "stdout",
     "output_type": "stream",
     "text": [
      "0.05407014549219813\n",
      "0.1191328209007918\n",
      "0.1417664781036081\n"
     ]
    },
    {
     "name": "stderr",
     "output_type": "stream",
     "text": [
      "  0%|          | 193/100000 [00:00<08:53, 187.20it/s]"
     ]
    },
    {
     "name": "stdout",
     "output_type": "stream",
     "text": [
      "0.16033155525992981\n"
     ]
    },
    {
     "name": "stderr",
     "output_type": "stream",
     "text": [
      "  1%|▏         | 1485/100000 [00:06<07:21, 223.03it/s]"
     ]
    },
    {
     "name": "stdout",
     "output_type": "stream",
     "text": [
      "0.16129807960793996\n"
     ]
    },
    {
     "name": "stderr",
     "output_type": "stream",
     "text": [
      "  3%|▎         | 2865/100000 [00:13<07:11, 225.12it/s]"
     ]
    },
    {
     "name": "stdout",
     "output_type": "stream",
     "text": [
      "0.1753413264147594\n"
     ]
    },
    {
     "name": "stderr",
     "output_type": "stream",
     "text": [
      "  9%|▉         | 9399/100000 [00:42<07:00, 215.29it/s]"
     ]
    },
    {
     "name": "stdout",
     "output_type": "stream",
     "text": [
      "0.19342414857239265\n"
     ]
    },
    {
     "name": "stderr",
     "output_type": "stream",
     "text": [
      " 29%|██▉       | 28796/100000 [02:08<05:13, 226.79it/s]"
     ]
    },
    {
     "name": "stdout",
     "output_type": "stream",
     "text": [
      "0.20367682154901057\n"
     ]
    },
    {
     "name": "stderr",
     "output_type": "stream",
     "text": [
      " 32%|███▏      | 32350/100000 [02:24<04:57, 227.49it/s]"
     ]
    },
    {
     "name": "stdout",
     "output_type": "stream",
     "text": [
      "0.21573985516625283\n"
     ]
    },
    {
     "name": "stderr",
     "output_type": "stream",
     "text": [
      " 91%|█████████ | 91020/100000 [06:47<00:40, 223.31it/s]"
     ]
    },
    {
     "name": "stdout",
     "output_type": "stream",
     "text": [
      "0.2513135884546258\n"
     ]
    },
    {
     "name": "stderr",
     "output_type": "stream",
     "text": [
      "100%|██████████| 100000/100000 [07:27<00:00, 223.33it/s]\n"
     ]
    }
   ],
   "source": [
    "import numpy as np\n",
    "from tqdm import tqdm\n",
    "best_cagr = 0\n",
    "best_weights = None\n",
    "for i in tqdm(range(100000)):\n",
    "    weights = list(np.random.dirichlet(np.ones(len(tickers))))\n",
    "    df = data.copy()\n",
    "    final_amount = 50000000\n",
    "    for i,ticker in enumerate(tickers):\n",
    "        df[f\"{ticker}units\"] = final_amount*weights[i]/df[ticker].iloc[-1]\n",
    "        df[f\"{ticker}value\"] = df[f\"{ticker}units\"]*df[ticker]\n",
    "    df[\"PortfolioValue\"] = df[[f\"{ticker}value\" for ticker in tickers]].sum(axis=1)\n",
    "    cagr = (df[\"PortfolioValue\"].iloc[-1]/df[\"PortfolioValue\"].iloc[0])**(1/5)-1\n",
    "    if cagr>best_cagr:\n",
    "        best_cagr = cagr\n",
    "        best_weights = weights\n",
    "        print(cagr)"
   ]
  },
  {
   "cell_type": "code",
   "execution_count": 53,
   "metadata": {},
   "outputs": [],
   "source": [
    "df = data.copy()\n",
    "final_amount = 50000000\n",
    "# best_weights = [6.4,\n",
    "#  2.8,\n",
    "#  0,\n",
    "#  7.4,\n",
    "#  7.1,\n",
    "#  6.5,\n",
    "#  6.4,\n",
    "#  3.7,\n",
    "#  3.6,\n",
    "#  6.5,\n",
    "#  3,\n",
    "#  10.6,\n",
    "#  9.1,\n",
    "#  11.9,\n",
    "#  15]\n",
    "# best_weights = [weight/100 for weight in best_weights]\n",
    "for i,ticker in enumerate(tickers):\n",
    "    df[f\"{ticker}units\"] = final_amount*best_weights[i]/df[ticker].iloc[-1]\n",
    "    df[f\"{ticker}value\"] = df[f\"{ticker}units\"]*df[ticker]\n",
    "df[\"PortfolioValue\"] = df[[f\"{ticker}value\" for ticker in tickers]].sum(axis=1)\n",
    "cagr = (df[\"PortfolioValue\"].iloc[-1]/df[\"PortfolioValue\"].iloc[0])**(1/5)-1"
   ]
  },
  {
   "cell_type": "code",
   "execution_count": 56,
   "metadata": {},
   "outputs": [
    {
     "name": "stdout",
     "output_type": "stream",
     "text": [
      "('HDFCBANK.NS', 2.8771867681277157)\n",
      "('IDFCFIRSTB.NS', 0)\n",
      "('PNB.NS', 0)\n",
      "('HINDUNILVR.NS', 13.622943963447675)\n",
      "('ZYDUSWELL.NS', 0)\n",
      "('PGHH.NS', 7.094956282840026)\n",
      "('M&M.NS', 0)\n",
      "('APOLLOTYRE.NS', 5.633251704068676)\n",
      "('HEROMOTOCO.NS', 0)\n",
      "('CIPLA.NS', 0)\n",
      "('GLENMARK.NS', 0)\n",
      "('ABBOTINDIA.NS', 8.471631011488787)\n",
      "('INFY.NS', 12.074187992089497)\n",
      "('TATAELXSI.NS', 50.22584227793763)\n"
     ]
    }
   ],
   "source": [
    "for i in zip(tickers, best_weights):\n",
    "    print(i)"
   ]
  },
  {
   "cell_type": "code",
   "execution_count": 55,
   "metadata": {},
   "outputs": [],
   "source": [
    "best_weights = [weight*100 for weight in best_weights]"
   ]
  },
  {
   "cell_type": "code",
   "execution_count": 50,
   "metadata": {},
   "outputs": [
    {
     "data": {
      "text/plain": [
       "1.0"
      ]
     },
     "execution_count": 50,
     "metadata": {},
     "output_type": "execute_result"
    }
   ],
   "source": [
    "sum(best_weights)"
   ]
  },
  {
   "cell_type": "code",
   "execution_count": 48,
   "metadata": {},
   "outputs": [],
   "source": [
    "best_weights[3] = best_weights[3] + 0.02931574339866927\n",
    "best_weights[11] = best_weights[11] + 0.02931574339866927"
   ]
  },
  {
   "cell_type": "code",
   "execution_count": 38,
   "metadata": {},
   "outputs": [],
   "source": [
    "best_weights[1] = best_weights[2] =best_weights[4]=best_weights[6]=best_weights[8]=best_weights[9]=best_weights[10]=0"
   ]
  },
  {
   "cell_type": "code",
   "execution_count": 54,
   "metadata": {},
   "outputs": [
    {
     "data": {
      "text/plain": [
       "0.2968946625049649"
      ]
     },
     "execution_count": 54,
     "metadata": {},
     "output_type": "execute_result"
    }
   ],
   "source": [
    "cagr"
   ]
  },
  {
   "cell_type": "code",
   "execution_count": 51,
   "metadata": {},
   "outputs": [
    {
     "data": {
      "text/plain": [
       "<AxesSubplot:xlabel='Date'>"
      ]
     },
     "execution_count": 51,
     "metadata": {},
     "output_type": "execute_result"
    },
    {
     "data": {
      "image/png": "[encoded data removed]",
      "text/plain": [
       "<Figure size 1080x360 with 1 Axes>"
      ]
     },
     "metadata": {},
     "output_type": "display_data"
    }
   ],
   "source": [
    "initial_amount = df[\"PortfolioValue\"].iloc[0]\n",
    "for i,ticker in enumerate(tickers):\n",
    "    df[f\"{ticker}unitsEQ\"] = initial_amount*(1/14)/df[ticker].iloc[0]\n",
    "    df[f\"{ticker}valueEQ\"] = df[f\"{ticker}unitsEQ\"]*df[ticker]\n",
    "df[\"EquallyWeightedPortfolio\"] = df[[f\"{ticker}valueEQ\" for ticker in tickers]].sum(axis=1)\n",
    "df[[\"PortfolioValue\", \"EquallyWeightedPortfolio\"]].plot()"
   ]
  },
  {
   "cell_type": "code",
   "execution_count": null,
   "metadata": {},
   "outputs": [],
   "source": [
    "df"
   ]
  },
  {
   "cell_type": "code",
   "execution_count": null,
   "metadata": {},
   "outputs": [],
   "source": [
    "from skopt import gp_minimize\n",
    "from skopt.space import Real\n",
    "search_space = list()\n",
    "for i in range(len(tickers)):\n",
    "    search_space.append(Real(0, 1, 'uniform', name=f'{1+i}'))\n",
    "\n",
    "def evaluate_model(params):\n",
    "    weights = list(params)\n",
    "    weights = [weight/sum(weights) for weight in weights]\n",
    "    df = data.copy()\n",
    "    final_amount = 50000000\n",
    "    for i,ticker in enumerate(tickers):\n",
    "        df[f\"{ticker}units\"] = final_amount*weights[i]/df[ticker].iloc[-1]\n",
    "        df[f\"{ticker}value\"] = df[f\"{ticker}units\"]*df[ticker]\n",
    "    df[\"PortfolioValue\"] = df[[f\"{ticker}value\" for ticker in tickers]].sum(axis=1)\n",
    "    cagr = (df[\"PortfolioValue\"].iloc[-1]/df[\"PortfolioValue\"].iloc[0])**(1/5)-1\n",
    "    return -cagr\n",
    "\n",
    "result = gp_minimize(evaluate_model, search_space)\n"
   ]
  },
  {
   "cell_type": "code",
   "execution_count": null,
   "metadata": {},
   "outputs": [],
   "source": [
    "result.x"
   ]
  },
  {
   "cell_type": "code",
   "execution_count": null,
   "metadata": {},
   "outputs": [],
   "source": []
  }
 ],
 "metadata": {
  "kernelspec": {
   "display_name": "Python 3.9.6 ('.venv': venv)",
   "language": "python",
   "name": "python3"
  },
  "language_info": {
   "codemirror_mode": {
    "name": "ipython",
    "version": 3
   },
   "file_extension": ".py",
   "mimetype": "text/x-python",
   "name": "python",
   "nbconvert_exporter": "python",
   "pygments_lexer": "ipython3",
   "version": "3.9.6"
  },
  "orig_nbformat": 4,
  "vscode": {
   "interpreter": {
    "hash": "940daff60167f6253d944ccb6688030f84adf9a5805f30bf5bbd2dfe682e0f44"
   }
  }
 },
 "nbformat": 4,
 "nbformat_minor": 2
}
