{
 "cells": [
  {
   "cell_type": "code",
   "execution_count": 1,
   "outputs": [],
   "source": [
    "import pandas as pd\n",
    "\n",
    "from helper_functions import *"
   ],
   "metadata": {
    "collapsed": false,
    "pycharm": {
     "name": "#%%\n"
    }
   }
  },
  {
   "cell_type": "code",
   "execution_count": 2,
   "outputs": [],
   "source": [
    "%load_ext autoreload\n",
    "%autoreload 2"
   ],
   "metadata": {
    "collapsed": false,
    "pycharm": {
     "name": "#%%\n"
    }
   }
  },
  {
   "cell_type": "code",
   "execution_count": 3,
   "outputs": [],
   "source": [
    "import warnings\n",
    "warnings.filterwarnings('ignore')"
   ],
   "metadata": {
    "collapsed": false,
    "pycharm": {
     "name": "#%%\n"
    }
   }
  },
  {
   "cell_type": "code",
   "execution_count": 4,
   "outputs": [],
   "source": [
    "%matplotlib inline\n",
    "import matplotlib.pyplot as plt\n",
    "plt.rcParams[\"figure.figsize\"] = (20,8)\n",
    "plt.rcParams['axes.grid'] = False"
   ],
   "metadata": {
    "collapsed": false,
    "pycharm": {
     "name": "#%%\n"
    }
   }
  },
  {
   "cell_type": "code",
   "execution_count": 5,
   "outputs": [
    {
     "data": {
      "text/plain": "Index(['Open', 'High', 'Low', 'Close', 'CB', 'FMACB', 'SMACB',\n       'CB_PreviousHighPivotValueCB', 'CB_PreviousLowPivotValueCB',\n       'CB_DaysSincePreviousHighPivot', 'CB_DaysSincePreviousLowPivot',\n       'CB_IsHighPivot', 'CB_IsLowPivot', 'FMACB_PreviousHighPivotValueCB',\n       'FMACB_PreviousLowPivotValueCB', 'FMACB_DaysSincePreviousHighPivot',\n       'FMACB_DaysSincePreviousLowPivot', 'FMACB_IsHighPivot',\n       'FMACB_IsLowPivot', 'SMACB_PreviousHighPivotValueCB',\n       'SMACB_PreviousLowPivotValueCB', 'SMACB_DaysSincePreviousHighPivot',\n       'SMACB_DaysSincePreviousLowPivot', 'SMACB_IsHighPivot',\n       'SMACB_IsLowPivot', 'Max_CB_10', 'Min_CB_10', 'Max_CB_20', 'Min_CB_20',\n       'Max_CB_30', 'Min_CB_30', 'Max_CB_60', 'Min_CB_60', 'Max_FMACB_10',\n       'Min_FMACB_10', 'Max_FMACB_20', 'Min_FMACB_20', 'Max_FMACB_30',\n       'Min_FMACB_30', 'Max_FMACB_60', 'Min_FMACB_60', 'Max_SMACB_10',\n       'Min_SMACB_10', 'Max_SMACB_20', 'Min_SMACB_20', 'Max_SMACB_30',\n       'Min_SMACB_30', 'Max_SMACB_60', 'Min_SMACB_60', 'ROC_CB_10',\n       'ROC_CB_20', 'ROC_CB_30', 'ROC_CB_60', 'ROC_FMACB_10', 'ROC_FMACB_20',\n       'ROC_FMACB_30', 'ROC_FMACB_60', 'Convexity_FMACB', 'ROC_SMACB_10',\n       'ROC_SMACB_20', 'ROC_SMACB_30', 'ROC_SMACB_60', 'Convexity_SMACB',\n       'BinaryOutcome'],\n      dtype='object')"
     },
     "execution_count": 5,
     "metadata": {},
     "output_type": "execute_result"
    }
   ],
   "source": [
    "#data_inp = get_data(\"^NSEI\", \"yfinance\")\n",
    "data_inp = get_data_BTC()\n",
    "#plot_price_cb(data_inp)\n",
    "data = data_inp.copy().drop(columns=[\"FReturn\",\"Volume\",\"CB_TypeCurrentPivot\",\"CB_PivotValue\",\"CB_TypePreviousPivot\",\"SMACB_TypeCurrentPivot\",\"SMACB_PivotValue\",\"SMACB_TypePreviousPivot\",\"FMACB_TypeCurrentPivot\",\"FMACB_PivotValue\",\"FMACB_TypePreviousPivot\",\"CB_PreviousPivotValue\",\"SMACB_PreviousPivotValue\",\"FMACB_PreviousPivotValue\"])\n",
    "data = data.iloc[100:-1]\n",
    "data.set_index(\"Date\", inplace=True)\n",
    "data.columns"
   ],
   "metadata": {
    "collapsed": false,
    "pycharm": {
     "name": "#%%\n"
    }
   }
  },
  {
   "cell_type": "code",
   "execution_count": 16,
   "outputs": [
    {
     "data": {
      "text/plain": "                         Open      High       Low     Close          CB  \\\nDate                                                                      \n2015-03-08 05:30:00    275.59    277.59    271.12    274.89   73.955990   \n2015-03-09 05:30:00    274.89    289.00    274.17    287.00   86.976426   \n2015-03-10 05:30:00    287.00    296.80    283.96    290.24   93.250463   \n2015-03-11 05:30:00    290.24    296.74    285.83    295.11   96.975538   \n2015-03-12 05:30:00    295.11    297.95    289.00    295.56   97.197606   \n...                       ...       ...       ...       ...         ...   \n2021-10-07 05:30:00  55360.10  55360.32  53289.57  53787.60  114.730826   \n2021-10-08 05:30:00  53816.16  56168.00  53623.02  53957.21  106.710915   \n2021-10-09 05:30:00  53952.82  55512.05  53674.69  54976.92   95.701762   \n2021-10-10 05:30:00  54984.49  56561.00  51000.00  54714.95   84.616038   \n2021-10-11 05:30:00  54657.00  57855.79  54462.45  57485.20   95.468276   \n\n                         FMACB      SMACB  CB_PreviousHighPivotValueCB  \\\nDate                                                                     \n2015-03-08 05:30:00  74.729155  62.818789                   111.965372   \n2015-03-09 05:30:00  78.155143  64.217550                    83.260261   \n2015-03-10 05:30:00  82.071934  66.195998                    83.260261   \n2015-03-11 05:30:00  86.877136  67.958255                    83.260261   \n2015-03-12 05:30:00  89.826933  69.487812                    83.260261   \n...                        ...        ...                          ...   \n2021-10-07 05:30:00  70.697347  52.859920                    36.003214   \n2021-10-08 05:30:00  76.282540  53.442873                   122.095303   \n2021-10-09 05:30:00  81.076863  53.473221                   122.095303   \n2021-10-10 05:30:00  85.612418  54.306696                   122.095303   \n2021-10-11 05:30:00  91.309720  56.040524                   122.095303   \n\n                     CB_PreviousLowPivotValueCB  \\\nDate                                              \n2015-03-08 05:30:00                   77.528452   \n2015-03-09 05:30:00                   77.528452   \n2015-03-10 05:30:00                   73.955990   \n2015-03-11 05:30:00                   73.955990   \n2015-03-12 05:30:00                   73.955990   \n...                                         ...   \n2021-10-07 05:30:00                   21.403338   \n2021-10-08 05:30:00                   21.403338   \n2021-10-09 05:30:00                   21.403338   \n2021-10-10 05:30:00                   21.403338   \n2021-10-11 05:30:00                   21.403338   \n\n                     CB_DaysSincePreviousHighPivot  ...  ROC_FMACB_20  \\\nDate                                                ...                 \n2015-03-08 05:30:00                            4.0  ...      0.419078   \n2015-03-09 05:30:00                            1.0  ...      0.437649   \n2015-03-10 05:30:00                            2.0  ...      0.444820   \n2015-03-11 05:30:00                            3.0  ...      0.477189   \n2015-03-12 05:30:00                            4.0  ...      0.487133   \n...                                            ...  ...           ...   \n2021-10-07 05:30:00                           12.0  ...      0.663496   \n2021-10-08 05:30:00                           13.0  ...      0.852653   \n2021-10-09 05:30:00                           14.0  ...      1.091202   \n2021-10-10 05:30:00                           15.0  ...      1.295321   \n2021-10-11 05:30:00                            4.0  ...      1.602777   \n\n                     ROC_FMACB_30  ROC_FMACB_60  Convexity_FMACB  \\\nDate                                                               \n2015-03-08 05:30:00      0.414491      1.116415         0.128533   \n2015-03-09 05:30:00      0.614650      1.406680         0.181863   \n2015-03-10 05:30:00      0.891794      1.773665         0.093143   \n2015-03-11 05:30:00      1.213210      2.205274         0.168273   \n2015-03-12 05:30:00      1.430225      2.423712        -0.420078   \n...                           ...           ...              ...   \n2021-10-07 05:30:00      0.271127     -0.171764        -0.205146   \n2021-10-08 05:30:00      0.373793     -0.073833        -0.156739   \n2021-10-09 05:30:00      0.538685      0.029633        -0.204451   \n2021-10-10 05:30:00      0.729380      0.142554        -0.109915   \n2021-10-11 05:30:00      0.973750      0.295318         0.189595   \n\n                     ROC_SMACB_10  ROC_SMACB_20  ROC_SMACB_30  ROC_SMACB_60  \\\nDate                                                                          \n2015-03-08 05:30:00      0.151662      0.106882      0.424041      0.478345   \n2015-03-09 05:30:00      0.207787      0.103525      0.418828      0.525539   \n2015-03-10 05:30:00      0.278295      0.119364      0.428395      0.613061   \n2015-03-11 05:30:00      0.323831      0.134425      0.442372      0.684955   \n2015-03-12 05:30:00      0.332305      0.147954      0.458282      0.734622   \n...                           ...           ...           ...           ...   \n2021-10-07 05:30:00      0.244037      0.103296     -0.139050     -0.126039   \n2021-10-08 05:30:00      0.274140      0.100430     -0.116646     -0.135203   \n2021-10-09 05:30:00      0.295724      0.081056     -0.085833     -0.156351   \n2021-10-10 05:30:00      0.306880      0.083991     -0.036590     -0.162171   \n2021-10-11 05:30:00      0.318662      0.135858      0.037442     -0.146914   \n\n                     Convexity_SMACB  BinaryOutcome  \nDate                                                 \n2015-03-08 05:30:00        -0.308327           -1.0  \n2015-03-09 05:30:00         0.160431           -1.0  \n2015-03-10 05:30:00         0.383621           -1.0  \n2015-03-11 05:30:00        -0.135895           -1.0  \n2015-03-12 05:30:00        -0.154554            1.0  \n...                              ...            ...  \n2021-10-07 05:30:00        -0.377860           -1.0  \n2021-10-08 05:30:00        -0.428920           -1.0  \n2021-10-09 05:30:00        -0.948508            1.0  \n2021-10-10 05:30:00        26.448080           -1.0  \n2021-10-11 05:30:00         1.048313            1.0  \n\n[2410 rows x 64 columns]",
      "text/html": "<div>\n<style scoped>\n    .dataframe tbody tr th:only-of-type {\n        vertical-align: middle;\n    }\n\n    .dataframe tbody tr th {\n        vertical-align: top;\n    }\n\n    .dataframe thead th {\n        text-align: right;\n    }\n</style>\n<table border=\"1\" class=\"dataframe\">\n  <thead>\n    <tr style=\"text-align: right;\">\n      <th></th>\n      <th>Open</th>\n      <th>High</th>\n      <th>Low</th>\n      <th>Close</th>\n      <th>CB</th>\n      <th>FMACB</th>\n      <th>SMACB</th>\n      <th>CB_PreviousHighPivotValueCB</th>\n      <th>CB_PreviousLowPivotValueCB</th>\n      <th>CB_DaysSincePreviousHighPivot</th>\n      <th>...</th>\n      <th>ROC_FMACB_20</th>\n      <th>ROC_FMACB_30</th>\n      <th>ROC_FMACB_60</th>\n      <th>Convexity_FMACB</th>\n      <th>ROC_SMACB_10</th>\n      <th>ROC_SMACB_20</th>\n      <th>ROC_SMACB_30</th>\n      <th>ROC_SMACB_60</th>\n      <th>Convexity_SMACB</th>\n      <th>BinaryOutcome</th>\n    </tr>\n    <tr>\n      <th>Date</th>\n      <th></th>\n      <th></th>\n      <th></th>\n      <th></th>\n      <th></th>\n      <th></th>\n      <th></th>\n      <th></th>\n      <th></th>\n      <th></th>\n      <th></th>\n      <th></th>\n      <th></th>\n      <th></th>\n      <th></th>\n      <th></th>\n      <th></th>\n      <th></th>\n      <th></th>\n      <th></th>\n      <th></th>\n    </tr>\n  </thead>\n  <tbody>\n    <tr>\n      <th>2015-03-08 05:30:00</th>\n      <td>275.59</td>\n      <td>277.59</td>\n      <td>271.12</td>\n      <td>274.89</td>\n      <td>73.955990</td>\n      <td>74.729155</td>\n      <td>62.818789</td>\n      <td>111.965372</td>\n      <td>77.528452</td>\n      <td>4.0</td>\n      <td>...</td>\n      <td>0.419078</td>\n      <td>0.414491</td>\n      <td>1.116415</td>\n      <td>0.128533</td>\n      <td>0.151662</td>\n      <td>0.106882</td>\n      <td>0.424041</td>\n      <td>0.478345</td>\n      <td>-0.308327</td>\n      <td>-1.0</td>\n    </tr>\n    <tr>\n      <th>2015-03-09 05:30:00</th>\n      <td>274.89</td>\n      <td>289.00</td>\n      <td>274.17</td>\n      <td>287.00</td>\n      <td>86.976426</td>\n      <td>78.155143</td>\n      <td>64.217550</td>\n      <td>83.260261</td>\n      <td>77.528452</td>\n      <td>1.0</td>\n      <td>...</td>\n      <td>0.437649</td>\n      <td>0.614650</td>\n      <td>1.406680</td>\n      <td>0.181863</td>\n      <td>0.207787</td>\n      <td>0.103525</td>\n      <td>0.418828</td>\n      <td>0.525539</td>\n      <td>0.160431</td>\n      <td>-1.0</td>\n    </tr>\n    <tr>\n      <th>2015-03-10 05:30:00</th>\n      <td>287.00</td>\n      <td>296.80</td>\n      <td>283.96</td>\n      <td>290.24</td>\n      <td>93.250463</td>\n      <td>82.071934</td>\n      <td>66.195998</td>\n      <td>83.260261</td>\n      <td>73.955990</td>\n      <td>2.0</td>\n      <td>...</td>\n      <td>0.444820</td>\n      <td>0.891794</td>\n      <td>1.773665</td>\n      <td>0.093143</td>\n      <td>0.278295</td>\n      <td>0.119364</td>\n      <td>0.428395</td>\n      <td>0.613061</td>\n      <td>0.383621</td>\n      <td>-1.0</td>\n    </tr>\n    <tr>\n      <th>2015-03-11 05:30:00</th>\n      <td>290.24</td>\n      <td>296.74</td>\n      <td>285.83</td>\n      <td>295.11</td>\n      <td>96.975538</td>\n      <td>86.877136</td>\n      <td>67.958255</td>\n      <td>83.260261</td>\n      <td>73.955990</td>\n      <td>3.0</td>\n      <td>...</td>\n      <td>0.477189</td>\n      <td>1.213210</td>\n      <td>2.205274</td>\n      <td>0.168273</td>\n      <td>0.323831</td>\n      <td>0.134425</td>\n      <td>0.442372</td>\n      <td>0.684955</td>\n      <td>-0.135895</td>\n      <td>-1.0</td>\n    </tr>\n    <tr>\n      <th>2015-03-12 05:30:00</th>\n      <td>295.11</td>\n      <td>297.95</td>\n      <td>289.00</td>\n      <td>295.56</td>\n      <td>97.197606</td>\n      <td>89.826933</td>\n      <td>69.487812</td>\n      <td>83.260261</td>\n      <td>73.955990</td>\n      <td>4.0</td>\n      <td>...</td>\n      <td>0.487133</td>\n      <td>1.430225</td>\n      <td>2.423712</td>\n      <td>-0.420078</td>\n      <td>0.332305</td>\n      <td>0.147954</td>\n      <td>0.458282</td>\n      <td>0.734622</td>\n      <td>-0.154554</td>\n      <td>1.0</td>\n    </tr>\n    <tr>\n      <th>...</th>\n      <td>...</td>\n      <td>...</td>\n      <td>...</td>\n      <td>...</td>\n      <td>...</td>\n      <td>...</td>\n      <td>...</td>\n      <td>...</td>\n      <td>...</td>\n      <td>...</td>\n      <td>...</td>\n      <td>...</td>\n      <td>...</td>\n      <td>...</td>\n      <td>...</td>\n      <td>...</td>\n      <td>...</td>\n      <td>...</td>\n      <td>...</td>\n      <td>...</td>\n      <td>...</td>\n    </tr>\n    <tr>\n      <th>2021-10-07 05:30:00</th>\n      <td>55360.10</td>\n      <td>55360.32</td>\n      <td>53289.57</td>\n      <td>53787.60</td>\n      <td>114.730826</td>\n      <td>70.697347</td>\n      <td>52.859920</td>\n      <td>36.003214</td>\n      <td>21.403338</td>\n      <td>12.0</td>\n      <td>...</td>\n      <td>0.663496</td>\n      <td>0.271127</td>\n      <td>-0.171764</td>\n      <td>-0.205146</td>\n      <td>0.244037</td>\n      <td>0.103296</td>\n      <td>-0.139050</td>\n      <td>-0.126039</td>\n      <td>-0.377860</td>\n      <td>-1.0</td>\n    </tr>\n    <tr>\n      <th>2021-10-08 05:30:00</th>\n      <td>53816.16</td>\n      <td>56168.00</td>\n      <td>53623.02</td>\n      <td>53957.21</td>\n      <td>106.710915</td>\n      <td>76.282540</td>\n      <td>53.442873</td>\n      <td>122.095303</td>\n      <td>21.403338</td>\n      <td>13.0</td>\n      <td>...</td>\n      <td>0.852653</td>\n      <td>0.373793</td>\n      <td>-0.073833</td>\n      <td>-0.156739</td>\n      <td>0.274140</td>\n      <td>0.100430</td>\n      <td>-0.116646</td>\n      <td>-0.135203</td>\n      <td>-0.428920</td>\n      <td>-1.0</td>\n    </tr>\n    <tr>\n      <th>2021-10-09 05:30:00</th>\n      <td>53952.82</td>\n      <td>55512.05</td>\n      <td>53674.69</td>\n      <td>54976.92</td>\n      <td>95.701762</td>\n      <td>81.076863</td>\n      <td>53.473221</td>\n      <td>122.095303</td>\n      <td>21.403338</td>\n      <td>14.0</td>\n      <td>...</td>\n      <td>1.091202</td>\n      <td>0.538685</td>\n      <td>0.029633</td>\n      <td>-0.204451</td>\n      <td>0.295724</td>\n      <td>0.081056</td>\n      <td>-0.085833</td>\n      <td>-0.156351</td>\n      <td>-0.948508</td>\n      <td>1.0</td>\n    </tr>\n    <tr>\n      <th>2021-10-10 05:30:00</th>\n      <td>54984.49</td>\n      <td>56561.00</td>\n      <td>51000.00</td>\n      <td>54714.95</td>\n      <td>84.616038</td>\n      <td>85.612418</td>\n      <td>54.306696</td>\n      <td>122.095303</td>\n      <td>21.403338</td>\n      <td>15.0</td>\n      <td>...</td>\n      <td>1.295321</td>\n      <td>0.729380</td>\n      <td>0.142554</td>\n      <td>-0.109915</td>\n      <td>0.306880</td>\n      <td>0.083991</td>\n      <td>-0.036590</td>\n      <td>-0.162171</td>\n      <td>26.448080</td>\n      <td>-1.0</td>\n    </tr>\n    <tr>\n      <th>2021-10-11 05:30:00</th>\n      <td>54657.00</td>\n      <td>57855.79</td>\n      <td>54462.45</td>\n      <td>57485.20</td>\n      <td>95.468276</td>\n      <td>91.309720</td>\n      <td>56.040524</td>\n      <td>122.095303</td>\n      <td>21.403338</td>\n      <td>4.0</td>\n      <td>...</td>\n      <td>1.602777</td>\n      <td>0.973750</td>\n      <td>0.295318</td>\n      <td>0.189595</td>\n      <td>0.318662</td>\n      <td>0.135858</td>\n      <td>0.037442</td>\n      <td>-0.146914</td>\n      <td>1.048313</td>\n      <td>1.0</td>\n    </tr>\n  </tbody>\n</table>\n<p>2410 rows × 64 columns</p>\n</div>"
     },
     "execution_count": 16,
     "metadata": {},
     "output_type": "execute_result"
    }
   ],
   "source": [
    "data"
   ],
   "metadata": {
    "collapsed": false,
    "pycharm": {
     "name": "#%%\n"
    }
   }
  },
  {
   "cell_type": "code",
   "source": [
    "## Split Train, Test, Validate\n",
    "df_train = data.loc[:\"2018\"]\n",
    "df_validate = data.loc[\"2019\":\"2020\"]\n",
    "df_test = data.loc[\"2021\":]"
   ],
   "metadata": {
    "collapsed": false,
    "pycharm": {
     "name": "#%%\n"
    }
   },
   "execution_count": 6,
   "outputs": []
  },
  {
   "cell_type": "code",
   "execution_count": 7,
   "outputs": [],
   "source": [
    "scaled_df_train = pd.DataFrame(StandardScaler().fit_transform(df_train), columns=df_train.columns, index=df_train.index)\n"
   ],
   "metadata": {
    "collapsed": false,
    "pycharm": {
     "name": "#%%\n"
    }
   }
  },
  {
   "cell_type": "code",
   "execution_count": 8,
   "outputs": [],
   "source": [
    "df_cluster_upside = prepare_clustering_dataframe(scaled_df_train, df_train, how=\"UpsideMax\")\n",
    "df_cluster_downside = prepare_clustering_dataframe(scaled_df_train, df_train, how=\"DownsideMin\")\n"
   ],
   "metadata": {
    "collapsed": false,
    "pycharm": {
     "name": "#%%\n"
    }
   }
  },
  {
   "cell_type": "code",
   "execution_count": 21,
   "outputs": [],
   "source": [
    "results_upside = cluster_grid_search(df_cluster_upside)"
   ],
   "metadata": {
    "collapsed": false,
    "pycharm": {
     "name": "#%%\n"
    }
   }
  },
  {
   "cell_type": "code",
   "execution_count": 22,
   "outputs": [
    {
     "data": {
      "text/plain": "        Num Features  num_clusters  \\\n0                  3             5   \n1                  3             6   \n2                  3             7   \n3                  3             5   \n4                  3             6   \n...              ...           ...   \n617608             5             6   \n617609             5             7   \n617610             5             5   \n617611             5             6   \n617612             5             7   \n\n                                        selected_features  \\\n0                                      [CB, FMACB, SMACB]   \n1                                      [CB, FMACB, SMACB]   \n2                                      [CB, FMACB, SMACB]   \n3                [CB, FMACB, CB_PreviousHighPivotValueCB]   \n4                [CB, FMACB, CB_PreviousHighPivotValueCB]   \n...                                                   ...   \n617608  [Max_SMACB_10, ROC_CB_10, ROC_FMACB_10, ROC_SM...   \n617609  [Max_SMACB_10, ROC_CB_10, ROC_FMACB_10, ROC_SM...   \n617610  [Min_SMACB_10, ROC_CB_10, ROC_FMACB_10, ROC_SM...   \n617611  [Min_SMACB_10, ROC_CB_10, ROC_FMACB_10, ROC_SM...   \n617612  [Min_SMACB_10, ROC_CB_10, ROC_FMACB_10, ROC_SM...   \n\n                                                   stdevs  \n0       [0.2753063819454495, 0.4295138859364139, 0.151...  \n1       [0.2689220311706424, 0.1292015053655987, 0.277...  \n2       [0.26711779686340364, 0.32902846438415473, 0.2...  \n3       [0.28403170685521156, 0.3951746311455704, 0.30...  \n4       [0.2254060928225056, 0.264777581275378, 0.1916...  \n...                                                   ...  \n617608  [0.3466523196247373, 0.19231833940678142, 0.36...  \n617609  [0.36388942818896647, 0.19439312411924894, 0.1...  \n617610  [0.37060650566217673, 0.21321172519926584, 0.1...  \n617611  [0.2285427436410646, 0.1965938261002287, 0.029...  \n617612  [0.08089728170012322, 0.3940304421354378, 0.17...  \n\n[617613 rows x 4 columns]",
      "text/html": "<div>\n<style scoped>\n    .dataframe tbody tr th:only-of-type {\n        vertical-align: middle;\n    }\n\n    .dataframe tbody tr th {\n        vertical-align: top;\n    }\n\n    .dataframe thead th {\n        text-align: right;\n    }\n</style>\n<table border=\"1\" class=\"dataframe\">\n  <thead>\n    <tr style=\"text-align: right;\">\n      <th></th>\n      <th>Num Features</th>\n      <th>num_clusters</th>\n      <th>selected_features</th>\n      <th>stdevs</th>\n    </tr>\n  </thead>\n  <tbody>\n    <tr>\n      <th>0</th>\n      <td>3</td>\n      <td>5</td>\n      <td>[CB, FMACB, SMACB]</td>\n      <td>[0.2753063819454495, 0.4295138859364139, 0.151...</td>\n    </tr>\n    <tr>\n      <th>1</th>\n      <td>3</td>\n      <td>6</td>\n      <td>[CB, FMACB, SMACB]</td>\n      <td>[0.2689220311706424, 0.1292015053655987, 0.277...</td>\n    </tr>\n    <tr>\n      <th>2</th>\n      <td>3</td>\n      <td>7</td>\n      <td>[CB, FMACB, SMACB]</td>\n      <td>[0.26711779686340364, 0.32902846438415473, 0.2...</td>\n    </tr>\n    <tr>\n      <th>3</th>\n      <td>3</td>\n      <td>5</td>\n      <td>[CB, FMACB, CB_PreviousHighPivotValueCB]</td>\n      <td>[0.28403170685521156, 0.3951746311455704, 0.30...</td>\n    </tr>\n    <tr>\n      <th>4</th>\n      <td>3</td>\n      <td>6</td>\n      <td>[CB, FMACB, CB_PreviousHighPivotValueCB]</td>\n      <td>[0.2254060928225056, 0.264777581275378, 0.1916...</td>\n    </tr>\n    <tr>\n      <th>...</th>\n      <td>...</td>\n      <td>...</td>\n      <td>...</td>\n      <td>...</td>\n    </tr>\n    <tr>\n      <th>617608</th>\n      <td>5</td>\n      <td>6</td>\n      <td>[Max_SMACB_10, ROC_CB_10, ROC_FMACB_10, ROC_SM...</td>\n      <td>[0.3466523196247373, 0.19231833940678142, 0.36...</td>\n    </tr>\n    <tr>\n      <th>617609</th>\n      <td>5</td>\n      <td>7</td>\n      <td>[Max_SMACB_10, ROC_CB_10, ROC_FMACB_10, ROC_SM...</td>\n      <td>[0.36388942818896647, 0.19439312411924894, 0.1...</td>\n    </tr>\n    <tr>\n      <th>617610</th>\n      <td>5</td>\n      <td>5</td>\n      <td>[Min_SMACB_10, ROC_CB_10, ROC_FMACB_10, ROC_SM...</td>\n      <td>[0.37060650566217673, 0.21321172519926584, 0.1...</td>\n    </tr>\n    <tr>\n      <th>617611</th>\n      <td>5</td>\n      <td>6</td>\n      <td>[Min_SMACB_10, ROC_CB_10, ROC_FMACB_10, ROC_SM...</td>\n      <td>[0.2285427436410646, 0.1965938261002287, 0.029...</td>\n    </tr>\n    <tr>\n      <th>617612</th>\n      <td>5</td>\n      <td>7</td>\n      <td>[Min_SMACB_10, ROC_CB_10, ROC_FMACB_10, ROC_SM...</td>\n      <td>[0.08089728170012322, 0.3940304421354378, 0.17...</td>\n    </tr>\n  </tbody>\n</table>\n<p>617613 rows × 4 columns</p>\n</div>"
     },
     "execution_count": 22,
     "metadata": {},
     "output_type": "execute_result"
    }
   ],
   "source": [
    "results_upside"
   ],
   "metadata": {
    "collapsed": false,
    "pycharm": {
     "name": "#%%\n"
    }
   }
  },
  {
   "cell_type": "code",
   "execution_count": 23,
   "outputs": [],
   "source": [
    "results_upside['metric'] = np.nan\n",
    "for i in range(len(results_upside)):\n",
    "    stdevs = results_upside.iloc[i]['stdevs']\n",
    "    try:\n",
    "        results_upside.loc[i, 'metric'] = sum(stdevs)/len(stdevs)\n",
    "    except:\n",
    "        continue"
   ],
   "metadata": {
    "collapsed": false,
    "pycharm": {
     "name": "#%%\n"
    }
   }
  },
  {
   "cell_type": "code",
   "execution_count": 24,
   "outputs": [],
   "source": [
    "results_upside = results_upside.sort_values(by=\"metric\")"
   ],
   "metadata": {
    "collapsed": false,
    "pycharm": {
     "name": "#%%\n"
    }
   }
  },
  {
   "cell_type": "code",
   "execution_count": 31,
   "outputs": [
    {
     "data": {
      "text/plain": "        Num Features  num_clusters  \\\n474882             5             5   \n281199             5             5   \n474870             5             5   \n443004             5             5   \n442806             5             5   \n...              ...           ...   \n617573             5             7   \n617585             5             7   \n617599             5             6   \n617600             5             7   \n617609             5             7   \n\n                                        selected_features  \\\n474882  [CB_DaysSincePreviousLowPivot, FMACB_PreviousL...   \n281199  [SMACB, CB_DaysSincePreviousHighPivot, FMACB_P...   \n474870  [CB_DaysSincePreviousLowPivot, FMACB_PreviousL...   \n443004  [CB_DaysSincePreviousHighPivot, FMACB_Previous...   \n442806  [CB_DaysSincePreviousHighPivot, FMACB_Previous...   \n...                                                   ...   \n617573  [Min_FMACB_10, Max_SMACB_10, ROC_CB_10, ROC_FM...   \n617585  [Min_FMACB_10, Min_SMACB_10, ROC_CB_10, ROC_FM...   \n617599  [Max_SMACB_10, Min_SMACB_10, ROC_CB_10, ROC_FM...   \n617600  [Max_SMACB_10, Min_SMACB_10, ROC_CB_10, ROC_FM...   \n617609  [Max_SMACB_10, ROC_CB_10, ROC_FMACB_10, ROC_SM...   \n\n                                                   stdevs    metric  \n474882  [0.0564257209626963, 0.3959400052679577, 0.106...  0.157642  \n281199  [0.3973987113464936, 0.10757002719116524, 0.05...  0.158469  \n474870  [0.19003344685435172, 0.39610120673690874, 0.1...  0.159209  \n443004  [0.10463395788422972, 0.3926275604738136, 0.20...  0.159544  \n442806  [0.033354584842744846, 0.4004988020283885, 0.1...  0.160357  \n...                                                   ...       ...  \n617573  [0.24294444266160511, 0.45808246691715376, 0.1...       NaN  \n617585  [0.5050143229283282, 0.0911964825597197, 0.250...       NaN  \n617599  [0.2078571645638956, 0.40788143838165863, 0.11...       NaN  \n617600  [0.212650105436669, 0.3177825620565555, 0.2758...       NaN  \n617609  [0.36388942818896647, 0.19439312411924894, 0.1...       NaN  \n\n[617613 rows x 5 columns]",
      "text/html": "<div>\n<style scoped>\n    .dataframe tbody tr th:only-of-type {\n        vertical-align: middle;\n    }\n\n    .dataframe tbody tr th {\n        vertical-align: top;\n    }\n\n    .dataframe thead th {\n        text-align: right;\n    }\n</style>\n<table border=\"1\" class=\"dataframe\">\n  <thead>\n    <tr style=\"text-align: right;\">\n      <th></th>\n      <th>Num Features</th>\n      <th>num_clusters</th>\n      <th>selected_features</th>\n      <th>stdevs</th>\n      <th>metric</th>\n    </tr>\n  </thead>\n  <tbody>\n    <tr>\n      <th>474882</th>\n      <td>5</td>\n      <td>5</td>\n      <td>[CB_DaysSincePreviousLowPivot, FMACB_PreviousL...</td>\n      <td>[0.0564257209626963, 0.3959400052679577, 0.106...</td>\n      <td>0.157642</td>\n    </tr>\n    <tr>\n      <th>281199</th>\n      <td>5</td>\n      <td>5</td>\n      <td>[SMACB, CB_DaysSincePreviousHighPivot, FMACB_P...</td>\n      <td>[0.3973987113464936, 0.10757002719116524, 0.05...</td>\n      <td>0.158469</td>\n    </tr>\n    <tr>\n      <th>474870</th>\n      <td>5</td>\n      <td>5</td>\n      <td>[CB_DaysSincePreviousLowPivot, FMACB_PreviousL...</td>\n      <td>[0.19003344685435172, 0.39610120673690874, 0.1...</td>\n      <td>0.159209</td>\n    </tr>\n    <tr>\n      <th>443004</th>\n      <td>5</td>\n      <td>5</td>\n      <td>[CB_DaysSincePreviousHighPivot, FMACB_Previous...</td>\n      <td>[0.10463395788422972, 0.3926275604738136, 0.20...</td>\n      <td>0.159544</td>\n    </tr>\n    <tr>\n      <th>442806</th>\n      <td>5</td>\n      <td>5</td>\n      <td>[CB_DaysSincePreviousHighPivot, FMACB_Previous...</td>\n      <td>[0.033354584842744846, 0.4004988020283885, 0.1...</td>\n      <td>0.160357</td>\n    </tr>\n    <tr>\n      <th>...</th>\n      <td>...</td>\n      <td>...</td>\n      <td>...</td>\n      <td>...</td>\n      <td>...</td>\n    </tr>\n    <tr>\n      <th>617573</th>\n      <td>5</td>\n      <td>7</td>\n      <td>[Min_FMACB_10, Max_SMACB_10, ROC_CB_10, ROC_FM...</td>\n      <td>[0.24294444266160511, 0.45808246691715376, 0.1...</td>\n      <td>NaN</td>\n    </tr>\n    <tr>\n      <th>617585</th>\n      <td>5</td>\n      <td>7</td>\n      <td>[Min_FMACB_10, Min_SMACB_10, ROC_CB_10, ROC_FM...</td>\n      <td>[0.5050143229283282, 0.0911964825597197, 0.250...</td>\n      <td>NaN</td>\n    </tr>\n    <tr>\n      <th>617599</th>\n      <td>5</td>\n      <td>6</td>\n      <td>[Max_SMACB_10, Min_SMACB_10, ROC_CB_10, ROC_FM...</td>\n      <td>[0.2078571645638956, 0.40788143838165863, 0.11...</td>\n      <td>NaN</td>\n    </tr>\n    <tr>\n      <th>617600</th>\n      <td>5</td>\n      <td>7</td>\n      <td>[Max_SMACB_10, Min_SMACB_10, ROC_CB_10, ROC_FM...</td>\n      <td>[0.212650105436669, 0.3177825620565555, 0.2758...</td>\n      <td>NaN</td>\n    </tr>\n    <tr>\n      <th>617609</th>\n      <td>5</td>\n      <td>7</td>\n      <td>[Max_SMACB_10, ROC_CB_10, ROC_FMACB_10, ROC_SM...</td>\n      <td>[0.36388942818896647, 0.19439312411924894, 0.1...</td>\n      <td>NaN</td>\n    </tr>\n  </tbody>\n</table>\n<p>617613 rows × 5 columns</p>\n</div>"
     },
     "execution_count": 31,
     "metadata": {},
     "output_type": "execute_result"
    }
   ],
   "source": [
    "results_upside"
   ],
   "metadata": {
    "collapsed": false,
    "pycharm": {
     "name": "#%%\n"
    }
   }
  },
  {
   "cell_type": "code",
   "execution_count": 25,
   "outputs": [],
   "source": [
    "import pickle\n",
    "with open(f'BTCUpsideOutliersMaxReturnOver30Days.pkl', 'wb') as file:\n",
    "    pickle.dump(results_upside, file)"
   ],
   "metadata": {
    "collapsed": false,
    "pycharm": {
     "name": "#%%\n"
    }
   }
  },
  {
   "cell_type": "code",
   "execution_count": 26,
   "outputs": [],
   "source": [
    "results_downside = cluster_grid_search(df_cluster_downside)"
   ],
   "metadata": {
    "collapsed": false,
    "pycharm": {
     "name": "#%%\n"
    }
   }
  },
  {
   "cell_type": "code",
   "execution_count": 27,
   "outputs": [
    {
     "data": {
      "text/plain": "        Num Features  num_clusters  \\\n0                  3             5   \n1                  3             6   \n2                  3             7   \n3                  3             5   \n4                  3             6   \n...              ...           ...   \n617608             5             6   \n617609             5             7   \n617610             5             5   \n617611             5             6   \n617612             5             7   \n\n                                        selected_features  \\\n0                                      [CB, FMACB, SMACB]   \n1                                      [CB, FMACB, SMACB]   \n2                                      [CB, FMACB, SMACB]   \n3                [CB, FMACB, CB_PreviousHighPivotValueCB]   \n4                [CB, FMACB, CB_PreviousHighPivotValueCB]   \n...                                                   ...   \n617608  [Max_SMACB_10, ROC_CB_10, ROC_FMACB_10, ROC_SM...   \n617609  [Max_SMACB_10, ROC_CB_10, ROC_FMACB_10, ROC_SM...   \n617610  [Min_SMACB_10, ROC_CB_10, ROC_FMACB_10, ROC_SM...   \n617611  [Min_SMACB_10, ROC_CB_10, ROC_FMACB_10, ROC_SM...   \n617612  [Min_SMACB_10, ROC_CB_10, ROC_FMACB_10, ROC_SM...   \n\n                                                   stdevs  \n0       [0.04585384301826992, 0.05244647327600987, 0.1...  \n1       [0.06251256259290523, 0.041057521842377404, 0....  \n2       [0.040264426662551325, 0.13046758055215252, 0....  \n3       [0.11044891717230186, 0.11673681295637303, 0.0...  \n4       [0.09178395716517232, 0.132127563805217, 0.108...  \n...                                                   ...  \n617608  [0.12800372464553242, 0.05764775713547493, 0.1...  \n617609  [0.061575768644076594, 0.12154572720253048, na...  \n617610  [0.05951819486411981, 0.10465412326283992, 0.0...  \n617611  [0.05863020990363852, 0.06747453989566449, 0.0...  \n617612  [0.04285771252571609, 0.058234803461622534, na...  \n\n[617613 rows x 4 columns]",
      "text/html": "<div>\n<style scoped>\n    .dataframe tbody tr th:only-of-type {\n        vertical-align: middle;\n    }\n\n    .dataframe tbody tr th {\n        vertical-align: top;\n    }\n\n    .dataframe thead th {\n        text-align: right;\n    }\n</style>\n<table border=\"1\" class=\"dataframe\">\n  <thead>\n    <tr style=\"text-align: right;\">\n      <th></th>\n      <th>Num Features</th>\n      <th>num_clusters</th>\n      <th>selected_features</th>\n      <th>stdevs</th>\n    </tr>\n  </thead>\n  <tbody>\n    <tr>\n      <th>0</th>\n      <td>3</td>\n      <td>5</td>\n      <td>[CB, FMACB, SMACB]</td>\n      <td>[0.04585384301826992, 0.05244647327600987, 0.1...</td>\n    </tr>\n    <tr>\n      <th>1</th>\n      <td>3</td>\n      <td>6</td>\n      <td>[CB, FMACB, SMACB]</td>\n      <td>[0.06251256259290523, 0.041057521842377404, 0....</td>\n    </tr>\n    <tr>\n      <th>2</th>\n      <td>3</td>\n      <td>7</td>\n      <td>[CB, FMACB, SMACB]</td>\n      <td>[0.040264426662551325, 0.13046758055215252, 0....</td>\n    </tr>\n    <tr>\n      <th>3</th>\n      <td>3</td>\n      <td>5</td>\n      <td>[CB, FMACB, CB_PreviousHighPivotValueCB]</td>\n      <td>[0.11044891717230186, 0.11673681295637303, 0.0...</td>\n    </tr>\n    <tr>\n      <th>4</th>\n      <td>3</td>\n      <td>6</td>\n      <td>[CB, FMACB, CB_PreviousHighPivotValueCB]</td>\n      <td>[0.09178395716517232, 0.132127563805217, 0.108...</td>\n    </tr>\n    <tr>\n      <th>...</th>\n      <td>...</td>\n      <td>...</td>\n      <td>...</td>\n      <td>...</td>\n    </tr>\n    <tr>\n      <th>617608</th>\n      <td>5</td>\n      <td>6</td>\n      <td>[Max_SMACB_10, ROC_CB_10, ROC_FMACB_10, ROC_SM...</td>\n      <td>[0.12800372464553242, 0.05764775713547493, 0.1...</td>\n    </tr>\n    <tr>\n      <th>617609</th>\n      <td>5</td>\n      <td>7</td>\n      <td>[Max_SMACB_10, ROC_CB_10, ROC_FMACB_10, ROC_SM...</td>\n      <td>[0.061575768644076594, 0.12154572720253048, na...</td>\n    </tr>\n    <tr>\n      <th>617610</th>\n      <td>5</td>\n      <td>5</td>\n      <td>[Min_SMACB_10, ROC_CB_10, ROC_FMACB_10, ROC_SM...</td>\n      <td>[0.05951819486411981, 0.10465412326283992, 0.0...</td>\n    </tr>\n    <tr>\n      <th>617611</th>\n      <td>5</td>\n      <td>6</td>\n      <td>[Min_SMACB_10, ROC_CB_10, ROC_FMACB_10, ROC_SM...</td>\n      <td>[0.05863020990363852, 0.06747453989566449, 0.0...</td>\n    </tr>\n    <tr>\n      <th>617612</th>\n      <td>5</td>\n      <td>7</td>\n      <td>[Min_SMACB_10, ROC_CB_10, ROC_FMACB_10, ROC_SM...</td>\n      <td>[0.04285771252571609, 0.058234803461622534, na...</td>\n    </tr>\n  </tbody>\n</table>\n<p>617613 rows × 4 columns</p>\n</div>"
     },
     "execution_count": 27,
     "metadata": {},
     "output_type": "execute_result"
    }
   ],
   "source": [
    "results_downside"
   ],
   "metadata": {
    "collapsed": false,
    "pycharm": {
     "name": "#%%\n"
    }
   }
  },
  {
   "cell_type": "code",
   "execution_count": 28,
   "outputs": [],
   "source": [
    "results_downside['metric'] = np.nan\n",
    "for i in range(len(results_downside)):\n",
    "    stdevs = results_downside.iloc[i]['stdevs']\n",
    "    try:\n",
    "        results_downside.loc[i, 'metric'] = sum(stdevs)/len(stdevs)\n",
    "    except:\n",
    "        continue"
   ],
   "metadata": {
    "collapsed": false,
    "pycharm": {
     "name": "#%%\n"
    }
   }
  },
  {
   "cell_type": "code",
   "execution_count": 29,
   "outputs": [],
   "source": [
    "results_downside = results_downside.sort_values(by=\"metric\")"
   ],
   "metadata": {
    "collapsed": false,
    "pycharm": {
     "name": "#%%\n"
    }
   }
  },
  {
   "cell_type": "code",
   "execution_count": 30,
   "outputs": [],
   "source": [
    "import pickle\n",
    "with open(f'BTCDownsideOutliersMinReturnOver30Days.pkl', 'wb') as file:\n",
    "    pickle.dump(results_downside, file)"
   ],
   "metadata": {
    "collapsed": false,
    "pycharm": {
     "name": "#%%\n"
    }
   }
  },
  {
   "cell_type": "code",
   "execution_count": 30,
   "outputs": [],
   "source": [],
   "metadata": {
    "collapsed": false,
    "pycharm": {
     "name": "#%%\n"
    }
   }
  },
  {
   "cell_type": "code",
   "execution_count": null,
   "outputs": [],
   "source": [],
   "metadata": {
    "collapsed": false,
    "pycharm": {
     "name": "#%%\n"
    }
   }
  },
  {
   "cell_type": "code",
   "execution_count": null,
   "outputs": [],
   "source": [],
   "metadata": {
    "collapsed": false,
    "pycharm": {
     "name": "#%%\n"
    }
   }
  },
  {
   "cell_type": "code",
   "execution_count": null,
   "outputs": [],
   "source": [],
   "metadata": {
    "collapsed": false,
    "pycharm": {
     "name": "#%%\n"
    }
   }
  },
  {
   "cell_type": "code",
   "execution_count": null,
   "outputs": [],
   "source": [
    "colNames = list(df_cluster_input.columns)\n",
    "colNames.append('prediction')\n",
    "\n",
    "# Zip with a column called 'prediction' (index)\n",
    "Z = [np.append(A, index) for index, A in enumerate(centers)]\n",
    "\n",
    "# Convert to pandas data frame for plotting\n",
    "P = pd.DataFrame(Z, columns=colNames)\n",
    "P['prediction'] = P['prediction'].astype(int)"
   ],
   "metadata": {
    "collapsed": false,
    "pycharm": {
     "name": "#%%\n"
    }
   }
  },
  {
   "cell_type": "code",
   "execution_count": null,
   "outputs": [],
   "source": [
    "num_features = res.iloc[40]['Num Features']\n",
    "selected_features = res.iloc[40]['selected_features']\n",
    "clusters = res.iloc[40]['num_clusters']\n",
    "df_cluster_input = df_cluster[list(selected_features)]\n",
    "X = StandardScaler().fit_transform(df_cluster_input)\n",
    "k_means = KMeans(n_clusters=num_clusters)\n",
    "model = k_means.fit(X)\n",
    "centers = model.cluster_centers_\n",
    "y_hat = k_means.predict(X)\n",
    "labels = k_means.labels_\n",
    "score = metrics.silhoueatte_score(X, labels, metric = 'euclidean')\n",
    "df_cluster_input = pd.concat([df_cluster_input.reset_index(), pd.DataFrame(labels).rename({0:'labels'},axis=1)], axis=1).set_index(\"Date\")\n"
   ],
   "metadata": {
    "collapsed": false,
    "pycharm": {
     "name": "#%%\n"
    }
   }
  },
  {
   "cell_type": "code",
   "execution_count": null,
   "outputs": [],
   "source": [
    "score"
   ],
   "metadata": {
    "collapsed": false,
    "pycharm": {
     "name": "#%%\n"
    }
   }
  },
  {
   "cell_type": "code",
   "execution_count": null,
   "outputs": [],
   "source": [
    "import itertools\n",
    "\n",
    "plot_columns = list(df_cluster_input.columns)#.remove('labels')\n",
    "plot_columns.remove('labels')\n",
    "plot_pairs = list(itertools.combinations(plot_columns, 2))"
   ],
   "metadata": {
    "collapsed": false,
    "pycharm": {
     "name": "#%%\n"
    }
   }
  },
  {
   "cell_type": "code",
   "execution_count": null,
   "outputs": [],
   "source": [
    "plot_pairs"
   ],
   "metadata": {
    "collapsed": false,
    "pycharm": {
     "name": "#%%\n"
    }
   }
  },
  {
   "cell_type": "code",
   "execution_count": null,
   "outputs": [],
   "source": [
    "for pair in plot_pairs:\n",
    "    sns.lmplot(x=pair[0],y=pair[1],data=df_cluster_input,hue='labels',fit_reg=False)"
   ],
   "metadata": {
    "collapsed": false,
    "pycharm": {
     "name": "#%%\n"
    }
   }
  },
  {
   "cell_type": "code",
   "execution_count": null,
   "outputs": [],
   "source": [],
   "metadata": {
    "collapsed": false,
    "pycharm": {
     "name": "#%%\n"
    }
   }
  }
 ],
 "metadata": {
  "kernelspec": {
   "display_name": "Python 3",
   "language": "python",
   "name": "python3"
  },
  "language_info": {
   "codemirror_mode": {
    "name": "ipython",
    "version": 2
   },
   "file_extension": ".py",
   "mimetype": "text/x-python",
   "name": "python",
   "nbconvert_exporter": "python",
   "pygments_lexer": "ipython2",
   "version": "2.7.6"
  }
 },
 "nbformat": 4,
 "nbformat_minor": 0
}