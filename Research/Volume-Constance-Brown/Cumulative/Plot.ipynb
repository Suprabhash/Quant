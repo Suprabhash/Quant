{
 "cells": [
  {
   "cell_type": "code",
   "execution_count": 1,
   "metadata": {
    "collapsed": true
   },
   "outputs": [],
   "source": [
    "from plotly.subplots import make_subplots\n",
    "import plotly.graph_objects as go\n",
    "import pickle\n",
    "import pandas as pd\n",
    "from datetime import date, timedelta\n",
    "import numpy as np\n",
    "import investpy\n",
    "import yfinance as yf\n",
    "import eikon as ek"
   ]
  },
  {
   "cell_type": "code",
   "execution_count": 2,
   "outputs": [],
   "source": [
    "def valid_dates(dates_all):\n",
    "    dates = []\n",
    "    i = 0\n",
    "    while True:\n",
    "        dates.append(dates_all[i])\n",
    "        if dates_all[i] > pd.to_datetime(date.today()):\n",
    "            break\n",
    "        i = i + 1\n",
    "    return dates"
   ],
   "metadata": {
    "collapsed": false,
    "pycharm": {
     "name": "#%%\n"
    }
   }
  },
  {
   "cell_type": "code",
   "execution_count": 13,
   "outputs": [],
   "source": [
    "def prepare_portfolio_data(tickers,api,country):\n",
    "    data = pd.DataFrame()\n",
    "    for ticker in tickers:\n",
    "        try:\n",
    "            temp_og = get_data(ticker, api,country)\n",
    "            data = pd.concat([data, temp_og[\"Close\"].to_frame().astype(float).rename(columns={\"Close\":ticker}).set_index(temp_og[\"Date\"])], axis=1)\n",
    "        except:\n",
    "            print(f\"{ticker} not processed\")\n",
    "    data.reset_index(inplace=True)\n",
    "    return data"
   ],
   "metadata": {
    "collapsed": false,
    "pycharm": {
     "name": "#%%\n"
    }
   }
  },
  {
   "cell_type": "code",
   "execution_count": 14,
   "outputs": [],
   "source": [
    "def get_data_investpy( symbol, country, from_date, to_date ):\n",
    "    find = investpy.search.search_quotes(text=symbol, products=[\"stocks\", \"etfs\", \"indices\", \"currencies\"])\n",
    "    for f in find:\n",
    "        #print( f )\n",
    "        if f.symbol.lower() == symbol.lower() and f.country.lower() == country.lower():\n",
    "            break\n",
    "    if f.symbol.lower() != symbol.lower():\n",
    "        return None\n",
    "    ret = f.retrieve_historical_data(from_date=from_date, to_date=to_date)\n",
    "    if ret is None:\n",
    "        try:\n",
    "            ret = investpy.get_stock_historical_data(stock=symbol,\n",
    "                                                     country=country,\n",
    "                                                     from_date=from_date,\n",
    "                                                     to_date=to_date)\n",
    "        except:\n",
    "            ret = None\n",
    "    if ret is None:\n",
    "        try:\n",
    "            ret = investpy.get_etf_historical_data(etf=symbol,\n",
    "                                                   country=country,\n",
    "                                                   from_date=from_date,\n",
    "                                                   to_date=to_date)\n",
    "        except:\n",
    "            ret = None\n",
    "    if ret is None:\n",
    "        try:\n",
    "            ret = investpy.get_index_historical_data(index=symbol,\n",
    "                                                     country=country,\n",
    "                                                     from_date=from_date,\n",
    "                                                     to_date=to_date)\n",
    "        except:\n",
    "            ret = None\n",
    "\n",
    "    if ret is None:\n",
    "        try:\n",
    "            ret = investpy.currency_crosses.get_currency_cross_historical_data(currency_cross=symbol,\n",
    "                                                                               from_date=from_date,\n",
    "                                                                               to_date=to_date)\n",
    "        except:\n",
    "            ret = None\n",
    "    ret.drop([\"Change Pct\"], axis=1, inplace=True)\n",
    "    return ret\n",
    "\n",
    "def get_data(ticker, api,country):\n",
    "\n",
    "    if api == \"yfinance\":\n",
    "\n",
    "        temp_og = yf.download(ticker, start = '2007-01-01', end= str(date.today()+timedelta(1)))\n",
    "        if len(temp_og)==0:\n",
    "            temp_og = yf.download(ticker, start='2007-01-01', end=str(date.today()))\n",
    "        temp_og.reset_index(inplace=True)\n",
    "        temp_og.drop(['Adj Close'], axis=1, inplace=True)\n",
    "        if ticker==\"GOLDBEES.NS\":\n",
    "            temp_og = temp_og.loc[temp_og[\"Close\"]>1]\n",
    "\n",
    "    if api ==\"investpy\":\n",
    "        temp_og = get_data_investpy(symbol=ticker, country=country, from_date=\"01/01/2007\",to_date=(date.today()+timedelta(1)).strftime(\"%d/%m/%Y\"))\n",
    "        temp_og.reset_index(inplace=True)\n",
    "\n",
    "    if api == \"reuters\":\n",
    "        temp_og = ek.get_timeseries(ticker, start_date='2007-01-01', end_date=str(date.today() + timedelta(1)))\n",
    "        temp_og.reset_index(inplace=True)\n",
    "        temp_og.rename(columns={\"HIGH\": \"High\", \"CLOSE\": \"Close\", \"LOW\": \"Low\", \"OPEN\": \"Open\", \"VOLUME\": \"Volume\"},\n",
    "                       inplace=True)\n",
    "        temp_og.drop(['COUNT'], axis=1, inplace=True)\n",
    "\n",
    "    return temp_og"
   ],
   "metadata": {
    "collapsed": false,
    "pycharm": {
     "name": "#%%\n"
    }
   }
  },
  {
   "cell_type": "code",
   "execution_count": 15,
   "outputs": [],
   "source": [
    "\n",
    "index = \".BSESN\"\n",
    "with open(f'BSE_Constituents.pkl', 'rb') as file:\n",
    "    constituents = pickle.load(file)\n",
    "constituents_all = []\n",
    "for i in range(len(constituents)):\n",
    "    constituents_all = constituents_all + constituents.iloc[i][0]\n",
    "tickers = list(set(constituents_all))\n",
    "tickers = [ticker[:-3] for ticker in tickers]"
   ],
   "metadata": {
    "collapsed": false,
    "pycharm": {
     "name": "#%%\n"
    }
   }
  },
  {
   "cell_type": "code",
   "execution_count": 16,
   "outputs": [],
   "source": [
    "data_inp = prepare_portfolio_data(tickers, \"investpy\", \"india\")"
   ],
   "metadata": {
    "collapsed": false,
    "pycharm": {
     "name": "#%%\n"
    }
   }
  },
  {
   "cell_type": "code",
   "execution_count": 18,
   "outputs": [],
   "source": [
    "data_inp = data_inp[data_inp['Date'] != '2020-11-14']\n",
    "data_inp = data_inp[data_inp['Date'] != '2020-11-17']"
   ],
   "metadata": {
    "collapsed": false,
    "pycharm": {
     "name": "#%%\n"
    }
   }
  },
  {
   "cell_type": "code",
   "execution_count": null,
   "outputs": [],
   "source": [],
   "metadata": {
    "collapsed": false,
    "pycharm": {
     "name": "#%%\n"
    }
   }
  }
 ],
 "metadata": {
  "kernelspec": {
   "display_name": "Python 3",
   "language": "python",
   "name": "python3"
  },
  "language_info": {
   "codemirror_mode": {
    "name": "ipython",
    "version": 2
   },
   "file_extension": ".py",
   "mimetype": "text/x-python",
   "name": "python",
   "nbconvert_exporter": "python",
   "pygments_lexer": "ipython2",
   "version": "2.7.6"
  }
 },
 "nbformat": 4,
 "nbformat_minor": 0
}