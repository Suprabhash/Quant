{
 "cells": [
  {
   "cell_type": "code",
   "execution_count": 1,
   "outputs": [],
   "source": [
    "from sklearn import metrics\n",
    "from sklearn.ensemble import RandomForestRegressor\n",
    "%load_ext autoreload\n",
    "%autoreload 2\n",
    "import warnings\n",
    "warnings.filterwarnings('ignore')\n",
    "import pandas as pd\n",
    "from datetime import date,timedelta\n",
    "import pickle\n",
    "%matplotlib inline\n",
    "import matplotlib.pyplot as plt\n",
    "plt.rcParams[\"figure.figsize\"] = (15,5)\n",
    "plt.rcParams['axes.grid'] = False\n",
    "import itertools\n",
    "import multiprocessing\n",
    "import seaborn as sns\n",
    "sns.set_style(\"whitegrid\", {'axes.grid' : False})\n",
    "import numpy as np\n",
    "from sklearn.model_selection import train_test_split\n",
    "import os, sys\n",
    "currentdir = os.path.dirname(os.path.abspath(''))\n",
    "parentdir = os.path.dirname(currentdir)\n",
    "sys.path.append(parentdir)\n",
    "from MCMC.MCMC import MCMC"
   ],
   "metadata": {
    "collapsed": false,
    "pycharm": {
     "name": "#%%\n"
    }
   }
  },
  {
   "cell_type": "code",
   "execution_count": 6,
   "outputs": [],
   "source": [
    "from helper_functions_volume import *"
   ],
   "metadata": {
    "collapsed": false,
    "pycharm": {
     "name": "#%%\n"
    }
   }
  },
  {
   "cell_type": "code",
   "execution_count": 16,
   "outputs": [],
   "source": [
    "ohlcv_df = get_daily_data(\".NSEI\")"
   ],
   "metadata": {
    "collapsed": false,
    "pycharm": {
     "name": "#%%\n"
    }
   }
  },
  {
   "cell_type": "code",
   "execution_count": 4,
   "outputs": [],
   "source": [
    "with open(f'NSEI_VolumeLevels.pkl', 'rb') as file:\n",
    "    vol_df = pickle.load(file)"
   ],
   "metadata": {
    "collapsed": false,
    "pycharm": {
     "name": "#%%\n"
    }
   }
  },
  {
   "cell_type": "code",
   "execution_count": 5,
   "outputs": [
    {
     "data": {
      "text/plain": "      index       Date      Open      High       Low     Close          Volume\n0         0 2007-09-17   4518.45   4549.05   4482.85   4494.65      51253000.0\n1         1 2007-09-18    4494.1    4551.8   4481.55    4546.2      56391000.0\n2         2 2007-09-19   4550.25    4739.0   4550.25   4732.35     108516000.0\n3         3 2007-09-20   4734.85   4760.85   4721.15   4747.55      93970000.0\n4         4 2007-09-21   4752.95    4855.7    4733.7   4837.55     161386000.0\n...     ...        ...       ...       ...       ...       ...             ...\n3499   3499 2021-12-15  17323.65   17351.2   17192.2   17221.4  214972109000.0\n3500   3500 2021-12-16   17373.0  17379.35  17184.95   17248.4  219496063000.0\n3501   3501 2021-12-17   17276.0  17298.15  16966.45   16985.2     354591000.0\n3502   3502 2021-12-20  16824.25   16840.1   16410.2   16614.2  330614079000.0\n3503   3503 2021-12-21  16773.15   16936.4  16688.25  16770.85  241030834000.0\n\n[3504 rows x 7 columns]",
      "text/html": "<div>\n<style scoped>\n    .dataframe tbody tr th:only-of-type {\n        vertical-align: middle;\n    }\n\n    .dataframe tbody tr th {\n        vertical-align: top;\n    }\n\n    .dataframe thead th {\n        text-align: right;\n    }\n</style>\n<table border=\"1\" class=\"dataframe\">\n  <thead>\n    <tr style=\"text-align: right;\">\n      <th></th>\n      <th>index</th>\n      <th>Date</th>\n      <th>Open</th>\n      <th>High</th>\n      <th>Low</th>\n      <th>Close</th>\n      <th>Volume</th>\n    </tr>\n  </thead>\n  <tbody>\n    <tr>\n      <th>0</th>\n      <td>0</td>\n      <td>2007-09-17</td>\n      <td>4518.45</td>\n      <td>4549.05</td>\n      <td>4482.85</td>\n      <td>4494.65</td>\n      <td>51253000.0</td>\n    </tr>\n    <tr>\n      <th>1</th>\n      <td>1</td>\n      <td>2007-09-18</td>\n      <td>4494.1</td>\n      <td>4551.8</td>\n      <td>4481.55</td>\n      <td>4546.2</td>\n      <td>56391000.0</td>\n    </tr>\n    <tr>\n      <th>2</th>\n      <td>2</td>\n      <td>2007-09-19</td>\n      <td>4550.25</td>\n      <td>4739.0</td>\n      <td>4550.25</td>\n      <td>4732.35</td>\n      <td>108516000.0</td>\n    </tr>\n    <tr>\n      <th>3</th>\n      <td>3</td>\n      <td>2007-09-20</td>\n      <td>4734.85</td>\n      <td>4760.85</td>\n      <td>4721.15</td>\n      <td>4747.55</td>\n      <td>93970000.0</td>\n    </tr>\n    <tr>\n      <th>4</th>\n      <td>4</td>\n      <td>2007-09-21</td>\n      <td>4752.95</td>\n      <td>4855.7</td>\n      <td>4733.7</td>\n      <td>4837.55</td>\n      <td>161386000.0</td>\n    </tr>\n    <tr>\n      <th>...</th>\n      <td>...</td>\n      <td>...</td>\n      <td>...</td>\n      <td>...</td>\n      <td>...</td>\n      <td>...</td>\n      <td>...</td>\n    </tr>\n    <tr>\n      <th>3499</th>\n      <td>3499</td>\n      <td>2021-12-15</td>\n      <td>17323.65</td>\n      <td>17351.2</td>\n      <td>17192.2</td>\n      <td>17221.4</td>\n      <td>214972109000.0</td>\n    </tr>\n    <tr>\n      <th>3500</th>\n      <td>3500</td>\n      <td>2021-12-16</td>\n      <td>17373.0</td>\n      <td>17379.35</td>\n      <td>17184.95</td>\n      <td>17248.4</td>\n      <td>219496063000.0</td>\n    </tr>\n    <tr>\n      <th>3501</th>\n      <td>3501</td>\n      <td>2021-12-17</td>\n      <td>17276.0</td>\n      <td>17298.15</td>\n      <td>16966.45</td>\n      <td>16985.2</td>\n      <td>354591000.0</td>\n    </tr>\n    <tr>\n      <th>3502</th>\n      <td>3502</td>\n      <td>2021-12-20</td>\n      <td>16824.25</td>\n      <td>16840.1</td>\n      <td>16410.2</td>\n      <td>16614.2</td>\n      <td>330614079000.0</td>\n    </tr>\n    <tr>\n      <th>3503</th>\n      <td>3503</td>\n      <td>2021-12-21</td>\n      <td>16773.15</td>\n      <td>16936.4</td>\n      <td>16688.25</td>\n      <td>16770.85</td>\n      <td>241030834000.0</td>\n    </tr>\n  </tbody>\n</table>\n<p>3504 rows × 7 columns</p>\n</div>"
     },
     "execution_count": 5,
     "metadata": {},
     "output_type": "execute_result"
    }
   ],
   "source": [
    "ohlcv_df"
   ],
   "metadata": {
    "collapsed": false,
    "pycharm": {
     "name": "#%%\n"
    }
   }
  },
  {
   "cell_type": "code",
   "execution_count": null,
   "outputs": [],
   "source": [
    "m = [i for i in range(5, 55, 5)]\n",
    "n = [i for i in range(150,425,25)]\n",
    "vol_feats_train, vol_metrics_train, vol_feats_val, vol_metrics_val, vol_feats_test, vol_metrics_test = prepare_volume_features_for_rfregressor(ohlcv_df, vol_df, m, n, \"2017\", \"2020\", split=True)"
   ],
   "metadata": {
    "collapsed": false,
    "pycharm": {
     "name": "#%%\n"
    }
   }
  },
  {
   "cell_type": "code",
   "execution_count": null,
   "outputs": [],
   "source": [
    "vol_feats_train.drop(columns=['Date', 'Open','High','Low','Close','Volume','API'], inplace=True)\n",
    "vol_feats_val.drop(columns=['Date', 'Open','High','Low','Close','Volume','API'], inplace=True)\n",
    "vol_feats_test.drop(columns=['Date', 'Open','High','Low','Close','Volume','API'], inplace=True)\n"
   ],
   "metadata": {
    "collapsed": false,
    "pycharm": {
     "name": "#%%\n"
    }
   }
  },
  {
   "cell_type": "code",
   "execution_count": null,
   "outputs": [],
   "source": [
    "res = hyperparametric_tuning_volume_features(vol_feats_train, vol_metrics_train, vol_feats_val, vol_metrics_val)"
   ],
   "metadata": {
    "collapsed": false,
    "pycharm": {
     "name": "#%%\n"
    }
   }
  },
  {
   "cell_type": "code",
   "execution_count": null,
   "outputs": [],
   "source": [
    "run_RFregressor_volume_features(vol_feats_train, vol_metrics_train, vol_feats_val, vol_metrics_val, vol_feats_test, vol_metrics_test, 1000,13,0.5198666178582635,0.564511931045654,0.169436521999854543,40,175, plot=True, criterion=\"poisson\")"
   ],
   "metadata": {
    "collapsed": false,
    "pycharm": {
     "name": "#%%\n"
    }
   }
  },
  {
   "cell_type": "code",
   "execution_count": null,
   "outputs": [],
   "source": [],
   "metadata": {
    "collapsed": false,
    "pycharm": {
     "name": "#%%\n"
    }
   }
  },
  {
   "cell_type": "code",
   "execution_count": null,
   "outputs": [],
   "source": [],
   "metadata": {
    "collapsed": false,
    "pycharm": {
     "name": "#%%\n"
    }
   }
  }
 ],
 "metadata": {
  "kernelspec": {
   "name": "pycharm-a6c048be",
   "language": "python",
   "display_name": "PyCharm (Volume-Constance-Brown)"
  },
  "language_info": {
   "codemirror_mode": {
    "name": "ipython",
    "version": 2
   },
   "file_extension": ".py",
   "mimetype": "text/x-python",
   "name": "python",
   "nbconvert_exporter": "python",
   "pygments_lexer": "ipython2",
   "version": "2.7.6"
  }
 },
 "nbformat": 4,
 "nbformat_minor": 0
}