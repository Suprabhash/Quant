{
 "cells": [
  {
   "cell_type": "code",
   "execution_count": 1,
   "outputs": [],
   "source": [
    "import pandas as pd\n",
    "%load_ext autoreload\n",
    "%autoreload 2"
   ],
   "metadata": {
    "collapsed": false,
    "pycharm": {
     "name": "#%%\n"
    }
   }
  },
  {
   "cell_type": "code",
   "execution_count": 2,
   "outputs": [],
   "source": [
    "import warnings\n",
    "warnings.filterwarnings('ignore')"
   ],
   "metadata": {
    "collapsed": false,
    "pycharm": {
     "name": "#%%\n"
    }
   }
  },
  {
   "cell_type": "code",
   "execution_count": 3,
   "outputs": [],
   "source": [
    "import matplotlib.pyplot as plt\n",
    "plt.rcParams[\"figure.figsize\"] = (15,5)\n",
    "plt.rcParams['axes.grid'] = False\n",
    "import seaborn as sns\n",
    "sns.set_style(\"whitegrid\", {'axes.grid' : False})"
   ],
   "metadata": {
    "collapsed": false,
    "pycharm": {
     "name": "#%%\n"
    }
   }
  },
  {
   "cell_type": "code",
   "execution_count": 4,
   "outputs": [],
   "source": [
    "from helper_functions_volume import *"
   ],
   "metadata": {
    "collapsed": false,
    "pycharm": {
     "name": "#%%\n"
    }
   }
  },
  {
   "cell_type": "code",
   "execution_count": 7,
   "outputs": [],
   "source": [
    "import eikon as ek\n",
    "import plotly.graph_objects as go\n",
    "ek.set_app_key('9a249e0411184cf49e553b61a6e76c52d295ec17')"
   ],
   "metadata": {
    "collapsed": false,
    "pycharm": {
     "name": "#%%\n"
    }
   }
  },
  {
   "cell_type": "code",
   "execution_count": 9,
   "outputs": [
    {
     "name": "stdout",
     "output_type": "stream",
     "text": [
      "Processing .NSEI\n"
     ]
    }
   ],
   "source": [
    "ticker = '.NSEI'\n",
    "\n",
    "if not os.path.exists(f'{ticker}_MRStdev/SelectedStrategies'):\n",
    "    os.makedirs(f'{ticker}_MRStdev/SelectedStrategies')\n",
    "\n",
    "print(f\"Processing {ticker}\")\n",
    "temp_og, temp_og1 = get_data(\".NSEI\")\n",
    "temp_og = prepare_volume_features_from_cache(temp_og, True)\n",
    "temp_og = add_volume_stdevs(temp_og)\n",
    "dates_all_ss = pd.date_range(start=str(temp_og.iloc[1]['Date'] + timedelta(days=503))[:10], end=\"2024-06-15\", freq=f'3M')\n",
    "dates = valid_dates(dates_all_ss)"
   ],
   "metadata": {
    "collapsed": false,
    "pycharm": {
     "name": "#%%\n"
    }
   }
  },
  {
   "cell_type": "code",
   "execution_count": 26,
   "outputs": [],
   "source": [
    "with open(f'NSEI_Volume_MeanRevertingStdev_Backtest_Azure_temp_og.pkl',\n",
    "          'wb') as file:\n",
    "    pickle.dump(temp_og, file)\n"
   ],
   "metadata": {
    "collapsed": false,
    "pycharm": {
     "name": "#%%\n"
    }
   }
  },
  {
   "cell_type": "code",
   "execution_count": null,
   "outputs": [],
   "source": [
    "results = BFO_vol_mr_stdev_strategy(temp_og)"
   ],
   "metadata": {
    "collapsed": false,
    "pycharm": {
     "name": "#%%\n"
    }
   }
  },
  {
   "cell_type": "code",
   "execution_count": null,
   "outputs": [],
   "source": [
    "res_test2 = select_all_strategies_mr_stdev(24,dates, temp_og, ticker,save=True)\n",
    "res_test4 = select_all_strategies_mr_stdev(48,dates, temp_og, ticker,save=True)\n",
    "res_test8 = select_all_strategies_mr_stdev(96,dates, temp_og, ticker,save=True)"
   ],
   "metadata": {
    "collapsed": false,
    "pycharm": {
     "name": "#%%\n"
    }
   }
  },
  {
   "cell_type": "code",
   "execution_count": null,
   "outputs": [],
   "source": [
    "t = time.time()\n",
    "selected_strat = 1\n",
    "strat = vol_mean_reverting_stdev_strategy(temp_og, levelb=results.iloc[selected_strat][\"levelb\"], lookbackb=results.iloc[selected_strat][\"lookbackb\"], band_buy=results.iloc[selected_strat][\"band_buy\"], xtp=results.iloc[selected_strat][\"xtp\"],\n",
    "                                          ktp = results.iloc[selected_strat][\"ktp\"],leveltp=results.iloc[selected_strat][\"leveltp\"],lookbacktp=results.iloc[selected_strat][\"lookbacktp\"], xsl=results.iloc[selected_strat][\"xsl\"],\n",
    "                                          ksl = results.iloc[selected_strat][\"ksl\"],levelsl=results.iloc[selected_strat][\"levelsl\"],lookbacksl=results.iloc[selected_strat][\"lookbacksl\"])\n",
    "strat.generate_signals()\n",
    "strat.signal_performance(10000,6)\n",
    "elapsed = time.time() - t\n",
    "print(elapsed)\n",
    "\n",
    "strat.generate_signals(charts=True)\n",
    "strat.plot_performance()\n",
    "strat.daywise_performance['avg_sortino_of_trades']"
   ],
   "metadata": {
    "collapsed": false,
    "pycharm": {
     "name": "#%%\n"
    }
   }
  },
  {
   "cell_type": "code",
   "execution_count": null,
   "outputs": [],
   "source": [],
   "metadata": {
    "collapsed": false,
    "pycharm": {
     "name": "#%%\n"
    }
   }
  }
 ],
 "metadata": {
  "kernelspec": {
   "display_name": "Python 3",
   "language": "python",
   "name": "python3"
  },
  "language_info": {
   "codemirror_mode": {
    "name": "ipython",
    "version": 2
   },
   "file_extension": ".py",
   "mimetype": "text/x-python",
   "name": "python",
   "nbconvert_exporter": "python",
   "pygments_lexer": "ipython2",
   "version": "2.7.6"
  }
 },
 "nbformat": 4,
 "nbformat_minor": 0
}