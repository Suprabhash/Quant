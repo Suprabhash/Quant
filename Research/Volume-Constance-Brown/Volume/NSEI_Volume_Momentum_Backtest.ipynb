{
 "cells": [
  {
   "cell_type": "code",
   "execution_count": 2,
   "outputs": [],
   "source": [
    "import pandas as pd\n",
    "%load_ext autoreload\n",
    "%autoreload 2"
   ],
   "metadata": {
    "collapsed": false,
    "pycharm": {
     "name": "#%%\n"
    }
   }
  },
  {
   "cell_type": "code",
   "execution_count": 3,
   "outputs": [],
   "source": [
    "import warnings\n",
    "warnings.filterwarnings('ignore')"
   ],
   "metadata": {
    "collapsed": false,
    "pycharm": {
     "name": "#%%\n"
    }
   }
  },
  {
   "cell_type": "code",
   "execution_count": 4,
   "outputs": [],
   "source": [
    "import matplotlib.pyplot as plt\n",
    "plt.rcParams[\"figure.figsize\"] = (15,5)\n",
    "plt.rcParams['axes.grid'] = False\n",
    "import seaborn as sns\n",
    "sns.set_style(\"whitegrid\", {'axes.grid' : False})"
   ],
   "metadata": {
    "collapsed": false,
    "pycharm": {
     "name": "#%%\n"
    }
   }
  },
  {
   "cell_type": "code",
   "execution_count": 5,
   "outputs": [],
   "source": [
    "from helper_functions_volume import *"
   ],
   "metadata": {
    "collapsed": false,
    "pycharm": {
     "name": "#%%\n"
    }
   }
  },
  {
   "cell_type": "code",
   "execution_count": 6,
   "outputs": [],
   "source": [
    "import eikon as ek\n",
    "import plotly.graph_objects as go\n",
    "ek.set_app_key('9a249e0411184cf49e553b61a6e76c52d295ec17')"
   ],
   "metadata": {
    "collapsed": false,
    "pycharm": {
     "name": "#%%\n"
    }
   }
  },
  {
   "cell_type": "code",
   "execution_count": 7,
   "outputs": [
    {
     "name": "stdout",
     "output_type": "stream",
     "text": [
      "Processing .NSEI\n"
     ]
    }
   ],
   "source": [
    "ticker = '.NSEI'\n",
    "\n",
    "if not os.path.exists(f'{ticker}_Momentum/SelectedStrategies'):\n",
    "    os.makedirs(f'{ticker}_Momentum/SelectedStrategies')\n",
    "\n",
    "print(f\"Processing {ticker}\")\n",
    "temp_og, temp_og1 = get_data(\".NSEI\")"
   ],
   "metadata": {
    "collapsed": false,
    "pycharm": {
     "name": "#%%\n"
    }
   }
  },
  {
   "cell_type": "code",
   "execution_count": 8,
   "outputs": [],
   "source": [
    "temp_og = prepare_volume_features_from_cache(temp_og, True)\n",
    "dates_all_ss = pd.date_range(start=str(temp_og.iloc[1]['Date'] + timedelta(days=503))[:10], end=\"2024-06-15\", freq=f'3M')\n",
    "dates = valid_dates(dates_all_ss)"
   ],
   "metadata": {
    "collapsed": false,
    "pycharm": {
     "name": "#%%\n"
    }
   }
  },
  {
   "cell_type": "code",
   "execution_count": 11,
   "outputs": [],
   "source": [
    "import pandas as pd\n",
    "temp_og.to_csv(\"NSEI_Volume_Momentum_Backtest_Azure_temp_og.csv\")"
   ],
   "metadata": {
    "collapsed": false,
    "pycharm": {
     "name": "#%%\n"
    }
   }
  },
  {
   "cell_type": "code",
   "execution_count": null,
   "outputs": [],
   "source": [
    "with open(f'NSEI_Volume_Momentum_Backtest_Azure_temp_og.pkl',\n",
    "          'wb') as file:\n",
    "    pickle.dump(temp_og, file)"
   ],
   "metadata": {
    "collapsed": false,
    "pycharm": {
     "name": "#%%\n"
    }
   }
  },
  {
   "cell_type": "code",
   "execution_count": null,
   "outputs": [],
   "source": [
    "results = BFO_vol_mom_strategy(temp_og, kmax = 9, xmax = 5)"
   ],
   "metadata": {
    "collapsed": false,
    "pycharm": {
     "name": "#%%\n",
     "is_executing": true
    }
   }
  },
  {
   "cell_type": "code",
   "execution_count": null,
   "outputs": [],
   "source": [
    "res_test2 = select_all_strategies_momentum(24,dates, temp_og, ticker,save=True)\n",
    "res_test4 = select_all_strategies_momentum(48,dates, temp_og, ticker,save=True)\n",
    "res_test8 = select_all_strategies_momentum(96,dates, temp_og, ticker,save=True)"
   ],
   "metadata": {
    "collapsed": false,
    "pycharm": {
     "name": "#%%\n",
     "is_executing": true
    }
   }
  },
  {
   "cell_type": "code",
   "execution_count": null,
   "outputs": [],
   "source": [
    "with open(f'{ticker}_Momentum/SelectedStrategies/{ticker}_TrainYrs_{int(24 / 12)}_All_Strategies.pkl','rb') as file:\n",
    "    res_test2 = pickle.load(file)\n",
    "with open(f'{ticker}_Momentum/SelectedStrategies/{ticker}_TrainYrs_{int(48 / 12)}_All_Strategies.pkl','rb') as file:\n",
    "    res_test4 = pickle.load(file)\n",
    "with open(f'{ticker}_Momentum/SelectedStrategies/{ticker}_TrainYrs_{int(96 / 12)}_All_Strategies.pkl','rb') as file:\n",
    "    res_test8 = pickle.load(file)"
   ],
   "metadata": {
    "collapsed": false,
    "pycharm": {
     "name": "#%%\n"
    }
   }
  },
  {
   "cell_type": "code",
   "execution_count": null,
   "outputs": [],
   "source": [
    "ss_test, res_test = select_strategies_from_corr_filter_momentum(res_test2,res_test4,res_test8, dates, temp_og, 1,100, ticker, save=True)"
   ],
   "metadata": {
    "collapsed": false,
    "pycharm": {
     "name": "#%%\n",
     "is_executing": true
    }
   }
  },
  {
   "cell_type": "code",
   "execution_count": 12,
   "outputs": [],
   "source": [
    "import pickle\n",
    "with open(f'Batch_Backest_Momentum/InputFiles/.NSEI_TrainYrs_2_All_Strategies_0.pkl','rb') as file:\n",
    "    res_test8 = pickle.load(file)"
   ],
   "metadata": {
    "collapsed": false,
    "pycharm": {
     "name": "#%%\n"
    }
   }
  },
  {
   "cell_type": "code",
   "execution_count": 13,
   "outputs": [
    {
     "data": {
      "text/plain": "   kb   xb levelb  lookbackb  ks   xs levels  lookbacks  avg_sortino_of_trades\n0   0  0.0    vah          2   0  0.0    vah        126               1.050340\n1   0  0.0    vah          2   0  0.0    vah        504              -3.574829\n2   0  0.0    vah          2   0  0.0    vah          2                    NaN\n3   0  0.0    vah          2   0  0.0    vah          5                    NaN\n4   0  0.0    vah          2   0  0.0    vah         10                    NaN\n5   0  0.0    vah          2   0  0.0    vah         21                    NaN\n6   0  0.0    vah          2   0  0.0    vah         42                    NaN\n7   0  0.0    vah          2   0  0.0    vah         63                    NaN\n8   0  0.0    vah          2   0  0.0    vah        252                    NaN\n9   0  0.0    vah          2   0  0.0    val          2                    NaN",
      "text/html": "<div>\n<style scoped>\n    .dataframe tbody tr th:only-of-type {\n        vertical-align: middle;\n    }\n\n    .dataframe tbody tr th {\n        vertical-align: top;\n    }\n\n    .dataframe thead th {\n        text-align: right;\n    }\n</style>\n<table border=\"1\" class=\"dataframe\">\n  <thead>\n    <tr style=\"text-align: right;\">\n      <th></th>\n      <th>kb</th>\n      <th>xb</th>\n      <th>levelb</th>\n      <th>lookbackb</th>\n      <th>ks</th>\n      <th>xs</th>\n      <th>levels</th>\n      <th>lookbacks</th>\n      <th>avg_sortino_of_trades</th>\n    </tr>\n  </thead>\n  <tbody>\n    <tr>\n      <th>0</th>\n      <td>0</td>\n      <td>0.0</td>\n      <td>vah</td>\n      <td>2</td>\n      <td>0</td>\n      <td>0.0</td>\n      <td>vah</td>\n      <td>126</td>\n      <td>1.050340</td>\n    </tr>\n    <tr>\n      <th>1</th>\n      <td>0</td>\n      <td>0.0</td>\n      <td>vah</td>\n      <td>2</td>\n      <td>0</td>\n      <td>0.0</td>\n      <td>vah</td>\n      <td>504</td>\n      <td>-3.574829</td>\n    </tr>\n    <tr>\n      <th>2</th>\n      <td>0</td>\n      <td>0.0</td>\n      <td>vah</td>\n      <td>2</td>\n      <td>0</td>\n      <td>0.0</td>\n      <td>vah</td>\n      <td>2</td>\n      <td>NaN</td>\n    </tr>\n    <tr>\n      <th>3</th>\n      <td>0</td>\n      <td>0.0</td>\n      <td>vah</td>\n      <td>2</td>\n      <td>0</td>\n      <td>0.0</td>\n      <td>vah</td>\n      <td>5</td>\n      <td>NaN</td>\n    </tr>\n    <tr>\n      <th>4</th>\n      <td>0</td>\n      <td>0.0</td>\n      <td>vah</td>\n      <td>2</td>\n      <td>0</td>\n      <td>0.0</td>\n      <td>vah</td>\n      <td>10</td>\n      <td>NaN</td>\n    </tr>\n    <tr>\n      <th>5</th>\n      <td>0</td>\n      <td>0.0</td>\n      <td>vah</td>\n      <td>2</td>\n      <td>0</td>\n      <td>0.0</td>\n      <td>vah</td>\n      <td>21</td>\n      <td>NaN</td>\n    </tr>\n    <tr>\n      <th>6</th>\n      <td>0</td>\n      <td>0.0</td>\n      <td>vah</td>\n      <td>2</td>\n      <td>0</td>\n      <td>0.0</td>\n      <td>vah</td>\n      <td>42</td>\n      <td>NaN</td>\n    </tr>\n    <tr>\n      <th>7</th>\n      <td>0</td>\n      <td>0.0</td>\n      <td>vah</td>\n      <td>2</td>\n      <td>0</td>\n      <td>0.0</td>\n      <td>vah</td>\n      <td>63</td>\n      <td>NaN</td>\n    </tr>\n    <tr>\n      <th>8</th>\n      <td>0</td>\n      <td>0.0</td>\n      <td>vah</td>\n      <td>2</td>\n      <td>0</td>\n      <td>0.0</td>\n      <td>vah</td>\n      <td>252</td>\n      <td>NaN</td>\n    </tr>\n    <tr>\n      <th>9</th>\n      <td>0</td>\n      <td>0.0</td>\n      <td>vah</td>\n      <td>2</td>\n      <td>0</td>\n      <td>0.0</td>\n      <td>val</td>\n      <td>2</td>\n      <td>NaN</td>\n    </tr>\n  </tbody>\n</table>\n</div>"
     },
     "execution_count": 13,
     "metadata": {},
     "output_type": "execute_result"
    }
   ],
   "source": [
    "res_test8"
   ],
   "metadata": {
    "collapsed": false,
    "pycharm": {
     "name": "#%%\n"
    }
   }
  },
  {
   "cell_type": "code",
   "execution_count": null,
   "outputs": [],
   "source": [],
   "metadata": {
    "collapsed": false,
    "pycharm": {
     "name": "#%%\n"
    }
   }
  }
 ],
 "metadata": {
  "kernelspec": {
   "display_name": "Python 3",
   "language": "python",
   "name": "python3"
  },
  "language_info": {
   "codemirror_mode": {
    "name": "ipython",
    "version": 2
   },
   "file_extension": ".py",
   "mimetype": "text/x-python",
   "name": "python",
   "nbconvert_exporter": "python",
   "pygments_lexer": "ipython2",
   "version": "2.7.6"
  }
 },
 "nbformat": 4,
 "nbformat_minor": 0
}