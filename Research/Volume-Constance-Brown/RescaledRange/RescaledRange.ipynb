{
 "cells": [
  {
   "cell_type": "code",
   "execution_count": 1,
   "outputs": [],
   "source": [
    "import pandas as pd\n",
    "%load_ext autoreload\n",
    "%autoreload 2"
   ],
   "metadata": {
    "collapsed": false,
    "pycharm": {
     "name": "#%%\n"
    }
   }
  },
  {
   "cell_type": "code",
   "execution_count": 2,
   "outputs": [],
   "source": [
    "import warnings\n",
    "warnings.filterwarnings('ignore')"
   ],
   "metadata": {
    "collapsed": false,
    "pycharm": {
     "name": "#%%\n"
    }
   }
  },
  {
   "cell_type": "code",
   "execution_count": 3,
   "outputs": [],
   "source": [
    "import matplotlib.pyplot as plt\n",
    "plt.rcParams[\"figure.figsize\"] = (15,5)\n",
    "plt.rcParams['axes.grid'] = False\n",
    "import seaborn as sns\n",
    "sns.set_style(\"whitegrid\", {'axes.grid' : False})"
   ],
   "metadata": {
    "collapsed": false,
    "pycharm": {
     "name": "#%%\n"
    }
   }
  },
  {
   "cell_type": "code",
   "execution_count": 92,
   "outputs": [],
   "source": [
    "from helper_functions_rr import *\n",
    "from hurst import *\n",
    "from MCMC.MCMC import MCMC\n",
    "import random"
   ],
   "metadata": {
    "collapsed": false,
    "pycharm": {
     "name": "#%%\n"
    }
   }
  },
  {
   "cell_type": "code",
   "execution_count": 49,
   "outputs": [],
   "source": [
    "temp_og, temp_og1 = get_data_BTC()"
   ],
   "metadata": {
    "collapsed": false,
    "pycharm": {
     "name": "#%%\n"
    }
   }
  },
  {
   "cell_type": "code",
   "execution_count": 98,
   "outputs": [],
   "source": [
    "def return_nmi_bw_mdayH_ndayFReturn(df):\n",
    "    def alpha(*args):\n",
    "        m = int(round(args[0]))\n",
    "        return temp_og[f\"H{m}\"]\n",
    "    def prior(params):\n",
    "        if (params[0] < 100) | (params[0] > 200):\n",
    "            return 0\n",
    "        return 1\n",
    "\n",
    "    iters = 1000\n",
    "    for i in range(100,201):\n",
    "        df[f\"H{i}\"] = df[\"Close\"].rolling(i).apply(lambda x: compute_Hc(x.to_numpy(), kind='price', simplified=False)[0])\n",
    "\n",
    "    res = []\n",
    "    for n in range(1,30):\n",
    "        df[\"FReturn\"] = df[\"Close\"].pct_change(-n)\n",
    "        temp_og = df.dropna()\n",
    "        guess = [random.randint(100,200)]\n",
    "        mc = MCMC(alpha_fn=alpha, alpha_fn_params_0=guess,\n",
    "                              target=temp_og[\"FReturn\"], num_iters=iters,\n",
    "                              prior=prior, optimize_fn=None, lower_limit=100, upper_limit=200)\n",
    "        rs = mc.optimize()\n",
    "\n",
    "        res_iter = [{\"N\":n, \"M\": int(round(mc.analyse_results(rs, top_n=iters)[0][i][0])),\n",
    "                     \"NMI\": mc.analyse_results(rs, top_n=iters)[1][i]} \\\n",
    "                      for i in range(iters)]\n",
    "        res = res + res_iter\n",
    "    res = pd.DataFrame(res)\n",
    "    res = res.sort_values(\"NMI\", axis=0, ascending=False).reset_index(drop=True)\n",
    "    res.drop_duplicates(keep='first', inplace=True, ignore_index=True)\n",
    "    return res"
   ],
   "metadata": {
    "collapsed": false,
    "pycharm": {
     "name": "#%%\n"
    }
   }
  },
  {
   "cell_type": "code",
   "execution_count": 99,
   "outputs": [],
   "source": [
    "results = return_nmi_bw_mdayH_ndayFReturn(temp_og)"
   ],
   "metadata": {
    "collapsed": false,
    "pycharm": {
     "name": "#%%\n"
    }
   }
  },
  {
   "cell_type": "code",
   "execution_count": 100,
   "outputs": [
    {
     "data": {
      "text/plain": "       N    M       NMI\n0     24  132  0.591949\n1     24  128  0.591341\n2     24  129  0.591180\n3     24  127  0.590922\n4     21  127  0.590784\n...   ..  ...       ...\n2909   1  177  0.412019\n2910   1  176  0.411553\n2911   1  174  0.411519\n2912   1  178  0.408841\n2913   1  175  0.407699\n\n[2914 rows x 3 columns]",
      "text/html": "<div>\n<style scoped>\n    .dataframe tbody tr th:only-of-type {\n        vertical-align: middle;\n    }\n\n    .dataframe tbody tr th {\n        vertical-align: top;\n    }\n\n    .dataframe thead th {\n        text-align: right;\n    }\n</style>\n<table border=\"1\" class=\"dataframe\">\n  <thead>\n    <tr style=\"text-align: right;\">\n      <th></th>\n      <th>N</th>\n      <th>M</th>\n      <th>NMI</th>\n    </tr>\n  </thead>\n  <tbody>\n    <tr>\n      <th>0</th>\n      <td>24</td>\n      <td>132</td>\n      <td>0.591949</td>\n    </tr>\n    <tr>\n      <th>1</th>\n      <td>24</td>\n      <td>128</td>\n      <td>0.591341</td>\n    </tr>\n    <tr>\n      <th>2</th>\n      <td>24</td>\n      <td>129</td>\n      <td>0.591180</td>\n    </tr>\n    <tr>\n      <th>3</th>\n      <td>24</td>\n      <td>127</td>\n      <td>0.590922</td>\n    </tr>\n    <tr>\n      <th>4</th>\n      <td>21</td>\n      <td>127</td>\n      <td>0.590784</td>\n    </tr>\n    <tr>\n      <th>...</th>\n      <td>...</td>\n      <td>...</td>\n      <td>...</td>\n    </tr>\n    <tr>\n      <th>2909</th>\n      <td>1</td>\n      <td>177</td>\n      <td>0.412019</td>\n    </tr>\n    <tr>\n      <th>2910</th>\n      <td>1</td>\n      <td>176</td>\n      <td>0.411553</td>\n    </tr>\n    <tr>\n      <th>2911</th>\n      <td>1</td>\n      <td>174</td>\n      <td>0.411519</td>\n    </tr>\n    <tr>\n      <th>2912</th>\n      <td>1</td>\n      <td>178</td>\n      <td>0.408841</td>\n    </tr>\n    <tr>\n      <th>2913</th>\n      <td>1</td>\n      <td>175</td>\n      <td>0.407699</td>\n    </tr>\n  </tbody>\n</table>\n<p>2914 rows × 3 columns</p>\n</div>"
     },
     "execution_count": 100,
     "metadata": {},
     "output_type": "execute_result"
    }
   ],
   "source": [
    "results\n"
   ],
   "metadata": {
    "collapsed": false,
    "pycharm": {
     "name": "#%%\n"
    }
   }
  }
 ],
 "metadata": {
  "kernelspec": {
   "display_name": "Python 3",
   "language": "python",
   "name": "python3"
  },
  "language_info": {
   "codemirror_mode": {
    "name": "ipython",
    "version": 2
   },
   "file_extension": ".py",
   "mimetype": "text/x-python",
   "name": "python",
   "nbconvert_exporter": "python",
   "pygments_lexer": "ipython2",
   "version": "2.7.6"
  }
 },
 "nbformat": 4,
 "nbformat_minor": 0
}